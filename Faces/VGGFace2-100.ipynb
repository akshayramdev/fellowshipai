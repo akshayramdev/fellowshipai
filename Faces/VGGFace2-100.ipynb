{
 "cells": [
  {
   "cell_type": "code",
   "execution_count": 1,
   "metadata": {
    "collapsed": true
   },
   "outputs": [],
   "source": [
    "%reload_ext autoreload\n",
    "%autoreload 2\n",
    "%matplotlib inline"
   ]
  },
  {
   "cell_type": "code",
   "execution_count": 2,
   "metadata": {
    "collapsed": true
   },
   "outputs": [],
   "source": [
    "from __future__ import print_function\n",
    "from __future__ import division\n",
    "import pandas as pd\n",
    "import glob\n",
    "import numpy as np\n",
    "from fastai.vision import *\n",
    "from fastai.layers import *\n",
    "from fastai.metrics import*\n",
    "import matplotlib.pyplot as plt\n",
    "import torch\n",
    "import torch.nn as nn\n",
    "import torch.nn.functional as F\n",
    "from torch.nn import Parameter\n",
    "pd.set_option('display.max_columns', 500)\n",
    "import math"
   ]
  },
  {
   "cell_type": "code",
   "execution_count": 3,
   "metadata": {
    "collapsed": true
   },
   "outputs": [],
   "source": [
    "class ArcMarginProduct(nn.Module):\n",
    "  \"\"\"Implementation of the Arc Margin Product to be suitable for CelebA and VGGFace2.\n",
    "    CelebA: multi-label classification -> One hot Encoded label\n",
    "    VGGFace2: Label classification\n",
    "    Args:\n",
    "            in_features: size of each input sample (Output of the last layer from the pretrained model)\n",
    "            out_features: size of each output sample (Number of classes)\n",
    "            s: norm of input feature (Refer to the paper)\n",
    "            m: margin (Refer to the paper)\n",
    "            cos(theta + m)\"\"\"\n",
    "  def __init__(self, in_features, out_features ,s=30.0, m=0.50, easy_margin=False):\n",
    "    super(ArcMarginProduct,self).__init__()\n",
    "    self.in_features = in_features\n",
    "    self.out_features = out_features\n",
    "    self.weight = Parameter(torch.FloatTensor(out_features, in_features))\n",
    "    nn.init.xavier_uniform_(self.weight)\n",
    "    \n",
    "  def forward(self,input):\n",
    "    cosine = F.linear(F.normalize(input), F.normalize(self.weight))\n",
    "    return cosine"
   ]
  },
  {
   "cell_type": "code",
   "execution_count": 4,
   "metadata": {
    "collapsed": true
   },
   "outputs": [],
   "source": [
    "class Customhead():\n",
    "    \"\"\"Implementation of the custom head for different model (Resnet34, Resnet50)\n",
    "    Args:\n",
    "        num_classes: Number of classes (CelebA: 40, VGGFace2: 9131)\n",
    "        label: label of the dataset\n",
    "        p_dropout: drop out ratio\n",
    "        eps\n",
    "        momentum\n",
    "        affine\n",
    "        track_running_stat\n",
    "        \"\"\"\n",
    "    def __init__(self, num_classes, dataset, p_dropout=0.5, eps=1e-05, momentum=0.1,affine=True, track_running_stats=True):\n",
    "        super(Customhead, self).__init__()\n",
    "        self.num_classes = num_classes\n",
    "        self.p_dropout = p_dropout\n",
    "        self.eps = eps\n",
    "        self.momentum = momentum\n",
    "        self.affine = affine\n",
    "        self.track_running_stat = track_running_stats\n",
    "        self.dataset = dataset\n",
    "        \n",
    "    def head(self):\n",
    "        custom_head = nn.Sequential(\n",
    "        AdaptiveConcatPool2d(1),\n",
    "        Flatten(),\n",
    "        nn.BatchNorm1d(4096, eps=self.eps, momentum=self.momentum, affine=self.affine, track_running_stats=self.track_running_stat),\n",
    "        nn.Dropout(p=self.p_dropout),\n",
    "        nn.Linear(in_features=4096, out_features=512, bias=True),\n",
    "        relu(inplace=True),\n",
    "        nn.BatchNorm1d(512, eps=self.eps, momentum=self.momentum, affine=self.affine, track_running_stats=self.track_running_stat),\n",
    "        nn.Dropout(p=self.p_dropout),\n",
    "        nn.Linear(in_features=512, out_features=512, bias=True),\n",
    "        ArcMarginProduct(in_features=512,out_features=self.num_classes))\n",
    "        return custom_head"
   ]
  },
  {
   "cell_type": "code",
   "execution_count": 5,
   "metadata": {
    "collapsed": true
   },
   "outputs": [],
   "source": [
    "class ArcfaceLoss(nn.Module):\n",
    "  \"\"\"Loss function for Arcface\"\"\"\n",
    "  def __init__(self,s=30.0, m=0.5, dataset='vggface2', loss_type = 'focalloss',easy_margin = False):\n",
    "    super(ArcfaceLoss,self).__init__()\n",
    "    self.s = s\n",
    "    self.m = m\n",
    "    self.dataset = dataset\n",
    "    self.easy_margin = easy_margin\n",
    "    self.cos_m = math.cos(m)\n",
    "    self.sin_m = math.sin(m)\n",
    "    self.th = math.cos(math.pi - m)\n",
    "    self.mm = math.sin(math.pi - m) * m\n",
    "    self.loss_type = loss_type\n",
    "    self.cross_loss = nn.CrossEntropyLoss()\n",
    "    self.gamma = 1\n",
    "    self.eps = 1e-7\n",
    "    \n",
    "  def forward(self,input,label):\n",
    "    cosine = input\n",
    "    sine = torch.sqrt(1.0 - torch.pow(cosine, 2))\n",
    "    phi = cosine * self.cos_m - sine * self.sin_m\n",
    "    if self.easy_margin:\n",
    "      phi = torch.where(cosine > 0, phi, cosine)\n",
    "    else:\n",
    "      phi = torch.where(cosine > self.th, phi, cosine - self.mm)\n",
    "    if self.dataset == 'celeba':\n",
    "      one_hot = self.label\n",
    "    elif self.dataset == 'vggface2':\n",
    "      one_hot = torch.zeros(cosine.size(), device='cuda')\n",
    "      one_hot.scatter_(1,label.view(-1, 1).long(), 1)\n",
    "    else:\n",
    "      raise ValueError('Select the dataset - CelebA or VGGFace2')\n",
    "    output = (one_hot * phi) + ((1.0 - one_hot) * cosine)\n",
    "    output *= self.s\n",
    "    \n",
    "    if self.loss_type == 'focalloss':\n",
    "      logp = self.cross_loss(output,label)\n",
    "      p = torch.exp(-logp)\n",
    "      loss = (1 - p) ** self.gamma * logp\n",
    "      loss_out = loss.mean()\n",
    "    else:\n",
    "      loss_out = self.cross_loss(output,label)\n",
    "    \n",
    "    return loss_out"
   ]
  },
  {
   "cell_type": "code",
   "execution_count": 6,
   "metadata": {
    "collapsed": true
   },
   "outputs": [],
   "source": [
    "path = 'data/data-fellow-ai/VGGFace2-100/data/train_100'"
   ]
  },
  {
   "cell_type": "code",
   "execution_count": 7,
   "metadata": {},
   "outputs": [
    {
     "data": {
      "text/plain": [
       "[PosixPath('data/data-fellow-ai/VGGFace2-100/data/train_100/n009170/0190_01.jpg'),\n",
       " PosixPath('data/data-fellow-ai/VGGFace2-100/data/train_100/n009170/0069_01.jpg'),\n",
       " PosixPath('data/data-fellow-ai/VGGFace2-100/data/train_100/n009170/0194_01.jpg'),\n",
       " PosixPath('data/data-fellow-ai/VGGFace2-100/data/train_100/n009170/0119_01.jpg'),\n",
       " PosixPath('data/data-fellow-ai/VGGFace2-100/data/train_100/n009170/0291_01.jpg')]"
      ]
     },
     "execution_count": 7,
     "metadata": {},
     "output_type": "execute_result"
    }
   ],
   "source": [
    "fnames = get_image_files(path, recurse=True)\n",
    "fnames[-5:]"
   ]
  },
  {
   "cell_type": "code",
   "execution_count": 8,
   "metadata": {
    "collapsed": true
   },
   "outputs": [],
   "source": [
    "# data = ImageDataBunch.from_folder(path,valid_pst=0.2, bs=64, ds_tfms= get_transforms(),size=224)"
   ]
  },
  {
   "cell_type": "code",
   "execution_count": 9,
   "metadata": {
    "collapsed": true
   },
   "outputs": [],
   "source": [
    "pat = '.+\\/.+\\/(.+)\\/.+.jpg'\n",
    "bs = 64"
   ]
  },
  {
   "cell_type": "code",
   "execution_count": 10,
   "metadata": {
    "collapsed": true
   },
   "outputs": [],
   "source": [
    "data = ImageDataBunch.from_name_re(path, fnames, pat, bs=bs, ds_tfms = get_transforms(), size=224)"
   ]
  },
  {
   "cell_type": "code",
   "execution_count": null,
   "metadata": {},
   "outputs": [],
   "source": [
    "data.show_batch(rows=4, figsize=(10,8))"
   ]
  },
  {
   "cell_type": "code",
   "execution_count": 11,
   "metadata": {
    "collapsed": true
   },
   "outputs": [],
   "source": [
    "arch = models.resnet50"
   ]
  },
  {
   "cell_type": "code",
   "execution_count": 12,
   "metadata": {
    "collapsed": true
   },
   "outputs": [],
   "source": [
    "arc_face_head = Customhead(num_classes = 100,dataset='vggface2')"
   ]
  },
  {
   "cell_type": "code",
   "execution_count": 13,
   "metadata": {
    "collapsed": true
   },
   "outputs": [],
   "source": [
    "custom_loss_func = ArcfaceLoss() "
   ]
  },
  {
   "cell_type": "code",
   "execution_count": 14,
   "metadata": {
    "collapsed": true
   },
   "outputs": [],
   "source": [
    "learn = cnn_learner(data, arch,custom_head=arc_face_head.head(), metrics=[accuracy])"
   ]
  },
  {
   "cell_type": "code",
   "execution_count": 15,
   "metadata": {
    "collapsed": true
   },
   "outputs": [],
   "source": [
    "learn.loss_func=custom_loss_func"
   ]
  },
  {
   "cell_type": "code",
   "execution_count": 16,
   "metadata": {},
   "outputs": [
    {
     "data": {
      "text/html": [],
      "text/plain": [
       "<IPython.core.display.HTML object>"
      ]
     },
     "metadata": {},
     "output_type": "display_data"
    },
    {
     "name": "stdout",
     "output_type": "stream",
     "text": [
      "LR Finder is complete, type {learner_name}.recorder.plot() to see the graph.\n"
     ]
    }
   ],
   "source": [
    "learn.lr_find()"
   ]
  },
  {
   "cell_type": "code",
   "execution_count": 17,
   "metadata": {},
   "outputs": [
    {
     "data": {
      "image/png": "[encoded data removed]",
      "text/plain": [
       "<matplotlib.figure.Figure at 0x7f3dcf5580f0>"
      ]
     },
     "metadata": {},
     "output_type": "display_data"
    }
   ],
   "source": [
    "learn.recorder.plot()"
   ]
  },
  {
   "cell_type": "code",
   "execution_count": 18,
   "metadata": {},
   "outputs": [
    {
     "data": {
      "text/html": [
       "<table border=\"1\" class=\"dataframe\">\n",
       "  <thead>\n",
       "    <tr style=\"text-align: left;\">\n",
       "      <th>epoch</th>\n",
       "      <th>train_loss</th>\n",
       "      <th>valid_loss</th>\n",
       "      <th>accuracy</th>\n",
       "      <th>time</th>\n",
       "    </tr>\n",
       "  </thead>\n",
       "  <tbody>\n",
       "    <tr>\n",
       "      <td>0</td>\n",
       "      <td>12.895855</td>\n",
       "      <td>10.680252</td>\n",
       "      <td>0.671338</td>\n",
       "      <td>04:52</td>\n",
       "    </tr>\n",
       "  </tbody>\n",
       "</table>"
      ],
      "text/plain": [
       "<IPython.core.display.HTML object>"
      ]
     },
     "metadata": {},
     "output_type": "display_data"
    }
   ],
   "source": [
    "learn.fit_one_cycle(1,slice(1e-2/2))"
   ]
  },
  {
   "cell_type": "code",
   "execution_count": null,
   "metadata": {
    "collapsed": true
   },
   "outputs": [],
   "source": [
    "learn.fit_one_cycle(4, slice(1e-2/2))"
   ]
  },
  {
   "cell_type": "code",
   "execution_count": 19,
   "metadata": {
    "collapsed": true
   },
   "outputs": [],
   "source": [
    "learn.unfreeze()"
   ]
  },
  {
   "cell_type": "code",
   "execution_count": 20,
   "metadata": {},
   "outputs": [
    {
     "data": {
      "text/html": [],
      "text/plain": [
       "<IPython.core.display.HTML object>"
      ]
     },
     "metadata": {},
     "output_type": "display_data"
    },
    {
     "name": "stdout",
     "output_type": "stream",
     "text": [
      "LR Finder is complete, type {learner_name}.recorder.plot() to see the graph.\n"
     ]
    },
    {
     "data": {
      "image/png": "[encoded data removed]",
      "text/plain": [
       "<matplotlib.figure.Figure at 0x7f3e64233828>"
      ]
     },
     "metadata": {},
     "output_type": "display_data"
    }
   ],
   "source": [
    "learn.lr_find()\n",
    "learn.recorder.plot()"
   ]
  },
  {
   "cell_type": "code",
   "execution_count": 21,
   "metadata": {},
   "outputs": [
    {
     "data": {
      "text/html": [
       "<table border=\"1\" class=\"dataframe\">\n",
       "  <thead>\n",
       "    <tr style=\"text-align: left;\">\n",
       "      <th>epoch</th>\n",
       "      <th>train_loss</th>\n",
       "      <th>valid_loss</th>\n",
       "      <th>accuracy</th>\n",
       "      <th>time</th>\n",
       "    </tr>\n",
       "  </thead>\n",
       "  <tbody>\n",
       "    <tr>\n",
       "      <td>0</td>\n",
       "      <td>8.984907</td>\n",
       "      <td>7.179396</td>\n",
       "      <td>0.797060</td>\n",
       "      <td>06:17</td>\n",
       "    </tr>\n",
       "  </tbody>\n",
       "</table>"
      ],
      "text/plain": [
       "<IPython.core.display.HTML object>"
      ]
     },
     "metadata": {},
     "output_type": "display_data"
    }
   ],
   "source": [
    "learn.fit_one_cycle(1,slice(1e-3/2))"
   ]
  },
  {
   "cell_type": "code",
   "execution_count": null,
   "metadata": {},
   "outputs": [
    {
     "data": {
      "text/html": [
       "\n",
       "    <div>\n",
       "        <style>\n",
       "            /* Turns off some styling */\n",
       "            progress {\n",
       "                /* gets rid of default border in Firefox and Opera. */\n",
       "                border: none;\n",
       "                /* Needs to be in here for Safari polyfill so background images work as expected. */\n",
       "                background-size: auto;\n",
       "            }\n",
       "            .progress-bar-interrupted, .progress-bar-interrupted::-webkit-progress-bar {\n",
       "                background: #F44336;\n",
       "            }\n",
       "        </style>\n",
       "      <progress value='0' class='' max='5', style='width:300px; height:20px; vertical-align: middle;'></progress>\n",
       "      0.00% [0/5 00:00<00:00]\n",
       "    </div>\n",
       "    \n",
       "<table border=\"1\" class=\"dataframe\">\n",
       "  <thead>\n",
       "    <tr style=\"text-align: left;\">\n",
       "      <th>epoch</th>\n",
       "      <th>train_loss</th>\n",
       "      <th>valid_loss</th>\n",
       "      <th>accuracy</th>\n",
       "      <th>time</th>\n",
       "    </tr>\n",
       "  </thead>\n",
       "  <tbody>\n",
       "  </tbody>\n",
       "</table><p>\n",
       "\n",
       "    <div>\n",
       "        <style>\n",
       "            /* Turns off some styling */\n",
       "            progress {\n",
       "                /* gets rid of default border in Firefox and Opera. */\n",
       "                border: none;\n",
       "                /* Needs to be in here for Safari polyfill so background images work as expected. */\n",
       "                background-size: auto;\n",
       "            }\n",
       "            .progress-bar-interrupted, .progress-bar-interrupted::-webkit-progress-bar {\n",
       "                background: #F44336;\n",
       "            }\n",
       "        </style>\n",
       "      <progress value='21' class='' max='454', style='width:300px; height:20px; vertical-align: middle;'></progress>\n",
       "      4.63% [21/454 00:17<05:55 8.7491]\n",
       "    </div>\n",
       "    "
      ],
      "text/plain": [
       "<IPython.core.display.HTML object>"
      ]
     },
     "metadata": {},
     "output_type": "display_data"
    }
   ],
   "source": [
    "learn.fit_one_cycle(5,slice(1e-3/2))"
   ]
  },
  {
   "cell_type": "code",
   "execution_count": null,
   "metadata": {
    "collapsed": true
   },
   "outputs": [],
   "source": []
  }
 ],
 "metadata": {
  "kernelspec": {
   "display_name": "Python 3",
   "language": "python",
   "name": "python3"
  },
  "language_info": {
   "codemirror_mode": {
    "name": "ipython",
    "version": 3
   },
   "file_extension": ".py",
   "mimetype": "text/x-python",
   "name": "python",
   "nbconvert_exporter": "python",
   "pygments_lexer": "ipython3",
   "version": "3.6.3"
  }
 },
 "nbformat": 4,
 "nbformat_minor": 2
}
