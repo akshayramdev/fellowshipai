{
 "cells": [
  {
   "cell_type": "code",
   "execution_count": 1,
   "metadata": {
    "collapsed": true
   },
   "outputs": [],
   "source": [
    "%reload_ext autoreload\n",
    "%autoreload 2\n",
    "%matplotlib inline"
   ]
  },
  {
   "cell_type": "code",
   "execution_count": 15,
   "metadata": {},
   "outputs": [],
   "source": [
    "from __future__ import print_function\n",
    "from __future__ import division\n",
    "import torch\n",
    "import torch.nn as nn\n",
    "import torch.nn.functional as F\n",
    "from torch.nn import Parameter\n",
    "from fastai.vision import *\n",
    "from fastai.layers import *\n",
    "import math"
   ]
  },
  {
   "cell_type": "code",
   "execution_count": 18,
   "metadata": {},
   "outputs": [],
   "source": [
    "class ArcMarginProduct(nn.Module):\n",
    "    \n",
    "    \"\"\"Implementation of the Arc Margin Product to be suitable for CelebA and VGGFace2.\n",
    "    CelebA: multi-label classification -> One hot Encoded label\n",
    "    VGGFace2: Label classification\n",
    "    Args:\n",
    "            in_features: size of each input sample (Output of the last layer from the pretrained model)\n",
    "            out_features: size of each output sample (Number of classes)\n",
    "            s: norm of input feature (Refer to the paper)\n",
    "            m: margin (Refer to the paper)\n",
    "            cos(theta + m)\"\"\"\n",
    "    def __init__(self, in_features, out_features, label, dataset='celeba',s=30.0, m=0.50, easy_margin=False):\n",
    "        super(ArcMarginProduct, self).__init__()\n",
    "        self.in_features = in_features\n",
    "        self.out_features = out_features\n",
    "        self.label = label\n",
    "        self.dataset = dataset\n",
    "        self.s = s\n",
    "        self.m = m\n",
    "        self.weight = Parameter(torch.FloatTensor(out_features, in_features))\n",
    "        nn.init.xavier_uniform_(self.weight)\n",
    "        \n",
    "        self.easy_margin = easy_margin\n",
    "        self.cos_m = math.cos(m)\n",
    "        self.sin_m = math.sin(m)\n",
    "        self.th = math.cos(math.pi - m)\n",
    "        self.mm = math.sin(math.pi - m) * m\n",
    "    \n",
    "    def forward(self, input):\n",
    "        # --------------------------- cos(theta) & phi(theta) ---------------------------\n",
    "        cosine = F.linear(F.normalize(input), F.normalize(self.weight))\n",
    "        sine = torch.sqrt(1.0 - torch.pow(cosine, 2))\n",
    "        phi = cosine * self.cos_m - sine * self.sin_m\n",
    "        if self.easy_margin:\n",
    "            phi = torch.where(cosine > 0, phi, cosine)\n",
    "        else:\n",
    "            phi = torch.where(cosine > self.th, phi, cosine - self.mm)\n",
    "        # --------------------------- convert label to one-hot ---------------------------\n",
    "        if self.dataset == 'celeba':\n",
    "            one_hot = self.label\n",
    "        if self.dataset == 'vggface2':\n",
    "            one_hot = torch.zeros(cosine.size(), device='cuda')\n",
    "            one_hot.scatter_(1, self.label.view(-1, 1).long(), 1)\n",
    "        else:\n",
    "            raise ValueError('Select the dataset - CelebA or VGGFace2')\n",
    "        \n",
    "        output = (one_hot * phi) + ((1.0 - one_hot) * cosine)\n",
    "        output *= self.s\n",
    "        return output"
   ]
  },
  {
   "cell_type": "code",
   "execution_count": 17,
   "metadata": {},
   "outputs": [],
   "source": [
    "class Customhead():\n",
    "    \"\"\"Implementation of the custom head for different model (Resnet34, Resnet50)\n",
    "    Args:\n",
    "        num_classes: Number of classes (CelebA: 40, VGGFace2: 9131)\n",
    "        label: label of the dataset\n",
    "        p_dropout: drop out ratio\n",
    "        eps\n",
    "        momentum\n",
    "        affine\n",
    "        track_running_stat\n",
    "        \"\"\"\n",
    "    def __init__(self, num_classes, label, p_dropout=0.5, eps=1e-05, momentum=0.1,affine=True, track_running_stats=True):\n",
    "        super(Customhead, self).__init__()\n",
    "        self.num_classes = num_classes\n",
    "        self.label = label\n",
    "        self.p_dropout = p_dropout\n",
    "        self.eps = eps\n",
    "        self.momentum = momentum\n",
    "        self.affine = affine\n",
    "        self.track_running_stat = track_running_stat\n",
    "        \n",
    "    def head(self):\n",
    "        custom_head = nn.Sequential(\n",
    "        AdaptiveConcatPool2d(1),\n",
    "        Flatten(),\n",
    "        nn.BatchNorm1d(1024, eps=self.eps, momentum=self.momentum, affine=self.affine, track_running_stats=self.track_running_stat),\n",
    "        nn.Dropout(p=self.p_dropout),\n",
    "        nn.Linear(in_features=1024, out_features=512, bias=True),\n",
    "        relu(inplace=True),\n",
    "        nn.BatchNorm1d(512, eps=self.eps, momentum=self.momentum, affine=self.affine, track_running_stats=self.track_running_stat),\n",
    "        nn.Dropout(p=self.p_dropout),\n",
    "        nn.Linear(in_features=512, out_features=512, bias=True),\n",
    "        ArcMarginProduct(in_features=512,out_features=self.num_classes,label=self.label))\n",
    "        return custom_head"
   ]
  },
  {
   "cell_type": "markdown",
   "metadata": {},
   "source": [
    "Defining model: Uncomment the following lines"
   ]
  },
  {
   "cell_type": "code",
   "execution_count": 19,
   "metadata": {},
   "outputs": [
    {
     "data": {
      "text/plain": [
       "'\\n    CelebA:\\n        num_classes: number of classes =  40\\n        label: dataset label (If using ImageDataBunch, label will be one hot encoded label. Please refer to fast.ai lesson 3 for more information - The satallite challenge)\\n    VGGFace2:\\n        num_classes: number of classes = 9131\\n        label: dataset label '"
      ]
     },
     "execution_count": 19,
     "metadata": {},
     "output_type": "execute_result"
    }
   ],
   "source": [
    "# Please change the num_classes and label as suitable for the dataset\n",
    "\"\"\"\n",
    "    CelebA:\n",
    "        num_classes: number of classes =  40\n",
    "        label: dataset label (If using ImageDataBunch, label will be one hot encoded label. Please refer to fast.ai lesson 3 for more information - The satallite challenge)\n",
    "    VGGFace2:\n",
    "        num_classes: number of classes = 9131\n",
    "        label: dataset label \"\"\"\n"
   ]
  },
  {
   "cell_type": "code",
   "execution_count": null,
   "metadata": {
    "collapsed": true
   },
   "outputs": [],
   "source": [
    "# arc_face_head = Customhead(num_classes = 40, label = y)\n",
    "# learn = cnn_learner(data,models.resnet34,custom_head=arc_face_head.head(),metrics=[fbeta])\n",
    "# learn.crit = F.cross_entropy"
   ]
  }
 ],
 "metadata": {
  "kernelspec": {
   "display_name": "Python 3",
   "language": "python",
   "name": "python3"
  },
  "language_info": {
   "codemirror_mode": {
    "name": "ipython",
    "version": 3
   },
   "file_extension": ".py",
   "mimetype": "text/x-python",
   "name": "python",
   "nbconvert_exporter": "python",
   "pygments_lexer": "ipython3",
   "version": "3.6.3"
  }
 },
 "nbformat": 4,
 "nbformat_minor": 2
}
