{
  "nbformat": 4,
  "nbformat_minor": 0,
  "metadata": {
    "colab": {
      "name": "Emergency_vehicles.ipynb",
      "version": "0.3.2",
      "provenance": [],
      "collapsed_sections": []
    },
    "kernelspec": {
      "name": "python3",
      "display_name": "Python 3"
    },
    "accelerator": "GPU"
  },
  "cells": [
    {
      "cell_type": "code",
      "metadata": {
        "id": "WxKVxHeICP5A",
        "colab_type": "code",
        "outputId": "17fec838-637b-4444-9af0-b0f4491c5f22",
        "colab": {
          "base_uri": "https://localhost:8080/",
          "height": 169
        }
      },
      "source": [
        "#Mounting my google drive\n",
        "\n",
        "from google.colab import drive\n",
        "drive.mount('/content/gdrive')"
      ],
      "execution_count": 0,
      "outputs": [
        {
          "output_type": "stream",
          "text": [
            "Go to this URL in a browser: https://accounts.google.com/o/oauth2/auth?client_id=947318989803-6bn6qk8qdgf4n4g3pfee6491hc0brc4i.apps.googleusercontent.com&redirect_uri=urn%3Aietf%3Awg%3Aoauth%3A2.0%3Aoob&scope=email%20https%3A%2F%2Fwww.googleapis.com%2Fauth%2Fdocs.test%20https%3A%2F%2Fwww.googleapis.com%2Fauth%2Fdrive%20https%3A%2F%2Fwww.googleapis.com%2Fauth%2Fdrive.photos.readonly%20https%3A%2F%2Fwww.googleapis.com%2Fauth%2Fpeopleapi.readonly&response_type=code\n",
            "\n",
            "Enter your authorization code:\n",
            "··········\n",
            "Mounted at /content/gdrive\n"
          ],
          "name": "stdout"
        }
      ]
    },
    {
      "cell_type": "code",
      "metadata": {
        "id": "WiWQ4a1cQoOl",
        "colab_type": "code",
        "colab": {}
      },
      "source": [
        "from fastai.vision import *"
      ],
      "execution_count": 0,
      "outputs": []
    },
    {
      "cell_type": "code",
      "metadata": {
        "id": "PO8kznwZElQe",
        "colab_type": "code",
        "colab": {}
      },
      "source": [
        "folder = 'ambulances'\n",
        "file = 'urls_ambulance.csv'"
      ],
      "execution_count": 0,
      "outputs": []
    },
    {
      "cell_type": "code",
      "metadata": {
        "id": "DHOQveB4PRoY",
        "colab_type": "code",
        "colab": {}
      },
      "source": [
        "folder = 'police_vehicles'\n",
        "file = 'urls_policevehicles.csv'"
      ],
      "execution_count": 0,
      "outputs": []
    },
    {
      "cell_type": "code",
      "metadata": {
        "id": "H1moUyjnuS5I",
        "colab_type": "code",
        "colab": {}
      },
      "source": [
        "folder = 'fire_rescue_vehicles'\n",
        "file = 'urls_firerescuevehicles.csv'"
      ],
      "execution_count": 0,
      "outputs": []
    },
    {
      "cell_type": "code",
      "metadata": {
        "id": "2XlZPKTtEzN8",
        "colab_type": "code",
        "colab": {}
      },
      "source": [
        "path = Path('data/vehicles')\n",
        "dest = path/folder\n",
        "dest.mkdir(parents=True, exist_ok=True)"
      ],
      "execution_count": 0,
      "outputs": []
    },
    {
      "cell_type": "code",
      "metadata": {
        "id": "-f3HNeW8E5kA",
        "colab_type": "code",
        "outputId": "bcb358c6-10b3-4497-8122-1be7a44bfa22",
        "colab": {
          "base_uri": "https://localhost:8080/",
          "height": 119
        }
      },
      "source": [
        "path.ls()"
      ],
      "execution_count": 0,
      "outputs": [
        {
          "output_type": "execute_result",
          "data": {
            "text/plain": [
              "[PosixPath('data/vehicles/urls_policevehicles.csv'),\n",
              " PosixPath('data/vehicles/police_vehicles'),\n",
              " PosixPath('data/vehicles/fire_rescue_vehicles'),\n",
              " PosixPath('data/vehicles/ambulances'),\n",
              " PosixPath('data/vehicles/urls_firerescuevehicles.csv'),\n",
              " PosixPath('data/vehicles/urls_ambulance.csv')]"
            ]
          },
          "metadata": {
            "tags": []
          },
          "execution_count": 16
        }
      ]
    },
    {
      "cell_type": "code",
      "metadata": {
        "id": "WLFpVr7LJy7B",
        "colab_type": "code",
        "colab": {}
      },
      "source": [
        "download_images(path/file, dest, max_pics=1000)"
      ],
      "execution_count": 0,
      "outputs": []
    },
    {
      "cell_type": "code",
      "metadata": {
        "id": "qmrevK-jSadM",
        "colab_type": "code",
        "colab": {}
      },
      "source": [
        "mv data/vehicles/ambulances gdrive/My\\ Drive/Colab\\ Notebooks/emergency_vehicles_classification/"
      ],
      "execution_count": 0,
      "outputs": []
    },
    {
      "cell_type": "code",
      "metadata": {
        "id": "r4fjgAVSVMYh",
        "colab_type": "code",
        "colab": {}
      },
      "source": [
        "mv data/vehicles/police_vehicles gdrive/My\\ Drive/Colab\\ Notebooks/emergency_vehicles_classification/"
      ],
      "execution_count": 0,
      "outputs": []
    },
    {
      "cell_type": "code",
      "metadata": {
        "id": "oYBsFImy3VuO",
        "colab_type": "code",
        "colab": {}
      },
      "source": [
        "mv data/vehicles/fire_rescue_vehicles gdrive/My\\ Drive/Colab\\ Notebooks/emergency_vehicles_classification/"
      ],
      "execution_count": 0,
      "outputs": []
    },
    {
      "cell_type": "code",
      "metadata": {
        "id": "o4Wd9SCFVYHZ",
        "colab_type": "code",
        "colab": {}
      },
      "source": [
        "types=['ambulances', 'police_vehicles', 'fire_rescue_vehicles']"
      ],
      "execution_count": 0,
      "outputs": []
    },
    {
      "cell_type": "code",
      "metadata": {
        "id": "U82kAs38VkRs",
        "colab_type": "code",
        "colab": {}
      },
      "source": [
        "path='gdrive/My Drive/Colab Notebooks/emergency_vehicles_classification/fire_rescue_vehicles'"
      ],
      "execution_count": 0,
      "outputs": []
    },
    {
      "cell_type": "code",
      "metadata": {
        "id": "hpCkrZUdVUAR",
        "colab_type": "code",
        "colab": {}
      },
      "source": [
        "verify_images(path, delete=True, max_size=1000)"
      ],
      "execution_count": 0,
      "outputs": []
    }
  ]
}