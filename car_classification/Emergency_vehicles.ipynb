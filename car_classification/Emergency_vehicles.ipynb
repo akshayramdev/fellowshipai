{
 "cells": [
  {
   "cell_type": "code",
   "execution_count": 0,
   "metadata": {
    "colab": {
     "base_uri": "https://localhost:8080/",
     "height": 169
    },
    "colab_type": "code",
    "id": "WxKVxHeICP5A",
    "outputId": "17fec838-637b-4444-9af0-b0f4491c5f22"
   },
   "outputs": [
    {
     "name": "stdout",
     "output_type": "stream",
     "text": [
      "Go to this URL in a browser: https://accounts.google.com/o/oauth2/auth?client_id=947318989803-6bn6qk8qdgf4n4g3pfee6491hc0brc4i.apps.googleusercontent.com&redirect_uri=urn%3Aietf%3Awg%3Aoauth%3A2.0%3Aoob&scope=email%20https%3A%2F%2Fwww.googleapis.com%2Fauth%2Fdocs.test%20https%3A%2F%2Fwww.googleapis.com%2Fauth%2Fdrive%20https%3A%2F%2Fwww.googleapis.com%2Fauth%2Fdrive.photos.readonly%20https%3A%2F%2Fwww.googleapis.com%2Fauth%2Fpeopleapi.readonly&response_type=code\n",
      "\n",
      "Enter your authorization code:\n",
      "··········\n",
      "Mounted at /content/gdrive\n"
     ]
    }
   ],
   "source": [
    "#Mounting my google drive\n",
    "\n",
    "from google.colab import drive\n",
    "drive.mount('/content/gdrive')"
   ]
  },
  {
   "cell_type": "code",
   "execution_count": 0,
   "metadata": {
    "colab": {},
    "colab_type": "code",
    "id": "WiWQ4a1cQoOl"
   },
   "outputs": [],
   "source": [
    "from fastai.vision import *"
   ]
  },
  {
   "cell_type": "code",
   "execution_count": 0,
   "metadata": {
    "colab": {},
    "colab_type": "code",
    "id": "PO8kznwZElQe"
   },
   "outputs": [],
   "source": [
    "folder = 'ambulances'\n",
    "file = 'urls_ambulance.csv'"
   ]
  },
  {
   "cell_type": "code",
   "execution_count": 0,
   "metadata": {
    "colab": {},
    "colab_type": "code",
    "id": "DHOQveB4PRoY"
   },
   "outputs": [],
   "source": [
    "folder = 'police_vehicles'\n",
    "file = 'urls_policevehicles.csv'"
   ]
  },
  {
   "cell_type": "code",
   "execution_count": 0,
   "metadata": {
    "colab": {},
    "colab_type": "code",
    "id": "H1moUyjnuS5I"
   },
   "outputs": [],
   "source": [
    "folder = 'fire_rescue_vehicles'\n",
    "file = 'urls_firerescuevehicles.csv'"
   ]
  },
  {
   "cell_type": "code",
   "execution_count": 0,
   "metadata": {
    "colab": {},
    "colab_type": "code",
    "id": "2XlZPKTtEzN8"
   },
   "outputs": [],
   "source": [
    "path = Path('data/vehicles')\n",
    "dest = path/folder\n",
    "dest.mkdir(parents=True, exist_ok=True)"
   ]
  },
  {
   "cell_type": "code",
   "execution_count": 0,
   "metadata": {
    "colab": {
     "base_uri": "https://localhost:8080/",
     "height": 119
    },
    "colab_type": "code",
    "id": "-f3HNeW8E5kA",
    "outputId": "bcb358c6-10b3-4497-8122-1be7a44bfa22"
   },
   "outputs": [
    {
     "data": {
      "text/plain": [
       "[PosixPath('data/vehicles/urls_policevehicles.csv'),\n",
       " PosixPath('data/vehicles/police_vehicles'),\n",
       " PosixPath('data/vehicles/fire_rescue_vehicles'),\n",
       " PosixPath('data/vehicles/ambulances'),\n",
       " PosixPath('data/vehicles/urls_firerescuevehicles.csv'),\n",
       " PosixPath('data/vehicles/urls_ambulance.csv')]"
      ]
     },
     "execution_count": 16,
     "metadata": {
      "tags": []
     },
     "output_type": "execute_result"
    }
   ],
   "source": [
    "path.ls()"
   ]
  },
  {
   "cell_type": "code",
   "execution_count": 0,
   "metadata": {
    "colab": {},
    "colab_type": "code",
    "id": "WLFpVr7LJy7B"
   },
   "outputs": [],
   "source": [
    "download_images(path/file, dest, max_pics=1000)"
   ]
  },
  {
   "cell_type": "code",
   "execution_count": 0,
   "metadata": {
    "colab": {},
    "colab_type": "code",
    "id": "qmrevK-jSadM"
   },
   "outputs": [],
   "source": [
    "mv data/vehicles/ambulances gdrive/My\\ Drive/Colab\\ Notebooks/emergency_vehicles_classification/"
   ]
  },
  {
   "cell_type": "code",
   "execution_count": 0,
   "metadata": {
    "colab": {},
    "colab_type": "code",
    "id": "r4fjgAVSVMYh"
   },
   "outputs": [],
   "source": [
    "mv data/vehicles/police_vehicles gdrive/My\\ Drive/Colab\\ Notebooks/emergency_vehicles_classification/"
   ]
  },
  {
   "cell_type": "code",
   "execution_count": 0,
   "metadata": {
    "colab": {},
    "colab_type": "code",
    "id": "oYBsFImy3VuO"
   },
   "outputs": [],
   "source": [
    "mv data/vehicles/fire_rescue_vehicles gdrive/My\\ Drive/Colab\\ Notebooks/emergency_vehicles_classification/"
   ]
  },
  {
   "cell_type": "code",
   "execution_count": 0,
   "metadata": {
    "colab": {},
    "colab_type": "code",
    "id": "o4Wd9SCFVYHZ"
   },
   "outputs": [],
   "source": [
    "types=['ambulances', 'police_vehicles', 'fire_rescue_vehicles']"
   ]
  },
  {
   "cell_type": "code",
   "execution_count": 0,
   "metadata": {
    "colab": {},
    "colab_type": "code",
    "id": "U82kAs38VkRs"
   },
   "outputs": [],
   "source": [
    "path='gdrive/My Drive/Colab Notebooks/emergency_vehicles_classification/fire_rescue_vehicles'"
   ]
  },
  {
   "cell_type": "code",
   "execution_count": 0,
   "metadata": {
    "colab": {},
    "colab_type": "code",
    "id": "hpCkrZUdVUAR"
   },
   "outputs": [],
   "source": [
    "verify_images(path, delete=True, max_size=1000)"
   ]
  }
 ],
 "metadata": {
  "accelerator": "GPU",
  "colab": {
   "collapsed_sections": [],
   "name": "Emergency_vehicles.ipynb",
   "provenance": [],
   "version": "0.3.2"
  },
  "kernelspec": {
   "display_name": "Python 3",
   "language": "python",
   "name": "python3"
  },
  "language_info": {
   "codemirror_mode": {
    "name": "ipython",
    "version": 3
   },
   "file_extension": ".py",
   "mimetype": "text/x-python",
   "name": "python",
   "nbconvert_exporter": "python",
   "pygments_lexer": "ipython3",
   "version": "3.7.1"
  }
 },
 "nbformat": 4,
 "nbformat_minor": 1
}
