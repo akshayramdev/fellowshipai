{
 "cells": [
  {
   "cell_type": "code",
   "execution_count": 47,
   "metadata": {},
   "outputs": [],
   "source": [
    "#%load_ext autoreload\n",
    "%autoreload\n",
    "from utils import Paperdoll, COCO_\n",
    "import utils\n",
    "from pathlib import Path\n",
    "import os\n",
    "from PhotoData import PhotoData\n",
    "import pickle"
   ]
  },
  {
   "cell_type": "code",
   "execution_count": 49,
   "metadata": {},
   "outputs": [],
   "source": [
    "\n",
    "down_dir = Path(os.path.join('.', 'data', 'chictopia'))\n",
    "photos_lmdb_path = 'data/chictopia/photos.lmdb'\n",
    "moda_json = Path('modanet2018_instances_train.json')\n",
    "data_dir = 'Images'  # It is better to have a seperate folder for the Moda data\n",
    "train_dir = os.path.join(down_dir, data_dir,'train') # A folder for raw images\n",
    "mask_dir = os.path.join(down_dir, data_dir,'train_masks')# A folder for masks\n",
    "manifest_dir = Path('./manifest4.pickle') # Manifest of the path images and their corresponding mask path"
   ]
  },
  {
   "cell_type": "code",
   "execution_count": 43,
   "metadata": {},
   "outputs": [
    {
     "name": "stdout",
     "output_type": "stream",
     "text": [
      "Directory:  data/chictopia\n",
      "data/chictopia\n"
     ]
    }
   ],
   "source": [
    "\n",
    "paperdoll = Paperdoll(down_dir, train_dir) \n",
    "paperdoll_df = paperdoll.connect_paperdoll_sql()\n",
    "print(down_dir)"
   ]
  },
  {
   "cell_type": "code",
   "execution_count": 38,
   "metadata": {},
   "outputs": [
    {
     "name": "stdout",
     "output_type": "stream",
     "text": [
      "Found 1100987 photos\n"
     ]
    }
   ],
   "source": [
    "moda_df = paperdoll.get_moda_df(down_dir, moda_json, paperdoll_df) \n",
    "photo_data = PhotoData(photos_lmdb_path)\n",
    "photos_df = paperdoll.load_images_from_sql()"
   ]
  },
  {
   "cell_type": "code",
   "execution_count": 74,
   "metadata": {},
   "outputs": [],
   "source": [
    "#photos_df.head()\n",
    "paperdoll.save_photos_from_lmdb_to_png(moda_df, photos_df, photo_data)"
   ]
  },
  {
   "cell_type": "code",
   "execution_count": 50,
   "metadata": {},
   "outputs": [
    {
     "name": "stdout",
     "output_type": "stream",
     "text": [
      "changes\n",
      "Saving masks at data/chictopia/Images/train/outer_dress_more\n",
      "loading annotations into memory...\n",
      "Done (t=6.94s)\n",
      "creating index...\n",
      "index created!\n",
      "No of cats:  13\n",
      "COCO categories: \n",
      "bag belt boots footwear outer dress sunglasses pants top shorts skirt headwear scarf/tie\n",
      "\n",
      "COCO supercategories: \n",
      "fashion\n",
      "catids:2, imgids1635\n",
      "Loading data/chictopia/Images/train\n"
     ]
    },
    {
     "data": {
      "application/vnd.jupyter.widget-view+json": {
       "model_id": "0dbb173ef0d1499ea01682febef3ce9e",
       "version_major": 2,
       "version_minor": 0
      },
      "text/plain": [
       "HBox(children=(IntProgress(value=0, description='Compiling masks', max=1635, style=ProgressStyle(description_w…"
      ]
     },
     "metadata": {},
     "output_type": "display_data"
    },
    {
     "name": "stdout",
     "output_type": "stream",
     "text": [
      "Done\n",
      "Duplicates:  65\n"
     ]
    }
   ],
   "source": [
    "%matplotlib inline\n",
    "%autoreload\n",
    "attributes = ['outer','dress','bag'] # The attributes|categories|labels to extract from the annotations\n",
    "cat_dir = 'outer_dress_more' # Creating a folder for each set of masks (defined in moda)\n",
    "if (os.path.exists(manifest_dir)):\n",
    "    with open(manifest_dir, 'rb') as handle:\n",
    "        manifest = pickle.load(handle)\n",
    "else:\n",
    "    manifest = COCO_.generate_masks(train_dir, mask_dir,moda_json,cat_dir,attributes)\n",
    "    with open(manifest_dir, 'wb') as handle:\n",
    "        pickle.dump(manifest, handle, protocol=pickle.HIGHEST_PROTOCOL)\n"
   ]
  },
  {
   "cell_type": "code",
   "execution_count": null,
   "metadata": {},
   "outputs": [],
   "source": []
  },
  {
   "cell_type": "code",
   "execution_count": null,
   "metadata": {},
   "outputs": [],
   "source": []
  },
  {
   "cell_type": "code",
   "execution_count": null,
   "metadata": {},
   "outputs": [],
   "source": []
  },
  {
   "cell_type": "code",
   "execution_count": 33,
   "metadata": {},
   "outputs": [],
   "source": []
  },
  {
   "cell_type": "code",
   "execution_count": null,
   "metadata": {},
   "outputs": [],
   "source": []
  },
  {
   "cell_type": "code",
   "execution_count": null,
   "metadata": {},
   "outputs": [],
   "source": [
    "\n"
   ]
  },
  {
   "cell_type": "code",
   "execution_count": null,
   "metadata": {},
   "outputs": [],
   "source": []
  }
 ],
 "metadata": {
  "kernelspec": {
   "display_name": "Python 3",
   "language": "python",
   "name": "python3"
  },
  "language_info": {
   "codemirror_mode": {
    "name": "ipython",
    "version": 3
   },
   "file_extension": ".py",
   "mimetype": "text/x-python",
   "name": "python",
   "nbconvert_exporter": "python",
   "pygments_lexer": "ipython3",
   "version": "3.6.8"
  }
 },
 "nbformat": 4,
 "nbformat_minor": 2
}
