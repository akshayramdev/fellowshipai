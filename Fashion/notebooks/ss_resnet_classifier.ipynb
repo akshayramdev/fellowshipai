{
 "cells": [
  {
   "cell_type": "code",
   "execution_count": 26,
   "metadata": {},
   "outputs": [],
   "source": [
    "from fastai.vision import *\n",
    "from PIL import Image\n",
    "import torchvision\n",
    "import matplotlib.pyplot as plt\n",
    "\n",
    "import torch\n",
    "import torch.nn as nn\n",
    "import torch.nn.functional as F \n",
    "\n",
    "from fastai.layers import FlattenedLoss\n",
    "\n",
    "from collections import defaultdict, OrderedDict\n",
    "\n",
    "from os import mkdir, environ # just for my use to access environment variables, not required"
   ]
  },
  {
   "cell_type": "code",
   "execution_count": 2,
   "metadata": {},
   "outputs": [],
   "source": [
    "## edit these for your system\n",
    "ROOT = Path( \"{}/data/streetstyle\".format( environ[\"FASHION_DIR\"] ) ) # optional\n",
    "IMAGES_PATH = ROOT/\"streetstyle27k_cropped\"\n",
    "CSV = ROOT/\"ss27k_labels.csv\"\n",
    "MODEL_SAVE_DIR = ROOT/\"models\"\n",
    "MODEL_SAVE_NAME = \"ss27k_base\" # will be the first part of all saved files\n",
    "\n",
    "# these can all be changed either here on in the call to build_databunch\n",
    "bs = 120\n",
    "im_size = 224\n",
    "val_pct = 0.1\n",
    "test_pct = 0.1\n",
    "\n",
    "# random seed\n",
    "seed = 42\n",
    "\n",
    "# set this if you have a rtx card, can sometimes be faster and also allows you to have larger batch sizes\n",
    "use_fp16 = False"
   ]
  },
  {
   "cell_type": "code",
   "execution_count": 3,
   "metadata": {},
   "outputs": [
    {
     "data": {
      "text/html": [
       "<div>\n",
       "<style scoped>\n",
       "    .dataframe tbody tr th:only-of-type {\n",
       "        vertical-align: middle;\n",
       "    }\n",
       "\n",
       "    .dataframe tbody tr th {\n",
       "        vertical-align: top;\n",
       "    }\n",
       "\n",
       "    .dataframe thead th {\n",
       "        text-align: right;\n",
       "    }\n",
       "</style>\n",
       "<table border=\"1\" class=\"dataframe\">\n",
       "  <thead>\n",
       "    <tr style=\"text-align: right;\">\n",
       "      <th></th>\n",
       "      <th>image</th>\n",
       "      <th>label</th>\n",
       "    </tr>\n",
       "  </thead>\n",
       "  <tbody>\n",
       "    <tr>\n",
       "      <th>4047</th>\n",
       "      <td>9ddcffd1f26e8029f739a4533c509652_5633154888954...</td>\n",
       "      <td>clothing_pattern_solid major_color_blue wearin...</td>\n",
       "    </tr>\n",
       "    <tr>\n",
       "      <th>24772</th>\n",
       "      <td>c3d3eb00c32cfb20a9dba781c1a3478d_5850821475942...</td>\n",
       "      <td>clothing_pattern_plaid major_color_multicolore...</td>\n",
       "    </tr>\n",
       "    <tr>\n",
       "      <th>18190</th>\n",
       "      <td>8db86044eadc3c402e8a8528cbefe9ae_6566812053337...</td>\n",
       "      <td>clothing_pattern_solid major_color_black weari...</td>\n",
       "    </tr>\n",
       "    <tr>\n",
       "      <th>16221</th>\n",
       "      <td>7264bc219aa44909f75cc61059b6b359_6044493198652...</td>\n",
       "      <td>clothing_pattern_graphics major_color_white we...</td>\n",
       "    </tr>\n",
       "    <tr>\n",
       "      <th>13060</th>\n",
       "      <td>aaeaebb9d93603f1d51ec0a21b016aee_5157556788998...</td>\n",
       "      <td>clothing_pattern_solid major_color_white weari...</td>\n",
       "    </tr>\n",
       "  </tbody>\n",
       "</table>\n",
       "</div>"
      ],
      "text/plain": [
       "                                                   image  \\\n",
       "4047   9ddcffd1f26e8029f739a4533c509652_5633154888954...   \n",
       "24772  c3d3eb00c32cfb20a9dba781c1a3478d_5850821475942...   \n",
       "18190  8db86044eadc3c402e8a8528cbefe9ae_6566812053337...   \n",
       "16221  7264bc219aa44909f75cc61059b6b359_6044493198652...   \n",
       "13060  aaeaebb9d93603f1d51ec0a21b016aee_5157556788998...   \n",
       "\n",
       "                                                   label  \n",
       "4047   clothing_pattern_solid major_color_blue wearin...  \n",
       "24772  clothing_pattern_plaid major_color_multicolore...  \n",
       "18190  clothing_pattern_solid major_color_black weari...  \n",
       "16221  clothing_pattern_graphics major_color_white we...  \n",
       "13060  clothing_pattern_solid major_color_white weari...  "
      ]
     },
     "execution_count": 3,
     "metadata": {},
     "output_type": "execute_result"
    }
   ],
   "source": [
    "df = pd.read_csv( CSV ).sample( frac=1, random_state=seed )\n",
    "df.head()"
   ]
  },
  {
   "cell_type": "code",
   "execution_count": 4,
   "metadata": {},
   "outputs": [],
   "source": [
    "def build_databunch( val_p=val_pct, test_p=test_pct, batch=bs, size=im_size ):\n",
    "    val_len = int( len( df ) * val_p )\n",
    "    test_len = int( len( df ) * test_p )\n",
    "    val_p = val_len / ( len( df ) - test_len )\n",
    "    \n",
    "    train_val_df = df[test_len:]\n",
    "    test_df = df[:test_len]\n",
    "    \n",
    "    data = ( ImageList.from_df( df=train_val_df, path=IMAGES_PATH )\n",
    "                .split_by_rand_pct( valid_pct=val_p, seed=seed )\n",
    "                .label_from_df( label_delim=' ' ) )\n",
    "    test_data = ( ImageList.from_df( df=test_df, path=IMAGES_PATH )\n",
    "                .split_none()\n",
    "                .label_from_df( label_delim=' ' ) )\n",
    "    \n",
    "    data.test = test_data.train\n",
    "    \n",
    "    ds_tfms = get_transforms()\n",
    "    data = ( data.transform( ds_tfms, size=im_size )\n",
    "             .databunch( bs=batch ).normalize( imagenet_stats ) )\n",
    "        \n",
    "    return data"
   ]
  },
  {
   "cell_type": "code",
   "execution_count": 5,
   "metadata": {},
   "outputs": [],
   "source": [
    "# taken from the previous cohort\n",
    "\n",
    "class FocalLoss_v2(nn.Module):\n",
    "    \"\"\"\n",
    "    Taken from https://www.kaggle.com/c/tgs-salt-identification-challenge/discussion/65938\n",
    "    \"\"\"\n",
    "    def __init__(self, alpha=1, gamma=2):\n",
    "        super(FocalLoss_v2, self).__init__()\n",
    "        self.alpha = alpha\n",
    "        self.gamma = gamma\n",
    "\n",
    "    def forward(self, inputs, targets, reduction = 'mean'):\n",
    "        \n",
    "        BCE_loss = F.binary_cross_entropy_with_logits(inputs, targets, reduction='none')\n",
    "        \n",
    "        pt = torch.exp(-BCE_loss)\n",
    "        \n",
    "        alpha_t = (self.alpha - 1) * targets + 1\n",
    "        \n",
    "        loss = alpha_t * (1-pt)**self.gamma * BCE_loss\n",
    "\n",
    "        if reduction =='none' or reduction is None:\n",
    "            return loss\n",
    "        elif reduction =='mean':\n",
    "            return loss.mean()\n",
    "        elif reduction=='sum':\n",
    "            return loss.sum()\n",
    "        else:\n",
    "            raise NotImplementedError\n",
    "\n",
    "def focal_flat_loss(*args, **kwargs):\n",
    "    return FlattenedLoss(FocalLoss_v2, *args, is_2d = False, **kwargs)"
   ]
  },
  {
   "cell_type": "code",
   "execution_count": 6,
   "metadata": {},
   "outputs": [],
   "source": [
    "data = build_databunch()"
   ]
  },
  {
   "cell_type": "code",
   "execution_count": 7,
   "metadata": {},
   "outputs": [],
   "source": [
    "arch = models.resnet34\n",
    "threshold = 0.15\n",
    "acc = partial( accuracy_thresh, thresh=threshold )\n",
    "f_score = partial( fbeta, thresh=threshold )\n",
    "learn = cnn_learner( data, arch, metrics=[acc, f_score] )\n",
    "learn.loss_func = focal_flat_loss( gamma = 2, alpha = 0.25 )\n",
    "\n",
    "if use_fp16:\n",
    "    learn = learn.to_fp16()"
   ]
  },
  {
   "cell_type": "code",
   "execution_count": 8,
   "metadata": {},
   "outputs": [
    {
     "data": {
      "text/html": [],
      "text/plain": [
       "<IPython.core.display.HTML object>"
      ]
     },
     "metadata": {},
     "output_type": "display_data"
    },
    {
     "name": "stdout",
     "output_type": "stream",
     "text": [
      "LR Finder is complete, type {learner_name}.recorder.plot() to see the graph.\n"
     ]
    },
    {
     "data": {
      "image/png": "[encoded data removed]",
      "text/plain": [
       "<Figure size 432x288 with 1 Axes>"
      ]
     },
     "metadata": {
      "needs_background": "light"
     },
     "output_type": "display_data"
    }
   ],
   "source": [
    "learn.freeze()\n",
    "learn.lr_find()\n",
    "learn.recorder.plot()"
   ]
  },
  {
   "cell_type": "code",
   "execution_count": 9,
   "metadata": {},
   "outputs": [
    {
     "data": {
      "text/html": [
       "<table border=\"1\" class=\"dataframe\">\n",
       "  <thead>\n",
       "    <tr style=\"text-align: left;\">\n",
       "      <th>epoch</th>\n",
       "      <th>train_loss</th>\n",
       "      <th>valid_loss</th>\n",
       "      <th>accuracy_thresh</th>\n",
       "      <th>fbeta</th>\n",
       "      <th>time</th>\n",
       "    </tr>\n",
       "  </thead>\n",
       "  <tbody>\n",
       "    <tr>\n",
       "      <td>0</td>\n",
       "      <td>0.053517</td>\n",
       "      <td>0.030863</td>\n",
       "      <td>0.624302</td>\n",
       "      <td>0.717767</td>\n",
       "      <td>01:08</td>\n",
       "    </tr>\n",
       "    <tr>\n",
       "      <td>1</td>\n",
       "      <td>0.033063</td>\n",
       "      <td>0.028263</td>\n",
       "      <td>0.653530</td>\n",
       "      <td>0.737400</td>\n",
       "      <td>00:57</td>\n",
       "    </tr>\n",
       "    <tr>\n",
       "      <td>2</td>\n",
       "      <td>0.029895</td>\n",
       "      <td>0.026453</td>\n",
       "      <td>0.653318</td>\n",
       "      <td>0.740502</td>\n",
       "      <td>00:57</td>\n",
       "    </tr>\n",
       "    <tr>\n",
       "      <td>3</td>\n",
       "      <td>0.028713</td>\n",
       "      <td>0.025935</td>\n",
       "      <td>0.665989</td>\n",
       "      <td>0.747486</td>\n",
       "      <td>00:57</td>\n",
       "    </tr>\n",
       "  </tbody>\n",
       "</table>"
      ],
      "text/plain": [
       "<IPython.core.display.HTML object>"
      ]
     },
     "metadata": {},
     "output_type": "display_data"
    }
   ],
   "source": [
    "learn.fit_one_cycle( 4, max_lr=slice(1e-2) )\n",
    "learn.save( MODEL_SAVE_DIR/\"{}_resnet34_focalloss_step1\".format( MODEL_SAVE_NAME ) )"
   ]
  },
  {
   "cell_type": "code",
   "execution_count": 10,
   "metadata": {},
   "outputs": [
    {
     "name": "stderr",
     "output_type": "stream",
     "text": [
      "/home/lewis/.pyenvs/fellowshipai_brands/lib/python3.6/site-packages/torch/serialization.py:256: UserWarning: Couldn't retrieve source code for container of type FocalLoss_v2. It won't be checked for correctness upon loading.\n",
      "  \"type \" + obj.__name__ + \". It won't be checked \"\n"
     ]
    },
    {
     "data": {
      "text/html": [],
      "text/plain": [
       "<IPython.core.display.HTML object>"
      ]
     },
     "metadata": {},
     "output_type": "display_data"
    },
    {
     "name": "stdout",
     "output_type": "stream",
     "text": [
      "LR Finder is complete, type {learner_name}.recorder.plot() to see the graph.\n"
     ]
    },
    {
     "data": {
      "image/png": "[encoded data removed]",
      "text/plain": [
       "<Figure size 432x288 with 1 Axes>"
      ]
     },
     "metadata": {
      "needs_background": "light"
     },
     "output_type": "display_data"
    }
   ],
   "source": [
    "learn.load( MODEL_SAVE_DIR/\"{}_resnet34_focalloss_step1\".format( MODEL_SAVE_NAME ) )\n",
    "learn.unfreeze()\n",
    "learn.lr_find()\n",
    "learn.recorder.plot()"
   ]
  },
  {
   "cell_type": "code",
   "execution_count": 11,
   "metadata": {},
   "outputs": [
    {
     "data": {
      "text/html": [
       "<table border=\"1\" class=\"dataframe\">\n",
       "  <thead>\n",
       "    <tr style=\"text-align: left;\">\n",
       "      <th>epoch</th>\n",
       "      <th>train_loss</th>\n",
       "      <th>valid_loss</th>\n",
       "      <th>accuracy_thresh</th>\n",
       "      <th>fbeta</th>\n",
       "      <th>time</th>\n",
       "    </tr>\n",
       "  </thead>\n",
       "  <tbody>\n",
       "    <tr>\n",
       "      <td>0</td>\n",
       "      <td>0.027168</td>\n",
       "      <td>0.024126</td>\n",
       "      <td>0.685304</td>\n",
       "      <td>0.759701</td>\n",
       "      <td>01:17</td>\n",
       "    </tr>\n",
       "    <tr>\n",
       "      <td>1</td>\n",
       "      <td>0.025937</td>\n",
       "      <td>0.023211</td>\n",
       "      <td>0.703216</td>\n",
       "      <td>0.769777</td>\n",
       "      <td>01:17</td>\n",
       "    </tr>\n",
       "    <tr>\n",
       "      <td>2</td>\n",
       "      <td>0.024845</td>\n",
       "      <td>0.022356</td>\n",
       "      <td>0.717255</td>\n",
       "      <td>0.780198</td>\n",
       "      <td>01:17</td>\n",
       "    </tr>\n",
       "    <tr>\n",
       "      <td>3</td>\n",
       "      <td>0.023677</td>\n",
       "      <td>0.021528</td>\n",
       "      <td>0.747633</td>\n",
       "      <td>0.797330</td>\n",
       "      <td>01:17</td>\n",
       "    </tr>\n",
       "    <tr>\n",
       "      <td>4</td>\n",
       "      <td>0.022490</td>\n",
       "      <td>0.021092</td>\n",
       "      <td>0.755350</td>\n",
       "      <td>0.802167</td>\n",
       "      <td>01:17</td>\n",
       "    </tr>\n",
       "    <tr>\n",
       "      <td>5</td>\n",
       "      <td>0.022041</td>\n",
       "      <td>0.021021</td>\n",
       "      <td>0.755001</td>\n",
       "      <td>0.802166</td>\n",
       "      <td>01:17</td>\n",
       "    </tr>\n",
       "  </tbody>\n",
       "</table>"
      ],
      "text/plain": [
       "<IPython.core.display.HTML object>"
      ]
     },
     "metadata": {},
     "output_type": "display_data"
    }
   ],
   "source": [
    "learn.load( MODEL_SAVE_DIR/\"{}_resnet34_focalloss_step1\".format( MODEL_SAVE_NAME ) )\n",
    "learn.unfreeze()\n",
    "learn.fit_one_cycle( 6, max_lr=slice(5e-5, 5e-4) )\n",
    "learn.save( MODEL_SAVE_DIR/\"{}_resnet34_focalloss_step2\".format( MODEL_SAVE_NAME ) )"
   ]
  },
  {
   "cell_type": "code",
   "execution_count": 12,
   "metadata": {},
   "outputs": [
    {
     "data": {
      "text/html": [],
      "text/plain": [
       "<IPython.core.display.HTML object>"
      ]
     },
     "metadata": {},
     "output_type": "display_data"
    },
    {
     "name": "stdout",
     "output_type": "stream",
     "text": [
      "LR Finder is complete, type {learner_name}.recorder.plot() to see the graph.\n"
     ]
    },
    {
     "data": {
      "image/png": "[encoded data removed]",
      "text/plain": [
       "<Figure size 432x288 with 1 Axes>"
      ]
     },
     "metadata": {
      "needs_background": "light"
     },
     "output_type": "display_data"
    }
   ],
   "source": [
    "learn.load( MODEL_SAVE_DIR/\"{}_resnet34_focalloss_step2\".format( MODEL_SAVE_NAME ) )\n",
    "learn.unfreeze()\n",
    "learn.lr_find()\n",
    "learn.recorder.plot()"
   ]
  },
  {
   "cell_type": "code",
   "execution_count": 13,
   "metadata": {},
   "outputs": [
    {
     "data": {
      "text/html": [
       "<table border=\"1\" class=\"dataframe\">\n",
       "  <thead>\n",
       "    <tr style=\"text-align: left;\">\n",
       "      <th>epoch</th>\n",
       "      <th>train_loss</th>\n",
       "      <th>valid_loss</th>\n",
       "      <th>accuracy_thresh</th>\n",
       "      <th>fbeta</th>\n",
       "      <th>time</th>\n",
       "    </tr>\n",
       "  </thead>\n",
       "  <tbody>\n",
       "    <tr>\n",
       "      <td>0</td>\n",
       "      <td>0.021917</td>\n",
       "      <td>0.021020</td>\n",
       "      <td>0.754420</td>\n",
       "      <td>0.801662</td>\n",
       "      <td>01:17</td>\n",
       "    </tr>\n",
       "    <tr>\n",
       "      <td>1</td>\n",
       "      <td>0.021882</td>\n",
       "      <td>0.021012</td>\n",
       "      <td>0.753996</td>\n",
       "      <td>0.801747</td>\n",
       "      <td>01:17</td>\n",
       "    </tr>\n",
       "    <tr>\n",
       "      <td>2</td>\n",
       "      <td>0.022061</td>\n",
       "      <td>0.021022</td>\n",
       "      <td>0.754611</td>\n",
       "      <td>0.801759</td>\n",
       "      <td>01:17</td>\n",
       "    </tr>\n",
       "    <tr>\n",
       "      <td>3</td>\n",
       "      <td>0.021909</td>\n",
       "      <td>0.021000</td>\n",
       "      <td>0.753831</td>\n",
       "      <td>0.801410</td>\n",
       "      <td>01:17</td>\n",
       "    </tr>\n",
       "    <tr>\n",
       "      <td>4</td>\n",
       "      <td>0.021993</td>\n",
       "      <td>0.021009</td>\n",
       "      <td>0.755624</td>\n",
       "      <td>0.802485</td>\n",
       "      <td>01:17</td>\n",
       "    </tr>\n",
       "  </tbody>\n",
       "</table>"
      ],
      "text/plain": [
       "<IPython.core.display.HTML object>"
      ]
     },
     "metadata": {},
     "output_type": "display_data"
    }
   ],
   "source": [
    "learn.load( MODEL_SAVE_DIR/\"{}_resnet34_focalloss_step2\".format( MODEL_SAVE_NAME ) )\n",
    "learn.unfreeze()\n",
    "learn.fit_one_cycle( 5, max_lr=slice(1e-7, 1e-6) )\n",
    "learn.save( MODEL_SAVE_DIR/\"{}_resnet34_focalloss_step3\".format( MODEL_SAVE_NAME ) )"
   ]
  },
  {
   "cell_type": "code",
   "execution_count": 14,
   "metadata": {},
   "outputs": [],
   "source": [
    "learn.load( MODEL_SAVE_DIR/\"{}_resnet34_focalloss_step3\".format( MODEL_SAVE_NAME ) )\n",
    "\n",
    "if use_fp16:\n",
    "    learn = learn.to_fp32()"
   ]
  },
  {
   "cell_type": "code",
   "execution_count": 15,
   "metadata": {},
   "outputs": [],
   "source": [
    "cats = [ \"major_color\", \"sleeve_length\", \"clothing_pattern\", \"neckline_shape\", \n",
    "        \"clothing_category\", \"multiple_layers\", \"wearing_necktie\", \n",
    "        \"collar_presence\", \"wearing_scarf\", \"wearing_jacket\", \n",
    "        \"wearing_hat\", \"wearing_glasses\" ]\n",
    "\n",
    "idx_to_cat = [0] * len( data.classes )\n",
    "for i, cat in enumerate( cats ):\n",
    "    for n, label in enumerate( data.classes ):\n",
    "        if cat in label:\n",
    "            idx_to_cat[n] = i"
   ]
  },
  {
   "cell_type": "code",
   "execution_count": 16,
   "metadata": {},
   "outputs": [],
   "source": [
    "probs, ys = learn.get_preds( ds_type=DatasetType.Test )\n",
    "probs = probs.sigmoid()"
   ]
  },
  {
   "cell_type": "code",
   "execution_count": 54,
   "metadata": {},
   "outputs": [
    {
     "data": {
      "text/plain": [
       "58"
      ]
     },
     "execution_count": 54,
     "metadata": {},
     "output_type": "execute_result"
    }
   ],
   "source": [
    "len(data.classes)"
   ]
  },
  {
   "cell_type": "code",
   "execution_count": 17,
   "metadata": {},
   "outputs": [],
   "source": [
    "def split_to_label_pred( preds ):\n",
    "    cat_preds = defaultdict( list )\n",
    "    for n, pred in enumerate( preds ):\n",
    "        cat = cats[idx_to_cat[n]]\n",
    "        try:\n",
    "            cat_preds[cat].append( float( pred ) )\n",
    "        except ValueError:\n",
    "            cat_preds[cat].append( pred )\n",
    "    \n",
    "    cat_preds = { k: np.array( v ) for k, v in cat_preds.items() }\n",
    "    return cat_preds"
   ]
  },
  {
   "cell_type": "code",
   "execution_count": 67,
   "metadata": {},
   "outputs": [],
   "source": [
    "thres = 0\n",
    "ignore_na = False # doesn't count the example at all when calculating averages for each category\n",
    "\n",
    "if ignore_na:\n",
    "    subcats = split_to_label_pred( data.classes )\n",
    "    no_label_idx = dict()\n",
    "\n",
    "    for cat, subs in subcats.items():\n",
    "        for n, subcat in enumerate( subs ):\n",
    "            if \"no_label\" in subcat:\n",
    "                no_label_idx[cat] = n\n",
    "\n",
    "pred_eg = split_to_label_pred( ys[0] )\n",
    "performance = { k: [ 0.0, 0 ] for k in cats }\n",
    "performance_per_label = { k: OrderedDict( [ ( v, [ 0.0, 0 ] ) for v in data.classes if k in v ] ) for k in cats }\n",
    "performance_per_label_idx = { k: list( v.items() ) for k, v in performance_per_label.items() }\n",
    "\n",
    "for prob, y in zip( probs, ys ):\n",
    "    prob, y = split_to_label_pred( prob ), split_to_label_pred( y )\n",
    "    for cat in cats:\n",
    "        prob_cat, y_cat = prob[cat], y[cat]\n",
    "        \n",
    "        if thres:\n",
    "            prob_cat -= [ prob if prob <= thres else 0 for prob in prob_cat ]\n",
    "        \n",
    "        argmax = np.argmax( prob_cat )\n",
    "        y_argmax = np.argmax( y_cat )\n",
    "        label = performance_per_label_idx[cat][y_argmax][0]\n",
    "        \n",
    "        if argmax == y_argmax and prob_cat[argmax] > 0.0:\n",
    "            if ignore_na and ( no_label_idx[cat] == argmax ):\n",
    "                continue\n",
    "                \n",
    "            performance_per_label[cat][label][0] += 1.0\n",
    "            performance[cat][0] += 1.0\n",
    "        \n",
    "        performance_per_label[cat][label][1] += 1.0\n",
    "        performance[cat][1] += 1.0\n",
    "\n",
    "for k, v in performance.items():\n",
    "    performance[k] = v[0]/v[1]\n",
    "    \n",
    "    for k2, v2 in performance_per_label[k].items():\n",
    "        performance_per_label[k][k2] = v2[0]/v2[1]"
   ]
  },
  {
   "cell_type": "code",
   "execution_count": 66,
   "metadata": {},
   "outputs": [
    {
     "data": {
      "text/plain": [
       "{'major_color': 0.6154761904761905,\n",
       " 'sleeve_length': 0.7309523809523809,\n",
       " 'clothing_pattern': 0.7555555555555555,\n",
       " 'neckline_shape': 0.7396825396825397,\n",
       " 'clothing_category': 0.5892857142857143,\n",
       " 'multiple_layers': 0.8257936507936507,\n",
       " 'wearing_necktie': 0.9785714285714285,\n",
       " 'collar_presence': 0.8357142857142857,\n",
       " 'wearing_scarf': 0.9468253968253968,\n",
       " 'wearing_jacket': 0.8575396825396825,\n",
       " 'wearing_hat': 0.921031746031746,\n",
       " 'wearing_glasses': 0.9742063492063492}"
      ]
     },
     "execution_count": 66,
     "metadata": {},
     "output_type": "execute_result"
    }
   ],
   "source": [
    "performance"
   ]
  },
  {
   "cell_type": "code",
   "execution_count": 52,
   "metadata": {},
   "outputs": [
    {
     "data": {
      "text/plain": [
       "{'major_color': OrderedDict([('major_color_black', 0.8945686900958466),\n",
       "              ('major_color_blue', 0.6169354838709677),\n",
       "              ('major_color_brown', 0.05128205128205128),\n",
       "              ('major_color_cyan', 0.0),\n",
       "              ('major_color_gray', 0.264),\n",
       "              ('major_color_green', 0.42592592592592593),\n",
       "              ('major_color_multicolored', 0.3418803418803419),\n",
       "              ('major_color_no_label', 0.42226487523992323),\n",
       "              ('major_color_orange', 0.0),\n",
       "              ('major_color_pink', 0.4647887323943662),\n",
       "              ('major_color_purple', 0.0),\n",
       "              ('major_color_red', 0.7525773195876289),\n",
       "              ('major_color_white', 0.8426150121065376),\n",
       "              ('major_color_yellow', 0.62)]),\n",
       " 'sleeve_length': OrderedDict([('sleeve_length_long_sleeve',\n",
       "               0.8590342679127726),\n",
       "              ('sleeve_length_no_label', 0.11864406779661017),\n",
       "              ('sleeve_length_no_sleeve', 0.8313609467455622),\n",
       "              ('sleeve_length_short_sleeve', 0.6061026352288488)]),\n",
       " 'clothing_pattern': OrderedDict([('clothing_pattern_floral',\n",
       "               0.29473684210526313),\n",
       "              ('clothing_pattern_graphics', 0.6703296703296703),\n",
       "              ('clothing_pattern_no_label', 0.22590361445783133),\n",
       "              ('clothing_pattern_plaid', 0.5238095238095238),\n",
       "              ('clothing_pattern_solid', 0.9489795918367347),\n",
       "              ('clothing_pattern_spotted', 0.0),\n",
       "              ('clothing_pattern_striped', 0.46078431372549017)]),\n",
       " 'neckline_shape': OrderedDict([('neckline_shape_folded', 0.794344473007712),\n",
       "              ('neckline_shape_no_label', 0.6396551724137931),\n",
       "              ('neckline_shape_round', 0.8486772486772487),\n",
       "              ('neckline_shape_v-shape', 0.33640552995391704)]),\n",
       " 'clothing_category': OrderedDict([('clothing_category_dress',\n",
       "               0.43089430894308944),\n",
       "              ('clothing_category_no_label', 0.47128378378378377),\n",
       "              ('clothing_category_outerwear', 0.7251732101616628),\n",
       "              ('clothing_category_shirt', 0.6316964285714286),\n",
       "              ('clothing_category_suit', 0.7304347826086957),\n",
       "              ('clothing_category_sweater', 0.010309278350515464),\n",
       "              ('clothing_category_t-shirt', 0.7644539614561028),\n",
       "              ('clothing_category_tank_top', 0.5)]),\n",
       " 'multiple_layers': OrderedDict([('multiple_layers_multiple_layers',\n",
       "               0.7444574095682613),\n",
       "              ('multiple_layers_no_label', 0.1588785046728972),\n",
       "              ('multiple_layers_one_layer', 0.916452442159383)]),\n",
       " 'wearing_necktie': OrderedDict([('wearing_necktie_no', 0.9958694754233788),\n",
       "              ('wearing_necktie_no_label', 0.0),\n",
       "              ('wearing_necktie_yes', 0.7746478873239436)]),\n",
       " 'collar_presence': OrderedDict([('collar_presence_no', 0.9473039215686274),\n",
       "              ('collar_presence_no_label', 0.10982658959537572),\n",
       "              ('collar_presence_yes', 0.7566433566433567)]),\n",
       " 'wearing_scarf': OrderedDict([('wearing_scarf_no', 0.9897216274089936),\n",
       "              ('wearing_scarf_no_label', 0.0),\n",
       "              ('wearing_scarf_yes', 0.539568345323741)]),\n",
       " 'wearing_jacket': OrderedDict([('wearing_jacket_no', 0.9336763865065751),\n",
       "              ('wearing_jacket_no_label', 0.013333333333333334),\n",
       "              ('wearing_jacket_yes', 0.757183908045977)]),\n",
       " 'wearing_hat': OrderedDict([('wearing_hat_no', 0.9915178571428571),\n",
       "              ('wearing_hat_no_label', 0.023809523809523808),\n",
       "              ('wearing_hat_yes', 0.41596638655462187)]),\n",
       " 'wearing_glasses': OrderedDict([('wearing_glasses_no', 0.9972093023255814),\n",
       "              ('wearing_glasses_no_label', 0.0),\n",
       "              ('wearing_glasses_yes', 0.9201183431952663)])}"
      ]
     },
     "execution_count": 52,
     "metadata": {},
     "output_type": "execute_result"
    }
   ],
   "source": [
    "performance_per_label"
   ]
  },
  {
   "cell_type": "code",
   "execution_count": null,
   "metadata": {},
   "outputs": [],
   "source": []
  }
 ],
 "metadata": {
  "kernelspec": {
   "display_name": "Python 3",
   "language": "python",
   "name": "python3"
  },
  "language_info": {
   "codemirror_mode": {
    "name": "ipython",
    "version": 3
   },
   "file_extension": ".py",
   "mimetype": "text/x-python",
   "name": "python",
   "nbconvert_exporter": "python",
   "pygments_lexer": "ipython3",
   "version": "3.6.8"
  }
 },
 "nbformat": 4,
 "nbformat_minor": 2
}
