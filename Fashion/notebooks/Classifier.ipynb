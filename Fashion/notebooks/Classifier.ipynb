{
 "cells": [
  {
   "cell_type": "code",
   "execution_count": 1,
   "metadata": {},
   "outputs": [],
   "source": [
    "from fastai.vision import *\n",
    "import fastai\n",
    "from torchvision import transforms\n",
    "import pandas as pd\n",
    "from tqdm import tnrange, tqdm_notebook"
   ]
  },
  {
   "cell_type": "code",
   "execution_count": 3,
   "metadata": {},
   "outputs": [
    {
     "name": "stdout",
     "output_type": "stream",
     "text": [
      "Found 27087 entries in streetstyle27k.manifest\n",
      "/home/zerowitone/Desktop/Fellowship.ai/streetstyle.preprocess.csv\n",
      "Index(['id', 'url', 'created_time', 'city_id', 'month_id', 'lat', 'long', 'x1',\n",
      "       'y1', 'x2', 'y2', 'width', 'height', 'clothing_pattern', 'major_color',\n",
      "       'wearing_necktie', 'collar_presence', 'wearing_scarf', 'sleeve_length',\n",
      "       'neckline_shape', 'clothing_category', 'wearing_jacket', 'wearing_hat',\n",
      "       'wearing_glasses', 'multiple_layers', 'images', 'fastai'],\n",
      "      dtype='object')\n",
      "sleeve_length\n"
     ]
    }
   ],
   "source": [
    "STREETSTYLE_DIR = \"/home/zerowitone/Desktop/Fellowship.ai\"\n",
    "main_dir = \"/home/zerowitone/Desktop/Fellowship.ai/paperdoll\"\n",
    "down_dir = os.path.join(main_dir,'latent_features')\n",
    "MANIFEST_FN = \"streetstyle27k.manifest\"\n",
    "model_name = 'model'\n",
    "model_version = 'V4'\n",
    "labels = pd.read_csv(os.path.join(STREETSTYLE_DIR, MANIFEST_FN))\n",
    "print(\"Found {} entries in {}\".format(len(labels), MANIFEST_FN))\n",
    "categories = ['clothing_pattern', 'major_color', 'wearing_necktie', 'collar_presence', \n",
    "              'wearing_scarf', 'sleeve_length', 'neckline_shape', 'clothing_category', \n",
    "              'wearing_jacket', 'wearing_hat', 'wearing_glasses', 'multiple_layers']\n",
    "np.random.seed(1254)\n",
    "torch.manual_seed(1254)\n",
    "\n",
    "\n",
    "\n",
    "basedir = Path(STREETSTYLE_DIR)\n",
    "csvpath = os.path.join(STREETSTYLE_DIR,'streetstyle.preprocess.csv')\n",
    "print(csvpath)\n",
    "\n",
    "ds_tfms = get_transforms()\n",
    "input_size = (300, 200)\n",
    "df = pd.read_csv(csvpath)\n",
    "print(df.columns)\n",
    "df_category = df[[\"images\", categories[5]]]\n",
    "street_data = (ImageList.from_df(df_category, path=basedir)\n",
    "                     .split_by_rand_pct(0.2)\n",
    "                     .label_from_df()\n",
    "                     .transform(ds_tfms, size=input_size)\n",
    "                     .databunch(bs=16)\n",
    "                     .normalize(imagenet_stats))\n",
    "print('{}'.format(categories[5]))"
   ]
  },
  {
   "cell_type": "code",
   "execution_count": 10,
   "metadata": {},
   "outputs": [],
   "source": [
    "learn = load_learner(main_dir,main_dir+\"/Unet_{}_{}\".format(model_name, model_version))\n"
   ]
  },
  {
   "cell_type": "code",
   "execution_count": 38,
   "metadata": {},
   "outputs": [],
   "source": [
    "def imsave(tensor, imsize=512, title=None):\n",
    "    image = tensor.clone().cpu()\n",
    "    image = image.view(*tensor.size())\n",
    "    image = transforms.ToPILImage()(image)\n",
    "    image.show()\n",
    "    return image\n",
    "    #print(np.asar"
   ]
  },
  {
   "cell_type": "code",
   "execution_count": null,
   "metadata": {},
   "outputs": [],
   "source": []
  },
  {
   "cell_type": "code",
   "execution_count": 112,
   "metadata": {},
   "outputs": [],
   "source": [
    "examples_dir =  os.path.join(STREETSTYLE_DIR,'Examples')\n",
    "for i in range(10):\n",
    "    index = np.random.randint(len(street_data.x), size=1)\n",
    "    index = index[0]\n",
    "    #print(index)\n",
    "\n",
    "    _,__,pred=learn.predict(street_data.x[index])\n",
    "    street_data.x[index].save(examples_dir+'/'+str(i)+'.png')\n",
    "    imsave(pred[0:2]).save(examples_dir+'/mask_'+str(i)+'.png')"
   ]
  },
  {
   "cell_type": "code",
   "execution_count": 111,
   "metadata": {},
   "outputs": [
    {
     "name": "stdout",
     "output_type": "stream",
     "text": [
      "21670\n"
     ]
    },
    {
     "data": {
      "application/vnd.jupyter.widget-view+json": {
       "model_id": "085f39fb432449668ee886293b7648e3",
       "version_major": 2,
       "version_minor": 0
      },
      "text/plain": [
       "HBox(children=(IntProgress(value=0, description='predicting', max=21670, style=ProgressStyle(description_width…"
      ]
     },
     "metadata": {},
     "output_type": "display_data"
    },
    {
     "name": "stdout",
     "output_type": "stream",
     "text": [
      "\n"
     ]
    }
   ],
   "source": [
    "\n",
    "df_dict = defaultdict(list)\n",
    "#print(df_category.tail)\n",
    "counter = 0\n",
    "\n",
    "print(len(street_data.x))\n",
    "for i in tnrange(len(street_data.x), desc='predicting'):\n",
    "    _,__,pred=learn.predict(street_data.x[i])\n",
    "    img_msk = imsave(pred[0:2])\n",
    "    path = os.path.join(down_dir,\"{:07d}.png\".format(counter))\n",
    "    label = street_data.y[i]\n",
    "    img_msk.save(path)\n",
    "    df_dict['name'].append(str(path))\n",
    "    df_dict['label'].append(str(label))\n",
    "    counter+=1\n",
    "df = pd.DataFrame.from_dict(df_dict)"
   ]
  },
  {
   "cell_type": "code",
   "execution_count": null,
   "metadata": {},
   "outputs": [],
   "source": [
    "\n"
   ]
  },
  {
   "cell_type": "code",
   "execution_count": 123,
   "metadata": {},
   "outputs": [],
   "source": [
    "df.to_csv('labels.csv',index=False)"
   ]
  },
  {
   "cell_type": "code",
   "execution_count": 128,
   "metadata": {},
   "outputs": [],
   "source": [
    "path = Path('./')\n",
    "df = pd.read_csv( path/\"labels.csv\" )\n",
    "df['name'] = df['name'].apply( lambda x: x.split(\"/\")[-1] )"
   ]
  },
  {
   "cell_type": "code",
   "execution_count": 129,
   "metadata": {},
   "outputs": [
    {
     "name": "stdout",
     "output_type": "stream",
     "text": [
      "              name         label\n",
      "20178  0021665.png  short_sleeve\n",
      "20179  0021666.png   long_sleeve\n",
      "20180  0021667.png   long_sleeve\n",
      "20181  0021668.png  short_sleeve\n",
      "20182  0021669.png  short_sleeve\n"
     ]
    }
   ],
   "source": [
    "df.drop(df[df['label']== 'no_label'].index, inplace=True)\n",
    "print(df.tail())\n",
    "data = (ImageDataBunch.from_df(df=df, path=main_dir, folder='latent_features')\n",
    "                     .split_by_rand_pct(0.2)\n",
    "                     .label_from_df()\n",
    "                     #.transform(ds_tfms, size=input_size)\n",
    "                     .databunch(bs=4)\n",
    "                     .normalize(imagenet_stats))"
   ]
  },
  {
   "cell_type": "code",
   "execution_count": 130,
   "metadata": {},
   "outputs": [],
   "source": [
    "learn = cnn_learner(data, models.resnet18, metrics=accuracy, callback_fns=[callbacks.CSVLogger])"
   ]
  },
  {
   "cell_type": "code",
   "execution_count": 132,
   "metadata": {},
   "outputs": [
    {
     "data": {
      "text/html": [],
      "text/plain": [
       "<IPython.core.display.HTML object>"
      ]
     },
     "metadata": {},
     "output_type": "display_data"
    },
    {
     "name": "stdout",
     "output_type": "stream",
     "text": [
      "LR Finder is complete, type {learner_name}.recorder.plot() to see the graph.\n"
     ]
    }
   ],
   "source": [
    "learn.lr_find() # find learning rate\n",
    "learn.recorder.plot() # plot learning rate grap"
   ]
  },
  {
   "cell_type": "code",
   "execution_count": 133,
   "metadata": {},
   "outputs": [
    {
     "data": {
      "text/html": [
       "<table border=\"1\" class=\"dataframe\">\n",
       "  <thead>\n",
       "    <tr style=\"text-align: left;\">\n",
       "      <th>epoch</th>\n",
       "      <th>train_loss</th>\n",
       "      <th>valid_loss</th>\n",
       "      <th>accuracy</th>\n",
       "      <th>time</th>\n",
       "    </tr>\n",
       "  </thead>\n",
       "  <tbody>\n",
       "    <tr>\n",
       "      <td>0</td>\n",
       "      <td>1.367012</td>\n",
       "      <td>1.209516</td>\n",
       "      <td>0.378136</td>\n",
       "      <td>03:32</td>\n",
       "    </tr>\n",
       "    <tr>\n",
       "      <td>1</td>\n",
       "      <td>1.455959</td>\n",
       "      <td>1.188962</td>\n",
       "      <td>0.385878</td>\n",
       "      <td>03:30</td>\n",
       "    </tr>\n",
       "    <tr>\n",
       "      <td>2</td>\n",
       "      <td>1.434841</td>\n",
       "      <td>1.210500</td>\n",
       "      <td>0.364509</td>\n",
       "      <td>03:30</td>\n",
       "    </tr>\n",
       "    <tr>\n",
       "      <td>3</td>\n",
       "      <td>1.410967</td>\n",
       "      <td>1.187335</td>\n",
       "      <td>0.386497</td>\n",
       "      <td>03:34</td>\n",
       "    </tr>\n",
       "    <tr>\n",
       "      <td>4</td>\n",
       "      <td>1.403802</td>\n",
       "      <td>1.183895</td>\n",
       "      <td>0.391762</td>\n",
       "      <td>03:39</td>\n",
       "    </tr>\n",
       "    <tr>\n",
       "      <td>5</td>\n",
       "      <td>1.425726</td>\n",
       "      <td>1.184104</td>\n",
       "      <td>0.383400</td>\n",
       "      <td>03:43</td>\n",
       "    </tr>\n",
       "  </tbody>\n",
       "</table>"
      ],
      "text/plain": [
       "<IPython.core.display.HTML object>"
      ]
     },
     "metadata": {},
     "output_type": "display_data"
    }
   ],
   "source": [
    "learn.fit_one_cycle(6,  max_lr=slice(1e-06)) # train model"
   ]
  },
  {
   "cell_type": "code",
   "execution_count": 134,
   "metadata": {},
   "outputs": [],
   "source": [
    "learn.unfreeze()\n",
    "learn.recorder.plot()"
   ]
  },
  {
   "cell_type": "code",
   "execution_count": 135,
   "metadata": {},
   "outputs": [],
   "source": []
  },
  {
   "cell_type": "code",
   "execution_count": null,
   "metadata": {},
   "outputs": [],
   "source": []
  }
 ],
 "metadata": {
  "kernelspec": {
   "display_name": "Python 3",
   "language": "python",
   "name": "python3"
  },
  "language_info": {
   "codemirror_mode": {
    "name": "ipython",
    "version": 3
   },
   "file_extension": ".py",
   "mimetype": "text/x-python",
   "name": "python",
   "nbconvert_exporter": "python",
   "pygments_lexer": "ipython3",
   "version": "3.6.8"
  }
 },
 "nbformat": 4,
 "nbformat_minor": 2
}
