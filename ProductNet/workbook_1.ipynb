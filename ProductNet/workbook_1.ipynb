{
  "nbformat": 4,
  "nbformat_minor": 0,
  "metadata": {
    "colab": {
      "name": "workbook_1.ipynb",
      "version": "0.3.2",
      "provenance": [],
      "collapsed_sections": [],
      "toc_visible": true
    },
    "language_info": {
      "codemirror_mode": {
        "name": "ipython",
        "version": 3
      },
      "file_extension": ".py",
      "mimetype": "text/x-python",
      "name": "python",
      "nbconvert_exporter": "python",
      "pygments_lexer": "ipython3",
      "version": "3.6.4"
    },
    "kernelspec": {
      "display_name": "Python 3",
      "language": "python",
      "name": "python3"
    }
  },
  "cells": [
    {
      "cell_type": "code",
      "metadata": {
        "id": "du_YBx6_Bz5A",
        "colab_type": "code",
        "colab": {}
      },
      "source": [
        "#!pip install fastai\n",
        "\n",
        "import numpy as np\n",
        "import pandas as pd\n",
        "import requests\n",
        "#import json\n",
        "import ast\n",
        "import os\n",
        "\n",
        "#from fastai.vision import *"
      ],
      "execution_count": 0,
      "outputs": []
    },
    {
      "cell_type": "markdown",
      "metadata": {
        "id": "_p_uW2z6Bz5Q",
        "colab_type": "text"
      },
      "source": [
        "## Data file (citation)\n",
        "Data from Dr. McAuley at UCSD (citation)\n",
        "R. He, J. McAuley. Modeling the visual evolution of fashion trends with one-class collaborative filtering. WWW, 2016\n",
        "J. McAuley, C. Targett, J. Shi, A. van den Hengel. Image-based recommendations on styles and substitutes. SIGIR, 2015\n"
      ]
    },
    {
      "cell_type": "code",
      "metadata": {
        "id": "2CVRcVAsBz5T",
        "colab_type": "code",
        "colab": {}
      },
      "source": [
        "# Initial values for the datafile\n",
        "split_num = 1\n",
        "file_name = 'metadata_split_' + str(split_num)"
      ],
      "execution_count": 0,
      "outputs": []
    },
    {
      "cell_type": "markdown",
      "metadata": {
        "id": "xEhCj-HuBz5d",
        "colab_type": "text"
      },
      "source": [
        "## Important: Set variable 'local' to True if running on local machine, False if in cloud"
      ]
    },
    {
      "cell_type": "code",
      "metadata": {
        "id": "IDlwJ1yEBz5g",
        "colab_type": "code",
        "colab": {}
      },
      "source": [
        "local = False      # this needs to be automated (how?)"
      ],
      "execution_count": 0,
      "outputs": []
    },
    {
      "cell_type": "markdown",
      "metadata": {
        "id": "vTiIDjDCBz5o",
        "colab_type": "text"
      },
      "source": [
        "### Connect to gs://platform-ai-research/datasets/ProductNet\n",
        "This is the data bucket - read/write all data files to this location"
      ]
    },
    {
      "cell_type": "code",
      "metadata": {
        "id": "9z4VAnTbBz5r",
        "colab_type": "code",
        "colab": {
          "base_uri": "https://localhost:8080/",
          "height": 34
        },
        "outputId": "844c0bc7-1fe9-4bfe-e7b7-3bb43a4ee193"
      },
      "source": [
        "# Will need to login to access the bucket. The following lines of code do just that\n",
        "if (not local):\n",
        "    from google.colab import auth\n",
        "    auth.authenticate_user()\n",
        "    \n",
        "    # List out all the files in the directory (Make sure that we are logged in)\n",
        "    gs_path = 'platform-ai-research/datasets/ProductNet/'\n",
        "    !gsutil ls gs://{gs_path}\n"
      ],
      "execution_count": 4,
      "outputs": [
        {
          "output_type": "stream",
          "text": [
            "CommandException: \"ls\" command does not support \"file://\" URLs. Did you mean to use a gs:// URL?\n"
          ],
          "name": "stdout"
        }
      ]
    },
    {
      "cell_type": "code",
      "metadata": {
        "id": "_On9Usp6CYRM",
        "colab_type": "code",
        "colab": {}
      },
      "source": [
        "gs_path = 'platform-ai-research/datasets/ProductNet/'"
      ],
      "execution_count": 0,
      "outputs": []
    },
    {
      "cell_type": "code",
      "metadata": {
        "id": "nhUUKvnPCpNM",
        "colab_type": "code",
        "colab": {
          "base_uri": "https://localhost:8080/",
          "height": 357
        },
        "outputId": "982e80f3-94f6-430b-a893-0bac0b1feaf3"
      },
      "source": [
        "!gsutil ls gs://{gs_path}"
      ],
      "execution_count": 7,
      "outputs": [
        {
          "output_type": "stream",
          "text": [
            "gs://platform-ai-research/datasets/ProductNet/metadata_0to500k.json\n",
            "gs://platform-ai-research/datasets/ProductNet/metadata_split_1\n",
            "gs://platform-ai-research/datasets/ProductNet/metadata_split_10\n",
            "gs://platform-ai-research/datasets/ProductNet/metadata_split_11\n",
            "gs://platform-ai-research/datasets/ProductNet/metadata_split_12\n",
            "gs://platform-ai-research/datasets/ProductNet/metadata_split_13\n",
            "gs://platform-ai-research/datasets/ProductNet/metadata_split_14\n",
            "gs://platform-ai-research/datasets/ProductNet/metadata_split_15\n",
            "gs://platform-ai-research/datasets/ProductNet/metadata_split_16\n",
            "gs://platform-ai-research/datasets/ProductNet/metadata_split_17\n",
            "gs://platform-ai-research/datasets/ProductNet/metadata_split_18\n",
            "gs://platform-ai-research/datasets/ProductNet/metadata_split_19\n",
            "gs://platform-ai-research/datasets/ProductNet/metadata_split_2\n",
            "gs://platform-ai-research/datasets/ProductNet/metadata_split_3\n",
            "gs://platform-ai-research/datasets/ProductNet/metadata_split_4\n",
            "gs://platform-ai-research/datasets/ProductNet/metadata_split_5\n",
            "gs://platform-ai-research/datasets/ProductNet/metadata_split_6\n",
            "gs://platform-ai-research/datasets/ProductNet/metadata_split_7\n",
            "gs://platform-ai-research/datasets/ProductNet/metadata_split_8\n",
            "gs://platform-ai-research/datasets/ProductNet/metadata_split_9\n"
          ],
          "name": "stdout"
        }
      ]
    },
    {
      "cell_type": "markdown",
      "metadata": {
        "id": "JrbeWB1GBz5z",
        "colab_type": "text"
      },
      "source": [
        "### Define a few functions\n",
        "These are used to clean up the data file"
      ]
    },
    {
      "cell_type": "code",
      "metadata": {
        "id": "597r0ePuBz51",
        "colab_type": "code",
        "colab": {}
      },
      "source": [
        "# The categories column is a nested list. We need to flatten it\n",
        "def custom_flat(entry):\n",
        "    if isinstance(entry[0], list):\n",
        "        clist = []\n",
        "        for i in range(len(entry)):\n",
        "            clist += entry[i]\n",
        "        return clist\n",
        "    else:\n",
        "        return list(entry)\n",
        "\n",
        "def create_labels(labels):\n",
        "    s = ', '\n",
        "    s = s.join(labels)\n",
        "    return s\n",
        "\n",
        "def remove_category(df, category):\n",
        "    print('Current number of Products in dataset =', len(df))\n",
        "    print('Current number of Unique categories =', len(df.categories.unique()))    \n",
        "    print('***************Removing Category:', category)\n",
        "    df = df[~df.categories.str.contains(category)]\n",
        "    print('Remaining number of Products in dataset =', len(df))\n",
        "    print('Remaining number of Unique categories =', len(df.categories.unique()))\n",
        "    return df"
      ],
      "execution_count": 0,
      "outputs": []
    },
    {
      "cell_type": "markdown",
      "metadata": {
        "id": "QV6k8JSHBz57",
        "colab_type": "text"
      },
      "source": [
        "### Read in the data"
      ]
    },
    {
      "cell_type": "code",
      "metadata": {
        "id": "7C0z83cKBz5-",
        "colab_type": "code",
        "colab": {
          "base_uri": "https://localhost:8080/",
          "height": 340
        },
        "outputId": "3953fc75-dcaa-4a21-da51-fa95f1b3ed3f"
      },
      "source": [
        "# Read in the data from multiple files, and build the df\n",
        "main_df = pd.DataFrame()                       # df built by concatenating data from multiple files\n",
        "df = pd.DataFrame()\n",
        "\n",
        "for split_num in range(1,4,1):\n",
        "    data = []\n",
        "    file_name = 'metadata_split_' + str(split_num)\n",
        "    print('Reading file................', file_name)\n",
        "    \n",
        "    # copy datafile from gs bucket if executing in cloud and file not copied already\n",
        "    exists = os.path.isfile(file_name)\n",
        "    if (not exists):\n",
        "        if (not local):\n",
        "            # Copy the datafile to the Colab local dir\n",
        "            remote_file = gs_path + file_name\n",
        "            !gsutil cp gs://{remote_file} {file_name}\n",
        "        else: \n",
        "            print('File Does Not Exist')\n",
        "            break\n",
        "        \n",
        "    for line in open(file_name, 'r'):          # file_name is defined above\n",
        "        #data.append(json.loads(line))         # this works for JSON, but our datafiles are not strictly json\n",
        "        data.append(ast.literal_eval(line))    # JSON but single quotes instead of double\n",
        "    \n",
        "    # Convert to dataframe\n",
        "    df = pd.DataFrame.from_dict(data)\n",
        "\n",
        "    # Remove columns that we do not need\n",
        "    df.drop(['brand', 'price', 'related', 'salesRank'], axis=1, inplace=True)\n",
        "\n",
        "    # Fill in the NaN with empty string\n",
        "    df.fillna(value='', axis='columns', inplace=True)\n",
        "\n",
        "    # Flatten the categories list of list so it becomes easier to search\n",
        "    df.categories = df.categories.apply(np.ravel)\n",
        "    df.categories = df.categories.apply(custom_flat)\n",
        "    df.categories = df.categories.apply(create_labels)\n",
        "\n",
        "    # Remove all Books from the dataset\n",
        "    df = df[~df.categories.str.contains('Books')]\n",
        "\n",
        "    # Print out a few interesting details\n",
        "    print('Number of Products in dataset =', len(df))\n",
        "    print('Number of Unique categories =', len(df.categories.unique()))\n",
        "    #print('Unique categories are: \\n', df.categories.unique())\n",
        "    \n",
        "    main_df = main_df.append(df, ignore_index = True)\n",
        "    df = pd.DataFrame()\n",
        "\n",
        "print('\\nCombined df:')\n",
        "print('Number of Products in dataset =', len(main_df))\n",
        "print('Number of Unique categories =', len(main_df.categories.unique()))"
      ],
      "execution_count": 18,
      "outputs": [
        {
          "output_type": "stream",
          "text": [
            "Reading file................ metadata_split_1\n",
            "Number of Products in dataset = 1352\n",
            "Number of Unique categories = 212\n",
            "Reading file................ metadata_split_2\n",
            "Copying gs://platform-ai-research/datasets/ProductNet/metadata_split_2...\n",
            "\\ [1 files][478.3 MiB/478.3 MiB]                                                \n",
            "Operation completed over 1 objects/478.3 MiB.                                    \n",
            "Number of Products in dataset = 6524\n",
            "Number of Unique categories = 338\n",
            "Reading file................ metadata_split_3\n",
            "Copying gs://platform-ai-research/datasets/ProductNet/metadata_split_3...\n",
            "- [1 files][489.5 MiB/489.5 MiB]                                                \n",
            "Operation completed over 1 objects/489.5 MiB.                                    \n",
            "Number of Products in dataset = 5933\n",
            "Number of Unique categories = 524\n",
            "\n",
            "Combined df:\n",
            "Number of Products in dataset = 13809\n",
            "Number of Unique categories = 814\n"
          ],
          "name": "stdout"
        }
      ]
    },
    {
      "cell_type": "code",
      "metadata": {
        "id": "shdIcpUCBz6I",
        "colab_type": "code",
        "colab": {
          "base_uri": "https://localhost:8080/",
          "height": 187
        },
        "outputId": "af3a8397-f632-4ab9-d0f8-0fc6e427183e"
      },
      "source": [
        "main_df.info()"
      ],
      "execution_count": 12,
      "outputs": [
        {
          "output_type": "stream",
          "text": [
            "<class 'pandas.core.frame.DataFrame'>\n",
            "RangeIndex: 1352 entries, 0 to 1351\n",
            "Data columns (total 5 columns):\n",
            "asin           1352 non-null object\n",
            "categories     1352 non-null object\n",
            "description    1352 non-null object\n",
            "imUrl          1352 non-null object\n",
            "title          1352 non-null object\n",
            "dtypes: object(5)\n",
            "memory usage: 52.9+ KB\n"
          ],
          "name": "stdout"
        }
      ]
    },
    {
      "cell_type": "code",
      "metadata": {
        "id": "YFh_4dk5Bz6O",
        "colab_type": "code",
        "colab": {
          "base_uri": "https://localhost:8080/",
          "height": 34
        },
        "outputId": "c8b72e32-722f-42ae-80cd-c467ff72aacf"
      },
      "source": [
        "len(main_df.categories.unique())"
      ],
      "execution_count": 19,
      "outputs": [
        {
          "output_type": "execute_result",
          "data": {
            "text/plain": [
              "814"
            ]
          },
          "metadata": {
            "tags": []
          },
          "execution_count": 19
        }
      ]
    },
    {
      "cell_type": "code",
      "metadata": {
        "id": "372YM8xQBz6S",
        "colab_type": "code",
        "colab": {
          "base_uri": "https://localhost:8080/",
          "height": 102
        },
        "outputId": "7f8eabc7-6508-4a45-855a-c2d30a175871"
      },
      "source": [
        "df = remove_category(main_df, 'Software')"
      ],
      "execution_count": 20,
      "outputs": [
        {
          "output_type": "stream",
          "text": [
            "Current number of Products in dataset = 13809\n",
            "Current number of Unique categories = 814\n",
            "***************Removing Category: Software\n",
            "Remaining number of Products in dataset = 13573\n",
            "Remaining number of Unique categories = 753\n"
          ],
          "name": "stdout"
        }
      ]
    },
    {
      "cell_type": "code",
      "metadata": {
        "id": "KOe5wWDHBz6W",
        "colab_type": "code",
        "colab": {
          "base_uri": "https://localhost:8080/",
          "height": 102
        },
        "outputId": "71f736a4-fdfb-4bf7-9618-b26a9d0b3fa3"
      },
      "source": [
        "df = remove_category(df, 'CDs & Vinyl')"
      ],
      "execution_count": 21,
      "outputs": [
        {
          "output_type": "stream",
          "text": [
            "Current number of Products in dataset = 13573\n",
            "Current number of Unique categories = 753\n",
            "***************Removing Category: CDs & Vinyl\n",
            "Remaining number of Products in dataset = 12907\n",
            "Remaining number of Unique categories = 524\n"
          ],
          "name": "stdout"
        }
      ]
    },
    {
      "cell_type": "code",
      "metadata": {
        "id": "8r-A_z7vBz6b",
        "colab_type": "code",
        "colab": {
          "base_uri": "https://localhost:8080/",
          "height": 102
        },
        "outputId": "7946c5c7-6c3a-4653-a973-7a3b5d4da8cf"
      },
      "source": [
        "df = remove_category(df, 'Video Games')"
      ],
      "execution_count": 22,
      "outputs": [
        {
          "output_type": "stream",
          "text": [
            "Current number of Products in dataset = 12907\n",
            "Current number of Unique categories = 524\n",
            "***************Removing Category: Video Games\n",
            "Remaining number of Products in dataset = 12871\n",
            "Remaining number of Unique categories = 519\n"
          ],
          "name": "stdout"
        }
      ]
    },
    {
      "cell_type": "code",
      "metadata": {
        "id": "dNgosm84Bz6e",
        "colab_type": "code",
        "colab": {
          "base_uri": "https://localhost:8080/",
          "height": 102
        },
        "outputId": "ba8e3335-57b6-4705-ec82-081dba464aaa"
      },
      "source": [
        "df = remove_category(df, 'Movies')"
      ],
      "execution_count": 23,
      "outputs": [
        {
          "output_type": "stream",
          "text": [
            "Current number of Products in dataset = 12871\n",
            "Current number of Unique categories = 519\n",
            "***************Removing Category: Movies\n",
            "Remaining number of Products in dataset = 4900\n",
            "Remaining number of Unique categories = 487\n"
          ],
          "name": "stdout"
        }
      ]
    },
    {
      "cell_type": "code",
      "metadata": {
        "id": "AVSBqiMgBz6h",
        "colab_type": "code",
        "colab": {}
      },
      "source": [
        ""
      ],
      "execution_count": 0,
      "outputs": []
    },
    {
      "cell_type": "code",
      "metadata": {
        "id": "EJqonJ1oBz6j",
        "colab_type": "code",
        "colab": {}
      },
      "source": [
        ""
      ],
      "execution_count": 0,
      "outputs": []
    },
    {
      "cell_type": "code",
      "metadata": {
        "id": "Ko2iAkFqBz6l",
        "colab_type": "code",
        "colab": {}
      },
      "source": [
        ""
      ],
      "execution_count": 0,
      "outputs": []
    }
  ]
}