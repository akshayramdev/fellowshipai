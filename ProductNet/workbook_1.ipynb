{
  "nbformat": 4,
  "nbformat_minor": 0,
  "metadata": {
    "colab": {
      "name": "workbook_1.ipynb",
      "version": "0.3.2",
      "provenance": [],
      "collapsed_sections": []
    },
    "language_info": {
      "codemirror_mode": {
        "name": "ipython",
        "version": 3
      },
      "file_extension": ".py",
      "mimetype": "text/x-python",
      "name": "python",
      "nbconvert_exporter": "python",
      "pygments_lexer": "ipython3",
      "version": "3.6.4"
    },
    "kernelspec": {
      "display_name": "Python 3",
      "language": "python",
      "name": "python3"
    }
  },
  "cells": [
    {
      "cell_type": "code",
      "metadata": {
        "id": "du_YBx6_Bz5A",
        "colab_type": "code",
        "colab": {}
      },
      "source": [
        "#!pip install fastai\n",
        "\n",
        "import numpy as np\n",
        "import pandas as pd\n",
        "import requests\n",
        "#import json\n",
        "import ast\n",
        "import os\n",
        "import gc\n",
        "import matplotlib.pyplot as plt\n",
        "\n",
        "#from fastai.vision import *"
      ],
      "execution_count": 0,
      "outputs": []
    },
    {
      "cell_type": "markdown",
      "metadata": {
        "id": "_p_uW2z6Bz5Q",
        "colab_type": "text"
      },
      "source": [
        "## Data file (citation)\n",
        "Data from Dr. McAuley at UCSD (citation)\n",
        "R. He, J. McAuley. Modeling the visual evolution of fashion trends with one-class collaborative filtering. WWW, 2016\n",
        "J. McAuley, C. Targett, J. Shi, A. van den Hengel. Image-based recommendations on styles and substitutes. SIGIR, 2015\n"
      ]
    },
    {
      "cell_type": "code",
      "metadata": {
        "id": "2CVRcVAsBz5T",
        "colab_type": "code",
        "colab": {}
      },
      "source": [
        "# Initial values for the datafile\n",
        "split_num = 1\n",
        "file_name = 'metadata_split_' + str(split_num)"
      ],
      "execution_count": 0,
      "outputs": []
    },
    {
      "cell_type": "markdown",
      "metadata": {
        "id": "xEhCj-HuBz5d",
        "colab_type": "text"
      },
      "source": [
        "## Important: Set variable 'local' to True if running on local machine, False if in cloud"
      ]
    },
    {
      "cell_type": "code",
      "metadata": {
        "id": "IDlwJ1yEBz5g",
        "colab_type": "code",
        "colab": {}
      },
      "source": [
        "local = False      # this needs to be automated (how?)"
      ],
      "execution_count": 0,
      "outputs": []
    },
    {
      "cell_type": "markdown",
      "metadata": {
        "id": "vTiIDjDCBz5o",
        "colab_type": "text"
      },
      "source": [
        "### Connect to gs://platform-ai-research/datasets/ProductNet\n",
        "This is the data bucket - read/write all data files to this location"
      ]
    },
    {
      "cell_type": "code",
      "metadata": {
        "id": "9z4VAnTbBz5r",
        "colab_type": "code",
        "outputId": "c4295b8a-827a-42cd-e8a4-1bf9e87ad400",
        "colab": {
          "base_uri": "https://localhost:8080/",
          "height": 466
        }
      },
      "source": [
        "# Will need to login to access the bucket. The following lines of code do just that\n",
        "if (not local):\n",
        "    from google.colab import auth\n",
        "    auth.authenticate_user()\n",
        "    \n",
        "    # List out all the files in the directory (Make sure that we are logged in)\n",
        "    gs_path = 'platform-ai-research/datasets/ProductNet/'\n",
        "    !gsutil ls gs://{gs_path}\n"
      ],
      "execution_count": 4,
      "outputs": [
        {
          "output_type": "stream",
          "text": [
            "gs://platform-ai-research/datasets/ProductNet/df_from_splits_1thru6\n",
            "gs://platform-ai-research/datasets/ProductNet/metadata.feather\n",
            "gs://platform-ai-research/datasets/ProductNet/metadata_0to500k.json\n",
            "gs://platform-ai-research/datasets/ProductNet/metadata_split_1\n",
            "gs://platform-ai-research/datasets/ProductNet/metadata_split_10\n",
            "gs://platform-ai-research/datasets/ProductNet/metadata_split_10_to_13\n",
            "gs://platform-ai-research/datasets/ProductNet/metadata_split_11\n",
            "gs://platform-ai-research/datasets/ProductNet/metadata_split_12\n",
            "gs://platform-ai-research/datasets/ProductNet/metadata_split_13\n",
            "gs://platform-ai-research/datasets/ProductNet/metadata_split_14\n",
            "gs://platform-ai-research/datasets/ProductNet/metadata_split_14_to_19\n",
            "gs://platform-ai-research/datasets/ProductNet/metadata_split_15\n",
            "gs://platform-ai-research/datasets/ProductNet/metadata_split_16\n",
            "gs://platform-ai-research/datasets/ProductNet/metadata_split_17\n",
            "gs://platform-ai-research/datasets/ProductNet/metadata_split_18\n",
            "gs://platform-ai-research/datasets/ProductNet/metadata_split_19\n",
            "gs://platform-ai-research/datasets/ProductNet/metadata_split_1_to_5\n",
            "gs://platform-ai-research/datasets/ProductNet/metadata_split_2\n",
            "gs://platform-ai-research/datasets/ProductNet/metadata_split_3\n",
            "gs://platform-ai-research/datasets/ProductNet/metadata_split_4\n",
            "gs://platform-ai-research/datasets/ProductNet/metadata_split_5\n",
            "gs://platform-ai-research/datasets/ProductNet/metadata_split_6\n",
            "gs://platform-ai-research/datasets/ProductNet/metadata_split_6_to_9\n",
            "gs://platform-ai-research/datasets/ProductNet/metadata_split_7\n",
            "gs://platform-ai-research/datasets/ProductNet/metadata_split_8\n",
            "gs://platform-ai-research/datasets/ProductNet/metadata_split_9\n"
          ],
          "name": "stdout"
        }
      ]
    },
    {
      "cell_type": "code",
      "metadata": {
        "id": "_On9Usp6CYRM",
        "colab_type": "code",
        "colab": {}
      },
      "source": [
        "gs_path = 'platform-ai-research/datasets/ProductNet/'"
      ],
      "execution_count": 0,
      "outputs": []
    },
    {
      "cell_type": "code",
      "metadata": {
        "id": "nhUUKvnPCpNM",
        "colab_type": "code",
        "outputId": "f4cded1d-92a4-4a75-9933-e956277d1850",
        "colab": {
          "base_uri": "https://localhost:8080/",
          "height": 466
        }
      },
      "source": [
        "!gsutil ls gs://{gs_path}"
      ],
      "execution_count": 6,
      "outputs": [
        {
          "output_type": "stream",
          "text": [
            "gs://platform-ai-research/datasets/ProductNet/df_from_splits_1thru6\n",
            "gs://platform-ai-research/datasets/ProductNet/metadata.feather\n",
            "gs://platform-ai-research/datasets/ProductNet/metadata_0to500k.json\n",
            "gs://platform-ai-research/datasets/ProductNet/metadata_split_1\n",
            "gs://platform-ai-research/datasets/ProductNet/metadata_split_10\n",
            "gs://platform-ai-research/datasets/ProductNet/metadata_split_10_to_13\n",
            "gs://platform-ai-research/datasets/ProductNet/metadata_split_11\n",
            "gs://platform-ai-research/datasets/ProductNet/metadata_split_12\n",
            "gs://platform-ai-research/datasets/ProductNet/metadata_split_13\n",
            "gs://platform-ai-research/datasets/ProductNet/metadata_split_14\n",
            "gs://platform-ai-research/datasets/ProductNet/metadata_split_14_to_19\n",
            "gs://platform-ai-research/datasets/ProductNet/metadata_split_15\n",
            "gs://platform-ai-research/datasets/ProductNet/metadata_split_16\n",
            "gs://platform-ai-research/datasets/ProductNet/metadata_split_17\n",
            "gs://platform-ai-research/datasets/ProductNet/metadata_split_18\n",
            "gs://platform-ai-research/datasets/ProductNet/metadata_split_19\n",
            "gs://platform-ai-research/datasets/ProductNet/metadata_split_1_to_5\n",
            "gs://platform-ai-research/datasets/ProductNet/metadata_split_2\n",
            "gs://platform-ai-research/datasets/ProductNet/metadata_split_3\n",
            "gs://platform-ai-research/datasets/ProductNet/metadata_split_4\n",
            "gs://platform-ai-research/datasets/ProductNet/metadata_split_5\n",
            "gs://platform-ai-research/datasets/ProductNet/metadata_split_6\n",
            "gs://platform-ai-research/datasets/ProductNet/metadata_split_6_to_9\n",
            "gs://platform-ai-research/datasets/ProductNet/metadata_split_7\n",
            "gs://platform-ai-research/datasets/ProductNet/metadata_split_8\n",
            "gs://platform-ai-research/datasets/ProductNet/metadata_split_9\n"
          ],
          "name": "stdout"
        }
      ]
    },
    {
      "cell_type": "markdown",
      "metadata": {
        "id": "JrbeWB1GBz5z",
        "colab_type": "text"
      },
      "source": [
        "### Define a few functions\n",
        "These are used to clean up the data file"
      ]
    },
    {
      "cell_type": "code",
      "metadata": {
        "id": "597r0ePuBz51",
        "colab_type": "code",
        "colab": {}
      },
      "source": [
        "# The categories column is a nested list. We need to flatten it\n",
        "def custom_flat(entry):\n",
        "    if isinstance(entry[0], list):\n",
        "        clist = []\n",
        "        for i in range(len(entry)):\n",
        "            clist += entry[i]\n",
        "        return clist\n",
        "    else:\n",
        "        return list(entry)\n",
        "\n",
        "def create_labels(labels):\n",
        "    s = ', '\n",
        "    s = s.join(labels)\n",
        "    return s\n",
        "\n",
        "def remove_category(df, category):\n",
        "    print('Current number of Products in dataset =', len(df))\n",
        "    print('Current number of Unique categories =', len(df.categories.unique()))    \n",
        "    print('***************Removing Category:', category)\n",
        "    df = df[~df.categories.str.contains(category)]\n",
        "    print('Remaining number of Products in dataset =', len(df))\n",
        "    print('Remaining number of Unique categories =', len(df.categories.unique()))\n",
        "    return df"
      ],
      "execution_count": 0,
      "outputs": []
    },
    {
      "cell_type": "markdown",
      "metadata": {
        "id": "QV6k8JSHBz57",
        "colab_type": "text"
      },
      "source": [
        "### Read in the data"
      ]
    },
    {
      "cell_type": "code",
      "metadata": {
        "id": "7C0z83cKBz5-",
        "colab_type": "code",
        "outputId": "21d73ba8-0cd9-4ae8-8bf2-78e55a9f1d99",
        "colab": {
          "base_uri": "https://localhost:8080/",
          "height": 391
        }
      },
      "source": [
        "# Read in the data from multiple files, and build the df\n",
        "main_df = pd.DataFrame()                       # df built by concatenating data from multiple files\n",
        "df = pd.DataFrame()\n",
        "\n",
        "for split_num in range(1,7,1):\n",
        "    data = []\n",
        "    file_name = 'metadata_split_' + str(split_num)\n",
        "    print('Reading file................', file_name)\n",
        "    \n",
        "    # copy datafile from gs bucket if executing in cloud and file not copied already\n",
        "    exists = os.path.isfile(file_name)\n",
        "    if (not exists):\n",
        "        if (not local):\n",
        "            # Copy the datafile to the Colab local dir\n",
        "            remote_file = gs_path + file_name\n",
        "            !gsutil cp gs://{remote_file} {file_name}\n",
        "        else: \n",
        "            print('File Does Not Exist')\n",
        "            break\n",
        "        \n",
        "    for line in open(file_name, 'r'):          # file_name is defined above\n",
        "        #data.append(json.loads(line))         # this works for JSON, but our datafiles are not strictly json\n",
        "        data.append(ast.literal_eval(line))    # JSON but single quotes instead of double\n",
        "    \n",
        "    # Convert to dataframe\n",
        "    df = pd.DataFrame.from_dict(data)\n",
        "\n",
        "    # Remove columns that we do not need\n",
        "    df.drop(['brand', 'price', 'related', 'salesRank'], axis=1, inplace=True)\n",
        "\n",
        "    # Fill in the NaN with empty string\n",
        "    df.fillna(value='', axis='columns', inplace=True)\n",
        "\n",
        "    # Flatten the categories list of list so it becomes easier to search\n",
        "    df.categories = df.categories.apply(np.ravel)\n",
        "    df.categories = df.categories.apply(custom_flat)\n",
        "    df.categories = df.categories.apply(create_labels)\n",
        "\n",
        "    # Remove some products from the dataset\n",
        "    df = df[~df.categories.str.contains('Books')]\n",
        "    df = df[~df.categories.str.contains('CDs & Vinyl')]\n",
        "    df = df[~df.categories.str.contains('Software')]\n",
        "    df = df[~df.categories.str.contains('Amazon')]\n",
        "    df = df[~df.categories.str.contains('Movies')]\n",
        "    df = df[~df.categories.str.contains('Video Games')]\n",
        "\n",
        "    # Print out a few interesting details\n",
        "    print('Number of Products in dataset =', len(df))\n",
        "    print('Number of Unique categories =', len(df.categories.unique()))\n",
        "    #print('Unique categories are: \\n', df.categories.unique())\n",
        "    \n",
        "    main_df = main_df.append(df, ignore_index = True)\n",
        "    df = pd.DataFrame()\n",
        "\n",
        "print('\\nCombined df:')\n",
        "print('Number of Products in dataset =', len(main_df))\n",
        "print('Number of Unique categories =', len(main_df.categories.unique()))"
      ],
      "execution_count": 0,
      "outputs": [
        {
          "output_type": "stream",
          "text": [
            "Reading file................ metadata_split_1\n",
            "Number of Products in dataset = 810\n",
            "Number of Unique categories = 153\n",
            "Reading file................ metadata_split_2\n",
            "Number of Products in dataset = 1484\n",
            "Number of Unique categories = 186\n",
            "Reading file................ metadata_split_3\n",
            "Number of Products in dataset = 2606\n",
            "Number of Unique categories = 326\n",
            "Reading file................ metadata_split_4\n",
            "Number of Products in dataset = 21543\n",
            "Number of Unique categories = 2295\n",
            "Reading file................ metadata_split_5\n",
            "Number of Products in dataset = 265682\n",
            "Number of Unique categories = 14267\n",
            "Reading file................ metadata_split_6\n",
            "Number of Products in dataset = 375271\n",
            "Number of Unique categories = 19895\n",
            "\n",
            "Combined df:\n",
            "Number of Products in dataset = 667396\n",
            "Number of Unique categories = 23624\n"
          ],
          "name": "stdout"
        }
      ]
    },
    {
      "cell_type": "code",
      "metadata": {
        "id": "372YM8xQBz6S",
        "colab_type": "code",
        "outputId": "6878a9f1-7aaa-4d72-d070-1264f7692070",
        "colab": {
          "base_uri": "https://localhost:8080/",
          "height": 102
        }
      },
      "source": [
        "# Use the following to remove further categories from the dataset\n",
        "main_df = remove_category(main_df, 'Kindle')"
      ],
      "execution_count": 0,
      "outputs": [
        {
          "output_type": "stream",
          "text": [
            "Current number of Products in dataset = 667396\n",
            "Current number of Unique categories = 23624\n",
            "***************Removing Category: Kindle\n",
            "Remaining number of Products in dataset = 667271\n",
            "Remaining number of Unique categories = 23562\n"
          ],
          "name": "stdout"
        }
      ]
    },
    {
      "cell_type": "code",
      "metadata": {
        "id": "AVSBqiMgBz6h",
        "colab_type": "code",
        "colab": {}
      },
      "source": [
        "# Create a Label category\n",
        "main_df['label'] = main_df.categories.str.split(',',1).str[0]\n",
        "\n",
        "# Fixing some issues\n",
        "main_df.label.replace(to_replace='Furniture & D&#233;cor', value='Furniture & Decor', inplace=True)"
      ],
      "execution_count": 0,
      "outputs": []
    },
    {
      "cell_type": "code",
      "metadata": {
        "id": "cncpTzwSk4kt",
        "colab_type": "code",
        "colab": {}
      },
      "source": [
        ""
      ],
      "execution_count": 0,
      "outputs": []
    },
    {
      "cell_type": "code",
      "metadata": {
        "id": "EJqonJ1oBz6j",
        "colab_type": "code",
        "outputId": "ef62476b-925f-446c-c56a-e699e7d54705",
        "colab": {
          "base_uri": "https://localhost:8080/",
          "height": 238
        }
      },
      "source": [
        "main_df.label.unique()"
      ],
      "execution_count": 0,
      "outputs": [
        {
          "output_type": "execute_result",
          "data": {
            "text/plain": [
              "array(['Clothing', 'Sports & Outdoors', 'Toys & Games', '',\n",
              "       'Musical Instruments', 'Tools & Home Improvement',\n",
              "       'Home & Kitchen', 'Health & Personal Care',\n",
              "       'Cell Phones & Accessories', 'Office Products', 'Electronics',\n",
              "       'Office & School Supplies', 'Baby', 'Beauty', 'Automotive', 'Arts',\n",
              "       'Computers', 'All Electronics', 'Pet Supplies',\n",
              "       'Grocery & Gourmet Food', 'Kitchen & Dining',\n",
              "       'Industrial & Scientific', 'Appliances', 'All Beauty',\n",
              "       'Camera & Photo', 'Patio', 'Home Improvement', 'Baby Products',\n",
              "       'Digital Music', 'MP3 Players & Accessories', 'Car Electronics',\n",
              "       'Collectibles & Fine Art', 'Purchase Circles', 'GPS & Navigation',\n",
              "       'Luxury Beauty', 'Magazine Subscriptions', 'Furniture & Decor',\n",
              "       'Gift Cards Store', 'Sports Collectibles'], dtype=object)"
            ]
          },
          "metadata": {
            "tags": []
          },
          "execution_count": 68
        }
      ]
    },
    {
      "cell_type": "code",
      "metadata": {
        "id": "Ko2iAkFqBz6l",
        "colab_type": "code",
        "outputId": "7bb24ff1-d126-4596-8182-04b2697b4cd6",
        "colab": {
          "base_uri": "https://localhost:8080/",
          "height": 272
        }
      },
      "source": [
        "# Write df as a csv file\n",
        "file_name = 'df_from_splits_1thru6'\n",
        "main_df.to_csv(file_name)\n",
        "\n",
        "# Copy file to bucket if not running locally\n",
        "remote_file = gs_path + file_name\n",
        "if (not local):\n",
        "    !gsutil cp {file_name} gs://{remote_file}"
      ],
      "execution_count": 0,
      "outputs": [
        {
          "output_type": "stream",
          "text": [
            "Copying file://df_from_splits_1thru6 [Content-Type=application/octet-stream]...\n",
            "/ [0 files][    0.0 B/402.4 MiB]                                                \r==> NOTE: You are uploading one or more large file(s), which would run\n",
            "significantly faster if you enable parallel composite uploads. This\n",
            "feature can be enabled by editing the\n",
            "\"parallel_composite_upload_threshold\" value in your .boto\n",
            "configuration file. However, note that if you do this large files will\n",
            "be uploaded as `composite objects\n",
            "<https://cloud.google.com/storage/docs/composite-objects>`_,which\n",
            "means that any user who downloads such objects will need to have a\n",
            "compiled crcmod installed (see \"gsutil help crcmod\"). This is because\n",
            "without a compiled crcmod, computing checksums on composite objects is\n",
            "so slow that gsutil disables downloads of composite objects.\n",
            "\n",
            "|\n",
            "Operation completed over 1 objects/402.4 MiB.                                    \n"
          ],
          "name": "stdout"
        }
      ]
    },
    {
      "cell_type": "code",
      "metadata": {
        "id": "pldBvX93aKK6",
        "colab_type": "code",
        "outputId": "505ac848-6738-477c-821a-89213d841569",
        "colab": {
          "base_uri": "https://localhost:8080/",
          "height": 442
        }
      },
      "source": [
        "!gsutil ls gs://{gs_path}"
      ],
      "execution_count": 0,
      "outputs": [
        {
          "output_type": "stream",
          "text": [
            "gs://platform-ai-research/datasets/ProductNet/df_from_splits_1thru6\n",
            "gs://platform-ai-research/datasets/ProductNet/metadata_0to500k.json\n",
            "gs://platform-ai-research/datasets/ProductNet/metadata_split_1\n",
            "gs://platform-ai-research/datasets/ProductNet/metadata_split_10\n",
            "gs://platform-ai-research/datasets/ProductNet/metadata_split_10_to_13\n",
            "gs://platform-ai-research/datasets/ProductNet/metadata_split_11\n",
            "gs://platform-ai-research/datasets/ProductNet/metadata_split_12\n",
            "gs://platform-ai-research/datasets/ProductNet/metadata_split_13\n",
            "gs://platform-ai-research/datasets/ProductNet/metadata_split_14\n",
            "gs://platform-ai-research/datasets/ProductNet/metadata_split_14_to_19\n",
            "gs://platform-ai-research/datasets/ProductNet/metadata_split_15\n",
            "gs://platform-ai-research/datasets/ProductNet/metadata_split_16\n",
            "gs://platform-ai-research/datasets/ProductNet/metadata_split_17\n",
            "gs://platform-ai-research/datasets/ProductNet/metadata_split_18\n",
            "gs://platform-ai-research/datasets/ProductNet/metadata_split_19\n",
            "gs://platform-ai-research/datasets/ProductNet/metadata_split_1_to_5\n",
            "gs://platform-ai-research/datasets/ProductNet/metadata_split_2\n",
            "gs://platform-ai-research/datasets/ProductNet/metadata_split_3\n",
            "gs://platform-ai-research/datasets/ProductNet/metadata_split_4\n",
            "gs://platform-ai-research/datasets/ProductNet/metadata_split_5\n",
            "gs://platform-ai-research/datasets/ProductNet/metadata_split_6\n",
            "gs://platform-ai-research/datasets/ProductNet/metadata_split_6_to_9\n",
            "gs://platform-ai-research/datasets/ProductNet/metadata_split_7\n",
            "gs://platform-ai-research/datasets/ProductNet/metadata_split_8\n",
            "gs://platform-ai-research/datasets/ProductNet/metadata_split_9\n"
          ],
          "name": "stdout"
        }
      ]
    },
    {
      "cell_type": "code",
      "metadata": {
        "id": "BG4zD0DGiUrx",
        "colab_type": "code",
        "outputId": "446aa701-5dc4-4c20-ba6b-73383b7b5c4b",
        "colab": {
          "base_uri": "https://localhost:8080/",
          "height": 204
        }
      },
      "source": [
        "main_df.info()"
      ],
      "execution_count": 0,
      "outputs": [
        {
          "output_type": "stream",
          "text": [
            "<class 'pandas.core.frame.DataFrame'>\n",
            "Int64Index: 667271 entries, 0 to 667395\n",
            "Data columns (total 6 columns):\n",
            "asin           667271 non-null object\n",
            "categories     667271 non-null object\n",
            "description    667271 non-null object\n",
            "imUrl          667271 non-null object\n",
            "title          667271 non-null object\n",
            "label          667271 non-null object\n",
            "dtypes: object(6)\n",
            "memory usage: 35.6+ MB\n"
          ],
          "name": "stdout"
        }
      ]
    },
    {
      "cell_type": "code",
      "metadata": {
        "id": "srZsU84mssz4",
        "colab_type": "code",
        "outputId": "2f3ea392-8cb7-4ae8-b619-798c2061212e",
        "colab": {
          "base_uri": "https://localhost:8080/",
          "height": 34
        }
      },
      "source": [
        "len(main_df.label.unique())"
      ],
      "execution_count": 0,
      "outputs": [
        {
          "output_type": "execute_result",
          "data": {
            "text/plain": [
              "39"
            ]
          },
          "metadata": {
            "tags": []
          },
          "execution_count": 73
        }
      ]
    },
    {
      "cell_type": "code",
      "metadata": {
        "id": "PYLYif8Fsxb0",
        "colab_type": "code",
        "colab": {}
      },
      "source": [
        ""
      ],
      "execution_count": 0,
      "outputs": []
    },
    {
      "cell_type": "markdown",
      "metadata": {
        "id": "jwlCpaVZzAS7",
        "colab_type": "text"
      },
      "source": [
        "`metadata.feather` is a combination of all the `metadata_split` cleaned at the first level, i.e., removed categories that contain `CDs & Vinyl`, `Software`,  `Amazon`, `Movies` and `Video Games`."
      ]
    },
    {
      "cell_type": "code",
      "metadata": {
        "id": "Gs5jCvQKzjSy",
        "colab_type": "code",
        "colab": {
          "base_uri": "https://localhost:8080/",
          "height": 175
        },
        "outputId": "b2bfe9d5-bf63-4d23-b69d-26065df5c85a"
      },
      "source": [
        "!pip install pyarrow\n",
        "!ls"
      ],
      "execution_count": 7,
      "outputs": [
        {
          "output_type": "stream",
          "text": [
            "Collecting pyarrow\n",
            "\u001b[?25l  Downloading https://files.pythonhosted.org/packages/ad/25/094b122d828d24b58202712a74e661e36cd551ca62d331e388ff68bae91d/pyarrow-0.13.0-cp36-cp36m-manylinux1_x86_64.whl (48.5MB)\n",
            "\u001b[K     |████████████████████████████████| 48.5MB 76.1MB/s \n",
            "\u001b[?25hRequirement already satisfied: six>=1.0.0 in /usr/local/lib/python3.6/dist-packages (from pyarrow) (1.12.0)\n",
            "Requirement already satisfied: numpy>=1.14 in /usr/local/lib/python3.6/dist-packages (from pyarrow) (1.16.3)\n",
            "Installing collected packages: pyarrow\n",
            "Successfully installed pyarrow-0.13.0\n",
            "adc.json  sample_data\n"
          ],
          "name": "stdout"
        }
      ]
    },
    {
      "cell_type": "code",
      "metadata": {
        "id": "O3CjaL1SzbcK",
        "colab_type": "code",
        "colab": {
          "base_uri": "https://localhost:8080/",
          "height": 69
        },
        "outputId": "3789eb6f-0aa1-45db-f0dc-b7ce7a04b2ca"
      },
      "source": [
        "!gsutil cp gs://{gs_path}\"metadata.feather\" ."
      ],
      "execution_count": 8,
      "outputs": [
        {
          "output_type": "stream",
          "text": [
            "Copying gs://platform-ai-research/datasets/ProductNet/metadata.feather...\n",
            "-\n",
            "Operation completed over 1 objects/3.1 GiB.                                      \n"
          ],
          "name": "stdout"
        }
      ]
    },
    {
      "cell_type": "code",
      "metadata": {
        "id": "-ZjNLZ2uzlnx",
        "colab_type": "code",
        "colab": {}
      },
      "source": [
        "df = pd.read_feather('metadata.feather')"
      ],
      "execution_count": 0,
      "outputs": []
    },
    {
      "cell_type": "code",
      "metadata": {
        "id": "PIaPr73CznW6",
        "colab_type": "code",
        "colab": {
          "base_uri": "https://localhost:8080/",
          "height": 48
        },
        "outputId": "8faafef0-e050-4e4c-8a2c-dc3896c99b02"
      },
      "source": [
        "# remove empty strings\n",
        "df = df[df.categories != '']\n",
        "\n",
        "df[df.categories.str.split(',',1).str[0] == ''].head()"
      ],
      "execution_count": 10,
      "outputs": [
        {
          "output_type": "execute_result",
          "data": {
            "text/html": [
              "<div>\n",
              "<style scoped>\n",
              "    .dataframe tbody tr th:only-of-type {\n",
              "        vertical-align: middle;\n",
              "    }\n",
              "\n",
              "    .dataframe tbody tr th {\n",
              "        vertical-align: top;\n",
              "    }\n",
              "\n",
              "    .dataframe thead th {\n",
              "        text-align: right;\n",
              "    }\n",
              "</style>\n",
              "<table border=\"1\" class=\"dataframe\">\n",
              "  <thead>\n",
              "    <tr style=\"text-align: right;\">\n",
              "      <th></th>\n",
              "      <th>asin</th>\n",
              "      <th>categories</th>\n",
              "      <th>description</th>\n",
              "      <th>imUrl</th>\n",
              "      <th>title</th>\n",
              "    </tr>\n",
              "  </thead>\n",
              "  <tbody>\n",
              "  </tbody>\n",
              "</table>\n",
              "</div>"
            ],
            "text/plain": [
              "Empty DataFrame\n",
              "Columns: [asin, categories, description, imUrl, title]\n",
              "Index: []"
            ]
          },
          "metadata": {
            "tags": []
          },
          "execution_count": 10
        }
      ]
    },
    {
      "cell_type": "code",
      "metadata": {
        "id": "wXYvue9Kz3IF",
        "colab_type": "code",
        "colab": {}
      },
      "source": [
        "# Create labels\n",
        "df['label'] = df.categories.str.split(',',1).str[0]"
      ],
      "execution_count": 0,
      "outputs": []
    },
    {
      "cell_type": "code",
      "metadata": {
        "id": "QkHtuqm1zt_y",
        "colab_type": "code",
        "colab": {}
      },
      "source": [
        "# Remove categories that are not so useful\n",
        "remove = ['Digital Music', 'Purchase Circles',\n",
        "          'Magazine Subscriptions', 'Kindle Store', 'Gift Cards Store',\n",
        "          'Buy a Kindle', 'Amazon Instant Video', 'Classical', 'Rock', 'Folk', 'Jazz', 'International',\n",
        "          'Alternative Rock', 'Blues', 'Dance & Electronic', 'Pop',\n",
        "          'Miscellaneous', 'Christian', 'Country', \"Children's Music\", 'R&B',\n",
        "          'Broadway & Vocalists', 'Rap & Hip-Hop', 'Classic Rock',\n",
        "          'Hard Rock & Metal', 'New Age', 'Wine', 'Latin Music', 'Davis',\n",
        "          'Gospel', 'Gift Cards', 'Publishers', 'Apps for Android',\n",
        "          'Appstore for Android', 'Microsoft', 'All Credit Cards',\n",
        "          'Collectible Coins', 'Celebrate your Birthday with Nickelodeon',\n",
        "          'Entertainment', 'Amazon Coins', 'Amazon Fire TV']\n",
        "\n",
        "df = df[~df.label.isin(remove)]"
      ],
      "execution_count": 0,
      "outputs": []
    },
    {
      "cell_type": "code",
      "metadata": {
        "id": "3WHrZZi50fdB",
        "colab_type": "code",
        "colab": {
          "base_uri": "https://localhost:8080/",
          "height": 423
        },
        "outputId": "53560aed-3c55-443d-c85d-d7c9e091a6b1"
      },
      "source": [
        "df.label.replace(to_replace='Furniture & D&#233;cor', value='Furniture & Decor', inplace=True)\n",
        "\n",
        "df.head()"
      ],
      "execution_count": 30,
      "outputs": [
        {
          "output_type": "execute_result",
          "data": {
            "text/html": [
              "<div>\n",
              "<style scoped>\n",
              "    .dataframe tbody tr th:only-of-type {\n",
              "        vertical-align: middle;\n",
              "    }\n",
              "\n",
              "    .dataframe tbody tr th {\n",
              "        vertical-align: top;\n",
              "    }\n",
              "\n",
              "    .dataframe thead th {\n",
              "        text-align: right;\n",
              "    }\n",
              "</style>\n",
              "<table border=\"1\" class=\"dataframe\">\n",
              "  <thead>\n",
              "    <tr style=\"text-align: right;\">\n",
              "      <th></th>\n",
              "      <th>asin</th>\n",
              "      <th>categories</th>\n",
              "      <th>description</th>\n",
              "      <th>imUrl</th>\n",
              "      <th>title</th>\n",
              "      <th>label</th>\n",
              "    </tr>\n",
              "  </thead>\n",
              "  <tbody>\n",
              "    <tr>\n",
              "      <th>0</th>\n",
              "      <td>0000037214</td>\n",
              "      <td>Clothing, Shoes &amp; Jewelry, Girls, Clothing, Sh...</td>\n",
              "      <td></td>\n",
              "      <td>http://ecx.images-amazon.com/images/I/31mCncNu...</td>\n",
              "      <td>Purple Sequin Tiny Dancer Tutu Ballet Dance Fa...</td>\n",
              "      <td>Clothing</td>\n",
              "    </tr>\n",
              "    <tr>\n",
              "      <th>1</th>\n",
              "      <td>0000032069</td>\n",
              "      <td>Sports &amp; Outdoors, Other Sports, Dance, Clothi...</td>\n",
              "      <td></td>\n",
              "      <td>http://ecx.images-amazon.com/images/I/51EzU6qu...</td>\n",
              "      <td>Adult Ballet Tutu Cheetah Pink</td>\n",
              "      <td>Sports &amp; Outdoors</td>\n",
              "    </tr>\n",
              "    <tr>\n",
              "      <th>2</th>\n",
              "      <td>0000031909</td>\n",
              "      <td>Sports &amp; Outdoors, Other Sports, Dance</td>\n",
              "      <td>High quality 3 layer ballet tutu. 12 inches in...</td>\n",
              "      <td>http://ecx.images-amazon.com/images/I/41xBoP0F...</td>\n",
              "      <td>Girls Ballet Tutu Neon Pink</td>\n",
              "      <td>Sports &amp; Outdoors</td>\n",
              "    </tr>\n",
              "    <tr>\n",
              "      <th>3</th>\n",
              "      <td>0000032034</td>\n",
              "      <td>Sports &amp; Outdoors, Other Sports, Dance, Clothi...</td>\n",
              "      <td></td>\n",
              "      <td>http://ecx.images-amazon.com/images/I/21GNUNIa...</td>\n",
              "      <td>Adult Ballet Tutu Yellow</td>\n",
              "      <td>Sports &amp; Outdoors</td>\n",
              "    </tr>\n",
              "    <tr>\n",
              "      <th>4</th>\n",
              "      <td>0000031852</td>\n",
              "      <td>Sports &amp; Outdoors, Other Sports, Dance</td>\n",
              "      <td>TUtu</td>\n",
              "      <td>http://ecx.images-amazon.com/images/I/51fAmVkT...</td>\n",
              "      <td>Girls Ballet Tutu Zebra Hot Pink</td>\n",
              "      <td>Sports &amp; Outdoors</td>\n",
              "    </tr>\n",
              "  </tbody>\n",
              "</table>\n",
              "</div>"
            ],
            "text/plain": [
              "         asin                                         categories  \\\n",
              "0  0000037214  Clothing, Shoes & Jewelry, Girls, Clothing, Sh...   \n",
              "1  0000032069  Sports & Outdoors, Other Sports, Dance, Clothi...   \n",
              "2  0000031909             Sports & Outdoors, Other Sports, Dance   \n",
              "3  0000032034  Sports & Outdoors, Other Sports, Dance, Clothi...   \n",
              "4  0000031852             Sports & Outdoors, Other Sports, Dance   \n",
              "\n",
              "                                         description  \\\n",
              "0                                                      \n",
              "1                                                      \n",
              "2  High quality 3 layer ballet tutu. 12 inches in...   \n",
              "3                                                      \n",
              "4                                               TUtu   \n",
              "\n",
              "                                               imUrl  \\\n",
              "0  http://ecx.images-amazon.com/images/I/31mCncNu...   \n",
              "1  http://ecx.images-amazon.com/images/I/51EzU6qu...   \n",
              "2  http://ecx.images-amazon.com/images/I/41xBoP0F...   \n",
              "3  http://ecx.images-amazon.com/images/I/21GNUNIa...   \n",
              "4  http://ecx.images-amazon.com/images/I/51fAmVkT...   \n",
              "\n",
              "                                               title              label  \n",
              "0  Purple Sequin Tiny Dancer Tutu Ballet Dance Fa...           Clothing  \n",
              "1                     Adult Ballet Tutu Cheetah Pink  Sports & Outdoors  \n",
              "2                        Girls Ballet Tutu Neon Pink  Sports & Outdoors  \n",
              "3                           Adult Ballet Tutu Yellow  Sports & Outdoors  \n",
              "4                   Girls Ballet Tutu Zebra Hot Pink  Sports & Outdoors  "
            ]
          },
          "metadata": {
            "tags": []
          },
          "execution_count": 30
        }
      ]
    },
    {
      "cell_type": "code",
      "metadata": {
        "id": "FAb5t2PH0EIT",
        "colab_type": "code",
        "colab": {
          "base_uri": "https://localhost:8080/",
          "height": 622
        },
        "outputId": "4179134c-7448-4bf8-bce0-59a3f94b4398"
      },
      "source": [
        "# See the distribution of the categories\n",
        "xx = np.array([])\n",
        "yy = np.array([])\n",
        "for l in df.label.unique():\n",
        "    i = len(df[df.label == l])\n",
        "    print('label = ', l, ' Number of instances = ', str(i))\n",
        "    xx = np.append(xx,[l])\n",
        "    yy = np.append(yy,[i])"
      ],
      "execution_count": 50,
      "outputs": [
        {
          "output_type": "stream",
          "text": [
            "label =  Clothing  Number of instances =  1435827\n",
            "label =  Sports & Outdoors  Number of instances =  529408\n",
            "label =  Toys & Games  Number of instances =  334199\n",
            "label =  Musical Instruments  Number of instances =  67513\n",
            "label =  Tools & Home Improvement  Number of instances =  268464\n",
            "label =  Home & Kitchen  Number of instances =  436927\n",
            "label =  Health & Personal Care  Number of instances =  262304\n",
            "label =  Cell Phones & Accessories  Number of instances =  346691\n",
            "label =  Office Products  Number of instances =  130698\n",
            "label =  Electronics  Number of instances =  494401\n",
            "label =  Office & School Supplies  Number of instances =  3316\n",
            "label =  Baby  Number of instances =  71317\n",
            "label =  Beauty  Number of instances =  258561\n",
            "label =  Automotive  Number of instances =  330448\n",
            "label =  Arts  Number of instances =  115709\n",
            "label =  Computers  Number of instances =  4450\n",
            "label =  All Electronics  Number of instances =  7571\n",
            "label =  Pet Supplies  Number of instances =  110535\n",
            "label =  Grocery & Gourmet Food  Number of instances =  171748\n",
            "label =  Kitchen & Dining  Number of instances =  3751\n",
            "label =  Industrial & Scientific  Number of instances =  47188\n",
            "label =  Appliances  Number of instances =  11650\n",
            "label =  All Beauty  Number of instances =  6580\n",
            "label =  Camera & Photo  Number of instances =  462\n",
            "label =  Patio  Number of instances =  108852\n",
            "label =  Home Improvement  Number of instances =  3944\n",
            "label =  Baby Products  Number of instances =  9929\n",
            "label =  Amazon Fashion  Number of instances =  24145\n",
            "label =  MP3 Players & Accessories  Number of instances =  1672\n",
            "label =  Car Electronics  Number of instances =  408\n",
            "label =  Collectibles & Fine Art  Number of instances =  6070\n",
            "label =  GPS & Navigation  Number of instances =  361\n",
            "label =  Luxury Beauty  Number of instances =  1926\n",
            "label =  Furniture & Decor  Number of instances =  108\n",
            "label =  Sports Collectibles  Number of instances =  27\n"
          ],
          "name": "stdout"
        }
      ]
    },
    {
      "cell_type": "code",
      "metadata": {
        "id": "ZnURqhiX12Qu",
        "colab_type": "code",
        "colab": {}
      },
      "source": [
        "xsorted = []\n",
        "\n",
        "ysorted = sorted(yy, reverse=True)\n",
        "y_idx = np.argsort(yy)[::-1]\n",
        "\n",
        "for idx in y_idx:\n",
        "    xsorted.append(xx[idx])   "
      ],
      "execution_count": 0,
      "outputs": []
    },
    {
      "cell_type": "code",
      "metadata": {
        "id": "bRU4rLoR0xWP",
        "colab_type": "code",
        "colab": {
          "base_uri": "https://localhost:8080/",
          "height": 719
        },
        "outputId": "20a93634-e1d6-4d76-8171-1f4b64ed341f"
      },
      "source": [
        "ys = ysorted # [1:] # to remove 'Clothing' as a label\n",
        "xs = xsorted # [1:] # to remove 'Clothing' as a label\n",
        "\n",
        "# Plot the distribution\n",
        "plt.subplots(figsize=(12,10))\n",
        "plt.bar(range(1,len(ys)+1), ys)\n",
        "labels = xs\n",
        "plt.xticks(range(1,len(ys)+1), labels, rotation='vertical')\n",
        "plt.margins(0.02)\n",
        "plt.title('Label vs Count')\n",
        "# Tweak spacing to prevent clipping of tick-labels\n",
        "plt.subplots_adjust(bottom=0.15)\n",
        "plt.show()"
      ],
      "execution_count": 61,
      "outputs": [
        {
          "output_type": "display_data",
          "data": {
            "image/png": "[encoded data removed]",
            "text/plain": [
              "<Figure size 864x720 with 1 Axes>"
            ]
          },
          "metadata": {
            "tags": []
          }
        }
      ]
    },
    {
      "cell_type": "code",
      "metadata": {
        "id": "F16RzlDx05mD",
        "colab_type": "code",
        "colab": {
          "base_uri": "https://localhost:8080/",
          "height": 35
        },
        "outputId": "d5795fbb-b3df-4954-aef0-f4f853689179"
      },
      "source": [
        "gc.collect()"
      ],
      "execution_count": 62,
      "outputs": [
        {
          "output_type": "execute_result",
          "data": {
            "text/plain": [
              "22986"
            ]
          },
          "metadata": {
            "tags": []
          },
          "execution_count": 62
        }
      ]
    },
    {
      "cell_type": "code",
      "metadata": {
        "id": "vjyrbC3S1tzR",
        "colab_type": "code",
        "colab": {}
      },
      "source": [
        "df = df.reset_index()\n",
        "\n",
        "df.to_feather('metadata_clean_0513')"
      ],
      "execution_count": 0,
      "outputs": []
    },
    {
      "cell_type": "code",
      "metadata": {
        "id": "gK3VPKVz3b6s",
        "colab_type": "code",
        "colab": {
          "base_uri": "https://localhost:8080/",
          "height": 294
        },
        "outputId": "784cef59-a611-4189-d187-2638c7352c92"
      },
      "source": [
        "!gsutil cp metadata_clean_0513 gs://platform-ai-research/datasets/ProductNet/metadata_clean_0513"
      ],
      "execution_count": 65,
      "outputs": [
        {
          "output_type": "stream",
          "text": [
            "Copying file://metadata_clean_0513 [Content-Type=application/octet-stream]...\n",
            "/ [0 files][    0.0 B/  3.1 GiB]                                                \r==> NOTE: You are uploading one or more large file(s), which would run\n",
            "significantly faster if you enable parallel composite uploads. This\n",
            "feature can be enabled by editing the\n",
            "\"parallel_composite_upload_threshold\" value in your .boto\n",
            "configuration file. However, note that if you do this large files will\n",
            "be uploaded as `composite objects\n",
            "<https://cloud.google.com/storage/docs/composite-objects>`_,which\n",
            "means that any user who downloads such objects will need to have a\n",
            "compiled crcmod installed (see \"gsutil help crcmod\"). This is because\n",
            "without a compiled crcmod, computing checksums on composite objects is\n",
            "so slow that gsutil disables downloads of composite objects.\n",
            "\n",
            "Catching up md5 for file://metadata_clean_0513...\n",
            "-\n",
            "Operation completed over 1 objects/3.1 GiB.                                      \n"
          ],
          "name": "stdout"
        }
      ]
    },
    {
      "cell_type": "code",
      "metadata": {
        "id": "Y2_czLM23zEU",
        "colab_type": "code",
        "colab": {}
      },
      "source": [
        ""
      ],
      "execution_count": 0,
      "outputs": []
    }
  ]
}