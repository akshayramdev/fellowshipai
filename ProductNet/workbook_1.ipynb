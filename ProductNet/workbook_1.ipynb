{
  "nbformat": 4,
  "nbformat_minor": 0,
  "metadata": {
    "colab": {
      "name": "workbook_1.ipynb",
      "version": "0.3.2",
      "provenance": [],
      "collapsed_sections": [],
      "toc_visible": true
    },
    "language_info": {
      "codemirror_mode": {
        "name": "ipython",
        "version": 3
      },
      "file_extension": ".py",
      "mimetype": "text/x-python",
      "name": "python",
      "nbconvert_exporter": "python",
      "pygments_lexer": "ipython3",
      "version": "3.6.4"
    },
    "kernelspec": {
      "display_name": "Python 3",
      "language": "python",
      "name": "python3"
    }
  },
  "cells": [
    {
      "cell_type": "code",
      "metadata": {
        "id": "du_YBx6_Bz5A",
        "colab_type": "code",
        "colab": {}
      },
      "source": [
        "#!pip install fastai\n",
        "\n",
        "import numpy as np\n",
        "import pandas as pd\n",
        "import requests\n",
        "#import json\n",
        "import ast\n",
        "import os\n",
        "\n",
        "#from fastai.vision import *"
      ],
      "execution_count": 0,
      "outputs": []
    },
    {
      "cell_type": "markdown",
      "metadata": {
        "id": "_p_uW2z6Bz5Q",
        "colab_type": "text"
      },
      "source": [
        "## Data file (citation)\n",
        "Data from Dr. McAuley at UCSD (citation)\n",
        "R. He, J. McAuley. Modeling the visual evolution of fashion trends with one-class collaborative filtering. WWW, 2016\n",
        "J. McAuley, C. Targett, J. Shi, A. van den Hengel. Image-based recommendations on styles and substitutes. SIGIR, 2015\n"
      ]
    },
    {
      "cell_type": "code",
      "metadata": {
        "id": "2CVRcVAsBz5T",
        "colab_type": "code",
        "colab": {}
      },
      "source": [
        "# Initial values for the datafile\n",
        "split_num = 1\n",
        "file_name = 'metadata_split_' + str(split_num)"
      ],
      "execution_count": 0,
      "outputs": []
    },
    {
      "cell_type": "markdown",
      "metadata": {
        "id": "xEhCj-HuBz5d",
        "colab_type": "text"
      },
      "source": [
        "## Important: Set variable 'local' to True if running on local machine, False if in cloud"
      ]
    },
    {
      "cell_type": "code",
      "metadata": {
        "id": "IDlwJ1yEBz5g",
        "colab_type": "code",
        "colab": {}
      },
      "source": [
        "local = False      # this needs to be automated (how?)"
      ],
      "execution_count": 0,
      "outputs": []
    },
    {
      "cell_type": "markdown",
      "metadata": {
        "id": "vTiIDjDCBz5o",
        "colab_type": "text"
      },
      "source": [
        "### Connect to gs://platform-ai-research/datasets/ProductNet\n",
        "This is the data bucket - read/write all data files to this location"
      ]
    },
    {
      "cell_type": "code",
      "metadata": {
        "id": "9z4VAnTbBz5r",
        "colab_type": "code",
        "colab": {
          "base_uri": "https://localhost:8080/",
          "height": 34
        },
        "outputId": "844c0bc7-1fe9-4bfe-e7b7-3bb43a4ee193"
      },
      "source": [
        "# Will need to login to access the bucket. The following lines of code do just that\n",
        "if (not local):\n",
        "    from google.colab import auth\n",
        "    auth.authenticate_user()\n",
        "    \n",
        "    # List out all the files in the directory (Make sure that we are logged in)\n",
        "    gs_path = 'platform-ai-research/datasets/ProductNet/'\n",
        "    !gsutil ls gs://{gs_path}\n"
      ],
      "execution_count": 4,
      "outputs": [
        {
          "output_type": "stream",
          "text": [
            "CommandException: \"ls\" command does not support \"file://\" URLs. Did you mean to use a gs:// URL?\n"
          ],
          "name": "stdout"
        }
      ]
    },
    {
      "cell_type": "code",
      "metadata": {
        "id": "_On9Usp6CYRM",
        "colab_type": "code",
        "colab": {}
      },
      "source": [
        "gs_path = 'platform-ai-research/datasets/ProductNet/'"
      ],
      "execution_count": 0,
      "outputs": []
    },
    {
      "cell_type": "code",
      "metadata": {
        "id": "nhUUKvnPCpNM",
        "colab_type": "code",
        "colab": {
          "base_uri": "https://localhost:8080/",
          "height": 357
        },
        "outputId": "982e80f3-94f6-430b-a893-0bac0b1feaf3"
      },
      "source": [
        "!gsutil ls gs://{gs_path}"
      ],
      "execution_count": 7,
      "outputs": [
        {
          "output_type": "stream",
          "text": [
            "gs://platform-ai-research/datasets/ProductNet/metadata_0to500k.json\n",
            "gs://platform-ai-research/datasets/ProductNet/metadata_split_1\n",
            "gs://platform-ai-research/datasets/ProductNet/metadata_split_10\n",
            "gs://platform-ai-research/datasets/ProductNet/metadata_split_11\n",
            "gs://platform-ai-research/datasets/ProductNet/metadata_split_12\n",
            "gs://platform-ai-research/datasets/ProductNet/metadata_split_13\n",
            "gs://platform-ai-research/datasets/ProductNet/metadata_split_14\n",
            "gs://platform-ai-research/datasets/ProductNet/metadata_split_15\n",
            "gs://platform-ai-research/datasets/ProductNet/metadata_split_16\n",
            "gs://platform-ai-research/datasets/ProductNet/metadata_split_17\n",
            "gs://platform-ai-research/datasets/ProductNet/metadata_split_18\n",
            "gs://platform-ai-research/datasets/ProductNet/metadata_split_19\n",
            "gs://platform-ai-research/datasets/ProductNet/metadata_split_2\n",
            "gs://platform-ai-research/datasets/ProductNet/metadata_split_3\n",
            "gs://platform-ai-research/datasets/ProductNet/metadata_split_4\n",
            "gs://platform-ai-research/datasets/ProductNet/metadata_split_5\n",
            "gs://platform-ai-research/datasets/ProductNet/metadata_split_6\n",
            "gs://platform-ai-research/datasets/ProductNet/metadata_split_7\n",
            "gs://platform-ai-research/datasets/ProductNet/metadata_split_8\n",
            "gs://platform-ai-research/datasets/ProductNet/metadata_split_9\n"
          ],
          "name": "stdout"
        }
      ]
    },
    {
      "cell_type": "markdown",
      "metadata": {
        "id": "JrbeWB1GBz5z",
        "colab_type": "text"
      },
      "source": [
        "### Define a few functions\n",
        "These are used to clean up the data file"
      ]
    },
    {
      "cell_type": "code",
      "metadata": {
        "id": "597r0ePuBz51",
        "colab_type": "code",
        "colab": {}
      },
      "source": [
        "# The categories column is a nested list. We need to flatten it\n",
        "def custom_flat(entry):\n",
        "    if isinstance(entry[0], list):\n",
        "        clist = []\n",
        "        for i in range(len(entry)):\n",
        "            clist += entry[i]\n",
        "        return clist\n",
        "    else:\n",
        "        return list(entry)\n",
        "\n",
        "def create_labels(labels):\n",
        "    s = ', '\n",
        "    s = s.join(labels)\n",
        "    return s\n",
        "\n",
        "def remove_category(df, category):\n",
        "    print('Current number of Products in dataset =', len(df))\n",
        "    print('Current number of Unique categories =', len(df.categories.unique()))    \n",
        "    print('***************Removing Category:', category)\n",
        "    df = df[~df.categories.str.contains(category)]\n",
        "    print('Remaining number of Products in dataset =', len(df))\n",
        "    print('Remaining number of Unique categories =', len(df.categories.unique()))\n",
        "    return df"
      ],
      "execution_count": 0,
      "outputs": []
    },
    {
      "cell_type": "markdown",
      "metadata": {
        "id": "QV6k8JSHBz57",
        "colab_type": "text"
      },
      "source": [
        "### Read in the data"
      ]
    },
    {
      "cell_type": "code",
      "metadata": {
        "id": "7C0z83cKBz5-",
        "colab_type": "code",
        "colab": {
          "base_uri": "https://localhost:8080/",
          "height": 391
        },
        "outputId": "21d73ba8-0cd9-4ae8-8bf2-78e55a9f1d99"
      },
      "source": [
        "# Read in the data from multiple files, and build the df\n",
        "main_df = pd.DataFrame()                       # df built by concatenating data from multiple files\n",
        "df = pd.DataFrame()\n",
        "\n",
        "for split_num in range(1,7,1):\n",
        "    data = []\n",
        "    file_name = 'metadata_split_' + str(split_num)\n",
        "    print('Reading file................', file_name)\n",
        "    \n",
        "    # copy datafile from gs bucket if executing in cloud and file not copied already\n",
        "    exists = os.path.isfile(file_name)\n",
        "    if (not exists):\n",
        "        if (not local):\n",
        "            # Copy the datafile to the Colab local dir\n",
        "            remote_file = gs_path + file_name\n",
        "            !gsutil cp gs://{remote_file} {file_name}\n",
        "        else: \n",
        "            print('File Does Not Exist')\n",
        "            break\n",
        "        \n",
        "    for line in open(file_name, 'r'):          # file_name is defined above\n",
        "        #data.append(json.loads(line))         # this works for JSON, but our datafiles are not strictly json\n",
        "        data.append(ast.literal_eval(line))    # JSON but single quotes instead of double\n",
        "    \n",
        "    # Convert to dataframe\n",
        "    df = pd.DataFrame.from_dict(data)\n",
        "\n",
        "    # Remove columns that we do not need\n",
        "    df.drop(['brand', 'price', 'related', 'salesRank'], axis=1, inplace=True)\n",
        "\n",
        "    # Fill in the NaN with empty string\n",
        "    df.fillna(value='', axis='columns', inplace=True)\n",
        "\n",
        "    # Flatten the categories list of list so it becomes easier to search\n",
        "    df.categories = df.categories.apply(np.ravel)\n",
        "    df.categories = df.categories.apply(custom_flat)\n",
        "    df.categories = df.categories.apply(create_labels)\n",
        "\n",
        "    # Remove some products from the dataset\n",
        "    df = df[~df.categories.str.contains('Books')]\n",
        "    df = df[~df.categories.str.contains('CDs & Vinyl')]\n",
        "    df = df[~df.categories.str.contains('Software')]\n",
        "    df = df[~df.categories.str.contains('Amazon')]\n",
        "    df = df[~df.categories.str.contains('Movies')]\n",
        "    df = df[~df.categories.str.contains('Video Games')]\n",
        "\n",
        "    # Print out a few interesting details\n",
        "    print('Number of Products in dataset =', len(df))\n",
        "    print('Number of Unique categories =', len(df.categories.unique()))\n",
        "    #print('Unique categories are: \\n', df.categories.unique())\n",
        "    \n",
        "    main_df = main_df.append(df, ignore_index = True)\n",
        "    df = pd.DataFrame()\n",
        "\n",
        "print('\\nCombined df:')\n",
        "print('Number of Products in dataset =', len(main_df))\n",
        "print('Number of Unique categories =', len(main_df.categories.unique()))"
      ],
      "execution_count": 57,
      "outputs": [
        {
          "output_type": "stream",
          "text": [
            "Reading file................ metadata_split_1\n",
            "Number of Products in dataset = 810\n",
            "Number of Unique categories = 153\n",
            "Reading file................ metadata_split_2\n",
            "Number of Products in dataset = 1484\n",
            "Number of Unique categories = 186\n",
            "Reading file................ metadata_split_3\n",
            "Number of Products in dataset = 2606\n",
            "Number of Unique categories = 326\n",
            "Reading file................ metadata_split_4\n",
            "Number of Products in dataset = 21543\n",
            "Number of Unique categories = 2295\n",
            "Reading file................ metadata_split_5\n",
            "Number of Products in dataset = 265682\n",
            "Number of Unique categories = 14267\n",
            "Reading file................ metadata_split_6\n",
            "Number of Products in dataset = 375271\n",
            "Number of Unique categories = 19895\n",
            "\n",
            "Combined df:\n",
            "Number of Products in dataset = 667396\n",
            "Number of Unique categories = 23624\n"
          ],
          "name": "stdout"
        }
      ]
    },
    {
      "cell_type": "code",
      "metadata": {
        "id": "372YM8xQBz6S",
        "colab_type": "code",
        "colab": {
          "base_uri": "https://localhost:8080/",
          "height": 102
        },
        "outputId": "6878a9f1-7aaa-4d72-d070-1264f7692070"
      },
      "source": [
        "# Use the following to remove further categories from the dataset\n",
        "main_df = remove_category(main_df, 'Kindle')"
      ],
      "execution_count": 65,
      "outputs": [
        {
          "output_type": "stream",
          "text": [
            "Current number of Products in dataset = 667396\n",
            "Current number of Unique categories = 23624\n",
            "***************Removing Category: Kindle\n",
            "Remaining number of Products in dataset = 667271\n",
            "Remaining number of Unique categories = 23562\n"
          ],
          "name": "stdout"
        }
      ]
    },
    {
      "cell_type": "code",
      "metadata": {
        "id": "AVSBqiMgBz6h",
        "colab_type": "code",
        "colab": {}
      },
      "source": [
        "# Create a Label category\n",
        "main_df['label'] = main_df.categories.str.split(',',1).str[0]\n",
        "\n",
        "# Fixing some issues\n",
        "main_df.label.replace(to_replace='Furniture & D&#233;cor', value='Furniture & Decor', inplace=True)"
      ],
      "execution_count": 0,
      "outputs": []
    },
    {
      "cell_type": "code",
      "metadata": {
        "id": "cncpTzwSk4kt",
        "colab_type": "code",
        "colab": {}
      },
      "source": [
        ""
      ],
      "execution_count": 0,
      "outputs": []
    },
    {
      "cell_type": "code",
      "metadata": {
        "id": "EJqonJ1oBz6j",
        "colab_type": "code",
        "colab": {
          "base_uri": "https://localhost:8080/",
          "height": 238
        },
        "outputId": "ef62476b-925f-446c-c56a-e699e7d54705"
      },
      "source": [
        "main_df.label.unique()"
      ],
      "execution_count": 68,
      "outputs": [
        {
          "output_type": "execute_result",
          "data": {
            "text/plain": [
              "array(['Clothing', 'Sports & Outdoors', 'Toys & Games', '',\n",
              "       'Musical Instruments', 'Tools & Home Improvement',\n",
              "       'Home & Kitchen', 'Health & Personal Care',\n",
              "       'Cell Phones & Accessories', 'Office Products', 'Electronics',\n",
              "       'Office & School Supplies', 'Baby', 'Beauty', 'Automotive', 'Arts',\n",
              "       'Computers', 'All Electronics', 'Pet Supplies',\n",
              "       'Grocery & Gourmet Food', 'Kitchen & Dining',\n",
              "       'Industrial & Scientific', 'Appliances', 'All Beauty',\n",
              "       'Camera & Photo', 'Patio', 'Home Improvement', 'Baby Products',\n",
              "       'Digital Music', 'MP3 Players & Accessories', 'Car Electronics',\n",
              "       'Collectibles & Fine Art', 'Purchase Circles', 'GPS & Navigation',\n",
              "       'Luxury Beauty', 'Magazine Subscriptions', 'Furniture & Decor',\n",
              "       'Gift Cards Store', 'Sports Collectibles'], dtype=object)"
            ]
          },
          "metadata": {
            "tags": []
          },
          "execution_count": 68
        }
      ]
    },
    {
      "cell_type": "code",
      "metadata": {
        "id": "Ko2iAkFqBz6l",
        "colab_type": "code",
        "colab": {
          "base_uri": "https://localhost:8080/",
          "height": 272
        },
        "outputId": "7bb24ff1-d126-4596-8182-04b2697b4cd6"
      },
      "source": [
        "# Write df as a csv file\n",
        "file_name = 'df_from_splits_1thru6'\n",
        "main_df.to_csv(file_name)\n",
        "\n",
        "# Copy file to bucket if not running locally\n",
        "remote_file = gs_path + file_name\n",
        "if (not local):\n",
        "    !gsutil cp {file_name} gs://{remote_file}"
      ],
      "execution_count": 69,
      "outputs": [
        {
          "output_type": "stream",
          "text": [
            "Copying file://df_from_splits_1thru6 [Content-Type=application/octet-stream]...\n",
            "/ [0 files][    0.0 B/402.4 MiB]                                                \r==> NOTE: You are uploading one or more large file(s), which would run\n",
            "significantly faster if you enable parallel composite uploads. This\n",
            "feature can be enabled by editing the\n",
            "\"parallel_composite_upload_threshold\" value in your .boto\n",
            "configuration file. However, note that if you do this large files will\n",
            "be uploaded as `composite objects\n",
            "<https://cloud.google.com/storage/docs/composite-objects>`_,which\n",
            "means that any user who downloads such objects will need to have a\n",
            "compiled crcmod installed (see \"gsutil help crcmod\"). This is because\n",
            "without a compiled crcmod, computing checksums on composite objects is\n",
            "so slow that gsutil disables downloads of composite objects.\n",
            "\n",
            "|\n",
            "Operation completed over 1 objects/402.4 MiB.                                    \n"
          ],
          "name": "stdout"
        }
      ]
    },
    {
      "cell_type": "code",
      "metadata": {
        "id": "pldBvX93aKK6",
        "colab_type": "code",
        "colab": {
          "base_uri": "https://localhost:8080/",
          "height": 442
        },
        "outputId": "505ac848-6738-477c-821a-89213d841569"
      },
      "source": [
        "!gsutil ls gs://{gs_path}"
      ],
      "execution_count": 70,
      "outputs": [
        {
          "output_type": "stream",
          "text": [
            "gs://platform-ai-research/datasets/ProductNet/df_from_splits_1thru6\n",
            "gs://platform-ai-research/datasets/ProductNet/metadata_0to500k.json\n",
            "gs://platform-ai-research/datasets/ProductNet/metadata_split_1\n",
            "gs://platform-ai-research/datasets/ProductNet/metadata_split_10\n",
            "gs://platform-ai-research/datasets/ProductNet/metadata_split_10_to_13\n",
            "gs://platform-ai-research/datasets/ProductNet/metadata_split_11\n",
            "gs://platform-ai-research/datasets/ProductNet/metadata_split_12\n",
            "gs://platform-ai-research/datasets/ProductNet/metadata_split_13\n",
            "gs://platform-ai-research/datasets/ProductNet/metadata_split_14\n",
            "gs://platform-ai-research/datasets/ProductNet/metadata_split_14_to_19\n",
            "gs://platform-ai-research/datasets/ProductNet/metadata_split_15\n",
            "gs://platform-ai-research/datasets/ProductNet/metadata_split_16\n",
            "gs://platform-ai-research/datasets/ProductNet/metadata_split_17\n",
            "gs://platform-ai-research/datasets/ProductNet/metadata_split_18\n",
            "gs://platform-ai-research/datasets/ProductNet/metadata_split_19\n",
            "gs://platform-ai-research/datasets/ProductNet/metadata_split_1_to_5\n",
            "gs://platform-ai-research/datasets/ProductNet/metadata_split_2\n",
            "gs://platform-ai-research/datasets/ProductNet/metadata_split_3\n",
            "gs://platform-ai-research/datasets/ProductNet/metadata_split_4\n",
            "gs://platform-ai-research/datasets/ProductNet/metadata_split_5\n",
            "gs://platform-ai-research/datasets/ProductNet/metadata_split_6\n",
            "gs://platform-ai-research/datasets/ProductNet/metadata_split_6_to_9\n",
            "gs://platform-ai-research/datasets/ProductNet/metadata_split_7\n",
            "gs://platform-ai-research/datasets/ProductNet/metadata_split_8\n",
            "gs://platform-ai-research/datasets/ProductNet/metadata_split_9\n"
          ],
          "name": "stdout"
        }
      ]
    },
    {
      "cell_type": "code",
      "metadata": {
        "id": "BG4zD0DGiUrx",
        "colab_type": "code",
        "colab": {
          "base_uri": "https://localhost:8080/",
          "height": 204
        },
        "outputId": "446aa701-5dc4-4c20-ba6b-73383b7b5c4b"
      },
      "source": [
        "main_df.info()"
      ],
      "execution_count": 71,
      "outputs": [
        {
          "output_type": "stream",
          "text": [
            "<class 'pandas.core.frame.DataFrame'>\n",
            "Int64Index: 667271 entries, 0 to 667395\n",
            "Data columns (total 6 columns):\n",
            "asin           667271 non-null object\n",
            "categories     667271 non-null object\n",
            "description    667271 non-null object\n",
            "imUrl          667271 non-null object\n",
            "title          667271 non-null object\n",
            "label          667271 non-null object\n",
            "dtypes: object(6)\n",
            "memory usage: 35.6+ MB\n"
          ],
          "name": "stdout"
        }
      ]
    },
    {
      "cell_type": "code",
      "metadata": {
        "id": "srZsU84mssz4",
        "colab_type": "code",
        "colab": {
          "base_uri": "https://localhost:8080/",
          "height": 34
        },
        "outputId": "2f3ea392-8cb7-4ae8-b619-798c2061212e"
      },
      "source": [
        "len(main_df.label.unique())"
      ],
      "execution_count": 73,
      "outputs": [
        {
          "output_type": "execute_result",
          "data": {
            "text/plain": [
              "39"
            ]
          },
          "metadata": {
            "tags": []
          },
          "execution_count": 73
        }
      ]
    },
    {
      "cell_type": "code",
      "metadata": {
        "id": "PYLYif8Fsxb0",
        "colab_type": "code",
        "colab": {}
      },
      "source": [
        ""
      ],
      "execution_count": 0,
      "outputs": []
    }
  ]
}