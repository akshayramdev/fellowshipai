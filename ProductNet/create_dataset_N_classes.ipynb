{
  "nbformat": 4,
  "nbformat_minor": 0,
  "metadata": {
    "colab": {
      "name": "workbook_5.ipynb",
      "version": "0.3.2",
      "provenance": [],
      "collapsed_sections": []
    },
    "kernelspec": {
      "name": "python3",
      "display_name": "Python 3"
    },
    "accelerator": "GPU"
  },
  "cells": [
    {
      "cell_type": "markdown",
      "metadata": {
        "id": "EJYeGIFrpazt",
        "colab_type": "text"
      },
      "source": [
        "# ProductNet: Categorize products using image(s) and text descriptors\n",
        "## Jen Sheng Wong and Kartik Nanda (Cohort 14)\n",
        "Based on following paper: https://arxiv.org/pdf/1904.09037.pdf\n",
        "\n",
        "## Problem Statement:\n",
        "Relates primarily to products on retail/marketplace sites such as Amazon. The problem deals with 3 main aspects:\n",
        "* Trying to categorize products. Number of categories ~5700 (using the Google taxonomy: https://github.com/fellowship/platform-demos3/blob/master/ProductNet/taxonomy-with-ids.en-US.xls)\n",
        "* Product has images (1 or more)\n",
        "* Product has text - title, description, keywords\n",
        "\n",
        "Possible end-problems to solve: \n",
        "a) Find the category, given product images and user provided text description. \n",
        "b) Find mis-categorized products\n",
        "\n",
        "## Dataset: \n",
        "Products for sale on Amazon; product details from 1996 through 2014, by Prof. McAuley at UCSD\n",
        "Citations:\n",
        "* R. He, J. McAuley. Modeling the visual evolution of fashion trends with one-class collaborative filtering. WWW, 2016\n",
        "* J. McAuley, C. Targett, J. Shi, A. van den Hengel. Image-based recommendations on styles and substitutes. SIGIR, 2015\n",
        "\n",
        "## Dataset Storage:\n",
        "* Used Google storage bucket located at gs://platform-ai-research/datasets/ProductNet/\n",
        "* Also used Jen Sheng's Google Drive for intermediate files, images etc\n",
        "\n",
        "## Approaches\n",
        "### Approach in Paper\n",
        "The paper assumes that the dataset is unlabeled, and uses the product images in conjunction with the text descriptors (title, keywords, description) to generate a label. It uses an iterative process that includes a master model and a local model. The master model predicts the categories from the images and text. The local model is used to find similar products (possibly using the activations from the master model). These products are then manually labeled. Once a few labels are generated, the set is again fed to the master model, and the process repeats. \n",
        "\n",
        "The paper reports having labeled 178000 products across 3900 categories (approx 40 to 60 products per category/label). The prediction accuracy of the master model on the labeled data is 94.7%\n",
        "\n",
        "### Our Challenges, and Approaches\n",
        "* Do not have access to the labeled dataset the authors used. So we cannot reproduce the accuracy they have reported on their dataset.\n",
        "* The first challenge was to create a dataset. Downloaded one of products on Amazon (see citations above) from UCSD. The dataset has product images, title, description,  and categories. \n",
        "\n",
        "#### First Approach: use categories column as labels\n",
        "Our first approach was to use the categories as the label, however, soon realised that it isn't. For one there are roughly 90,000 unique entries. And second, a more detailed examination reveals these are actually key words. Accuracy on a narrower dataset (142 classes) was ~3% \n",
        "\n",
        "#### Second Appraoch: similar to the paper's authors' approach\n",
        "Like the authors, our data is also unlabeled. We have images, and text descriptors. One possible approach is to reproduce the paper's work, namely create a labeled dataset. We could build a text model + image model as the master, and use Platform.ai for labeling and to find similar products (the local model). Used iteratively, this could be used to label enough products to build a robust model. \n",
        "\n",
        "Issues with this approach: \n",
        "The main issue is Platform.ai does not currently support text.\n",
        "\n",
        "#### Third Appraoch: generate labels from categories using text mapping\n",
        "Generate labels from only the text descriptors. We used the categories (key words) entries to generate a label for the product. The labels are from the Google taxonomy (same as used in the paper). The file is stored in the GS bucket. \n",
        "\n",
        "We used the Universal Sentence Encoder (USE) to map the category description to a label (minimal distance between the encodings). This was done for the entire 5.5 million dataset. \n",
        "\n",
        "For this try, we did not map to the leaf node (~5700 leaf nodes in the google taxo label doc). Instead, mapped to level 2 (shallower) - this provides fewer classes but inconsistent depth (so its not perfect). We got 142 labels. \n",
        "\n",
        "#### Fourth Approach: generate labels in Platform.ai\n",
        "We took a smaller set of 1440 images from 10 categories (labels). The labels were arbitrarily picked from the 20k dataset (142 categories), based on the assigned category/ labels. This is not a clean dataset because there are many mis-labled images in the 20k dataset \n",
        "\n",
        " \n"
      ]
    },
    {
      "cell_type": "code",
      "metadata": {
        "id": "6eqdIqgEP6x-",
        "colab_type": "code",
        "outputId": "110e7391-ee91-40d9-c91d-71050cb264c1",
        "colab": {
          "base_uri": "https://localhost:8080/",
          "height": 921
        }
      },
      "source": [
        "!pip install fastai\n",
        "!pip install -U pyarrow\n",
        "\n",
        "import numpy as np\n",
        "import pandas as pd\n",
        "import seaborn as sns\n",
        "\n",
        "import requests\n",
        "import ast\n",
        "import os\n",
        "import gc\n",
        "import matplotlib.pyplot as plt\n",
        "\n",
        "from fastai.vision import *\n",
        "from fastai.metrics import error_rate, accuracy"
      ],
      "execution_count": 1,
      "outputs": [
        {
          "output_type": "stream",
          "text": [
            "Requirement already satisfied: fastai in /usr/local/lib/python3.6/dist-packages (1.0.52)\n",
            "Requirement already satisfied: torch>=1.0.0 in /usr/local/lib/python3.6/dist-packages (from fastai) (1.1.0)\n",
            "Requirement already satisfied: numexpr in /usr/local/lib/python3.6/dist-packages (from fastai) (2.6.9)\n",
            "Requirement already satisfied: numpy>=1.15 in /usr/local/lib/python3.6/dist-packages (from fastai) (1.16.3)\n",
            "Requirement already satisfied: pandas in /usr/local/lib/python3.6/dist-packages (from fastai) (0.24.2)\n",
            "Requirement already satisfied: Pillow in /usr/local/lib/python3.6/dist-packages (from fastai) (4.3.0)\n",
            "Requirement already satisfied: spacy>=2.0.18 in /usr/local/lib/python3.6/dist-packages (from fastai) (2.0.18)\n",
            "Requirement already satisfied: bottleneck in /usr/local/lib/python3.6/dist-packages (from fastai) (1.2.1)\n",
            "Requirement already satisfied: fastprogress>=0.1.19 in /usr/local/lib/python3.6/dist-packages (from fastai) (0.1.21)\n",
            "Requirement already satisfied: scipy in /usr/local/lib/python3.6/dist-packages (from fastai) (1.3.0)\n",
            "Requirement already satisfied: typing in /usr/local/lib/python3.6/dist-packages (from fastai) (3.6.6)\n",
            "Requirement already satisfied: packaging in /usr/local/lib/python3.6/dist-packages (from fastai) (19.0)\n",
            "Requirement already satisfied: nvidia-ml-py3 in /usr/local/lib/python3.6/dist-packages (from fastai) (7.352.0)\n",
            "Requirement already satisfied: dataclasses; python_version < \"3.7\" in /usr/local/lib/python3.6/dist-packages (from fastai) (0.6)\n",
            "Requirement already satisfied: matplotlib in /usr/local/lib/python3.6/dist-packages (from fastai) (3.0.3)\n",
            "Requirement already satisfied: torchvision in /usr/local/lib/python3.6/dist-packages (from fastai) (0.2.2.post3)\n",
            "Requirement already satisfied: requests in /usr/local/lib/python3.6/dist-packages (from fastai) (2.21.0)\n",
            "Requirement already satisfied: pyyaml in /usr/local/lib/python3.6/dist-packages (from fastai) (3.13)\n",
            "Requirement already satisfied: beautifulsoup4 in /usr/local/lib/python3.6/dist-packages (from fastai) (4.6.3)\n",
            "Requirement already satisfied: python-dateutil>=2.5.0 in /usr/local/lib/python3.6/dist-packages (from pandas->fastai) (2.5.3)\n",
            "Requirement already satisfied: pytz>=2011k in /usr/local/lib/python3.6/dist-packages (from pandas->fastai) (2018.9)\n",
            "Requirement already satisfied: olefile in /usr/local/lib/python3.6/dist-packages (from Pillow->fastai) (0.46)\n",
            "Requirement already satisfied: ujson>=1.35 in /usr/local/lib/python3.6/dist-packages (from spacy>=2.0.18->fastai) (1.35)\n",
            "Requirement already satisfied: murmurhash<1.1.0,>=0.28.0 in /usr/local/lib/python3.6/dist-packages (from spacy>=2.0.18->fastai) (1.0.2)\n",
            "Requirement already satisfied: dill<0.3,>=0.2 in /usr/local/lib/python3.6/dist-packages (from spacy>=2.0.18->fastai) (0.2.9)\n",
            "Requirement already satisfied: plac<1.0.0,>=0.9.6 in /usr/local/lib/python3.6/dist-packages (from spacy>=2.0.18->fastai) (0.9.6)\n",
            "Requirement already satisfied: thinc<6.13.0,>=6.12.1 in /usr/local/lib/python3.6/dist-packages (from spacy>=2.0.18->fastai) (6.12.1)\n",
            "Requirement already satisfied: regex==2018.01.10 in /usr/local/lib/python3.6/dist-packages (from spacy>=2.0.18->fastai) (2018.1.10)\n",
            "Requirement already satisfied: cymem<2.1.0,>=2.0.2 in /usr/local/lib/python3.6/dist-packages (from spacy>=2.0.18->fastai) (2.0.2)\n",
            "Requirement already satisfied: preshed<2.1.0,>=2.0.1 in /usr/local/lib/python3.6/dist-packages (from spacy>=2.0.18->fastai) (2.0.1)\n",
            "Requirement already satisfied: pyparsing>=2.0.2 in /usr/local/lib/python3.6/dist-packages (from packaging->fastai) (2.4.0)\n",
            "Requirement already satisfied: six in /usr/local/lib/python3.6/dist-packages (from packaging->fastai) (1.12.0)\n",
            "Requirement already satisfied: kiwisolver>=1.0.1 in /usr/local/lib/python3.6/dist-packages (from matplotlib->fastai) (1.1.0)\n",
            "Requirement already satisfied: cycler>=0.10 in /usr/local/lib/python3.6/dist-packages (from matplotlib->fastai) (0.10.0)\n",
            "Requirement already satisfied: certifi>=2017.4.17 in /usr/local/lib/python3.6/dist-packages (from requests->fastai) (2019.3.9)\n",
            "Requirement already satisfied: idna<2.9,>=2.5 in /usr/local/lib/python3.6/dist-packages (from requests->fastai) (2.8)\n",
            "Requirement already satisfied: chardet<3.1.0,>=3.0.2 in /usr/local/lib/python3.6/dist-packages (from requests->fastai) (3.0.4)\n",
            "Requirement already satisfied: urllib3<1.25,>=1.21.1 in /usr/local/lib/python3.6/dist-packages (from requests->fastai) (1.24.3)\n",
            "Requirement already satisfied: cytoolz<0.10,>=0.9.0 in /usr/local/lib/python3.6/dist-packages (from thinc<6.13.0,>=6.12.1->spacy>=2.0.18->fastai) (0.9.0.1)\n",
            "Requirement already satisfied: tqdm<5.0.0,>=4.10.0 in /usr/local/lib/python3.6/dist-packages (from thinc<6.13.0,>=6.12.1->spacy>=2.0.18->fastai) (4.28.1)\n",
            "Requirement already satisfied: wrapt<1.11.0,>=1.10.0 in /usr/local/lib/python3.6/dist-packages (from thinc<6.13.0,>=6.12.1->spacy>=2.0.18->fastai) (1.10.11)\n",
            "Requirement already satisfied: msgpack-numpy<0.4.4 in /usr/local/lib/python3.6/dist-packages (from thinc<6.13.0,>=6.12.1->spacy>=2.0.18->fastai) (0.4.3.2)\n",
            "Requirement already satisfied: msgpack<0.6.0,>=0.5.6 in /usr/local/lib/python3.6/dist-packages (from thinc<6.13.0,>=6.12.1->spacy>=2.0.18->fastai) (0.5.6)\n",
            "Requirement already satisfied: setuptools in /usr/local/lib/python3.6/dist-packages (from kiwisolver>=1.0.1->matplotlib->fastai) (41.0.1)\n",
            "Requirement already satisfied: toolz>=0.8.0 in /usr/local/lib/python3.6/dist-packages (from cytoolz<0.10,>=0.9.0->thinc<6.13.0,>=6.12.1->spacy>=2.0.18->fastai) (0.9.0)\n",
            "Collecting pyarrow\n",
            "\u001b[?25l  Downloading https://files.pythonhosted.org/packages/ad/25/094b122d828d24b58202712a74e661e36cd551ca62d331e388ff68bae91d/pyarrow-0.13.0-cp36-cp36m-manylinux1_x86_64.whl (48.5MB)\n",
            "\u001b[K     |████████████████████████████████| 48.5MB 65.3MB/s \n",
            "\u001b[?25hRequirement already satisfied, skipping upgrade: numpy>=1.14 in /usr/local/lib/python3.6/dist-packages (from pyarrow) (1.16.3)\n",
            "Requirement already satisfied, skipping upgrade: six>=1.0.0 in /usr/local/lib/python3.6/dist-packages (from pyarrow) (1.12.0)\n",
            "Installing collected packages: pyarrow\n",
            "Successfully installed pyarrow-0.13.0\n"
          ],
          "name": "stdout"
        }
      ]
    },
    {
      "cell_type": "markdown",
      "metadata": {
        "id": "nsSuuMBA_4fR",
        "colab_type": "text"
      },
      "source": [
        "## Setup the Google Storage Bucket for images, df datasets etc\n",
        "Download relevant files from here into the CoLab working space"
      ]
    },
    {
      "cell_type": "code",
      "metadata": {
        "id": "L6JAJ54kQIiD",
        "colab_type": "code",
        "colab": {}
      },
      "source": [
        "# Will need to login to access the bucket. The following lines of code do just that\n",
        "from google.colab import auth\n",
        "auth.authenticate_user()\n",
        "\n",
        "# List out all the files in the directory (Make sure that we are logged in)\n",
        "gs_path = 'platform-ai-research/datasets/ProductNet/'\n",
        "!gsutil ls gs://{gs_path}"
      ],
      "execution_count": 0,
      "outputs": []
    },
    {
      "cell_type": "code",
      "metadata": {
        "id": "-_twkdfzQJMW",
        "colab_type": "code",
        "outputId": "c66d1fc3-aec9-4146-e422-dd47b953613f",
        "colab": {
          "base_uri": "https://localhost:8080/",
          "height": 68
        }
      },
      "source": [
        "# Pull from GS bucket\n",
        "gs_path = 'platform-ai-research/datasets/ProductNet/'\n",
        "\n",
        "# This file contains all ~5.5 million labels and asin. It does not contain the urls, \n",
        "# so need to merge with metadata_clean_0513 to get the urls\n",
        "# Reason for doin this way: creating the labels for the 5.5m data points was a time and\n",
        "# memory intensive process. We did not want to keep the unnecessary data like urls in the files\n",
        "file_name = 'labels_5m'\n",
        "\n",
        "remote_file = gs_path + file_name\n",
        "!gsutil cp gs://{remote_file} {file_name} "
      ],
      "execution_count": 3,
      "outputs": [
        {
          "output_type": "stream",
          "text": [
            "Copying gs://platform-ai-research/datasets/ProductNet/labels_5m...\n",
            "/ [1 files][202.9 MiB/202.9 MiB]                                                \n",
            "Operation completed over 1 objects/202.9 MiB.                                    \n"
          ],
          "name": "stdout"
        }
      ]
    },
    {
      "cell_type": "code",
      "metadata": {
        "id": "_opwAWpfG-8H",
        "colab_type": "code",
        "colab": {}
      },
      "source": [
        "# Next step is to download the images\n",
        "# Create the images folder\n",
        "if (not os.path.exists('./images/')):\n",
        "    !mkdir 'images'\n",
        "\n",
        "# There are nearly 30K images (as of May 21st, 2019) in the GS images folder\n",
        "# It can take a while to download. In some cases it is easier to download only the \n",
        "# relevant ones from the web, which is done later\n",
        "\n",
        "#!gsutil -m cp gs://{gs_path}images/*.jpg ./images"
      ],
      "execution_count": 0,
      "outputs": []
    },
    {
      "cell_type": "markdown",
      "metadata": {
        "id": "RAVHA87HBX7U",
        "colab_type": "text"
      },
      "source": [
        "## Creating the working dataset \n",
        "Create a smaller datatset that contins only 10 classes of choice"
      ]
    },
    {
      "cell_type": "code",
      "metadata": {
        "id": "iUKBOsMVKisp",
        "colab_type": "code",
        "colab": {
          "base_uri": "https://localhost:8080/",
          "height": 221
        },
        "outputId": "b15e9358-a30e-4711-fe4e-774f6b9dfa10"
      },
      "source": [
        "# Read in the 5.5m data\n",
        "df = pd.read_feather('labels_5m')\n",
        "print('Number of Categories: ', df['label'].nunique())\n",
        "df.head()"
      ],
      "execution_count": 112,
      "outputs": [
        {
          "output_type": "stream",
          "text": [
            "Number of Categories:  157\n"
          ],
          "name": "stdout"
        },
        {
          "output_type": "execute_result",
          "data": {
            "text/html": [
              "<div>\n",
              "<style scoped>\n",
              "    .dataframe tbody tr th:only-of-type {\n",
              "        vertical-align: middle;\n",
              "    }\n",
              "\n",
              "    .dataframe tbody tr th {\n",
              "        vertical-align: top;\n",
              "    }\n",
              "\n",
              "    .dataframe thead th {\n",
              "        text-align: right;\n",
              "    }\n",
              "</style>\n",
              "<table border=\"1\" class=\"dataframe\">\n",
              "  <thead>\n",
              "    <tr style=\"text-align: right;\">\n",
              "      <th></th>\n",
              "      <th>asin</th>\n",
              "      <th>label</th>\n",
              "    </tr>\n",
              "  </thead>\n",
              "  <tbody>\n",
              "    <tr>\n",
              "      <th>0</th>\n",
              "      <td>0000037214</td>\n",
              "      <td>Clothing Accessories</td>\n",
              "    </tr>\n",
              "    <tr>\n",
              "      <th>1</th>\n",
              "      <td>0000032069</td>\n",
              "      <td>Clothing</td>\n",
              "    </tr>\n",
              "    <tr>\n",
              "      <th>2</th>\n",
              "      <td>0000031909</td>\n",
              "      <td>Athletics</td>\n",
              "    </tr>\n",
              "    <tr>\n",
              "      <th>3</th>\n",
              "      <td>0000032034</td>\n",
              "      <td>Clothing</td>\n",
              "    </tr>\n",
              "    <tr>\n",
              "      <th>4</th>\n",
              "      <td>0000031852</td>\n",
              "      <td>Athletics</td>\n",
              "    </tr>\n",
              "  </tbody>\n",
              "</table>\n",
              "</div>"
            ],
            "text/plain": [
              "         asin                 label\n",
              "0  0000037214  Clothing Accessories\n",
              "1  0000032069              Clothing\n",
              "2  0000031909             Athletics\n",
              "3  0000032034              Clothing\n",
              "4  0000031852             Athletics"
            ]
          },
          "metadata": {
            "tags": []
          },
          "execution_count": 112
        }
      ]
    },
    {
      "cell_type": "code",
      "metadata": {
        "id": "jpgm4ioy2xGN",
        "colab_type": "code",
        "colab": {
          "base_uri": "https://localhost:8080/",
          "height": 374
        },
        "outputId": "4db82b15-124f-4cc4-9138-b2074caace96"
      },
      "source": [
        "# generate a count of the unique labels, and remove categories (labels) with less that\n",
        "# some number of datapoints\n",
        "val_cnt = pd.DataFrame(df['label'].value_counts(sort=True)).reset_index()\n",
        "print(val_cnt.head())\n",
        "\n",
        "REMOVE_N_LESS_THAN = 125\n",
        "remove = val_cnt[val_cnt['label'] < REMOVE_N_LESS_THAN]['index'].tolist()\n",
        "remove"
      ],
      "execution_count": 113,
      "outputs": [
        {
          "output_type": "stream",
          "text": [
            "                         index    label\n",
            "0         Clothing Accessories  1126894\n",
            "1      Electronics Accessories   425398\n",
            "2  Vehicle Parts & Accessories   278705\n",
            "3    Handbags, Wallets & Cases   259496\n",
            "4                     Clothing   236994\n"
          ],
          "name": "stdout"
        },
        {
          "output_type": "execute_result",
          "data": {
            "text/plain": [
              "['Small Engines',\n",
              " 'Live Animals',\n",
              " 'Finance & Insurance',\n",
              " 'Mining & Quarrying',\n",
              " 'Erotic',\n",
              " 'Shipping Supplies',\n",
              " 'Heavy Machinery',\n",
              " 'Magazines & Newspapers',\n",
              " 'Presentation Supplies',\n",
              " 'Fanny Packs',\n",
              " 'Religious Items',\n",
              " 'Plants',\n",
              " 'Ottomans',\n",
              " 'Briefcases',\n",
              " 'Vehicles']"
            ]
          },
          "metadata": {
            "tags": []
          },
          "execution_count": 113
        }
      ]
    },
    {
      "cell_type": "code",
      "metadata": {
        "id": "CsVouool3d77",
        "colab_type": "code",
        "colab": {
          "base_uri": "https://localhost:8080/",
          "height": 34
        },
        "outputId": "11a77d0f-f6fb-4419-9275-75b7da36c238"
      },
      "source": [
        "# Remove categories where number of data is too few\n",
        "df = df[~df['label'].isin(remove)]\n",
        "print('Number of categories left: ', df['label'].nunique())"
      ],
      "execution_count": 114,
      "outputs": [
        {
          "output_type": "stream",
          "text": [
            "Number of categories left:  142\n"
          ],
          "name": "stdout"
        }
      ]
    },
    {
      "cell_type": "code",
      "metadata": {
        "id": "c5dnzStP3_oG",
        "colab_type": "code",
        "colab": {
          "base_uri": "https://localhost:8080/",
          "height": 204
        },
        "outputId": "dfa7fdfd-bfe3-4b36-e997-b7e80a0b6f7a"
      },
      "source": [
        "# Keep the top N categories\n",
        "KEEP_TOP_N_CLASSES = 100\n",
        "keep = val_cnt.iloc[:KEEP_TOP_N_CLASSES]['index'].to_list()\n",
        "# keep\n",
        "\n",
        "# Extract data from preselected categories of interest\n",
        "# This is done to make the problem we are trying to solve tractable\n",
        "# select = ['Shoes', 'Clothing', 'Personal Care',\n",
        "#           'Backpacks', 'Vehicle Parts & Accessories',\n",
        "#           'Toys', 'Sofas', 'Puzzles',\n",
        "#           'Jewelry', 'Lawn & Garden']\n",
        "\n",
        "# df = df[df['label'].isin(select)]\n",
        "\n",
        "df = df[df['label'].isin(keep)]\n",
        "df.head()"
      ],
      "execution_count": 115,
      "outputs": [
        {
          "output_type": "execute_result",
          "data": {
            "text/html": [
              "<div>\n",
              "<style scoped>\n",
              "    .dataframe tbody tr th:only-of-type {\n",
              "        vertical-align: middle;\n",
              "    }\n",
              "\n",
              "    .dataframe tbody tr th {\n",
              "        vertical-align: top;\n",
              "    }\n",
              "\n",
              "    .dataframe thead th {\n",
              "        text-align: right;\n",
              "    }\n",
              "</style>\n",
              "<table border=\"1\" class=\"dataframe\">\n",
              "  <thead>\n",
              "    <tr style=\"text-align: right;\">\n",
              "      <th></th>\n",
              "      <th>asin</th>\n",
              "      <th>label</th>\n",
              "    </tr>\n",
              "  </thead>\n",
              "  <tbody>\n",
              "    <tr>\n",
              "      <th>0</th>\n",
              "      <td>0000037214</td>\n",
              "      <td>Clothing Accessories</td>\n",
              "    </tr>\n",
              "    <tr>\n",
              "      <th>1</th>\n",
              "      <td>0000032069</td>\n",
              "      <td>Clothing</td>\n",
              "    </tr>\n",
              "    <tr>\n",
              "      <th>2</th>\n",
              "      <td>0000031909</td>\n",
              "      <td>Athletics</td>\n",
              "    </tr>\n",
              "    <tr>\n",
              "      <th>3</th>\n",
              "      <td>0000032034</td>\n",
              "      <td>Clothing</td>\n",
              "    </tr>\n",
              "    <tr>\n",
              "      <th>4</th>\n",
              "      <td>0000031852</td>\n",
              "      <td>Athletics</td>\n",
              "    </tr>\n",
              "  </tbody>\n",
              "</table>\n",
              "</div>"
            ],
            "text/plain": [
              "         asin                 label\n",
              "0  0000037214  Clothing Accessories\n",
              "1  0000032069              Clothing\n",
              "2  0000031909             Athletics\n",
              "3  0000032034              Clothing\n",
              "4  0000031852             Athletics"
            ]
          },
          "metadata": {
            "tags": []
          },
          "execution_count": 115
        }
      ]
    },
    {
      "cell_type": "code",
      "metadata": {
        "id": "zg2Wn1wt5Bo1",
        "colab_type": "code",
        "colab": {
          "base_uri": "https://localhost:8080/",
          "height": 51
        },
        "outputId": "8001c242-4795-47b0-f2a8-1d8e7087e2c5"
      },
      "source": [
        "print('Number of categories left: ', df['label'].nunique())\n",
        "df.shape"
      ],
      "execution_count": 117,
      "outputs": [
        {
          "output_type": "stream",
          "text": [
            "Number of categories left:  100\n"
          ],
          "name": "stdout"
        },
        {
          "output_type": "execute_result",
          "data": {
            "text/plain": [
              "(5477021, 2)"
            ]
          },
          "metadata": {
            "tags": []
          },
          "execution_count": 117
        }
      ]
    },
    {
      "cell_type": "code",
      "metadata": {
        "id": "6kBRsnIV5Zio",
        "colab_type": "code",
        "colab": {
          "base_uri": "https://localhost:8080/",
          "height": 919
        },
        "outputId": "da96c094-49fd-4e5f-d090-752ffa0728ac"
      },
      "source": [
        "# plot the categories, and data count\n",
        "val_cnt = df['label'].value_counts(sort=True)\n",
        "\n",
        "plt.figure(figsize=(12,12))\n",
        "sns.barplot(val_cnt.index, \n",
        "            val_cnt.values)\n",
        "\n",
        "plt.xlabel('Label')\n",
        "plt.xticks(range(len(val_cnt)), val_cnt.index, rotation='vertical')\n",
        "plt.ylabel('Count')\n",
        "plt.title('Label vs Count')\n",
        "plt.show()"
      ],
      "execution_count": 118,
      "outputs": [
        {
          "output_type": "display_data",
          "data": {
            "image/png": "[encoded data removed]",
            "text/plain": [
              "<Figure size 864x864 with 1 Axes>"
            ]
          },
          "metadata": {
            "tags": []
          }
        }
      ]
    },
    {
      "cell_type": "markdown",
      "metadata": {
        "id": "KFtilg4g6KyH",
        "colab_type": "text"
      },
      "source": [
        "### Randomly extract a sample from the dataset\n",
        "Since the dataset is fairly large, extract a smaller set to work with. Sub-sampling allows us to randomly select from the available data. We assign weights to the data to get roughly the same number of samples in each category"
      ]
    },
    {
      "cell_type": "code",
      "metadata": {
        "id": "f_oba8dq5uzZ",
        "colab_type": "code",
        "colab": {
          "base_uri": "https://localhost:8080/",
          "height": 204
        },
        "outputId": "4c29db9a-9c07-4850-8e6a-ec58cf56c0fb"
      },
      "source": [
        "# Calculate the weights for subsampling\n",
        "val_cnt = pd.DataFrame(val_cnt).reset_index()\n",
        "val_cnt = val_cnt.rename(columns={'index': 'label', 'label': 'count'})\n",
        "val_cnt['weight'] = 1/val_cnt['count']\n",
        "\n",
        "val_cnt.head()"
      ],
      "execution_count": 119,
      "outputs": [
        {
          "output_type": "execute_result",
          "data": {
            "text/html": [
              "<div>\n",
              "<style scoped>\n",
              "    .dataframe tbody tr th:only-of-type {\n",
              "        vertical-align: middle;\n",
              "    }\n",
              "\n",
              "    .dataframe tbody tr th {\n",
              "        vertical-align: top;\n",
              "    }\n",
              "\n",
              "    .dataframe thead th {\n",
              "        text-align: right;\n",
              "    }\n",
              "</style>\n",
              "<table border=\"1\" class=\"dataframe\">\n",
              "  <thead>\n",
              "    <tr style=\"text-align: right;\">\n",
              "      <th></th>\n",
              "      <th>label</th>\n",
              "      <th>count</th>\n",
              "      <th>weight</th>\n",
              "    </tr>\n",
              "  </thead>\n",
              "  <tbody>\n",
              "    <tr>\n",
              "      <th>0</th>\n",
              "      <td>Clothing Accessories</td>\n",
              "      <td>1126894</td>\n",
              "      <td>8.873949e-07</td>\n",
              "    </tr>\n",
              "    <tr>\n",
              "      <th>1</th>\n",
              "      <td>Electronics Accessories</td>\n",
              "      <td>425398</td>\n",
              "      <td>2.350740e-06</td>\n",
              "    </tr>\n",
              "    <tr>\n",
              "      <th>2</th>\n",
              "      <td>Vehicle Parts &amp; Accessories</td>\n",
              "      <td>278705</td>\n",
              "      <td>3.588023e-06</td>\n",
              "    </tr>\n",
              "    <tr>\n",
              "      <th>3</th>\n",
              "      <td>Handbags, Wallets &amp; Cases</td>\n",
              "      <td>259496</td>\n",
              "      <td>3.853624e-06</td>\n",
              "    </tr>\n",
              "    <tr>\n",
              "      <th>4</th>\n",
              "      <td>Clothing</td>\n",
              "      <td>236994</td>\n",
              "      <td>4.219516e-06</td>\n",
              "    </tr>\n",
              "  </tbody>\n",
              "</table>\n",
              "</div>"
            ],
            "text/plain": [
              "                         label    count        weight\n",
              "0         Clothing Accessories  1126894  8.873949e-07\n",
              "1      Electronics Accessories   425398  2.350740e-06\n",
              "2  Vehicle Parts & Accessories   278705  3.588023e-06\n",
              "3    Handbags, Wallets & Cases   259496  3.853624e-06\n",
              "4                     Clothing   236994  4.219516e-06"
            ]
          },
          "metadata": {
            "tags": []
          },
          "execution_count": 119
        }
      ]
    },
    {
      "cell_type": "code",
      "metadata": {
        "id": "DUnruQLw7Orj",
        "colab_type": "code",
        "colab": {
          "base_uri": "https://localhost:8080/",
          "height": 221
        },
        "outputId": "fdd1f13e-37cb-49f4-be3f-97b61b940a43"
      },
      "source": [
        "# assign weight to each entry in df\n",
        "weightage = dict(zip(val_cnt['label'], val_cnt['weight']))\n",
        "\n",
        "df['weight'] = df['label'].map(weightage)\n",
        "\n",
        "print('Sum of all weights (should equal the number of categories in data) =', sum(df['weight']))\n",
        "df.head()"
      ],
      "execution_count": 120,
      "outputs": [
        {
          "output_type": "stream",
          "text": [
            "Sum of all weights (should equal the number of categories in data) = 99.99999999750835\n"
          ],
          "name": "stdout"
        },
        {
          "output_type": "execute_result",
          "data": {
            "text/html": [
              "<div>\n",
              "<style scoped>\n",
              "    .dataframe tbody tr th:only-of-type {\n",
              "        vertical-align: middle;\n",
              "    }\n",
              "\n",
              "    .dataframe tbody tr th {\n",
              "        vertical-align: top;\n",
              "    }\n",
              "\n",
              "    .dataframe thead th {\n",
              "        text-align: right;\n",
              "    }\n",
              "</style>\n",
              "<table border=\"1\" class=\"dataframe\">\n",
              "  <thead>\n",
              "    <tr style=\"text-align: right;\">\n",
              "      <th></th>\n",
              "      <th>asin</th>\n",
              "      <th>label</th>\n",
              "      <th>weight</th>\n",
              "    </tr>\n",
              "  </thead>\n",
              "  <tbody>\n",
              "    <tr>\n",
              "      <th>0</th>\n",
              "      <td>0000037214</td>\n",
              "      <td>Clothing Accessories</td>\n",
              "      <td>8.873949e-07</td>\n",
              "    </tr>\n",
              "    <tr>\n",
              "      <th>1</th>\n",
              "      <td>0000032069</td>\n",
              "      <td>Clothing</td>\n",
              "      <td>4.219516e-06</td>\n",
              "    </tr>\n",
              "    <tr>\n",
              "      <th>2</th>\n",
              "      <td>0000031909</td>\n",
              "      <td>Athletics</td>\n",
              "      <td>4.769855e-05</td>\n",
              "    </tr>\n",
              "    <tr>\n",
              "      <th>3</th>\n",
              "      <td>0000032034</td>\n",
              "      <td>Clothing</td>\n",
              "      <td>4.219516e-06</td>\n",
              "    </tr>\n",
              "    <tr>\n",
              "      <th>4</th>\n",
              "      <td>0000031852</td>\n",
              "      <td>Athletics</td>\n",
              "      <td>4.769855e-05</td>\n",
              "    </tr>\n",
              "  </tbody>\n",
              "</table>\n",
              "</div>"
            ],
            "text/plain": [
              "         asin                 label        weight\n",
              "0  0000037214  Clothing Accessories  8.873949e-07\n",
              "1  0000032069              Clothing  4.219516e-06\n",
              "2  0000031909             Athletics  4.769855e-05\n",
              "3  0000032034              Clothing  4.219516e-06\n",
              "4  0000031852             Athletics  4.769855e-05"
            ]
          },
          "metadata": {
            "tags": []
          },
          "execution_count": 120
        }
      ]
    },
    {
      "cell_type": "code",
      "metadata": {
        "id": "P70hJl2-7aVU",
        "colab_type": "code",
        "colab": {
          "base_uri": "https://localhost:8080/",
          "height": 204
        },
        "outputId": "c2977ea3-cead-49d8-8eb2-f51d6f38dbe1"
      },
      "source": [
        "# Sample the dataset\n",
        "SAMPLE_SIZE = 5000\n",
        "\n",
        "# get eqqual samples for each category\n",
        "# cats = df['label'].unique()\n",
        "# for c in cats:\n",
        "#     tmp = df[df['label'] == c]    \n",
        "#     tmp = tmp.sample(n=SAMPLE_SIZE/len(cats), replace=False)   \n",
        "#     df2 = pd.concat([df2, tmp], ignore_index=True)\n",
        "# df2['label'].value_counts()\n",
        "\n",
        "# sub sample using weights - roughly equal samples for each category\n",
        "df2 = df.sample(n=SAMPLE_SIZE, weights='weight', random_state=42)\n",
        "df2 = df2[['asin', 'label']].copy()\n",
        "df2.head()"
      ],
      "execution_count": 121,
      "outputs": [
        {
          "output_type": "execute_result",
          "data": {
            "text/html": [
              "<div>\n",
              "<style scoped>\n",
              "    .dataframe tbody tr th:only-of-type {\n",
              "        vertical-align: middle;\n",
              "    }\n",
              "\n",
              "    .dataframe tbody tr th {\n",
              "        vertical-align: top;\n",
              "    }\n",
              "\n",
              "    .dataframe thead th {\n",
              "        text-align: right;\n",
              "    }\n",
              "</style>\n",
              "<table border=\"1\" class=\"dataframe\">\n",
              "  <thead>\n",
              "    <tr style=\"text-align: right;\">\n",
              "      <th></th>\n",
              "      <th>asin</th>\n",
              "      <th>label</th>\n",
              "    </tr>\n",
              "  </thead>\n",
              "  <tbody>\n",
              "    <tr>\n",
              "      <th>1754912</th>\n",
              "      <td>B0035G68CA</td>\n",
              "      <td>Office Furniture</td>\n",
              "    </tr>\n",
              "    <tr>\n",
              "      <th>5201364</th>\n",
              "      <td>B00G7OVVXI</td>\n",
              "      <td>Baby Gift Sets</td>\n",
              "    </tr>\n",
              "    <tr>\n",
              "      <th>3776550</th>\n",
              "      <td>B008MTAWOK</td>\n",
              "      <td>Luggage Accessories</td>\n",
              "    </tr>\n",
              "    <tr>\n",
              "      <th>2979064</th>\n",
              "      <td>B005T8ZVUW</td>\n",
              "      <td>Industrial Storage Accessories</td>\n",
              "    </tr>\n",
              "    <tr>\n",
              "      <th>693862</th>\n",
              "      <td>B000RY73HW</td>\n",
              "      <td>Office Instruments</td>\n",
              "    </tr>\n",
              "  </tbody>\n",
              "</table>\n",
              "</div>"
            ],
            "text/plain": [
              "               asin                           label\n",
              "1754912  B0035G68CA                Office Furniture\n",
              "5201364  B00G7OVVXI                  Baby Gift Sets\n",
              "3776550  B008MTAWOK             Luggage Accessories\n",
              "2979064  B005T8ZVUW  Industrial Storage Accessories\n",
              "693862   B000RY73HW              Office Instruments"
            ]
          },
          "metadata": {
            "tags": []
          },
          "execution_count": 121
        }
      ]
    },
    {
      "cell_type": "code",
      "metadata": {
        "id": "QuyhwfCu8FBe",
        "colab_type": "code",
        "colab": {
          "base_uri": "https://localhost:8080/",
          "height": 1088
        },
        "outputId": "1b39d8d1-eaa3-47ec-b614-5f3020466b8a"
      },
      "source": [
        "print(df2.shape)\n",
        "val_cnt = df2['label'].value_counts(sort=True)\n",
        "val_cnt"
      ],
      "execution_count": 122,
      "outputs": [
        {
          "output_type": "stream",
          "text": [
            "(5000, 2)\n"
          ],
          "name": "stdout"
        },
        {
          "output_type": "execute_result",
          "data": {
            "text/plain": [
              "Sheet Music                                69\n",
              "Marine Electronics                         67\n",
              "Food Items                                 65\n",
              "Manufacturing                              63\n",
              "Shopping Totes                             62\n",
              "Arcade Equipment                           61\n",
              "Household Appliances                       61\n",
              "Bathroom Accessories                       61\n",
              "Baby Toys & Activity Equipment             61\n",
              "Computers                                  61\n",
              "Power & Electrical Supplies                60\n",
              "Household Appliance Accessories            60\n",
              "Umbrella Sleeves & Cases                   60\n",
              "Baby Bathing                               59\n",
              "Shoe Accessories                           58\n",
              "Heating, Ventilation & Air Conditioning    57\n",
              "Industrial Storage Accessories             57\n",
              "Tobacco Products                           57\n",
              "Outdoor Recreation                         57\n",
              "Medical                                    57\n",
              "Wood Stoves                                57\n",
              "Clothing Accessories                       57\n",
              "Lawn & Garden                              56\n",
              "Pet Supplies                               56\n",
              "DVDs & Videos                              56\n",
              "Plumbing                                   56\n",
              "Office Furniture                           55\n",
              "Forestry & Logging                         54\n",
              "Photography                                54\n",
              "Vehicle Parts & Accessories                54\n",
              "                                           ..\n",
              "Music & Sound Recordings                   46\n",
              "Baby Gift Sets                             46\n",
              "Wedding Ceremony Supplies                  45\n",
              "Office Furniture Accessories               45\n",
              "Exercise & Fitness                         45\n",
              "Fireplace & Wood Stove Accessories         44\n",
              "Hobbies & Creative Arts                    44\n",
              "Electronics Accessories                    44\n",
              "Book Accessories                           44\n",
              "Handbag & Wallet Accessories               43\n",
              "Diapering                                  43\n",
              "Cabinets & Storage                         43\n",
              "Dentistry                                  43\n",
              "Work Safety Protective Gear                43\n",
              "General Office Supplies                    42\n",
              "Toys                                       42\n",
              "Household Supplies                         41\n",
              "Piercing & Tattooing                       41\n",
              "Building Materials                         40\n",
              "Parasols & Rain Umbrellas                  40\n",
              "Office Equipment                           40\n",
              "Carpentry & Woodworking Project Plans      40\n",
              "Hairdressing & Cosmetology                 39\n",
              "Jewelry                                    39\n",
              "Business & Home Security                   39\n",
              "Pool & Spa                                 38\n",
              "Entertainment Centers & TV Stands          36\n",
              "Cameras                                    35\n",
              "Camera & Optic Accessories                 32\n",
              "Video Game Console Accessories             32\n",
              "Name: label, Length: 100, dtype: int64"
            ]
          },
          "metadata": {
            "tags": []
          },
          "execution_count": 122
        }
      ]
    },
    {
      "cell_type": "code",
      "metadata": {
        "id": "q0-oK-c28bgq",
        "colab_type": "code",
        "colab": {
          "base_uri": "https://localhost:8080/",
          "height": 702
        },
        "outputId": "82055cb6-94ba-4b4b-f652-fd772d7c8f58"
      },
      "source": [
        "plt.figure(figsize=(12,8))\n",
        "sns.barplot(val_cnt.index, \n",
        "            val_cnt.values)\n",
        "\n",
        "plt.xlabel('Label')\n",
        "plt.xticks(range(len(val_cnt)), val_cnt.index, rotation='vertical')\n",
        "plt.ylabel('Count')\n",
        "plt.title('Label vs Count')\n",
        "plt.show()"
      ],
      "execution_count": 123,
      "outputs": [
        {
          "output_type": "display_data",
          "data": {
            "image/png": "[encoded data removed]",
            "text/plain": [
              "<Figure size 864x576 with 1 Axes>"
            ]
          },
          "metadata": {
            "tags": []
          }
        }
      ]
    },
    {
      "cell_type": "markdown",
      "metadata": {
        "id": "rSHjnrcxa2tU",
        "colab_type": "text"
      },
      "source": [
        "## Get the images (either download from GS or the Web)\n",
        "About 30k images are downloaded and stored in the images folder in the bucket, however, that is out of 5.5million possible. \n",
        "It is also sometimes quicker to download the images directly from the web url"
      ]
    },
    {
      "cell_type": "code",
      "metadata": {
        "id": "w0xPSYjwXaLg",
        "colab_type": "code",
        "colab": {}
      },
      "source": [
        "# First get the original metadata file which contains the images' URLs\n",
        "file_name = 'metadata_clean_0513'\n",
        "\n",
        "if (not os.path.isfile(file_name)):    # chk in the local first\n",
        "    try:\n",
        "        remote_file = gs_path + file_name  # copy from GS\n",
        "        !gsutil cp gs://{remote_file} .\n",
        "    except Exception as e:\n",
        "        print('File not found')\n"
      ],
      "execution_count": 0,
      "outputs": []
    },
    {
      "cell_type": "code",
      "metadata": {
        "id": "zIWJUEtHjD4w",
        "colab_type": "code",
        "colab": {}
      },
      "source": [
        "urls_ = pd.read_feather(file_name)"
      ],
      "execution_count": 0,
      "outputs": []
    },
    {
      "cell_type": "code",
      "metadata": {
        "id": "HdsKI_wPjRlZ",
        "colab_type": "code",
        "colab": {
          "base_uri": "https://localhost:8080/",
          "height": 204
        },
        "outputId": "66824667-7233-48ed-ce94-379c3574592b"
      },
      "source": [
        "urls_.drop(columns=['index', 'categories', 'description', 'title', 'label'], inplace=True)\n",
        "urls_.head()"
      ],
      "execution_count": 126,
      "outputs": [
        {
          "output_type": "execute_result",
          "data": {
            "text/html": [
              "<div>\n",
              "<style scoped>\n",
              "    .dataframe tbody tr th:only-of-type {\n",
              "        vertical-align: middle;\n",
              "    }\n",
              "\n",
              "    .dataframe tbody tr th {\n",
              "        vertical-align: top;\n",
              "    }\n",
              "\n",
              "    .dataframe thead th {\n",
              "        text-align: right;\n",
              "    }\n",
              "</style>\n",
              "<table border=\"1\" class=\"dataframe\">\n",
              "  <thead>\n",
              "    <tr style=\"text-align: right;\">\n",
              "      <th></th>\n",
              "      <th>asin</th>\n",
              "      <th>imUrl</th>\n",
              "    </tr>\n",
              "  </thead>\n",
              "  <tbody>\n",
              "    <tr>\n",
              "      <th>0</th>\n",
              "      <td>0000037214</td>\n",
              "      <td>http://ecx.images-amazon.com/images/I/31mCncNu...</td>\n",
              "    </tr>\n",
              "    <tr>\n",
              "      <th>1</th>\n",
              "      <td>0000032069</td>\n",
              "      <td>http://ecx.images-amazon.com/images/I/51EzU6qu...</td>\n",
              "    </tr>\n",
              "    <tr>\n",
              "      <th>2</th>\n",
              "      <td>0000031909</td>\n",
              "      <td>http://ecx.images-amazon.com/images/I/41xBoP0F...</td>\n",
              "    </tr>\n",
              "    <tr>\n",
              "      <th>3</th>\n",
              "      <td>0000032034</td>\n",
              "      <td>http://ecx.images-amazon.com/images/I/21GNUNIa...</td>\n",
              "    </tr>\n",
              "    <tr>\n",
              "      <th>4</th>\n",
              "      <td>0000031852</td>\n",
              "      <td>http://ecx.images-amazon.com/images/I/51fAmVkT...</td>\n",
              "    </tr>\n",
              "  </tbody>\n",
              "</table>\n",
              "</div>"
            ],
            "text/plain": [
              "         asin                                              imUrl\n",
              "0  0000037214  http://ecx.images-amazon.com/images/I/31mCncNu...\n",
              "1  0000032069  http://ecx.images-amazon.com/images/I/51EzU6qu...\n",
              "2  0000031909  http://ecx.images-amazon.com/images/I/41xBoP0F...\n",
              "3  0000032034  http://ecx.images-amazon.com/images/I/21GNUNIa...\n",
              "4  0000031852  http://ecx.images-amazon.com/images/I/51fAmVkT..."
            ]
          },
          "metadata": {
            "tags": []
          },
          "execution_count": 126
        }
      ]
    },
    {
      "cell_type": "code",
      "metadata": {
        "id": "cANG8TtLNsWl",
        "colab_type": "code",
        "colab": {}
      },
      "source": [
        "# Merge df and urls_\n",
        "url_df = pd.merge(df2, urls_,\n",
        "                 left_on='asin', right_on='asin',\n",
        "                 how='inner')"
      ],
      "execution_count": 0,
      "outputs": []
    },
    {
      "cell_type": "code",
      "metadata": {
        "id": "6JIGFAYjN1ib",
        "colab_type": "code",
        "colab": {
          "base_uri": "https://localhost:8080/",
          "height": 221
        },
        "outputId": "77025b37-8760-48a7-8599-da7c71b95030"
      },
      "source": [
        "print(len(url_df))\n",
        "url_df.head()"
      ],
      "execution_count": 128,
      "outputs": [
        {
          "output_type": "stream",
          "text": [
            "5000\n"
          ],
          "name": "stdout"
        },
        {
          "output_type": "execute_result",
          "data": {
            "text/html": [
              "<div>\n",
              "<style scoped>\n",
              "    .dataframe tbody tr th:only-of-type {\n",
              "        vertical-align: middle;\n",
              "    }\n",
              "\n",
              "    .dataframe tbody tr th {\n",
              "        vertical-align: top;\n",
              "    }\n",
              "\n",
              "    .dataframe thead th {\n",
              "        text-align: right;\n",
              "    }\n",
              "</style>\n",
              "<table border=\"1\" class=\"dataframe\">\n",
              "  <thead>\n",
              "    <tr style=\"text-align: right;\">\n",
              "      <th></th>\n",
              "      <th>asin</th>\n",
              "      <th>label</th>\n",
              "      <th>imUrl</th>\n",
              "    </tr>\n",
              "  </thead>\n",
              "  <tbody>\n",
              "    <tr>\n",
              "      <th>0</th>\n",
              "      <td>B0035G68CA</td>\n",
              "      <td>Office Furniture</td>\n",
              "      <td>http://ecx.images-amazon.com/images/I/319ySx0O...</td>\n",
              "    </tr>\n",
              "    <tr>\n",
              "      <th>1</th>\n",
              "      <td>B00G7OVVXI</td>\n",
              "      <td>Baby Gift Sets</td>\n",
              "      <td>http://ecx.images-amazon.com/images/I/51lF0niP...</td>\n",
              "    </tr>\n",
              "    <tr>\n",
              "      <th>2</th>\n",
              "      <td>B008MTAWOK</td>\n",
              "      <td>Luggage Accessories</td>\n",
              "      <td>http://ecx.images-amazon.com/images/I/411qicIq...</td>\n",
              "    </tr>\n",
              "    <tr>\n",
              "      <th>3</th>\n",
              "      <td>B005T8ZVUW</td>\n",
              "      <td>Industrial Storage Accessories</td>\n",
              "      <td>http://ecx.images-amazon.com/images/I/51-FHGwV...</td>\n",
              "    </tr>\n",
              "    <tr>\n",
              "      <th>4</th>\n",
              "      <td>B000RY73HW</td>\n",
              "      <td>Office Instruments</td>\n",
              "      <td>http://ecx.images-amazon.com/images/I/41ySyu7a...</td>\n",
              "    </tr>\n",
              "  </tbody>\n",
              "</table>\n",
              "</div>"
            ],
            "text/plain": [
              "         asin  ...                                              imUrl\n",
              "0  B0035G68CA  ...  http://ecx.images-amazon.com/images/I/319ySx0O...\n",
              "1  B00G7OVVXI  ...  http://ecx.images-amazon.com/images/I/51lF0niP...\n",
              "2  B008MTAWOK  ...  http://ecx.images-amazon.com/images/I/411qicIq...\n",
              "3  B005T8ZVUW  ...  http://ecx.images-amazon.com/images/I/51-FHGwV...\n",
              "4  B000RY73HW  ...  http://ecx.images-amazon.com/images/I/41ySyu7a...\n",
              "\n",
              "[5 rows x 3 columns]"
            ]
          },
          "metadata": {
            "tags": []
          },
          "execution_count": 128
        }
      ]
    },
    {
      "cell_type": "code",
      "metadata": {
        "id": "PLRnU13EB41j",
        "colab_type": "code",
        "colab": {
          "base_uri": "https://localhost:8080/",
          "height": 85
        },
        "outputId": "8a5fba8e-6d21-492f-b778-ba83980782ef"
      },
      "source": [
        "# Fix a few label names so they have no spaces, & etc because these will be used as folder names\n",
        "def relabel(s):\n",
        "    s = '_'.join(s.split(' '))\n",
        "    s = s.replace(',_','_')\n",
        "    return s.replace('_&_', '_')\n",
        "  \n",
        "print('old labels', url_df.label.unique())\n",
        "\n",
        "url_df.label = url_df.label.apply(relabel)\n",
        "\n",
        "print('new labels', url_df.label.unique())"
      ],
      "execution_count": 130,
      "outputs": [
        {
          "output_type": "stream",
          "text": [
            "old labels ['Office_Furniture' 'Baby_Gift_Sets' 'Luggage_Accessories' 'Industrial_Storage_Accessories' ...\n",
            " 'Heating,_Ventilation_Air_Conditioning' 'DVDs_Videos' 'Athletics' 'Sofas']\n",
            "new labels ['Office_Furniture' 'Baby_Gift_Sets' 'Luggage_Accessories' 'Industrial_Storage_Accessories' ...\n",
            " 'Heating_Ventilation_Air_Conditioning' 'DVDs_Videos' 'Athletics' 'Sofas']\n"
          ],
          "name": "stdout"
        }
      ]
    },
    {
      "cell_type": "code",
      "metadata": {
        "id": "w3pmdq2U_3DT",
        "colab_type": "code",
        "colab": {}
      },
      "source": [
        "imUrls = url_df.imUrl.tolist()\n",
        "labels = url_df.label.tolist()\n",
        "asins  = url_df.asin.tolist()"
      ],
      "execution_count": 0,
      "outputs": []
    },
    {
      "cell_type": "code",
      "metadata": {
        "id": "qYxcPdZxAg5w",
        "colab_type": "code",
        "colab": {
          "base_uri": "https://localhost:8080/",
          "height": 51
        },
        "outputId": "41a3fb86-830e-47ef-d183-036b27448242"
      },
      "source": [
        "url_df.label.unique()"
      ],
      "execution_count": 132,
      "outputs": [
        {
          "output_type": "execute_result",
          "data": {
            "text/plain": [
              "array(['Office_Furniture', 'Baby_Gift_Sets', 'Luggage_Accessories', 'Industrial_Storage_Accessories', ...,\n",
              "       'Heating_Ventilation_Air_Conditioning', 'DVDs_Videos', 'Athletics', 'Sofas'], dtype=object)"
            ]
          },
          "metadata": {
            "tags": []
          },
          "execution_count": 132
        }
      ]
    },
    {
      "cell_type": "code",
      "metadata": {
        "id": "aGOFiEfkIGyu",
        "colab_type": "code",
        "colab": {}
      },
      "source": [
        "# Create folders for the images\n",
        "# Create the images folder\n",
        "if (not os.path.exists('./images/')):\n",
        "    !mkdir 'images'\n",
        "\n",
        "# create the sub-folders\n",
        "for fn in url_df.label.unique():\n",
        "    fn_ = './images/'+fn\n",
        "    if (not os.path.exists(fn_)):\n",
        "        print('creating ',fn_)\n",
        "        !mkdir {fn_}"
      ],
      "execution_count": 0,
      "outputs": []
    },
    {
      "cell_type": "code",
      "metadata": {
        "id": "ts_2ItZbAoIL",
        "colab_type": "code",
        "colab": {}
      },
      "source": [
        "from tqdm import tqdm\n",
        "from PIL import Image\n",
        "\n",
        "#%%time\n",
        "for url_label_id in (zip(imUrls, labels, asins)):\n",
        "    url = url_label_id[0] # url of image\n",
        "    label = url_label_id[1].split(' ')[0] # label, if multiple words, use only first\n",
        "    asin = url_label_id[2] # asin of image\n",
        "    \n",
        "    filename = './images/' + label + '/' + asin + '.jpg'    \n",
        "    \n",
        "#     print(filename)  \n",
        "#     break\n",
        "  \n",
        "    # also check if file exists. If it does, do not reload it!\n",
        "    if (not os.path.isfile(filename)):\n",
        "        try:\n",
        "            r = requests.get(url, allow_redirects=True)\n",
        "            open(filename, 'wb').write(r.content)\n",
        "            \n",
        "        except Exception as e:\n",
        "            url_df = url_df[url_df.asin != asin]           # if missing, remove from dataset\n",
        "            print('Missing')\n",
        "            with open(\"./missing_select_df.txt\", \"a\") as f:\n",
        "                f.write(asin+'\\n')   "
      ],
      "execution_count": 0,
      "outputs": []
    },
    {
      "cell_type": "code",
      "metadata": {
        "id": "8dtDfrusj-Pv",
        "colab_type": "code",
        "colab": {
          "base_uri": "https://localhost:8080/",
          "height": 34
        },
        "outputId": "b5824868-bd81-424a-8f6e-5d86525ec8e8"
      },
      "source": [
        "from tqdm import tqdm\n",
        "from PIL import Image\n",
        "\n",
        "for url_id in tqdm(zip(imUrls, asins)):\n",
        "    url = url_id[0] # url of image\n",
        "    asin = url_id[1] # asin of image\n",
        "    filename = './images/' + asin + '.jpg'\n",
        "    \n",
        "    try:\n",
        "        img = Image.open(filename)\n",
        "    except Exception as e:\n",
        "        df = df[df.asin != asin]           # if missing, remove from dataset\n",
        "        with open(\"./missing_imgs.txt\", \"a\") as f:\n",
        "            f.write(asin+'\\n')"
      ],
      "execution_count": 18,
      "outputs": [
        {
          "output_type": "stream",
          "text": [
            "785it [00:00, 8540.00it/s]\n"
          ],
          "name": "stderr"
        }
      ]
    },
    {
      "cell_type": "code",
      "metadata": {
        "id": "6E13lhTCFQOY",
        "colab_type": "code",
        "colab": {
          "base_uri": "https://localhost:8080/",
          "height": 34
        },
        "outputId": "8d027772-1537-4ea8-d876-b807617ef169"
      },
      "source": [
        "!ls ./images/* | wc"
      ],
      "execution_count": 135,
      "outputs": [
        {
          "output_type": "stream",
          "text": [
            "   2042    1942   30598\n"
          ],
          "name": "stdout"
        }
      ]
    },
    {
      "cell_type": "code",
      "metadata": {
        "id": "qWqllO2UqYYf",
        "colab_type": "code",
        "colab": {}
      },
      "source": [
        "!zip -r images.zip ./images"
      ],
      "execution_count": 0,
      "outputs": []
    },
    {
      "cell_type": "code",
      "metadata": {
        "id": "4e9SaCMBq6aX",
        "colab_type": "code",
        "colab": {}
      },
      "source": [
        ""
      ],
      "execution_count": 0,
      "outputs": []
    }
  ]
}