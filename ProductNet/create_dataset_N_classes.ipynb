{
  "nbformat": 4,
  "nbformat_minor": 0,
  "metadata": {
    "colab": {
      "name": "workbook_5.ipynb",
      "version": "0.3.2",
      "provenance": [],
      "collapsed_sections": []
    },
    "kernelspec": {
      "name": "python3",
      "display_name": "Python 3"
    },
    "accelerator": "GPU"
  },
  "cells": [
    {
      "cell_type": "markdown",
      "metadata": {
        "id": "EJYeGIFrpazt",
        "colab_type": "text"
      },
      "source": [
        "# ProductNet: Categorize products using image(s) and text descriptors\n",
        "## Jen Sheng Wong and Kartik Nanda (Cohort 14)\n",
        "Based on following paper: https://arxiv.org/pdf/1904.09037.pdf\n",
        "\n",
        "## Problem Statement:\n",
        "Relates primarily to products on retail/marketplace sites such as Amazon. The problem deals with 3 main aspects:\n",
        "* Trying to categorize products. Number of categories ~5700 (using the Google taxonomy: https://github.com/fellowship/platform-demos3/blob/master/ProductNet/taxonomy-with-ids.en-US.xls)\n",
        "* Product has images (1 or more)\n",
        "* Product has text - title, description, keywords\n",
        "\n",
        "Possible end-problems to solve: \n",
        "a) Find the category, given product images and user provided text description. \n",
        "b) Find mis-categorized products\n",
        "\n",
        "## Dataset: \n",
        "Products for sale on Amazon; product details from 1996 through 2014, by Prof. McAuley at UCSD\n",
        "Citations:\n",
        "* R. He, J. McAuley. Modeling the visual evolution of fashion trends with one-class collaborative filtering. WWW, 2016\n",
        "* J. McAuley, C. Targett, J. Shi, A. van den Hengel. Image-based recommendations on styles and substitutes. SIGIR, 2015\n",
        "\n",
        "## Dataset Storage:\n",
        "* Used Google storage bucket located at gs://platform-ai-research/datasets/ProductNet/\n",
        "* Also used Jen Sheng's Google Drive for intermediate files, images etc\n",
        "\n",
        "## Approaches\n",
        "### Approach in Paper\n",
        "The paper assumes that the dataset is unlabeled, and uses the product images in conjunction with the text descriptors (title, keywords, description) to generate a label. It uses an iterative process that includes a master model and a local model. The master model predicts the categories from the images and text. The local model is used to find similar products (possibly using the activations from the master model). These products are then manually labeled. Once a few labels are generated, the set is again fed to the master model, and the process repeats. \n",
        "\n",
        "The paper reports having labeled 178000 products across 3900 categories (approx 40 to 60 products per category/label). The prediction accuracy of the master model on the labeled data is 94.7%\n",
        "\n",
        "### Our Challenges, and Approaches\n",
        "* Do not have access to the labeled dataset the authors used. So we cannot reproduce the accuracy they have reported on their dataset.\n",
        "* The first challenge was to create a dataset. Downloaded one of products on Amazon (see citations above) from UCSD. The dataset has product images, title, description,  and categories. \n",
        "\n",
        "#### First Approach: use categories column as labels\n",
        "Our first approach was to use the categories as the label, however, soon realised that it isn't. For one there are roughly 90,000 unique entries. And second, a more detailed examination reveals these are actually key words. Accuracy on a narrower dataset (142 classes) was ~3% \n",
        "\n",
        "#### Second Appraoch: similar to the paper's authors' approach\n",
        "Like the authors, our data is also unlabeled. We have images, and text descriptors. One possible approach is to reproduce the paper's work, namely create a labeled dataset. We could build a text model + image model as the master, and use Platform.ai for labeling and to find similar products (the local model). Used iteratively, this could be used to label enough products to build a robust model. \n",
        "\n",
        "Issues with this approach: \n",
        "The main issue is Platform.ai does not currently support text.\n",
        "\n",
        "#### Third Appraoch: generate labels from categories using text mapping\n",
        "Generate labels from only the text descriptors. We used the categories (key words) entries to generate a label for the product. The labels are from the Google taxonomy (same as used in the paper). The file is stored in the GS bucket. \n",
        "\n",
        "We used the Universal Sentence Encoder (USE) to map the category description to a label (minimal distance between the encodings). This was done for the entire 5.5 million dataset. \n",
        "\n",
        "For this try, we did not map to the leaf node (~5700 leaf nodes in the google taxo label doc). Instead, mapped to level 2 (shallower) - this provides fewer classes but inconsistent depth (so its not perfect). We got 142 labels. \n",
        "\n",
        "#### Fourth Approach: generate labels in Platform.ai\n",
        "We took a smaller set of 1440 images from 10 categories (labels). The labels were arbitrarily picked from the 20k dataset (142 categories), based on the assigned category/ labels. This is not a clean dataset because there are many mis-labled images in the 20k dataset \n",
        "\n",
        " \n"
      ]
    },
    {
      "cell_type": "code",
      "metadata": {
        "id": "6eqdIqgEP6x-",
        "colab_type": "code",
        "outputId": "110e7391-ee91-40d9-c91d-71050cb264c1",
        "colab": {
          "base_uri": "https://localhost:8080/",
          "height": 921
        }
      },
      "source": [
        "!pip install fastai\n",
        "!pip install -U pyarrow\n",
        "\n",
        "import numpy as np\n",
        "import pandas as pd\n",
        "import seaborn as sns\n",
        "\n",
        "import requests\n",
        "import ast\n",
        "import os\n",
        "import gc\n",
        "import matplotlib.pyplot as plt\n",
        "\n",
        "from fastai.vision import *\n",
        "from fastai.metrics import error_rate, accuracy"
      ],
      "execution_count": 1,
      "outputs": [
        {
          "output_type": "stream",
          "text": [
            "Requirement already satisfied: fastai in /usr/local/lib/python3.6/dist-packages (1.0.52)\n",
            "Requirement already satisfied: torch>=1.0.0 in /usr/local/lib/python3.6/dist-packages (from fastai) (1.1.0)\n",
            "Requirement already satisfied: numexpr in /usr/local/lib/python3.6/dist-packages (from fastai) (2.6.9)\n",
            "Requirement already satisfied: numpy>=1.15 in /usr/local/lib/python3.6/dist-packages (from fastai) (1.16.3)\n",
            "Requirement already satisfied: pandas in /usr/local/lib/python3.6/dist-packages (from fastai) (0.24.2)\n",
            "Requirement already satisfied: Pillow in /usr/local/lib/python3.6/dist-packages (from fastai) (4.3.0)\n",
            "Requirement already satisfied: spacy>=2.0.18 in /usr/local/lib/python3.6/dist-packages (from fastai) (2.0.18)\n",
            "Requirement already satisfied: bottleneck in /usr/local/lib/python3.6/dist-packages (from fastai) (1.2.1)\n",
            "Requirement already satisfied: fastprogress>=0.1.19 in /usr/local/lib/python3.6/dist-packages (from fastai) (0.1.21)\n",
            "Requirement already satisfied: scipy in /usr/local/lib/python3.6/dist-packages (from fastai) (1.3.0)\n",
            "Requirement already satisfied: typing in /usr/local/lib/python3.6/dist-packages (from fastai) (3.6.6)\n",
            "Requirement already satisfied: packaging in /usr/local/lib/python3.6/dist-packages (from fastai) (19.0)\n",
            "Requirement already satisfied: nvidia-ml-py3 in /usr/local/lib/python3.6/dist-packages (from fastai) (7.352.0)\n",
            "Requirement already satisfied: dataclasses; python_version < \"3.7\" in /usr/local/lib/python3.6/dist-packages (from fastai) (0.6)\n",
            "Requirement already satisfied: matplotlib in /usr/local/lib/python3.6/dist-packages (from fastai) (3.0.3)\n",
            "Requirement already satisfied: torchvision in /usr/local/lib/python3.6/dist-packages (from fastai) (0.2.2.post3)\n",
            "Requirement already satisfied: requests in /usr/local/lib/python3.6/dist-packages (from fastai) (2.21.0)\n",
            "Requirement already satisfied: pyyaml in /usr/local/lib/python3.6/dist-packages (from fastai) (3.13)\n",
            "Requirement already satisfied: beautifulsoup4 in /usr/local/lib/python3.6/dist-packages (from fastai) (4.6.3)\n",
            "Requirement already satisfied: python-dateutil>=2.5.0 in /usr/local/lib/python3.6/dist-packages (from pandas->fastai) (2.5.3)\n",
            "Requirement already satisfied: pytz>=2011k in /usr/local/lib/python3.6/dist-packages (from pandas->fastai) (2018.9)\n",
            "Requirement already satisfied: olefile in /usr/local/lib/python3.6/dist-packages (from Pillow->fastai) (0.46)\n",
            "Requirement already satisfied: ujson>=1.35 in /usr/local/lib/python3.6/dist-packages (from spacy>=2.0.18->fastai) (1.35)\n",
            "Requirement already satisfied: murmurhash<1.1.0,>=0.28.0 in /usr/local/lib/python3.6/dist-packages (from spacy>=2.0.18->fastai) (1.0.2)\n",
            "Requirement already satisfied: dill<0.3,>=0.2 in /usr/local/lib/python3.6/dist-packages (from spacy>=2.0.18->fastai) (0.2.9)\n",
            "Requirement already satisfied: plac<1.0.0,>=0.9.6 in /usr/local/lib/python3.6/dist-packages (from spacy>=2.0.18->fastai) (0.9.6)\n",
            "Requirement already satisfied: thinc<6.13.0,>=6.12.1 in /usr/local/lib/python3.6/dist-packages (from spacy>=2.0.18->fastai) (6.12.1)\n",
            "Requirement already satisfied: regex==2018.01.10 in /usr/local/lib/python3.6/dist-packages (from spacy>=2.0.18->fastai) (2018.1.10)\n",
            "Requirement already satisfied: cymem<2.1.0,>=2.0.2 in /usr/local/lib/python3.6/dist-packages (from spacy>=2.0.18->fastai) (2.0.2)\n",
            "Requirement already satisfied: preshed<2.1.0,>=2.0.1 in /usr/local/lib/python3.6/dist-packages (from spacy>=2.0.18->fastai) (2.0.1)\n",
            "Requirement already satisfied: pyparsing>=2.0.2 in /usr/local/lib/python3.6/dist-packages (from packaging->fastai) (2.4.0)\n",
            "Requirement already satisfied: six in /usr/local/lib/python3.6/dist-packages (from packaging->fastai) (1.12.0)\n",
            "Requirement already satisfied: kiwisolver>=1.0.1 in /usr/local/lib/python3.6/dist-packages (from matplotlib->fastai) (1.1.0)\n",
            "Requirement already satisfied: cycler>=0.10 in /usr/local/lib/python3.6/dist-packages (from matplotlib->fastai) (0.10.0)\n",
            "Requirement already satisfied: certifi>=2017.4.17 in /usr/local/lib/python3.6/dist-packages (from requests->fastai) (2019.3.9)\n",
            "Requirement already satisfied: idna<2.9,>=2.5 in /usr/local/lib/python3.6/dist-packages (from requests->fastai) (2.8)\n",
            "Requirement already satisfied: chardet<3.1.0,>=3.0.2 in /usr/local/lib/python3.6/dist-packages (from requests->fastai) (3.0.4)\n",
            "Requirement already satisfied: urllib3<1.25,>=1.21.1 in /usr/local/lib/python3.6/dist-packages (from requests->fastai) (1.24.3)\n",
            "Requirement already satisfied: cytoolz<0.10,>=0.9.0 in /usr/local/lib/python3.6/dist-packages (from thinc<6.13.0,>=6.12.1->spacy>=2.0.18->fastai) (0.9.0.1)\n",
            "Requirement already satisfied: tqdm<5.0.0,>=4.10.0 in /usr/local/lib/python3.6/dist-packages (from thinc<6.13.0,>=6.12.1->spacy>=2.0.18->fastai) (4.28.1)\n",
            "Requirement already satisfied: wrapt<1.11.0,>=1.10.0 in /usr/local/lib/python3.6/dist-packages (from thinc<6.13.0,>=6.12.1->spacy>=2.0.18->fastai) (1.10.11)\n",
            "Requirement already satisfied: msgpack-numpy<0.4.4 in /usr/local/lib/python3.6/dist-packages (from thinc<6.13.0,>=6.12.1->spacy>=2.0.18->fastai) (0.4.3.2)\n",
            "Requirement already satisfied: msgpack<0.6.0,>=0.5.6 in /usr/local/lib/python3.6/dist-packages (from thinc<6.13.0,>=6.12.1->spacy>=2.0.18->fastai) (0.5.6)\n",
            "Requirement already satisfied: setuptools in /usr/local/lib/python3.6/dist-packages (from kiwisolver>=1.0.1->matplotlib->fastai) (41.0.1)\n",
            "Requirement already satisfied: toolz>=0.8.0 in /usr/local/lib/python3.6/dist-packages (from cytoolz<0.10,>=0.9.0->thinc<6.13.0,>=6.12.1->spacy>=2.0.18->fastai) (0.9.0)\n",
            "Collecting pyarrow\n",
            "\u001b[?25l  Downloading https://files.pythonhosted.org/packages/ad/25/094b122d828d24b58202712a74e661e36cd551ca62d331e388ff68bae91d/pyarrow-0.13.0-cp36-cp36m-manylinux1_x86_64.whl (48.5MB)\n",
            "\u001b[K     |████████████████████████████████| 48.5MB 65.3MB/s \n",
            "\u001b[?25hRequirement already satisfied, skipping upgrade: numpy>=1.14 in /usr/local/lib/python3.6/dist-packages (from pyarrow) (1.16.3)\n",
            "Requirement already satisfied, skipping upgrade: six>=1.0.0 in /usr/local/lib/python3.6/dist-packages (from pyarrow) (1.12.0)\n",
            "Installing collected packages: pyarrow\n",
            "Successfully installed pyarrow-0.13.0\n"
          ],
          "name": "stdout"
        }
      ]
    },
    {
      "cell_type": "markdown",
      "metadata": {
        "id": "nsSuuMBA_4fR",
        "colab_type": "text"
      },
      "source": [
        "## Setup the Google Storage Bucket for images, df datasets etc\n",
        "Download relevant files from here into the CoLab working space"
      ]
    },
    {
      "cell_type": "code",
      "metadata": {
        "id": "L6JAJ54kQIiD",
        "colab_type": "code",
        "colab": {
          "base_uri": "https://localhost:8080/",
          "height": 374
        },
        "outputId": "5aa4f43f-4063-48ce-c9e2-cde765b07a91"
      },
      "source": [
        "# Will need to login to access the bucket. The following lines of code do just that\n",
        "from google.colab import auth\n",
        "auth.authenticate_user()\n",
        "\n",
        "# List out all the files in the directory (Make sure that we are logged in)\n",
        "gs_path = 'platform-ai-research/datasets/ProductNet/'\n",
        "!gsutil ls gs://{gs_path}"
      ],
      "execution_count": 2,
      "outputs": [
        {
          "output_type": "stream",
          "text": [
            "gs://platform-ai-research/datasets/ProductNet/ProductNet_small_prediction_2.csv\n",
            "gs://platform-ai-research/datasets/ProductNet/crawl-300d-2M.vec\n",
            "gs://platform-ai-research/datasets/ProductNet/df2_20000\n",
            "gs://platform-ai-research/datasets/ProductNet/df2_clean_THRESHOLD_5_4\n",
            "gs://platform-ai-research/datasets/ProductNet/df2_clean_THRESHOLD_7\n",
            "gs://platform-ai-research/datasets/ProductNet/df2_clean_THRESHOLD_7_2\n",
            "gs://platform-ai-research/datasets/ProductNet/df2_clean_THRESHOLD_7_3\n",
            "gs://platform-ai-research/datasets/ProductNet/df_new_label\n",
            "gs://platform-ai-research/datasets/ProductNet/images_folder_0523.zip\n",
            "gs://platform-ai-research/datasets/ProductNet/labels_5m\n",
            "gs://platform-ai-research/datasets/ProductNet/metadata.feather\n",
            "gs://platform-ai-research/datasets/ProductNet/metadata_clean_0513\n",
            "gs://platform-ai-research/datasets/ProductNet/taxonomy-with-ids.en-US.xls\n",
            "gs://platform-ai-research/datasets/ProductNet/urls_20000\n",
            "gs://platform-ai-research/datasets/ProductNet//\n",
            "gs://platform-ai-research/datasets/ProductNet/images/\n",
            "gs://platform-ai-research/datasets/ProductNet/images_999/\n",
            "gs://platform-ai-research/datasets/ProductNet/images_folder/\n",
            "gs://platform-ai-research/datasets/ProductNet/kn_models/\n",
            "gs://platform-ai-research/datasets/ProductNet/mapped_label_temp_files/\n",
            "gs://platform-ai-research/datasets/ProductNet/metadata_temp_files/\n"
          ],
          "name": "stdout"
        }
      ]
    },
    {
      "cell_type": "code",
      "metadata": {
        "id": "-_twkdfzQJMW",
        "colab_type": "code",
        "outputId": "c66d1fc3-aec9-4146-e422-dd47b953613f",
        "colab": {
          "base_uri": "https://localhost:8080/",
          "height": 68
        }
      },
      "source": [
        "# Pull from GS bucket\n",
        "gs_path = 'platform-ai-research/datasets/ProductNet/'\n",
        "\n",
        "# This file contains all ~5.5 million labels and asin. It does not contain the urls, \n",
        "# so need to merge with metadata_clean_0513 to get the urls\n",
        "# Reason for doin this way: creating the labels for the 5.5m data points was a time and\n",
        "# memory intensive process. We did not want to keep the unnecessary data like urls in the files\n",
        "file_name = 'labels_5m'\n",
        "\n",
        "remote_file = gs_path + file_name\n",
        "!gsutil cp gs://{remote_file} {file_name} "
      ],
      "execution_count": 3,
      "outputs": [
        {
          "output_type": "stream",
          "text": [
            "Copying gs://platform-ai-research/datasets/ProductNet/labels_5m...\n",
            "/ [1 files][202.9 MiB/202.9 MiB]                                                \n",
            "Operation completed over 1 objects/202.9 MiB.                                    \n"
          ],
          "name": "stdout"
        }
      ]
    },
    {
      "cell_type": "code",
      "metadata": {
        "id": "_opwAWpfG-8H",
        "colab_type": "code",
        "colab": {}
      },
      "source": [
        "# Next step is to download the images\n",
        "# Create the images folder\n",
        "if (not os.path.exists('./images/')):\n",
        "    !mkdir 'images'\n",
        "\n",
        "# There are nearly 30K images (as of May 21st, 2019) in the GS images folder\n",
        "# It can take a while to download. In some cases it is easier to download only the \n",
        "# relevant ones from the web, which is done later\n",
        "\n",
        "#!gsutil -m cp gs://{gs_path}images/*.jpg ./images"
      ],
      "execution_count": 0,
      "outputs": []
    },
    {
      "cell_type": "markdown",
      "metadata": {
        "id": "RAVHA87HBX7U",
        "colab_type": "text"
      },
      "source": [
        "## Creating the working dataset \n",
        "Create a smaller datatset that contins only 10 classes of choice"
      ]
    },
    {
      "cell_type": "code",
      "metadata": {
        "id": "iUKBOsMVKisp",
        "colab_type": "code",
        "colab": {
          "base_uri": "https://localhost:8080/",
          "height": 221
        },
        "outputId": "30081748-a550-4330-cf1d-8fdccdf927e0"
      },
      "source": [
        "# Read in the 5.5m data\n",
        "df = pd.read_feather('labels_5m')\n",
        "print('Number of Categories: ', df['label'].nunique())\n",
        "df.head()"
      ],
      "execution_count": 8,
      "outputs": [
        {
          "output_type": "stream",
          "text": [
            "Number of Categories:  157\n"
          ],
          "name": "stdout"
        },
        {
          "output_type": "execute_result",
          "data": {
            "text/html": [
              "<div>\n",
              "<style scoped>\n",
              "    .dataframe tbody tr th:only-of-type {\n",
              "        vertical-align: middle;\n",
              "    }\n",
              "\n",
              "    .dataframe tbody tr th {\n",
              "        vertical-align: top;\n",
              "    }\n",
              "\n",
              "    .dataframe thead th {\n",
              "        text-align: right;\n",
              "    }\n",
              "</style>\n",
              "<table border=\"1\" class=\"dataframe\">\n",
              "  <thead>\n",
              "    <tr style=\"text-align: right;\">\n",
              "      <th></th>\n",
              "      <th>asin</th>\n",
              "      <th>label</th>\n",
              "    </tr>\n",
              "  </thead>\n",
              "  <tbody>\n",
              "    <tr>\n",
              "      <th>0</th>\n",
              "      <td>0000037214</td>\n",
              "      <td>Clothing Accessories</td>\n",
              "    </tr>\n",
              "    <tr>\n",
              "      <th>1</th>\n",
              "      <td>0000032069</td>\n",
              "      <td>Clothing</td>\n",
              "    </tr>\n",
              "    <tr>\n",
              "      <th>2</th>\n",
              "      <td>0000031909</td>\n",
              "      <td>Athletics</td>\n",
              "    </tr>\n",
              "    <tr>\n",
              "      <th>3</th>\n",
              "      <td>0000032034</td>\n",
              "      <td>Clothing</td>\n",
              "    </tr>\n",
              "    <tr>\n",
              "      <th>4</th>\n",
              "      <td>0000031852</td>\n",
              "      <td>Athletics</td>\n",
              "    </tr>\n",
              "  </tbody>\n",
              "</table>\n",
              "</div>"
            ],
            "text/plain": [
              "         asin                 label\n",
              "0  0000037214  Clothing Accessories\n",
              "1  0000032069              Clothing\n",
              "2  0000031909             Athletics\n",
              "3  0000032034              Clothing\n",
              "4  0000031852             Athletics"
            ]
          },
          "metadata": {
            "tags": []
          },
          "execution_count": 8
        }
      ]
    },
    {
      "cell_type": "code",
      "metadata": {
        "id": "jpgm4ioy2xGN",
        "colab_type": "code",
        "colab": {
          "base_uri": "https://localhost:8080/",
          "height": 374
        },
        "outputId": "c1deb8bd-f28f-4ac5-814d-5f4ed1ad81f9"
      },
      "source": [
        "# generate a count of the unique labels, and remove categories (labels) with less that\n",
        "# some number of datapoints\n",
        "val_cnt = pd.DataFrame(df['label'].value_counts(sort=True)).reset_index()\n",
        "print(val_cnt.head())\n",
        "\n",
        "REMOVE_N_LESS_THAN = 125\n",
        "remove = val_cnt[val_cnt['label'] < REMOVE_N_LESS_THAN]['index'].tolist()\n",
        "remove"
      ],
      "execution_count": 9,
      "outputs": [
        {
          "output_type": "stream",
          "text": [
            "                         index    label\n",
            "0         Clothing Accessories  1126894\n",
            "1      Electronics Accessories   425398\n",
            "2  Vehicle Parts & Accessories   278705\n",
            "3    Handbags, Wallets & Cases   259496\n",
            "4                     Clothing   236994\n"
          ],
          "name": "stdout"
        },
        {
          "output_type": "execute_result",
          "data": {
            "text/plain": [
              "['Small Engines',\n",
              " 'Live Animals',\n",
              " 'Finance & Insurance',\n",
              " 'Mining & Quarrying',\n",
              " 'Erotic',\n",
              " 'Shipping Supplies',\n",
              " 'Heavy Machinery',\n",
              " 'Magazines & Newspapers',\n",
              " 'Presentation Supplies',\n",
              " 'Fanny Packs',\n",
              " 'Religious Items',\n",
              " 'Plants',\n",
              " 'Ottomans',\n",
              " 'Briefcases',\n",
              " 'Vehicles']"
            ]
          },
          "metadata": {
            "tags": []
          },
          "execution_count": 9
        }
      ]
    },
    {
      "cell_type": "code",
      "metadata": {
        "id": "CsVouool3d77",
        "colab_type": "code",
        "colab": {
          "base_uri": "https://localhost:8080/",
          "height": 34
        },
        "outputId": "84590194-8020-44a1-bf22-7f3fc97bf815"
      },
      "source": [
        "# Remove categories where number of data is too few\n",
        "df = df[~df['label'].isin(remove)]\n",
        "print('Number of categories left: ', df['label'].nunique())"
      ],
      "execution_count": 10,
      "outputs": [
        {
          "output_type": "stream",
          "text": [
            "Number of categories left:  142\n"
          ],
          "name": "stdout"
        }
      ]
    },
    {
      "cell_type": "code",
      "metadata": {
        "id": "c5dnzStP3_oG",
        "colab_type": "code",
        "colab": {
          "base_uri": "https://localhost:8080/",
          "height": 204
        },
        "outputId": "6eee9bd1-c66a-473c-fe89-7f3bf4ecf89c"
      },
      "source": [
        "# Extract data from preselected categories of interest\n",
        "# This is done to make the problem we are trying to solve tractable\n",
        "select = ['Shoes', 'Clothing', 'Personal Care',\n",
        "          'Backpacks', 'Vehicle Parts & Accessories',\n",
        "          'Toys', 'Sofas', 'Puzzles',\n",
        "          'Jewelry', 'Lawn & Garden']\n",
        "\n",
        "df = df[df['label'].isin(select)]\n",
        "df.head()"
      ],
      "execution_count": 11,
      "outputs": [
        {
          "output_type": "execute_result",
          "data": {
            "text/html": [
              "<div>\n",
              "<style scoped>\n",
              "    .dataframe tbody tr th:only-of-type {\n",
              "        vertical-align: middle;\n",
              "    }\n",
              "\n",
              "    .dataframe tbody tr th {\n",
              "        vertical-align: top;\n",
              "    }\n",
              "\n",
              "    .dataframe thead th {\n",
              "        text-align: right;\n",
              "    }\n",
              "</style>\n",
              "<table border=\"1\" class=\"dataframe\">\n",
              "  <thead>\n",
              "    <tr style=\"text-align: right;\">\n",
              "      <th></th>\n",
              "      <th>asin</th>\n",
              "      <th>label</th>\n",
              "    </tr>\n",
              "  </thead>\n",
              "  <tbody>\n",
              "    <tr>\n",
              "      <th>1</th>\n",
              "      <td>0000032069</td>\n",
              "      <td>Clothing</td>\n",
              "    </tr>\n",
              "    <tr>\n",
              "      <th>3</th>\n",
              "      <td>0000032034</td>\n",
              "      <td>Clothing</td>\n",
              "    </tr>\n",
              "    <tr>\n",
              "      <th>5</th>\n",
              "      <td>0000032050</td>\n",
              "      <td>Clothing</td>\n",
              "    </tr>\n",
              "    <tr>\n",
              "      <th>6</th>\n",
              "      <td>0000031887</td>\n",
              "      <td>Clothing</td>\n",
              "    </tr>\n",
              "    <tr>\n",
              "      <th>7</th>\n",
              "      <td>0000191639</td>\n",
              "      <td>Puzzles</td>\n",
              "    </tr>\n",
              "  </tbody>\n",
              "</table>\n",
              "</div>"
            ],
            "text/plain": [
              "         asin     label\n",
              "1  0000032069  Clothing\n",
              "3  0000032034  Clothing\n",
              "5  0000032050  Clothing\n",
              "6  0000031887  Clothing\n",
              "7  0000191639   Puzzles"
            ]
          },
          "metadata": {
            "tags": []
          },
          "execution_count": 11
        }
      ]
    },
    {
      "cell_type": "code",
      "metadata": {
        "id": "zg2Wn1wt5Bo1",
        "colab_type": "code",
        "colab": {
          "base_uri": "https://localhost:8080/",
          "height": 34
        },
        "outputId": "0333756c-2216-43e0-f274-2a319a201a10"
      },
      "source": [
        "df.shape"
      ],
      "execution_count": 12,
      "outputs": [
        {
          "output_type": "execute_result",
          "data": {
            "text/plain": [
              "(725009, 2)"
            ]
          },
          "metadata": {
            "tags": []
          },
          "execution_count": 12
        }
      ]
    },
    {
      "cell_type": "code",
      "metadata": {
        "id": "6kBRsnIV5Zio",
        "colab_type": "code",
        "colab": {
          "base_uri": "https://localhost:8080/",
          "height": 858
        },
        "outputId": "fb61918e-0a74-4086-cb63-f5b506dc3474"
      },
      "source": [
        "# plot the categories, and data count\n",
        "val_cnt = df['label'].value_counts(sort=True)\n",
        "\n",
        "plt.figure(figsize=(12,12))\n",
        "sns.barplot(val_cnt.index, \n",
        "            val_cnt.values)\n",
        "\n",
        "plt.xlabel('Label')\n",
        "plt.xticks(range(len(val_cnt)), val_cnt.index, rotation='vertical')\n",
        "plt.ylabel('Count')\n",
        "plt.title('Label vs Count')\n",
        "plt.show()"
      ],
      "execution_count": 14,
      "outputs": [
        {
          "output_type": "display_data",
          "data": {
            "image/png": "[encoded data removed]",
            "text/plain": [
              "<Figure size 864x864 with 1 Axes>"
            ]
          },
          "metadata": {
            "tags": []
          }
        }
      ]
    },
    {
      "cell_type": "markdown",
      "metadata": {
        "id": "KFtilg4g6KyH",
        "colab_type": "text"
      },
      "source": [
        "### Randomly extract a sample from the dataset\n",
        "Since the dataset is fairly large, extract a smaller set to work with. Sub-sampling allows us to randomly select from the available data. We assign weights to the data to get roughly the same number of samples in each category"
      ]
    },
    {
      "cell_type": "code",
      "metadata": {
        "id": "f_oba8dq5uzZ",
        "colab_type": "code",
        "colab": {
          "base_uri": "https://localhost:8080/",
          "height": 204
        },
        "outputId": "c04910c3-6fbe-4cf7-d2b7-b2a75d9124c6"
      },
      "source": [
        "# Calculate the weights for subsampling\n",
        "val_cnt = pd.DataFrame(val_cnt).reset_index()\n",
        "val_cnt = val_cnt.rename(columns={'index': 'label', 'label': 'count'})\n",
        "val_cnt['weight'] = 1/val_cnt['count']\n",
        "\n",
        "val_cnt.head()"
      ],
      "execution_count": 17,
      "outputs": [
        {
          "output_type": "execute_result",
          "data": {
            "text/html": [
              "<div>\n",
              "<style scoped>\n",
              "    .dataframe tbody tr th:only-of-type {\n",
              "        vertical-align: middle;\n",
              "    }\n",
              "\n",
              "    .dataframe tbody tr th {\n",
              "        vertical-align: top;\n",
              "    }\n",
              "\n",
              "    .dataframe thead th {\n",
              "        text-align: right;\n",
              "    }\n",
              "</style>\n",
              "<table border=\"1\" class=\"dataframe\">\n",
              "  <thead>\n",
              "    <tr style=\"text-align: right;\">\n",
              "      <th></th>\n",
              "      <th>label</th>\n",
              "      <th>count</th>\n",
              "      <th>weight</th>\n",
              "    </tr>\n",
              "  </thead>\n",
              "  <tbody>\n",
              "    <tr>\n",
              "      <th>0</th>\n",
              "      <td>Vehicle Parts &amp; Accessories</td>\n",
              "      <td>278705</td>\n",
              "      <td>0.000004</td>\n",
              "    </tr>\n",
              "    <tr>\n",
              "      <th>1</th>\n",
              "      <td>Clothing</td>\n",
              "      <td>236994</td>\n",
              "      <td>0.000004</td>\n",
              "    </tr>\n",
              "    <tr>\n",
              "      <th>2</th>\n",
              "      <td>Toys</td>\n",
              "      <td>85906</td>\n",
              "      <td>0.000012</td>\n",
              "    </tr>\n",
              "    <tr>\n",
              "      <th>3</th>\n",
              "      <td>Lawn &amp; Garden</td>\n",
              "      <td>54706</td>\n",
              "      <td>0.000018</td>\n",
              "    </tr>\n",
              "    <tr>\n",
              "      <th>4</th>\n",
              "      <td>Jewelry</td>\n",
              "      <td>23642</td>\n",
              "      <td>0.000042</td>\n",
              "    </tr>\n",
              "  </tbody>\n",
              "</table>\n",
              "</div>"
            ],
            "text/plain": [
              "                         label   count    weight\n",
              "0  Vehicle Parts & Accessories  278705  0.000004\n",
              "1                     Clothing  236994  0.000004\n",
              "2                         Toys   85906  0.000012\n",
              "3                Lawn & Garden   54706  0.000018\n",
              "4                      Jewelry   23642  0.000042"
            ]
          },
          "metadata": {
            "tags": []
          },
          "execution_count": 17
        }
      ]
    },
    {
      "cell_type": "code",
      "metadata": {
        "id": "DUnruQLw7Orj",
        "colab_type": "code",
        "colab": {
          "base_uri": "https://localhost:8080/",
          "height": 221
        },
        "outputId": "4e50ad01-d1f0-421f-bbd0-4b7142a77ecb"
      },
      "source": [
        "# assign weight to each entry in df\n",
        "weightage = dict(zip(val_cnt['label'], val_cnt['weight']))\n",
        "\n",
        "df['weight'] = df['label'].map(weightage)\n",
        "\n",
        "print('Sum of all weights (should equal the number of categories in data) =', sum(df['weight']))\n",
        "df.head()"
      ],
      "execution_count": 20,
      "outputs": [
        {
          "output_type": "stream",
          "text": [
            "Sum of all weights (should equal the number of categories in data) = 10.000000000025194\n"
          ],
          "name": "stdout"
        },
        {
          "output_type": "execute_result",
          "data": {
            "text/html": [
              "<div>\n",
              "<style scoped>\n",
              "    .dataframe tbody tr th:only-of-type {\n",
              "        vertical-align: middle;\n",
              "    }\n",
              "\n",
              "    .dataframe tbody tr th {\n",
              "        vertical-align: top;\n",
              "    }\n",
              "\n",
              "    .dataframe thead th {\n",
              "        text-align: right;\n",
              "    }\n",
              "</style>\n",
              "<table border=\"1\" class=\"dataframe\">\n",
              "  <thead>\n",
              "    <tr style=\"text-align: right;\">\n",
              "      <th></th>\n",
              "      <th>asin</th>\n",
              "      <th>label</th>\n",
              "      <th>weight</th>\n",
              "    </tr>\n",
              "  </thead>\n",
              "  <tbody>\n",
              "    <tr>\n",
              "      <th>1</th>\n",
              "      <td>0000032069</td>\n",
              "      <td>Clothing</td>\n",
              "      <td>0.000004</td>\n",
              "    </tr>\n",
              "    <tr>\n",
              "      <th>3</th>\n",
              "      <td>0000032034</td>\n",
              "      <td>Clothing</td>\n",
              "      <td>0.000004</td>\n",
              "    </tr>\n",
              "    <tr>\n",
              "      <th>5</th>\n",
              "      <td>0000032050</td>\n",
              "      <td>Clothing</td>\n",
              "      <td>0.000004</td>\n",
              "    </tr>\n",
              "    <tr>\n",
              "      <th>6</th>\n",
              "      <td>0000031887</td>\n",
              "      <td>Clothing</td>\n",
              "      <td>0.000004</td>\n",
              "    </tr>\n",
              "    <tr>\n",
              "      <th>7</th>\n",
              "      <td>0000191639</td>\n",
              "      <td>Puzzles</td>\n",
              "      <td>0.000062</td>\n",
              "    </tr>\n",
              "  </tbody>\n",
              "</table>\n",
              "</div>"
            ],
            "text/plain": [
              "         asin     label    weight\n",
              "1  0000032069  Clothing  0.000004\n",
              "3  0000032034  Clothing  0.000004\n",
              "5  0000032050  Clothing  0.000004\n",
              "6  0000031887  Clothing  0.000004\n",
              "7  0000191639   Puzzles  0.000062"
            ]
          },
          "metadata": {
            "tags": []
          },
          "execution_count": 20
        }
      ]
    },
    {
      "cell_type": "code",
      "metadata": {
        "id": "P70hJl2-7aVU",
        "colab_type": "code",
        "colab": {
          "base_uri": "https://localhost:8080/",
          "height": 204
        },
        "outputId": "bdad094a-d2d8-4538-b1e5-a1dda222feb2"
      },
      "source": [
        "# Sample the dataset\n",
        "SAMPLE_SIZE = 5000\n",
        "df2 = df.sample(n=SAMPLE_SIZE, weights='weight', random_state=42)\n",
        "df2 = df2[['asin', 'label']].copy()\n",
        "df2.head()"
      ],
      "execution_count": 21,
      "outputs": [
        {
          "output_type": "execute_result",
          "data": {
            "text/html": [
              "<div>\n",
              "<style scoped>\n",
              "    .dataframe tbody tr th:only-of-type {\n",
              "        vertical-align: middle;\n",
              "    }\n",
              "\n",
              "    .dataframe tbody tr th {\n",
              "        vertical-align: top;\n",
              "    }\n",
              "\n",
              "    .dataframe thead th {\n",
              "        text-align: right;\n",
              "    }\n",
              "</style>\n",
              "<table border=\"1\" class=\"dataframe\">\n",
              "  <thead>\n",
              "    <tr style=\"text-align: right;\">\n",
              "      <th></th>\n",
              "      <th>asin</th>\n",
              "      <th>label</th>\n",
              "    </tr>\n",
              "  </thead>\n",
              "  <tbody>\n",
              "    <tr>\n",
              "      <th>1980386</th>\n",
              "      <td>B003U4RZ6A</td>\n",
              "      <td>Toys</td>\n",
              "    </tr>\n",
              "    <tr>\n",
              "      <th>5251008</th>\n",
              "      <td>B00GP3I2SS</td>\n",
              "      <td>Backpacks</td>\n",
              "    </tr>\n",
              "    <tr>\n",
              "      <th>4065965</th>\n",
              "      <td>B009R7ZXB8</td>\n",
              "      <td>Toys</td>\n",
              "    </tr>\n",
              "    <tr>\n",
              "      <th>3281311</th>\n",
              "      <td>B0074CCCXK</td>\n",
              "      <td>Jewelry</td>\n",
              "    </tr>\n",
              "    <tr>\n",
              "      <th>866882</th>\n",
              "      <td>B0012LJITU</td>\n",
              "      <td>Sofas</td>\n",
              "    </tr>\n",
              "  </tbody>\n",
              "</table>\n",
              "</div>"
            ],
            "text/plain": [
              "               asin      label\n",
              "1980386  B003U4RZ6A       Toys\n",
              "5251008  B00GP3I2SS  Backpacks\n",
              "4065965  B009R7ZXB8       Toys\n",
              "3281311  B0074CCCXK    Jewelry\n",
              "866882   B0012LJITU      Sofas"
            ]
          },
          "metadata": {
            "tags": []
          },
          "execution_count": 21
        }
      ]
    },
    {
      "cell_type": "code",
      "metadata": {
        "id": "QuyhwfCu8FBe",
        "colab_type": "code",
        "colab": {
          "base_uri": "https://localhost:8080/",
          "height": 221
        },
        "outputId": "497c10d6-020e-438b-d4d5-7e05d17af7c6"
      },
      "source": [
        "print(df2.shape)\n",
        "val_cnt = df2['label'].value_counts(sort=True)\n",
        "val_cnt"
      ],
      "execution_count": 23,
      "outputs": [
        {
          "output_type": "stream",
          "text": [
            "(5000, 2)\n"
          ],
          "name": "stdout"
        },
        {
          "output_type": "execute_result",
          "data": {
            "text/plain": [
              "Lawn & Garden                  594\n",
              "Clothing                       544\n",
              "Shoes                          526\n",
              "Toys                           509\n",
              "Vehicle Parts & Accessories    501\n",
              "Jewelry                        500\n",
              "Sofas                          497\n",
              "Puzzles                        460\n",
              "Backpacks                      439\n",
              "Personal Care                  430\n",
              "Name: label, dtype: int64"
            ]
          },
          "metadata": {
            "tags": []
          },
          "execution_count": 23
        }
      ]
    },
    {
      "cell_type": "code",
      "metadata": {
        "id": "q0-oK-c28bgq",
        "colab_type": "code",
        "colab": {
          "base_uri": "https://localhost:8080/",
          "height": 641
        },
        "outputId": "f05e17f9-3492-4968-e758-ecbafcad22b4"
      },
      "source": [
        "plt.figure(figsize=(12,8))\n",
        "sns.barplot(val_cnt.index, \n",
        "            val_cnt.values)\n",
        "\n",
        "plt.xlabel('Label')\n",
        "plt.xticks(range(len(val_cnt)), val_cnt.index, rotation='vertical')\n",
        "plt.ylabel('Count')\n",
        "plt.title('Label vs Count')\n",
        "plt.show()"
      ],
      "execution_count": 24,
      "outputs": [
        {
          "output_type": "display_data",
          "data": {
            "image/png": "[encoded data removed]",
            "text/plain": [
              "<Figure size 864x576 with 1 Axes>"
            ]
          },
          "metadata": {
            "tags": []
          }
        }
      ]
    },
    {
      "cell_type": "markdown",
      "metadata": {
        "id": "rSHjnrcxa2tU",
        "colab_type": "text"
      },
      "source": [
        "## Get the images (either download from GS or the Web)\n",
        "About 30k images are downloaded and stored in the images folder in the bucket, however, that is out of 5.5million possible. \n",
        "It is also sometimes quicker to download the images directly from the web url"
      ]
    },
    {
      "cell_type": "code",
      "metadata": {
        "id": "w0xPSYjwXaLg",
        "colab_type": "code",
        "colab": {
          "base_uri": "https://localhost:8080/",
          "height": 68
        },
        "outputId": "1ebff27a-7510-42e6-e393-e8d4935d671d"
      },
      "source": [
        "# First get the original metadata file which contains the images' URLs\n",
        "file_name = 'metadata_clean_0513'\n",
        "\n",
        "if (not os.path.isfile(file_name)):    # chk in the local first\n",
        "    try:\n",
        "        remote_file = gs_path + file_name  # copy from GS\n",
        "        !gsutil cp gs://{remote_file} .\n",
        "    except Exception as e:\n",
        "        print('File not found')\n"
      ],
      "execution_count": 25,
      "outputs": [
        {
          "output_type": "stream",
          "text": [
            "Copying gs://platform-ai-research/datasets/ProductNet/metadata_clean_0513...\n",
            "\\ [1 files][  3.1 GiB/  3.1 GiB]   87.5 MiB/s                                   \n",
            "Operation completed over 1 objects/3.1 GiB.                                      \n"
          ],
          "name": "stdout"
        }
      ]
    },
    {
      "cell_type": "code",
      "metadata": {
        "id": "zIWJUEtHjD4w",
        "colab_type": "code",
        "colab": {}
      },
      "source": [
        "urls_ = pd.read_feather(file_name)"
      ],
      "execution_count": 0,
      "outputs": []
    },
    {
      "cell_type": "code",
      "metadata": {
        "id": "HdsKI_wPjRlZ",
        "colab_type": "code",
        "colab": {
          "base_uri": "https://localhost:8080/",
          "height": 204
        },
        "outputId": "9f073fc9-6f23-472c-f281-889085dec962"
      },
      "source": [
        "urls_.drop(columns=['index', 'categories', 'description', 'title', 'label'], inplace=True)\n",
        "urls_.head()"
      ],
      "execution_count": 31,
      "outputs": [
        {
          "output_type": "execute_result",
          "data": {
            "text/html": [
              "<div>\n",
              "<style scoped>\n",
              "    .dataframe tbody tr th:only-of-type {\n",
              "        vertical-align: middle;\n",
              "    }\n",
              "\n",
              "    .dataframe tbody tr th {\n",
              "        vertical-align: top;\n",
              "    }\n",
              "\n",
              "    .dataframe thead th {\n",
              "        text-align: right;\n",
              "    }\n",
              "</style>\n",
              "<table border=\"1\" class=\"dataframe\">\n",
              "  <thead>\n",
              "    <tr style=\"text-align: right;\">\n",
              "      <th></th>\n",
              "      <th>asin</th>\n",
              "      <th>imUrl</th>\n",
              "    </tr>\n",
              "  </thead>\n",
              "  <tbody>\n",
              "    <tr>\n",
              "      <th>0</th>\n",
              "      <td>0000037214</td>\n",
              "      <td>http://ecx.images-amazon.com/images/I/31mCncNu...</td>\n",
              "    </tr>\n",
              "    <tr>\n",
              "      <th>1</th>\n",
              "      <td>0000032069</td>\n",
              "      <td>http://ecx.images-amazon.com/images/I/51EzU6qu...</td>\n",
              "    </tr>\n",
              "    <tr>\n",
              "      <th>2</th>\n",
              "      <td>0000031909</td>\n",
              "      <td>http://ecx.images-amazon.com/images/I/41xBoP0F...</td>\n",
              "    </tr>\n",
              "    <tr>\n",
              "      <th>3</th>\n",
              "      <td>0000032034</td>\n",
              "      <td>http://ecx.images-amazon.com/images/I/21GNUNIa...</td>\n",
              "    </tr>\n",
              "    <tr>\n",
              "      <th>4</th>\n",
              "      <td>0000031852</td>\n",
              "      <td>http://ecx.images-amazon.com/images/I/51fAmVkT...</td>\n",
              "    </tr>\n",
              "  </tbody>\n",
              "</table>\n",
              "</div>"
            ],
            "text/plain": [
              "         asin                                              imUrl\n",
              "0  0000037214  http://ecx.images-amazon.com/images/I/31mCncNu...\n",
              "1  0000032069  http://ecx.images-amazon.com/images/I/51EzU6qu...\n",
              "2  0000031909  http://ecx.images-amazon.com/images/I/41xBoP0F...\n",
              "3  0000032034  http://ecx.images-amazon.com/images/I/21GNUNIa...\n",
              "4  0000031852  http://ecx.images-amazon.com/images/I/51fAmVkT..."
            ]
          },
          "metadata": {
            "tags": []
          },
          "execution_count": 31
        }
      ]
    },
    {
      "cell_type": "code",
      "metadata": {
        "id": "cANG8TtLNsWl",
        "colab_type": "code",
        "colab": {}
      },
      "source": [
        "# Merge df and urls_\n",
        "url_df = pd.merge(df2, urls_,\n",
        "                 left_on='asin', right_on='asin',\n",
        "                 how='inner')"
      ],
      "execution_count": 0,
      "outputs": []
    },
    {
      "cell_type": "code",
      "metadata": {
        "id": "6JIGFAYjN1ib",
        "colab_type": "code",
        "colab": {
          "base_uri": "https://localhost:8080/",
          "height": 221
        },
        "outputId": "11331722-0c16-426b-b947-0ce62fe71954"
      },
      "source": [
        "print(len(url_df))\n",
        "url_df.head()"
      ],
      "execution_count": 93,
      "outputs": [
        {
          "output_type": "stream",
          "text": [
            "5000\n"
          ],
          "name": "stdout"
        },
        {
          "output_type": "execute_result",
          "data": {
            "text/html": [
              "<div>\n",
              "<style scoped>\n",
              "    .dataframe tbody tr th:only-of-type {\n",
              "        vertical-align: middle;\n",
              "    }\n",
              "\n",
              "    .dataframe tbody tr th {\n",
              "        vertical-align: top;\n",
              "    }\n",
              "\n",
              "    .dataframe thead th {\n",
              "        text-align: right;\n",
              "    }\n",
              "</style>\n",
              "<table border=\"1\" class=\"dataframe\">\n",
              "  <thead>\n",
              "    <tr style=\"text-align: right;\">\n",
              "      <th></th>\n",
              "      <th>asin</th>\n",
              "      <th>label</th>\n",
              "      <th>imUrl</th>\n",
              "    </tr>\n",
              "  </thead>\n",
              "  <tbody>\n",
              "    <tr>\n",
              "      <th>0</th>\n",
              "      <td>B003U4RZ6A</td>\n",
              "      <td>Toys</td>\n",
              "      <td>http://ecx.images-amazon.com/images/I/51ylHl8G...</td>\n",
              "    </tr>\n",
              "    <tr>\n",
              "      <th>1</th>\n",
              "      <td>B00GP3I2SS</td>\n",
              "      <td>Backpacks</td>\n",
              "      <td>http://ecx.images-amazon.com/images/I/41K-x0Nq...</td>\n",
              "    </tr>\n",
              "    <tr>\n",
              "      <th>2</th>\n",
              "      <td>B009R7ZXB8</td>\n",
              "      <td>Toys</td>\n",
              "      <td>http://ecx.images-amazon.com/images/I/51Bn-uMw...</td>\n",
              "    </tr>\n",
              "    <tr>\n",
              "      <th>3</th>\n",
              "      <td>B0074CCCXK</td>\n",
              "      <td>Jewelry</td>\n",
              "      <td>http://ecx.images-amazon.com/images/I/41butp9%...</td>\n",
              "    </tr>\n",
              "    <tr>\n",
              "      <th>4</th>\n",
              "      <td>B0012LJITU</td>\n",
              "      <td>Sofas</td>\n",
              "      <td>http://ecx.images-amazon.com/images/I/61NO8Sq3...</td>\n",
              "    </tr>\n",
              "  </tbody>\n",
              "</table>\n",
              "</div>"
            ],
            "text/plain": [
              "         asin      label                                              imUrl\n",
              "0  B003U4RZ6A       Toys  http://ecx.images-amazon.com/images/I/51ylHl8G...\n",
              "1  B00GP3I2SS  Backpacks  http://ecx.images-amazon.com/images/I/41K-x0Nq...\n",
              "2  B009R7ZXB8       Toys  http://ecx.images-amazon.com/images/I/51Bn-uMw...\n",
              "3  B0074CCCXK    Jewelry  http://ecx.images-amazon.com/images/I/41butp9%...\n",
              "4  B0012LJITU      Sofas  http://ecx.images-amazon.com/images/I/61NO8Sq3..."
            ]
          },
          "metadata": {
            "tags": []
          },
          "execution_count": 93
        }
      ]
    },
    {
      "cell_type": "code",
      "metadata": {
        "id": "PLRnU13EB41j",
        "colab_type": "code",
        "colab": {
          "base_uri": "https://localhost:8080/",
          "height": 105
        },
        "outputId": "43abf8f5-3bd1-42ee-9ecb-a71f5e2cb77a"
      },
      "source": [
        "# Fix a few label names so they have no spaces, & etc because these will be used as folder names\n",
        "def relabel(s):\n",
        "    s = '_'.join(s.split(' '))\n",
        "    return s.replace('_&_', '_')\n",
        "  \n",
        "print('old labels', url_df.label.unique())\n",
        "\n",
        "url_df.label = url_df.label.apply(relabel)\n",
        "\n",
        "print('new labels', url_df.label.unique())"
      ],
      "execution_count": 94,
      "outputs": [
        {
          "output_type": "stream",
          "text": [
            "old labels ['Toys' 'Backpacks' 'Jewelry' 'Sofas' 'Puzzles' 'Vehicle Parts & Accessories' 'Personal Care' 'Lawn & Garden' 'Shoes'\n",
            " 'Clothing']\n",
            "new labels ['Toys' 'Backpacks' 'Jewelry' 'Sofas' 'Puzzles' 'Vehicle_Parts_Accessories' 'Personal_Care' 'Lawn_Garden' 'Shoes'\n",
            " 'Clothing']\n"
          ],
          "name": "stdout"
        }
      ]
    },
    {
      "cell_type": "code",
      "metadata": {
        "id": "w3pmdq2U_3DT",
        "colab_type": "code",
        "colab": {}
      },
      "source": [
        "imUrls = url_df.imUrl.tolist()\n",
        "labels = url_df.label.tolist()\n",
        "asins  = url_df.asin.tolist()"
      ],
      "execution_count": 0,
      "outputs": []
    },
    {
      "cell_type": "code",
      "metadata": {
        "id": "qYxcPdZxAg5w",
        "colab_type": "code",
        "colab": {
          "base_uri": "https://localhost:8080/",
          "height": 71
        },
        "outputId": "9aeda012-8631-4b77-bcf1-ec9cbe23a1d7"
      },
      "source": [
        "url_df.label.unique()"
      ],
      "execution_count": 96,
      "outputs": [
        {
          "output_type": "execute_result",
          "data": {
            "text/plain": [
              "array(['Toys', 'Backpacks', 'Jewelry', 'Sofas', 'Puzzles', 'Vehicle_Parts_Accessories', 'Personal_Care', 'Lawn_Garden',\n",
              "       'Shoes', 'Clothing'], dtype=object)"
            ]
          },
          "metadata": {
            "tags": []
          },
          "execution_count": 96
        }
      ]
    },
    {
      "cell_type": "code",
      "metadata": {
        "id": "aGOFiEfkIGyu",
        "colab_type": "code",
        "colab": {}
      },
      "source": [
        "# Create folders for the images\n",
        "# Create the images folder\n",
        "if (not os.path.exists('./images/')):\n",
        "    !mkdir 'images'\n",
        "\n",
        "# create the sub-folders\n",
        "for fn in url_df.label.unique():\n",
        "    fn_ = './images/'+fn\n",
        "    if (not os.path.exists(fn_)):\n",
        "        print('creating ',fn_)\n",
        "        !mkdir {fn_}"
      ],
      "execution_count": 0,
      "outputs": []
    },
    {
      "cell_type": "code",
      "metadata": {
        "id": "ts_2ItZbAoIL",
        "colab_type": "code",
        "colab": {
          "base_uri": "https://localhost:8080/",
          "height": 51
        },
        "outputId": "3afe80d9-3f9b-4966-da94-6b8ff3bcda0c"
      },
      "source": [
        "from tqdm import tqdm\n",
        "from PIL import Image\n",
        "\n",
        "#%%time\n",
        "for url_label_id in (zip(imUrls, labels, asins)):\n",
        "    url = url_label_id[0] # url of image\n",
        "    label = url_label_id[1].split(' ')[0] # label, if multiple words, use only first\n",
        "    asin = url_label_id[2] # asin of image\n",
        "    \n",
        "    filename = './images/' + label + '/' + asin + '.jpg'    \n",
        "    \n",
        "#     print(filename)  \n",
        "#     break\n",
        "  \n",
        "    # also check if file exists. If it does, do not reload it!\n",
        "    if (not os.path.isfile(filename)):\n",
        "        try:\n",
        "            r = requests.get(url, allow_redirects=True)\n",
        "            open(filename, 'wb').write(r.content)\n",
        "            \n",
        "        except Exception as e:\n",
        "            url_df = url_df[url_df.asin != asin]           # if missing, remove from dataset\n",
        "            print('Missing')\n",
        "            with open(\"./missing_select_df.txt\", \"a\") as f:\n",
        "                f.write(asin+'\\n')   "
      ],
      "execution_count": 0,
      "outputs": [
        {
          "output_type": "stream",
          "text": [
            "Missing\n",
            "Missing\n"
          ],
          "name": "stdout"
        }
      ]
    },
    {
      "cell_type": "code",
      "metadata": {
        "id": "6E13lhTCFQOY",
        "colab_type": "code",
        "colab": {}
      },
      "source": [
        "!rm missing_select_df.txt"
      ],
      "execution_count": 0,
      "outputs": []
    },
    {
      "cell_type": "code",
      "metadata": {
        "id": "8dtDfrusj-Pv",
        "colab_type": "code",
        "colab": {
          "base_uri": "https://localhost:8080/",
          "height": 34
        },
        "outputId": "b5824868-bd81-424a-8f6e-5d86525ec8e8"
      },
      "source": [
        "from tqdm import tqdm\n",
        "from PIL import Image\n",
        "\n",
        "for url_id in tqdm(zip(imUrls, asins)):\n",
        "    url = url_id[0] # url of image\n",
        "    asin = url_id[1] # asin of image\n",
        "    filename = './images/' + asin + '.jpg'\n",
        "    \n",
        "    try:\n",
        "        img = Image.open(filename)\n",
        "    except Exception as e:\n",
        "        df = df[df.asin != asin]           # if missing, remove from dataset\n",
        "        with open(\"./missing_imgs.txt\", \"a\") as f:\n",
        "            f.write(asin+'\\n')"
      ],
      "execution_count": 18,
      "outputs": [
        {
          "output_type": "stream",
          "text": [
            "785it [00:00, 8540.00it/s]\n"
          ],
          "name": "stderr"
        }
      ]
    },
    {
      "cell_type": "code",
      "metadata": {
        "id": "y99Rlw_ikLpn",
        "colab_type": "code",
        "colab": {}
      },
      "source": [
        ""
      ],
      "execution_count": 0,
      "outputs": []
    }
  ]
}