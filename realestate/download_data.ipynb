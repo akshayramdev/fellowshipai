{
  "nbformat": 4,
  "nbformat_minor": 0,
  "metadata": {
    "colab": {
      "name": "download data.ipynb",
      "version": "0.3.2",
      "provenance": [],
      "collapsed_sections": []
    },
    "kernelspec": {
      "name": "python3",
      "display_name": "Python 3"
    },
    "accelerator": "GPU"
  },
  "cells": [
    {
      "cell_type": "code",
      "metadata": {
        "id": "oPvesIsv_9yL",
        "colab_type": "code",
        "outputId": "41fbe41e-1021-412a-f9e7-991f06b76305",
        "colab": {
          "base_uri": "https://localhost:8080/",
          "height": 34
        }
      },
      "source": [
        "from google.colab import drive\n",
        "drive.mount('/content/gdrive', force_remount=True)\n",
        "root_dir = \"/content/gdrive/My Drive/Colab Notebooks/fellowship.ai/\""
      ],
      "execution_count": 0,
      "outputs": [
        {
          "output_type": "stream",
          "text": [
            "Mounted at /content/gdrive\n"
          ],
          "name": "stdout"
        }
      ]
    },
    {
      "cell_type": "code",
      "metadata": {
        "id": "mvASvzPh10ly",
        "colab_type": "code",
        "outputId": "8564bd9a-11bc-4a21-f7b6-37917e994cd5",
        "colab": {
          "base_uri": "https://localhost:8080/",
          "height": 34
        }
      },
      "source": [
        "#navigate to the relevant directory\n",
        "cd /content/gdrive/My Drive/Colab Notebooks/fellowship.ai/"
      ],
      "execution_count": 0,
      "outputs": [
        {
          "output_type": "stream",
          "text": [
            "/content/gdrive/My Drive/Colab Notebooks/fellowship.ai\n"
          ],
          "name": "stdout"
        }
      ]
    },
    {
      "cell_type": "code",
      "metadata": {
        "id": "pETqKsrtHSyt",
        "colab_type": "code",
        "colab": {}
      },
      "source": [
        "# run this to inorder to enable download through google cloud storage\n",
        "!glcloud init"
      ],
      "execution_count": 0,
      "outputs": []
    },
    {
      "cell_type": "code",
      "metadata": {
        "id": "O494zeJ0C244",
        "colab_type": "code",
        "colab": {}
      },
      "source": [
        "#run each command individually to avoid memory overload\n",
        "!gsutil -m cp gs://platform-ai-research/datasets/realestate/train .\n",
        "!gsutil -m cp gs://platform-ai-research/datasets/realestate/platformclasstestdata/ .\n",
        "!gsutil -m cp gs://platform-ai-research/datasets/realestate/images_*.tar ."
      ],
      "execution_count": 0,
      "outputs": []
    },
    {
      "cell_type": "code",
      "metadata": {
        "id": "7PtNvxC5JQT6",
        "colab_type": "code",
        "colab": {}
      },
      "source": [
        "# command to untar downloaded tar image files. replace * with appropriate file name\n",
        "!tar -xf images_*.tar"
      ],
      "execution_count": 0,
      "outputs": []
    },
    {
      "cell_type": "code",
      "metadata": {
        "id": "LfJICytPG2Ib",
        "colab_type": "code",
        "outputId": "b617ca14-4391-44d8-f451-95a61b430aac",
        "colab": {
          "base_uri": "https://localhost:8080/",
          "height": 34
        }
      },
      "source": [
        "# command to check file/directory count in any folder\n",
        "!find batch_images/ -type d | wc -l "
      ],
      "execution_count": 0,
      "outputs": [
        {
          "output_type": "stream",
          "text": [
            "18808\n"
          ],
          "name": "stdout"
        }
      ]
    }
  ]
}