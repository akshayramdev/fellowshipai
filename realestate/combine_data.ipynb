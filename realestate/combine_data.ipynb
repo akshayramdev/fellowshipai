{
 "cells": [
  {
   "cell_type": "markdown",
   "metadata": {},
   "source": [
    "- Use this notebook to get path of all images into single csv file"
   ]
  },
  {
   "cell_type": "code",
   "execution_count": 1,
   "metadata": {
    "colab": {
     "base_uri": "https://localhost:8080/",
     "height": 34
    },
    "colab_type": "code",
    "id": "pPox6koaJ57z",
    "outputId": "7404c615-d140-4fc8-9965-8c4b8e24198a"
   },
   "outputs": [],
   "source": [
    "import pandas as pd\n",
    "import numpy as np\n",
    "import os\n",
    "from fastai.vision import *\n",
    "import seaborn as sns\n",
    "import matplotlib.pyplot as plt\n",
    "import shutil"
   ]
  },
  {
   "cell_type": "code",
   "execution_count": 2,
   "metadata": {
    "colab": {
     "base_uri": "https://localhost:8080/",
     "height": 674
    },
    "colab_type": "code",
    "id": "TB5x5IU2sVcA",
    "outputId": "362c5235-f590-44b2-a382-dff232f6c426"
   },
   "outputs": [
    {
     "name": "stdout",
     "output_type": "stream",
     "text": [
      "Reading Directory: 15_\n",
      "15_ contains 1000 listings\n",
      "Reading Directory: 1_\n",
      "1_ contains 1000 listings\n",
      "Reading Directory: 4_\n",
      "4_ contains 1000 listings\n",
      "Reading Directory: 13_\n",
      "13_ contains 1000 listings\n",
      "Reading Directory: 2_\n",
      "2_ contains 1000 listings\n",
      "Reading Directory: 8_\n",
      "8_ contains 1000 listings\n",
      "Reading Directory: 6_\n",
      "6_ contains 1000 listings\n",
      "Reading Directory: 5_\n",
      "5_ contains 1000 listings\n",
      "Reading Directory: 10_\n",
      "10_ contains 1000 listings\n",
      "Reading Directory: 14_\n",
      "14_ contains 1000 listings\n",
      "Reading Directory: 16_\n",
      "16_ contains 998 listings\n",
      "Reading Directory: 3_\n",
      "3_ contains 1000 listings\n",
      "Reading Directory: 17_\n",
      "17_ contains 1000 listings\n",
      "Reading Directory: 9_\n",
      "9_ contains 1000 listings\n",
      "Reading Directory: 12_\n",
      "12_ contains 1000 listings\n",
      "Reading Directory: 0_\n",
      "0_ contains 1000 listings\n",
      "Reading Directory: 18_\n",
      "18_ contains 790 listings\n",
      "Reading Directory: 7_\n",
      "7_ contains 1000 listings\n",
      "Reading Directory: 11_\n",
      "11_ contains 1000 listings\n"
     ]
    }
   ],
   "source": [
    "base_path = Path('batch_images')\n",
    "img_list = []\n",
    "\n",
    "base = os.listdir(base_path)\n",
    "for folder in base:\n",
    "    print(\"Reading Directory:\", folder)\n",
    "    l_path = os.listdir(base_path/folder)\n",
    "    print(folder, \"contains\", len(l_path),\"listings\")"
   ]
  },
  {
   "cell_type": "code",
   "execution_count": 3,
   "metadata": {
    "colab": {
     "base_uri": "https://localhost:8080/",
     "height": 336
    },
    "colab_type": "code",
    "id": "b9yq5ggsMBVN",
    "outputId": "db40aa9f-96b2-42e7-88ce-671c58aa1ec5"
   },
   "outputs": [
    {
     "name": "stdout",
     "output_type": "stream",
     "text": [
      "Reading Directory: 15_\n",
      "Reading Directory: 1_\n",
      "Reading Directory: 4_\n",
      "Reading Directory: 13_\n",
      "Reading Directory: 2_\n",
      "Reading Directory: 8_\n",
      "Reading Directory: 6_\n",
      "Reading Directory: 5_\n",
      "Reading Directory: 10_\n",
      "Reading Directory: 14_\n",
      "Reading Directory: 16_\n",
      "Reading Directory: 3_\n",
      "Reading Directory: 17_\n",
      "Reading Directory: 9_\n",
      "Reading Directory: 12_\n",
      "Reading Directory: 0_\n",
      "Reading Directory: 18_\n",
      "Reading Directory: 7_\n",
      "Reading Directory: 11_\n"
     ]
    }
   ],
   "source": [
    "base_path = Path('batch_images')\n",
    "img_list = []\n",
    "\n",
    "base = os.listdir(base_path)\n",
    "for folder in base:\n",
    "    print(\"Reading Directory:\", folder)\n",
    "    l_path = os.listdir(base_path/folder)\n",
    "    for listing_path in l_path:\n",
    "        i_path = os.listdir(base_path/folder/listing_path)\n",
    "        for img in i_path:\n",
    "            if '.jpg' in img:\n",
    "                img_list.append(folder+'/'+listing_path+'/'+img)"
   ]
  },
  {
   "cell_type": "code",
   "execution_count": 4,
   "metadata": {
    "colab": {},
    "colab_type": "code",
    "id": "bzKl6Ysomw9r"
   },
   "outputs": [],
   "source": [
    "train  = pd.DataFrame()\n",
    "train['image_path'] = img_list\n",
    "train.to_csv('train.csv')"
   ]
  },
  {
   "cell_type": "code",
   "execution_count": 5,
   "metadata": {
    "colab": {
     "base_uri": "https://localhost:8080/",
     "height": 34
    },
    "colab_type": "code",
    "id": "xQpC806is8vG",
    "outputId": "e29164ce-bb95-44e7-ee19-741bdbc12fff"
   },
   "outputs": [
    {
     "data": {
      "text/html": [
       "<div>\n",
       "<style scoped>\n",
       "    .dataframe tbody tr th:only-of-type {\n",
       "        vertical-align: middle;\n",
       "    }\n",
       "\n",
       "    .dataframe tbody tr th {\n",
       "        vertical-align: top;\n",
       "    }\n",
       "\n",
       "    .dataframe thead th {\n",
       "        text-align: right;\n",
       "    }\n",
       "</style>\n",
       "<table border=\"1\" class=\"dataframe\">\n",
       "  <thead>\n",
       "    <tr style=\"text-align: right;\">\n",
       "      <th></th>\n",
       "      <th>image_path</th>\n",
       "    </tr>\n",
       "  </thead>\n",
       "  <tbody>\n",
       "    <tr>\n",
       "      <th>0</th>\n",
       "      <td>15_/15006/2.jpg</td>\n",
       "    </tr>\n",
       "    <tr>\n",
       "      <th>1</th>\n",
       "      <td>15_/15006/1.jpg</td>\n",
       "    </tr>\n",
       "    <tr>\n",
       "      <th>2</th>\n",
       "      <td>15_/15006/0.jpg</td>\n",
       "    </tr>\n",
       "    <tr>\n",
       "      <th>3</th>\n",
       "      <td>15_/15785/28.jpg</td>\n",
       "    </tr>\n",
       "    <tr>\n",
       "      <th>4</th>\n",
       "      <td>15_/15785/3.jpg</td>\n",
       "    </tr>\n",
       "  </tbody>\n",
       "</table>\n",
       "</div>"
      ],
      "text/plain": [
       "         image_path\n",
       "0   15_/15006/2.jpg\n",
       "1   15_/15006/1.jpg\n",
       "2   15_/15006/0.jpg\n",
       "3  15_/15785/28.jpg\n",
       "4   15_/15785/3.jpg"
      ]
     },
     "execution_count": 5,
     "metadata": {},
     "output_type": "execute_result"
    }
   ],
   "source": [
    "train.head()"
   ]
  }
 ],
 "metadata": {
  "accelerator": "GPU",
  "colab": {
   "collapsed_sections": [],
   "name": "combine data.ipynb",
   "provenance": [],
   "version": "0.3.2"
  },
  "kernelspec": {
   "display_name": "Python 3",
   "language": "python",
   "name": "python3"
  },
  "language_info": {
   "codemirror_mode": {
    "name": "ipython",
    "version": 3
   },
   "file_extension": ".py",
   "mimetype": "text/x-python",
   "name": "python",
   "nbconvert_exporter": "python",
   "pygments_lexer": "ipython3",
   "version": "3.7.3"
  }
 },
 "nbformat": 4,
 "nbformat_minor": 1
}
