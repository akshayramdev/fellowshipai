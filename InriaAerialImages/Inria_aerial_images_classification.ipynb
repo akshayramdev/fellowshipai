{
  "nbformat": 4,
  "nbformat_minor": 0,
  "metadata": {
    "colab": {
      "name": "Inria_aerial_images_classification.ipynb",
      "version": "0.3.2",
      "provenance": [],
      "collapsed_sections": []
    },
    "kernelspec": {
      "name": "python3",
      "display_name": "Python 3"
    },
    "accelerator": "GPU"
  },
  "cells": [
    {
      "cell_type": "markdown",
      "metadata": {
        "id": "HirhId0v0x3-",
        "colab_type": "text"
      },
      "source": [
        "Setup steps for notebook- import necessary libraries and mount drive."
      ]
    },
    {
      "cell_type": "code",
      "metadata": {
        "id": "AiASx0KQMjso",
        "colab_type": "code",
        "outputId": "f3958f3c-b1e3-4630-a074-fc2837e8ead2",
        "colab": {
          "base_uri": "https://localhost:8080/",
          "height": 34
        }
      },
      "source": [
        "from google.colab import drive\n",
        "drive.mount('/content/drive', force_remount=True)"
      ],
      "execution_count": 29,
      "outputs": [
        {
          "output_type": "stream",
          "text": [
            "Mounted at /content/drive\n"
          ],
          "name": "stdout"
        }
      ]
    },
    {
      "cell_type": "code",
      "metadata": {
        "id": "hc_y5VpwNH4M",
        "colab_type": "code",
        "colab": {}
      },
      "source": [
        "import fastai\n",
        "from fastai.vision import *\n",
        "import torch\n",
        "import torchvision.transforms.functional as F\n",
        "\n",
        "import tarfile, os,pathlib"
      ],
      "execution_count": 0,
      "outputs": []
    },
    {
      "cell_type": "markdown",
      "metadata": {
        "id": "HQ8_-Q1C3X2v",
        "colab_type": "text"
      },
      "source": [
        "Copy the preprocessed 250x250 patches from valid.tar to current VM for classification task. There are around 10000 images. Likewise we will be using the masks.tar for labelling the images with buildingpresent and buildingabsent."
      ]
    },
    {
      "cell_type": "code",
      "metadata": {
        "id": "TOp9p1RFOVIs",
        "colab_type": "code",
        "colab": {}
      },
      "source": [
        "!rm -rf /content/valid\n",
        "!rm -rf /content/masks\n",
        "!tar -zxvf '/content/valid.tar'\n",
        "!tar -zxvf '/content/masks.tar'"
      ],
      "execution_count": 0,
      "outputs": []
    },
    {
      "cell_type": "markdown",
      "metadata": {
        "id": "kB7u3CxA62z3",
        "colab_type": "text"
      },
      "source": [
        "Create train subset with labels for classification as per fastai. Also, create staging folders for labelling."
      ]
    },
    {
      "cell_type": "code",
      "metadata": {
        "id": "gqGrmUrHPbxf",
        "colab_type": "code",
        "colab": {}
      },
      "source": [
        "!rm -rf '/content/platform_demo'\n",
        "!mkdir '/content/platform_demo'\n",
        "\n",
        "!mkdir /content/platform_demo/train\n",
        "\n",
        "!mkdir /content/platform_demo/train/present\n",
        "!mkdir /content/platform_demo/train/absent\n",
        "\n",
        "!rm -rf /content/present\n",
        "!rm -rf /content/absent\n",
        "!mkdir /content/present\n",
        "!mkdir /content/absent"
      ],
      "execution_count": 0,
      "outputs": []
    },
    {
      "cell_type": "markdown",
      "metadata": {
        "id": "PTtv4OhV7UMm",
        "colab_type": "text"
      },
      "source": [
        "Functions to move the images into staging folder for present and absent classes based on pixel density. If density of white pixel is 0, it belongs to absent classes else present class."
      ]
    },
    {
      "cell_type": "code",
      "metadata": {
        "id": "MZQh2gdRPOet",
        "colab_type": "code",
        "colab": {}
      },
      "source": [
        "import os,random,pathlib,shutil\n",
        "img_path = Path('/content/valid')\n",
        "mask_path = Path('/content/masks')\n",
        "train_dir = Path('/content/platform_demo/train')\n",
        "\n",
        "root_dir = Path('/content')\n",
        "\n",
        "def get_pct(arr):\n",
        "  tot = np.count_nonzero(arr==0)+np.count_nonzero(arr==1)\n",
        "  whites = np.count_nonzero(arr==1)\n",
        "  pop_pct = (whites/tot) * 100\n",
        "  return pop_pct\n",
        "\n",
        "def create_datasets(src_dir, dest_dir):\n",
        "  for file in get_image_files(src_dir):\n",
        "    mask_file = mask_path/f'{file.name}'\n",
        "    img = open_image(mask_file)\n",
        "    pct = get_pct(img.data.numpy())\n",
        "    if(pct==0):\n",
        "      shutil.move(img_path/f'{file}',dest_dir/'absent'/f'{file.name}')\n",
        "    else:\n",
        "      shutil.move(img_path/f'{file}',dest_dir/'present'/f'{file.name}')\n",
        "         "
      ],
      "execution_count": 0,
      "outputs": []
    },
    {
      "cell_type": "markdown",
      "metadata": {
        "id": "HHAPZkeM8YHx",
        "colab_type": "text"
      },
      "source": [
        "Selecting a random set of 1000 images in total for present and absent class, for classification."
      ]
    },
    {
      "cell_type": "code",
      "metadata": {
        "id": "S3HetoXxqGMa",
        "colab_type": "code",
        "colab": {}
      },
      "source": [
        "create_datasets('/content/valid',root_dir)\n",
        "pres_path = Path('/content/present')\n",
        "abs_path = Path('/content/absent')\n",
        "\n",
        "for i in range(1000):\n",
        "  val = random.randint(1,2000)\n",
        "  if(val > 1000):\n",
        "    file = random.choice(os.listdir('/content/present'))\n",
        "    shutil.move(pres_path/f'{file}',train_dir/'present'/f'{file}')\n",
        "  else:\n",
        "    file = random.choice(os.listdir('/content/absent'))\n",
        "    shutil.move(abs_path/f'{file}',train_dir/'absent'/f'{file}')\n",
        "  \n",
        "  "
      ],
      "execution_count": 0,
      "outputs": []
    },
    {
      "cell_type": "code",
      "metadata": {
        "id": "P9-H5kzguoYK",
        "colab_type": "code",
        "outputId": "cce4aa8f-5b2c-4075-be59-eb506bbd28a4",
        "colab": {
          "base_uri": "https://localhost:8080/",
          "height": 34
        }
      },
      "source": [
        "len(get_image_files('/content/platform_demo/train/present')),len(get_image_files('/content/platform_demo/train/absent'))"
      ],
      "execution_count": 70,
      "outputs": [
        {
          "output_type": "execute_result",
          "data": {
            "text/plain": [
              "(504, 496)"
            ]
          },
          "metadata": {
            "tags": []
          },
          "execution_count": 70
        }
      ]
    },
    {
      "cell_type": "markdown",
      "metadata": {
        "id": "zDoDI2tU9JEg",
        "colab_type": "text"
      },
      "source": [
        "Download the train folder to be used for labelling in platform.ai. "
      ]
    },
    {
      "cell_type": "code",
      "metadata": {
        "id": "4we0P9fL0oZB",
        "colab_type": "code",
        "colab": {
          "base_uri": "https://localhost:8080/",
          "height": 17085
        },
        "outputId": "978d6eae-c490-4fdc-c0c4-c38736b14f9a"
      },
      "source": [
        "!tar -zcvf train_demo.tar '/content/platform_demo/train' "
      ],
      "execution_count": 71,
      "outputs": [
        {
          "output_type": "stream",
          "text": [
            "tar: Removing leading `/' from member names\n",
            "/content/platform_demo/train/\n",
            "/content/platform_demo/train/present/\n",
            "/content/platform_demo/train/present/kitsap4_38.tif\n",
            "/content/platform_demo/train/present/vienna5_288.tif\n",
            "/content/platform_demo/train/present/austin2_235.tif\n",
            "/content/platform_demo/train/present/vienna1_101.tif\n",
            "/content/platform_demo/train/present/chicago5_379.tif\n",
            "/content/platform_demo/train/present/chicago5_349.tif\n",
            "/content/platform_demo/train/present/tyrol-w4_174.tif\n",
            "/content/platform_demo/train/present/tyrol-w4_25.tif\n",
            "/content/platform_demo/train/present/kitsap5_363.tif\n",
            "/content/platform_demo/train/present/austin4_323.tif\n",
            "/content/platform_demo/train/present/kitsap2_228.tif\n",
            "/content/platform_demo/train/present/vienna2_255.tif\n",
            "/content/platform_demo/train/present/chicago1_155.tif\n",
            "/content/platform_demo/train/present/vienna2_109.tif\n",
            "/content/platform_demo/train/present/chicago3_106.tif\n",
            "/content/platform_demo/train/present/austin5_148.tif\n",
            "/content/platform_demo/train/present/austin5_197.tif\n",
            "/content/platform_demo/train/present/tyrol-w3_113.tif\n",
            "/content/platform_demo/train/present/chicago5_140.tif\n",
            "/content/platform_demo/train/present/austin2_171.tif\n",
            "/content/platform_demo/train/present/austin1_253.tif\n",
            "/content/platform_demo/train/present/tyrol-w4_168.tif\n",
            "/content/platform_demo/train/present/austin3_357.tif\n",
            "/content/platform_demo/train/present/vienna2_327.tif\n",
            "/content/platform_demo/train/present/vienna3_333.tif\n",
            "/content/platform_demo/train/present/kitsap5_28.tif\n",
            "/content/platform_demo/train/present/chicago2_204.tif\n",
            "/content/platform_demo/train/present/tyrol-w1_133.tif\n",
            "/content/platform_demo/train/present/austin1_24.tif\n",
            "/content/platform_demo/train/present/chicago4_139.tif\n",
            "/content/platform_demo/train/present/austin5_389.tif\n",
            "/content/platform_demo/train/present/austin1_209.tif\n",
            "/content/platform_demo/train/present/chicago5_363.tif\n",
            "/content/platform_demo/train/present/tyrol-w4_214.tif\n",
            "/content/platform_demo/train/present/austin5_181.tif\n",
            "/content/platform_demo/train/present/tyrol-w1_194.tif\n",
            "/content/platform_demo/train/present/austin1_390.tif\n",
            "/content/platform_demo/train/present/chicago3_243.tif\n",
            "/content/platform_demo/train/present/chicago4_252.tif\n",
            "/content/platform_demo/train/present/tyrol-w5_278.tif\n",
            "/content/platform_demo/train/present/tyrol-w4_380.tif\n",
            "/content/platform_demo/train/present/chicago2_176.tif\n",
            "/content/platform_demo/train/present/vienna2_136.tif\n",
            "/content/platform_demo/train/present/tyrol-w5_269.tif\n",
            "/content/platform_demo/train/present/chicago3_235.tif\n",
            "/content/platform_demo/train/present/chicago4_114.tif\n",
            "/content/platform_demo/train/present/kitsap1_113.tif\n",
            "/content/platform_demo/train/present/vienna5_130.tif\n",
            "/content/platform_demo/train/present/chicago5_375.tif\n",
            "/content/platform_demo/train/present/austin4_229.tif\n",
            "/content/platform_demo/train/present/tyrol-w5_173.tif\n",
            "/content/platform_demo/train/present/austin2_355.tif\n",
            "/content/platform_demo/train/present/austin4_258.tif\n",
            "/content/platform_demo/train/present/tyrol-w1_395.tif\n",
            "/content/platform_demo/train/present/chicago5_15.tif\n",
            "/content/platform_demo/train/present/tyrol-w3_251.tif\n",
            "/content/platform_demo/train/present/vienna4_98.tif\n",
            "/content/platform_demo/train/present/austin2_339.tif\n",
            "/content/platform_demo/train/present/vienna1_372.tif\n",
            "/content/platform_demo/train/present/tyrol-w1_295.tif\n",
            "/content/platform_demo/train/present/tyrol-w4_308.tif\n",
            "/content/platform_demo/train/present/chicago2_259.tif\n",
            "/content/platform_demo/train/present/chicago3_4.tif\n",
            "/content/platform_demo/train/present/vienna4_31.tif\n",
            "/content/platform_demo/train/present/tyrol-w2_98.tif\n",
            "/content/platform_demo/train/present/tyrol-w4_70.tif\n",
            "/content/platform_demo/train/present/chicago3_183.tif\n",
            "/content/platform_demo/train/present/chicago4_69.tif\n",
            "/content/platform_demo/train/present/chicago3_281.tif\n",
            "/content/platform_demo/train/present/chicago4_217.tif\n",
            "/content/platform_demo/train/present/chicago2_291.tif\n",
            "/content/platform_demo/train/present/vienna3_105.tif\n",
            "/content/platform_demo/train/present/chicago1_342.tif\n",
            "/content/platform_demo/train/present/austin2_71.tif\n",
            "/content/platform_demo/train/present/chicago2_146.tif\n",
            "/content/platform_demo/train/present/vienna1_381.tif\n",
            "/content/platform_demo/train/present/chicago2_387.tif\n",
            "/content/platform_demo/train/present/vienna4_183.tif\n",
            "/content/platform_demo/train/present/austin4_358.tif\n",
            "/content/platform_demo/train/present/vienna3_59.tif\n",
            "/content/platform_demo/train/present/austin5_268.tif\n",
            "/content/platform_demo/train/present/kitsap2_305.tif\n",
            "/content/platform_demo/train/present/kitsap1_396.tif\n",
            "/content/platform_demo/train/present/vienna3_49.tif\n",
            "/content/platform_demo/train/present/tyrol-w4_327.tif\n",
            "/content/platform_demo/train/present/chicago3_301.tif\n",
            "/content/platform_demo/train/present/vienna1_97.tif\n",
            "/content/platform_demo/train/present/vienna5_106.tif\n",
            "/content/platform_demo/train/present/chicago4_306.tif\n",
            "/content/platform_demo/train/present/vienna1_36.tif\n",
            "/content/platform_demo/train/present/austin4_371.tif\n",
            "/content/platform_demo/train/present/vienna3_211.tif\n",
            "/content/platform_demo/train/present/tyrol-w2_188.tif\n",
            "/content/platform_demo/train/present/chicago3_129.tif\n",
            "/content/platform_demo/train/present/chicago5_115.tif\n",
            "/content/platform_demo/train/present/tyrol-w2_88.tif\n",
            "/content/platform_demo/train/present/vienna2_181.tif\n",
            "/content/platform_demo/train/present/kitsap4_397.tif\n",
            "/content/platform_demo/train/present/tyrol-w2_129.tif\n",
            "/content/platform_demo/train/present/vienna1_131.tif\n",
            "/content/platform_demo/train/present/chicago4_368.tif\n",
            "/content/platform_demo/train/present/kitsap4_155.tif\n",
            "/content/platform_demo/train/present/austin5_347.tif\n",
            "/content/platform_demo/train/present/chicago4_183.tif\n",
            "/content/platform_demo/train/present/kitsap2_145.tif\n",
            "/content/platform_demo/train/present/chicago5_136.tif\n",
            "/content/platform_demo/train/present/kitsap3_315.tif\n",
            "/content/platform_demo/train/present/vienna2_120.tif\n",
            "/content/platform_demo/train/present/tyrol-w3_374.tif\n",
            "/content/platform_demo/train/present/vienna3_32.tif\n",
            "/content/platform_demo/train/present/vienna4_1.tif\n",
            "/content/platform_demo/train/present/tyrol-w4_83.tif\n",
            "/content/platform_demo/train/present/austin4_63.tif\n",
            "/content/platform_demo/train/present/tyrol-w2_266.tif\n",
            "/content/platform_demo/train/present/vienna1_96.tif\n",
            "/content/platform_demo/train/present/chicago3_300.tif\n",
            "/content/platform_demo/train/present/vienna1_341.tif\n",
            "/content/platform_demo/train/present/kitsap3_12.tif\n",
            "/content/platform_demo/train/present/chicago2_121.tif\n",
            "/content/platform_demo/train/present/austin5_172.tif\n",
            "/content/platform_demo/train/present/kitsap5_251.tif\n",
            "/content/platform_demo/train/present/chicago3_149.tif\n",
            "/content/platform_demo/train/present/austin2_153.tif\n",
            "/content/platform_demo/train/present/chicago4_103.tif\n",
            "/content/platform_demo/train/present/tyrol-w5_9.tif\n",
            "/content/platform_demo/train/present/kitsap3_90.tif\n",
            "/content/platform_demo/train/present/vienna1_26.tif\n",
            "/content/platform_demo/train/present/vienna1_342.tif\n",
            "/content/platform_demo/train/present/kitsap3_317.tif\n",
            "/content/platform_demo/train/present/austin2_102.tif\n",
            "/content/platform_demo/train/present/vienna3_364.tif\n",
            "/content/platform_demo/train/present/vienna1_268.tif\n",
            "/content/platform_demo/train/present/chicago4_189.tif\n",
            "/content/platform_demo/train/present/kitsap2_10.tif\n",
            "/content/platform_demo/train/present/austin3_11.tif\n",
            "/content/platform_demo/train/present/tyrol-w3_157.tif\n",
            "/content/platform_demo/train/present/austin3_259.tif\n",
            "/content/platform_demo/train/present/tyrol-w4_264.tif\n",
            "/content/platform_demo/train/present/chicago1_4.tif\n",
            "/content/platform_demo/train/present/austin5_184.tif\n",
            "/content/platform_demo/train/present/vienna1_84.tif\n",
            "/content/platform_demo/train/present/chicago5_327.tif\n",
            "/content/platform_demo/train/present/tyrol-w5_42.tif\n",
            "/content/platform_demo/train/present/vienna3_374.tif\n",
            "/content/platform_demo/train/present/austin2_188.tif\n",
            "/content/platform_demo/train/present/vienna4_230.tif\n",
            "/content/platform_demo/train/present/kitsap1_14.tif\n",
            "/content/platform_demo/train/present/vienna5_234.tif\n",
            "/content/platform_demo/train/present/vienna5_105.tif\n",
            "/content/platform_demo/train/present/austin1_365.tif\n",
            "/content/platform_demo/train/present/vienna4_60.tif\n",
            "/content/platform_demo/train/present/vienna3_45.tif\n",
            "/content/platform_demo/train/present/chicago5_324.tif\n",
            "/content/platform_demo/train/present/chicago3_215.tif\n",
            "/content/platform_demo/train/present/vienna1_37.tif\n",
            "/content/platform_demo/train/present/vienna3_232.tif\n",
            "/content/platform_demo/train/present/tyrol-w1_196.tif\n",
            "/content/platform_demo/train/present/vienna2_158.tif\n",
            "/content/platform_demo/train/present/austin5_44.tif\n",
            "/content/platform_demo/train/present/chicago4_341.tif\n",
            "/content/platform_demo/train/present/tyrol-w1_318.tif\n",
            "/content/platform_demo/train/present/vienna1_240.tif\n",
            "/content/platform_demo/train/present/austin1_14.tif\n",
            "/content/platform_demo/train/present/vienna1_309.tif\n",
            "/content/platform_demo/train/present/vienna4_84.tif\n",
            "/content/platform_demo/train/present/vienna2_225.tif\n",
            "/content/platform_demo/train/present/chicago2_195.tif\n",
            "/content/platform_demo/train/present/chicago1_43.tif\n",
            "/content/platform_demo/train/present/vienna4_4.tif\n",
            "/content/platform_demo/train/present/austin5_10.tif\n",
            "/content/platform_demo/train/present/chicago4_224.tif\n",
            "/content/platform_demo/train/present/vienna1_378.tif\n",
            "/content/platform_demo/train/present/vienna5_225.tif\n",
            "/content/platform_demo/train/present/tyrol-w2_261.tif\n",
            "/content/platform_demo/train/present/vienna2_362.tif\n",
            "/content/platform_demo/train/present/tyrol-w3_348.tif\n",
            "/content/platform_demo/train/present/austin3_217.tif\n",
            "/content/platform_demo/train/present/chicago3_78.tif\n",
            "/content/platform_demo/train/present/kitsap3_398.tif\n",
            "/content/platform_demo/train/present/tyrol-w4_108.tif\n",
            "/content/platform_demo/train/present/vienna3_2.tif\n",
            "/content/platform_demo/train/present/tyrol-w2_272.tif\n",
            "/content/platform_demo/train/present/kitsap5_10.tif\n",
            "/content/platform_demo/train/present/chicago3_324.tif\n",
            "/content/platform_demo/train/present/chicago2_194.tif\n",
            "/content/platform_demo/train/present/chicago1_144.tif\n",
            "/content/platform_demo/train/present/austin2_239.tif\n",
            "/content/platform_demo/train/present/tyrol-w1_374.tif\n",
            "/content/platform_demo/train/present/kitsap2_265.tif\n",
            "/content/platform_demo/train/present/austin1_396.tif\n",
            "/content/platform_demo/train/present/vienna4_225.tif\n",
            "/content/platform_demo/train/present/austin5_276.tif\n",
            "/content/platform_demo/train/present/chicago2_358.tif\n",
            "/content/platform_demo/train/present/chicago1_24.tif\n",
            "/content/platform_demo/train/present/chicago4_308.tif\n",
            "/content/platform_demo/train/present/chicago2_123.tif\n",
            "/content/platform_demo/train/present/vienna3_224.tif\n",
            "/content/platform_demo/train/present/austin3_393.tif\n",
            "/content/platform_demo/train/present/austin4_101.tif\n",
            "/content/platform_demo/train/present/vienna1_155.tif\n",
            "/content/platform_demo/train/present/chicago2_153.tif\n",
            "/content/platform_demo/train/present/vienna5_375.tif\n",
            "/content/platform_demo/train/present/austin3_258.tif\n",
            "/content/platform_demo/train/present/vienna4_247.tif\n",
            "/content/platform_demo/train/present/kitsap3_16.tif\n",
            "/content/platform_demo/train/present/austin1_274.tif\n",
            "/content/platform_demo/train/present/austin5_267.tif\n",
            "/content/platform_demo/train/present/vienna2_330.tif\n",
            "/content/platform_demo/train/present/tyrol-w4_263.tif\n",
            "/content/platform_demo/train/present/vienna2_292.tif\n",
            "/content/platform_demo/train/present/tyrol-w1_355.tif\n",
            "/content/platform_demo/train/present/vienna1_278.tif\n",
            "/content/platform_demo/train/present/vienna4_283.tif\n",
            "/content/platform_demo/train/present/austin5_163.tif\n",
            "/content/platform_demo/train/present/austin4_30.tif\n",
            "/content/platform_demo/train/present/chicago4_165.tif\n",
            "/content/platform_demo/train/present/vienna1_177.tif\n",
            "/content/platform_demo/train/present/tyrol-w5_41.tif\n",
            "/content/platform_demo/train/present/tyrol-w4_382.tif\n",
            "/content/platform_demo/train/present/chicago1_78.tif\n",
            "/content/platform_demo/train/present/austin2_282.tif\n",
            "/content/platform_demo/train/present/tyrol-w3_216.tif\n",
            "/content/platform_demo/train/present/chicago3_30.tif\n",
            "/content/platform_demo/train/present/kitsap3_219.tif\n",
            "/content/platform_demo/train/present/chicago1_41.tif\n",
            "/content/platform_demo/train/present/kitsap3_179.tif\n",
            "/content/platform_demo/train/present/austin5_385.tif\n",
            "/content/platform_demo/train/present/chicago3_395.tif\n",
            "/content/platform_demo/train/present/tyrol-w5_273.tif\n",
            "/content/platform_demo/train/present/vienna4_270.tif\n",
            "/content/platform_demo/train/present/vienna2_359.tif\n",
            "/content/platform_demo/train/present/chicago3_170.tif\n",
            "/content/platform_demo/train/present/vienna4_20.tif\n",
            "/content/platform_demo/train/present/vienna5_123.tif\n",
            "/content/platform_demo/train/present/chicago4_155.tif\n",
            "/content/platform_demo/train/present/chicago3_41.tif\n",
            "/content/platform_demo/train/present/chicago1_228.tif\n",
            "/content/platform_demo/train/present/austin1_195.tif\n",
            "/content/platform_demo/train/present/vienna2_389.tif\n",
            "/content/platform_demo/train/present/vienna4_328.tif\n",
            "/content/platform_demo/train/present/austin4_228.tif\n",
            "/content/platform_demo/train/present/austin1_364.tif\n",
            "/content/platform_demo/train/present/austin3_40.tif\n",
            "/content/platform_demo/train/present/chicago2_182.tif\n",
            "/content/platform_demo/train/present/tyrol-w5_266.tif\n",
            "/content/platform_demo/train/present/vienna3_277.tif\n",
            "/content/platform_demo/train/present/vienna4_308.tif\n",
            "/content/platform_demo/train/present/chicago2_120.tif\n",
            "/content/platform_demo/train/present/chicago5_64.tif\n",
            "/content/platform_demo/train/present/austin2_315.tif\n",
            "/content/platform_demo/train/present/austin4_314.tif\n",
            "/content/platform_demo/train/present/tyrol-w3_150.tif\n",
            "/content/platform_demo/train/present/chicago1_307.tif\n",
            "/content/platform_demo/train/present/vienna5_214.tif\n",
            "/content/platform_demo/train/present/vienna3_230.tif\n",
            "/content/platform_demo/train/present/vienna3_175.tif\n",
            "/content/platform_demo/train/present/vienna1_181.tif\n",
            "/content/platform_demo/train/present/chicago1_6.tif\n",
            "/content/platform_demo/train/present/austin2_308.tif\n",
            "/content/platform_demo/train/present/austin2_283.tif\n",
            "/content/platform_demo/train/present/vienna2_226.tif\n",
            "/content/platform_demo/train/present/chicago2_266.tif\n",
            "/content/platform_demo/train/present/chicago4_197.tif\n",
            "/content/platform_demo/train/present/tyrol-w2_63.tif\n",
            "/content/platform_demo/train/present/chicago3_316.tif\n",
            "/content/platform_demo/train/present/austin3_319.tif\n",
            "/content/platform_demo/train/present/austin5_118.tif\n",
            "/content/platform_demo/train/present/austin1_293.tif\n",
            "/content/platform_demo/train/present/austin1_399.tif\n",
            "/content/platform_demo/train/present/tyrol-w1_279.tif\n",
            "/content/platform_demo/train/present/austin2_33.tif\n",
            "/content/platform_demo/train/present/austin3_208.tif\n",
            "/content/platform_demo/train/present/austin2_16.tif\n",
            "/content/platform_demo/train/present/vienna4_13.tif\n",
            "/content/platform_demo/train/present/vienna4_30.tif\n",
            "/content/platform_demo/train/present/vienna4_185.tif\n",
            "/content/platform_demo/train/present/vienna4_170.tif\n",
            "/content/platform_demo/train/present/vienna3_86.tif\n",
            "/content/platform_demo/train/present/chicago1_359.tif\n",
            "/content/platform_demo/train/present/vienna1_173.tif\n",
            "/content/platform_demo/train/present/tyrol-w1_215.tif\n",
            "/content/platform_demo/train/present/tyrol-w3_280.tif\n",
            "/content/platform_demo/train/present/chicago2_306.tif\n",
            "/content/platform_demo/train/present/vienna3_233.tif\n",
            "/content/platform_demo/train/present/chicago3_384.tif\n",
            "/content/platform_demo/train/present/vienna5_141.tif\n",
            "/content/platform_demo/train/present/chicago3_353.tif\n",
            "/content/platform_demo/train/present/austin2_285.tif\n",
            "/content/platform_demo/train/present/chicago4_64.tif\n",
            "/content/platform_demo/train/present/chicago2_129.tif\n",
            "/content/platform_demo/train/present/chicago4_305.tif\n",
            "/content/platform_demo/train/present/austin3_386.tif\n",
            "/content/platform_demo/train/present/chicago2_379.tif\n",
            "/content/platform_demo/train/present/austin5_183.tif\n",
            "/content/platform_demo/train/present/chicago2_369.tif\n",
            "/content/platform_demo/train/present/vienna4_235.tif\n",
            "/content/platform_demo/train/present/tyrol-w1_238.tif\n",
            "/content/platform_demo/train/present/vienna2_314.tif\n",
            "/content/platform_demo/train/present/vienna4_300.tif\n",
            "/content/platform_demo/train/present/vienna5_316.tif\n",
            "/content/platform_demo/train/present/austin1_234.tif\n",
            "/content/platform_demo/train/present/austin2_49.tif\n",
            "/content/platform_demo/train/present/tyrol-w2_248.tif\n",
            "/content/platform_demo/train/present/austin5_79.tif\n",
            "/content/platform_demo/train/present/chicago5_44.tif\n",
            "/content/platform_demo/train/present/tyrol-w4_241.tif\n",
            "/content/platform_demo/train/present/kitsap3_265.tif\n",
            "/content/platform_demo/train/present/chicago5_26.tif\n",
            "/content/platform_demo/train/present/austin3_156.tif\n",
            "/content/platform_demo/train/present/kitsap5_164.tif\n",
            "/content/platform_demo/train/present/austin5_188.tif\n",
            "/content/platform_demo/train/present/kitsap3_50.tif\n",
            "/content/platform_demo/train/present/chicago2_368.tif\n",
            "/content/platform_demo/train/present/austin1_148.tif\n",
            "/content/platform_demo/train/present/austin3_272.tif\n",
            "/content/platform_demo/train/present/tyrol-w4_344.tif\n",
            "/content/platform_demo/train/present/vienna5_246.tif\n",
            "/content/platform_demo/train/present/vienna1_194.tif\n",
            "/content/platform_demo/train/present/chicago3_118.tif\n",
            "/content/platform_demo/train/present/austin3_346.tif\n",
            "/content/platform_demo/train/present/vienna2_93.tif\n",
            "/content/platform_demo/train/present/austin5_314.tif\n",
            "/content/platform_demo/train/present/chicago2_226.tif\n",
            "/content/platform_demo/train/present/chicago2_312.tif\n",
            "/content/platform_demo/train/present/chicago3_400.tif\n",
            "/content/platform_demo/train/present/vienna2_279.tif\n",
            "/content/platform_demo/train/present/chicago4_137.tif\n",
            "/content/platform_demo/train/present/vienna4_94.tif\n",
            "/content/platform_demo/train/present/chicago4_170.tif\n",
            "/content/platform_demo/train/present/austin4_61.tif\n",
            "/content/platform_demo/train/present/vienna3_380.tif\n",
            "/content/platform_demo/train/present/vienna4_80.tif\n",
            "/content/platform_demo/train/present/chicago1_374.tif\n",
            "/content/platform_demo/train/present/austin2_65.tif\n",
            "/content/platform_demo/train/present/vienna4_226.tif\n",
            "/content/platform_demo/train/present/vienna1_346.tif\n",
            "/content/platform_demo/train/present/chicago5_343.tif\n",
            "/content/platform_demo/train/present/vienna2_164.tif\n",
            "/content/platform_demo/train/present/chicago2_246.tif\n",
            "/content/platform_demo/train/present/tyrol-w1_317.tif\n",
            "/content/platform_demo/train/present/tyrol-w5_224.tif\n",
            "/content/platform_demo/train/present/chicago5_359.tif\n",
            "/content/platform_demo/train/present/chicago3_257.tif\n",
            "/content/platform_demo/train/present/chicago3_184.tif\n",
            "/content/platform_demo/train/present/vienna3_71.tif\n",
            "/content/platform_demo/train/present/chicago4_383.tif\n",
            "/content/platform_demo/train/present/chicago3_7.tif\n",
            "/content/platform_demo/train/present/vienna4_268.tif\n",
            "/content/platform_demo/train/present/austin4_399.tif\n",
            "/content/platform_demo/train/present/austin1_37.tif\n",
            "/content/platform_demo/train/present/vienna5_358.tif\n",
            "/content/platform_demo/train/present/kitsap5_168.tif\n",
            "/content/platform_demo/train/present/tyrol-w3_331.tif\n",
            "/content/platform_demo/train/present/chicago2_87.tif\n",
            "/content/platform_demo/train/present/chicago2_297.tif\n",
            "/content/platform_demo/train/present/tyrol-w2_149.tif\n",
            "/content/platform_demo/train/present/austin2_192.tif\n",
            "/content/platform_demo/train/present/vienna5_41.tif\n",
            "/content/platform_demo/train/present/austin1_266.tif\n",
            "/content/platform_demo/train/present/austin1_329.tif\n",
            "/content/platform_demo/train/present/chicago4_253.tif\n",
            "/content/platform_demo/train/present/chicago3_2.tif\n",
            "/content/platform_demo/train/present/austin2_367.tif\n",
            "/content/platform_demo/train/present/chicago1_47.tif\n",
            "/content/platform_demo/train/present/tyrol-w3_264.tif\n",
            "/content/platform_demo/train/present/austin5_117.tif\n",
            "/content/platform_demo/train/present/austin3_38.tif\n",
            "/content/platform_demo/train/present/vienna2_394.tif\n",
            "/content/platform_demo/train/present/chicago3_111.tif\n",
            "/content/platform_demo/train/present/vienna4_231.tif\n",
            "/content/platform_demo/train/present/vienna5_398.tif\n",
            "/content/platform_demo/train/present/vienna3_172.tif\n",
            "/content/platform_demo/train/present/austin1_64.tif\n",
            "/content/platform_demo/train/present/chicago2_84.tif\n",
            "/content/platform_demo/train/present/chicago4_362.tif\n",
            "/content/platform_demo/train/present/austin1_338.tif\n",
            "/content/platform_demo/train/present/tyrol-w3_320.tif\n",
            "/content/platform_demo/train/present/chicago1_16.tif\n",
            "/content/platform_demo/train/present/chicago3_5.tif\n",
            "/content/platform_demo/train/present/kitsap3_347.tif\n",
            "/content/platform_demo/train/present/kitsap5_108.tif\n",
            "/content/platform_demo/train/present/tyrol-w5_225.tif\n",
            "/content/platform_demo/train/present/austin3_263.tif\n",
            "/content/platform_demo/train/present/tyrol-w5_233.tif\n",
            "/content/platform_demo/train/present/chicago3_212.tif\n",
            "/content/platform_demo/train/present/vienna3_19.tif\n",
            "/content/platform_demo/train/present/vienna5_222.tif\n",
            "/content/platform_demo/train/present/vienna2_72.tif\n",
            "/content/platform_demo/train/present/kitsap3_140.tif\n",
            "/content/platform_demo/train/present/austin1_205.tif\n",
            "/content/platform_demo/train/present/austin5_219.tif\n",
            "/content/platform_demo/train/present/tyrol-w1_260.tif\n",
            "/content/platform_demo/train/present/chicago4_358.tif\n",
            "/content/platform_demo/train/present/vienna3_63.tif\n",
            "/content/platform_demo/train/present/chicago2_138.tif\n",
            "/content/platform_demo/train/present/austin4_356.tif\n",
            "/content/platform_demo/train/present/austin5_121.tif\n",
            "/content/platform_demo/train/present/chicago4_119.tif\n",
            "/content/platform_demo/train/present/austin5_98.tif\n",
            "/content/platform_demo/train/present/tyrol-w3_388.tif\n",
            "/content/platform_demo/train/present/tyrol-w2_311.tif\n",
            "/content/platform_demo/train/present/vienna3_68.tif\n",
            "/content/platform_demo/train/present/tyrol-w3_191.tif\n",
            "/content/platform_demo/train/present/tyrol-w1_74.tif\n",
            "/content/platform_demo/train/present/tyrol-w2_330.tif\n",
            "/content/platform_demo/train/present/tyrol-w1_262.tif\n",
            "/content/platform_demo/train/present/chicago5_113.tif\n",
            "/content/platform_demo/train/present/vienna1_233.tif\n",
            "/content/platform_demo/train/present/vienna5_44.tif\n",
            "/content/platform_demo/train/present/austin1_345.tif\n",
            "/content/platform_demo/train/present/austin5_169.tif\n",
            "/content/platform_demo/train/present/vienna3_392.tif\n",
            "/content/platform_demo/train/present/vienna1_396.tif\n",
            "/content/platform_demo/train/present/tyrol-w3_365.tif\n",
            "/content/platform_demo/train/present/chicago4_152.tif\n",
            "/content/platform_demo/train/present/chicago3_280.tif\n",
            "/content/platform_demo/train/present/chicago3_105.tif\n",
            "/content/platform_demo/train/present/chicago2_161.tif\n",
            "/content/platform_demo/train/present/austin4_359.tif\n",
            "/content/platform_demo/train/present/vienna3_206.tif\n",
            "/content/platform_demo/train/present/austin2_199.tif\n",
            "/content/platform_demo/train/present/tyrol-w3_350.tif\n",
            "/content/platform_demo/train/present/chicago1_32.tif\n",
            "/content/platform_demo/train/present/tyrol-w1_363.tif\n",
            "/content/platform_demo/train/present/tyrol-w3_205.tif\n",
            "/content/platform_demo/train/present/tyrol-w3_139.tif\n",
            "/content/platform_demo/train/present/vienna2_36.tif\n",
            "/content/platform_demo/train/present/austin1_319.tif\n",
            "/content/platform_demo/train/present/tyrol-w5_38.tif\n",
            "/content/platform_demo/train/present/vienna3_160.tif\n",
            "/content/platform_demo/train/present/vienna4_199.tif\n",
            "/content/platform_demo/train/present/tyrol-w3_333.tif\n",
            "/content/platform_demo/train/present/austin1_392.tif\n",
            "/content/platform_demo/train/present/kitsap3_246.tif\n",
            "/content/platform_demo/train/present/chicago2_220.tif\n",
            "/content/platform_demo/train/present/kitsap2_29.tif\n",
            "/content/platform_demo/train/present/vienna1_127.tif\n",
            "/content/platform_demo/train/present/tyrol-w5_280.tif\n",
            "/content/platform_demo/train/present/vienna5_382.tif\n",
            "/content/platform_demo/train/present/kitsap4_395.tif\n",
            "/content/platform_demo/train/present/chicago4_122.tif\n",
            "/content/platform_demo/train/present/chicago1_14.tif\n",
            "/content/platform_demo/train/present/vienna4_202.tif\n",
            "/content/platform_demo/train/present/austin4_369.tif\n",
            "/content/platform_demo/train/present/tyrol-w3_75.tif\n",
            "/content/platform_demo/train/present/tyrol-w1_322.tif\n",
            "/content/platform_demo/train/present/vienna2_372.tif\n",
            "/content/platform_demo/train/present/tyrol-w1_362.tif\n",
            "/content/platform_demo/train/present/kitsap4_47.tif\n",
            "/content/platform_demo/train/present/tyrol-w4_44.tif\n",
            "/content/platform_demo/train/present/chicago1_93.tif\n",
            "/content/platform_demo/train/present/austin5_11.tif\n",
            "/content/platform_demo/train/present/tyrol-w3_215.tif\n",
            "/content/platform_demo/train/present/chicago1_272.tif\n",
            "/content/platform_demo/train/present/austin1_68.tif\n",
            "/content/platform_demo/train/present/chicago4_249.tif\n",
            "/content/platform_demo/train/present/chicago2_112.tif\n",
            "/content/platform_demo/train/present/austin3_236.tif\n",
            "/content/platform_demo/train/present/chicago3_195.tif\n",
            "/content/platform_demo/train/present/tyrol-w2_216.tif\n",
            "/content/platform_demo/train/present/austin1_313.tif\n",
            "/content/platform_demo/train/present/vienna2_236.tif\n",
            "/content/platform_demo/train/present/kitsap5_234.tif\n",
            "/content/platform_demo/train/present/chicago1_27.tif\n",
            "/content/platform_demo/train/present/kitsap5_231.tif\n",
            "/content/platform_demo/train/present/kitsap4_373.tif\n",
            "/content/platform_demo/train/present/vienna4_299.tif\n",
            "/content/platform_demo/train/present/tyrol-w1_233.tif\n",
            "/content/platform_demo/train/present/tyrol-w2_233.tif\n",
            "/content/platform_demo/train/present/vienna3_163.tif\n",
            "/content/platform_demo/train/present/kitsap2_214.tif\n",
            "/content/platform_demo/train/present/austin1_34.tif\n",
            "/content/platform_demo/train/present/chicago1_266.tif\n",
            "/content/platform_demo/train/present/vienna1_31.tif\n",
            "/content/platform_demo/train/present/chicago3_54.tif\n",
            "/content/platform_demo/train/present/vienna4_132.tif\n",
            "/content/platform_demo/train/present/vienna2_13.tif\n",
            "/content/platform_demo/train/present/austin1_165.tif\n",
            "/content/platform_demo/train/present/chicago3_89.tif\n",
            "/content/platform_demo/train/present/austin3_216.tif\n",
            "/content/platform_demo/train/present/vienna2_345.tif\n",
            "/content/platform_demo/train/present/vienna2_254.tif\n",
            "/content/platform_demo/train/present/chicago1_245.tif\n",
            "/content/platform_demo/train/present/kitsap3_152.tif\n",
            "/content/platform_demo/train/present/austin4_383.tif\n",
            "/content/platform_demo/train/present/chicago5_217.tif\n",
            "/content/platform_demo/train/present/kitsap3_147.tif\n",
            "/content/platform_demo/train/present/chicago1_80.tif\n",
            "/content/platform_demo/train/present/kitsap5_5.tif\n",
            "/content/platform_demo/train/present/austin4_124.tif\n",
            "/content/platform_demo/train/present/kitsap3_275.tif\n",
            "/content/platform_demo/train/present/austin5_57.tif\n",
            "/content/platform_demo/train/present/chicago4_151.tif\n",
            "/content/platform_demo/train/present/chicago1_71.tif\n",
            "/content/platform_demo/train/present/tyrol-w3_307.tif\n",
            "/content/platform_demo/train/present/tyrol-w1_259.tif\n",
            "/content/platform_demo/train/present/vienna1_250.tif\n",
            "/content/platform_demo/train/present/tyrol-w3_90.tif\n",
            "/content/platform_demo/train/present/austin1_290.tif\n",
            "/content/platform_demo/train/present/austin3_289.tif\n",
            "/content/platform_demo/train/present/tyrol-w4_386.tif\n",
            "/content/platform_demo/train/present/vienna4_146.tif\n",
            "/content/platform_demo/train/present/vienna2_201.tif\n",
            "/content/platform_demo/train/present/vienna1_75.tif\n",
            "/content/platform_demo/train/absent/\n",
            "/content/platform_demo/train/absent/vienna4_241.tif\n",
            "/content/platform_demo/train/absent/chicago5_274.tif\n",
            "/content/platform_demo/train/absent/kitsap2_193.tif\n",
            "/content/platform_demo/train/absent/tyrol-w2_117.tif\n",
            "/content/platform_demo/train/absent/austin5_90.tif\n",
            "/content/platform_demo/train/absent/chicago5_232.tif\n",
            "/content/platform_demo/train/absent/kitsap1_184.tif\n",
            "/content/platform_demo/train/absent/kitsap1_284.tif\n",
            "/content/platform_demo/train/absent/austin4_255.tif\n",
            "/content/platform_demo/train/absent/vienna5_230.tif\n",
            "/content/platform_demo/train/absent/kitsap2_113.tif\n",
            "/content/platform_demo/train/absent/kitsap4_372.tif\n",
            "/content/platform_demo/train/absent/vienna5_327.tif\n",
            "/content/platform_demo/train/absent/chicago1_188.tif\n",
            "/content/platform_demo/train/absent/tyrol-w5_283.tif\n",
            "/content/platform_demo/train/absent/kitsap3_127.tif\n",
            "/content/platform_demo/train/absent/kitsap5_197.tif\n",
            "/content/platform_demo/train/absent/kitsap2_364.tif\n",
            "/content/platform_demo/train/absent/kitsap2_90.tif\n",
            "/content/platform_demo/train/absent/austin4_325.tif\n",
            "/content/platform_demo/train/absent/tyrol-w4_316.tif\n",
            "/content/platform_demo/train/absent/kitsap3_303.tif\n",
            "/content/platform_demo/train/absent/austin3_362.tif\n",
            "/content/platform_demo/train/absent/vienna3_180.tif\n",
            "/content/platform_demo/train/absent/kitsap4_384.tif\n",
            "/content/platform_demo/train/absent/tyrol-w5_286.tif\n",
            "/content/platform_demo/train/absent/kitsap2_358.tif\n",
            "/content/platform_demo/train/absent/chicago1_390.tif\n",
            "/content/platform_demo/train/absent/kitsap1_316.tif\n",
            "/content/platform_demo/train/absent/chicago1_386.tif\n",
            "/content/platform_demo/train/absent/kitsap3_348.tif\n",
            "/content/platform_demo/train/absent/vienna5_39.tif\n",
            "/content/platform_demo/train/absent/kitsap1_201.tif\n",
            "/content/platform_demo/train/absent/kitsap2_148.tif\n",
            "/content/platform_demo/train/absent/vienna5_367.tif\n",
            "/content/platform_demo/train/absent/tyrol-w5_95.tif\n",
            "/content/platform_demo/train/absent/kitsap5_100.tif\n",
            "/content/platform_demo/train/absent/austin5_134.tif\n",
            "/content/platform_demo/train/absent/chicago5_210.tif\n",
            "/content/platform_demo/train/absent/chicago1_298.tif\n",
            "/content/platform_demo/train/absent/austin1_90.tif\n",
            "/content/platform_demo/train/absent/kitsap3_165.tif\n",
            "/content/platform_demo/train/absent/tyrol-w5_25.tif\n",
            "/content/platform_demo/train/absent/tyrol-w5_311.tif\n",
            "/content/platform_demo/train/absent/kitsap5_88.tif\n",
            "/content/platform_demo/train/absent/austin4_345.tif\n",
            "/content/platform_demo/train/absent/kitsap5_326.tif\n",
            "/content/platform_demo/train/absent/tyrol-w1_310.tif\n",
            "/content/platform_demo/train/absent/austin5_136.tif\n",
            "/content/platform_demo/train/absent/kitsap4_124.tif\n",
            "/content/platform_demo/train/absent/kitsap1_217.tif\n",
            "/content/platform_demo/train/absent/tyrol-w5_101.tif\n",
            "/content/platform_demo/train/absent/tyrol-w5_94.tif\n",
            "/content/platform_demo/train/absent/tyrol-w3_183.tif\n",
            "/content/platform_demo/train/absent/tyrol-w5_314.tif\n",
            "/content/platform_demo/train/absent/tyrol-w2_29.tif\n",
            "/content/platform_demo/train/absent/chicago4_32.tif\n",
            "/content/platform_demo/train/absent/kitsap5_271.tif\n",
            "/content/platform_demo/train/absent/kitsap4_335.tif\n",
            "/content/platform_demo/train/absent/chicago1_389.tif\n",
            "/content/platform_demo/train/absent/tyrol-w4_20.tif\n",
            "/content/platform_demo/train/absent/kitsap2_270.tif\n",
            "/content/platform_demo/train/absent/tyrol-w5_388.tif\n",
            "/content/platform_demo/train/absent/kitsap1_155.tif\n",
            "/content/platform_demo/train/absent/kitsap1_311.tif\n",
            "/content/platform_demo/train/absent/chicago1_306.tif\n",
            "/content/platform_demo/train/absent/kitsap1_28.tif\n",
            "/content/platform_demo/train/absent/tyrol-w4_120.tif\n",
            "/content/platform_demo/train/absent/tyrol-w1_387.tif\n",
            "/content/platform_demo/train/absent/austin4_150.tif\n",
            "/content/platform_demo/train/absent/kitsap4_259.tif\n",
            "/content/platform_demo/train/absent/tyrol-w5_115.tif\n",
            "/content/platform_demo/train/absent/kitsap5_239.tif\n",
            "/content/platform_demo/train/absent/kitsap5_120.tif\n",
            "/content/platform_demo/train/absent/kitsap5_266.tif\n",
            "/content/platform_demo/train/absent/chicago1_140.tif\n",
            "/content/platform_demo/train/absent/kitsap1_261.tif\n",
            "/content/platform_demo/train/absent/tyrol-w2_139.tif\n",
            "/content/platform_demo/train/absent/kitsap1_238.tif\n",
            "/content/platform_demo/train/absent/tyrol-w1_66.tif\n",
            "/content/platform_demo/train/absent/chicago1_338.tif\n",
            "/content/platform_demo/train/absent/kitsap2_191.tif\n",
            "/content/platform_demo/train/absent/tyrol-w3_61.tif\n",
            "/content/platform_demo/train/absent/tyrol-w3_362.tif\n",
            "/content/platform_demo/train/absent/kitsap1_293.tif\n",
            "/content/platform_demo/train/absent/tyrol-w1_64.tif\n",
            "/content/platform_demo/train/absent/kitsap3_93.tif\n",
            "/content/platform_demo/train/absent/austin4_96.tif\n",
            "/content/platform_demo/train/absent/kitsap5_304.tif\n",
            "/content/platform_demo/train/absent/kitsap5_50.tif\n",
            "/content/platform_demo/train/absent/kitsap4_313.tif\n",
            "/content/platform_demo/train/absent/austin4_257.tif\n",
            "/content/platform_demo/train/absent/tyrol-w1_83.tif\n",
            "/content/platform_demo/train/absent/kitsap1_254.tif\n",
            "/content/platform_demo/train/absent/austin4_20.tif\n",
            "/content/platform_demo/train/absent/kitsap1_62.tif\n",
            "/content/platform_demo/train/absent/tyrol-w2_167.tif\n",
            "/content/platform_demo/train/absent/chicago4_72.tif\n",
            "/content/platform_demo/train/absent/kitsap2_89.tif\n",
            "/content/platform_demo/train/absent/tyrol-w4_34.tif\n",
            "/content/platform_demo/train/absent/kitsap2_1.tif\n",
            "/content/platform_demo/train/absent/tyrol-w1_261.tif\n",
            "/content/platform_demo/train/absent/kitsap2_393.tif\n",
            "/content/platform_demo/train/absent/kitsap5_91.tif\n",
            "/content/platform_demo/train/absent/kitsap1_266.tif\n",
            "/content/platform_demo/train/absent/kitsap2_88.tif\n",
            "/content/platform_demo/train/absent/kitsap1_296.tif\n",
            "/content/platform_demo/train/absent/vienna5_20.tif\n",
            "/content/platform_demo/train/absent/austin4_132.tif\n",
            "/content/platform_demo/train/absent/chicago5_146.tif\n",
            "/content/platform_demo/train/absent/kitsap4_160.tif\n",
            "/content/platform_demo/train/absent/kitsap4_336.tif\n",
            "/content/platform_demo/train/absent/kitsap5_196.tif\n",
            "/content/platform_demo/train/absent/vienna5_290.tif\n",
            "/content/platform_demo/train/absent/kitsap4_91.tif\n",
            "/content/platform_demo/train/absent/tyrol-w1_122.tif\n",
            "/content/platform_demo/train/absent/kitsap1_20.tif\n",
            "/content/platform_demo/train/absent/kitsap5_56.tif\n",
            "/content/platform_demo/train/absent/tyrol-w5_289.tif\n",
            "/content/platform_demo/train/absent/kitsap5_195.tif\n",
            "/content/platform_demo/train/absent/chicago2_48.tif\n",
            "/content/platform_demo/train/absent/tyrol-w1_246.tif\n",
            "/content/platform_demo/train/absent/tyrol-w1_386.tif\n",
            "/content/platform_demo/train/absent/tyrol-w2_19.tif\n",
            "/content/platform_demo/train/absent/tyrol-w1_330.tif\n",
            "/content/platform_demo/train/absent/kitsap5_194.tif\n",
            "/content/platform_demo/train/absent/tyrol-w1_73.tif\n",
            "/content/platform_demo/train/absent/austin1_118.tif\n",
            "/content/platform_demo/train/absent/kitsap1_228.tif\n",
            "/content/platform_demo/train/absent/austin4_266.tif\n",
            "/content/platform_demo/train/absent/kitsap2_397.tif\n",
            "/content/platform_demo/train/absent/vienna5_349.tif\n",
            "/content/platform_demo/train/absent/vienna5_120.tif\n",
            "/content/platform_demo/train/absent/kitsap3_292.tif\n",
            "/content/platform_demo/train/absent/tyrol-w5_296.tif\n",
            "/content/platform_demo/train/absent/kitsap5_130.tif\n",
            "/content/platform_demo/train/absent/kitsap2_316.tif\n",
            "/content/platform_demo/train/absent/kitsap5_82.tif\n",
            "/content/platform_demo/train/absent/tyrol-w5_13.tif\n",
            "/content/platform_demo/train/absent/austin5_26.tif\n",
            "/content/platform_demo/train/absent/tyrol-w4_74.tif\n",
            "/content/platform_demo/train/absent/kitsap4_29.tif\n",
            "/content/platform_demo/train/absent/tyrol-w2_132.tif\n",
            "/content/platform_demo/train/absent/vienna4_180.tif\n",
            "/content/platform_demo/train/absent/kitsap1_366.tif\n",
            "/content/platform_demo/train/absent/kitsap2_50.tif\n",
            "/content/platform_demo/train/absent/tyrol-w5_399.tif\n",
            "/content/platform_demo/train/absent/austin4_178.tif\n",
            "/content/platform_demo/train/absent/kitsap4_215.tif\n",
            "/content/platform_demo/train/absent/kitsap1_317.tif\n",
            "/content/platform_demo/train/absent/austin4_239.tif\n",
            "/content/platform_demo/train/absent/kitsap1_248.tif\n",
            "/content/platform_demo/train/absent/chicago5_84.tif\n",
            "/content/platform_demo/train/absent/austin4_93.tif\n",
            "/content/platform_demo/train/absent/chicago1_376.tif\n",
            "/content/platform_demo/train/absent/kitsap3_222.tif\n",
            "/content/platform_demo/train/absent/chicago1_257.tif\n",
            "/content/platform_demo/train/absent/kitsap2_319.tif\n",
            "/content/platform_demo/train/absent/kitsap5_104.tif\n",
            "/content/platform_demo/train/absent/tyrol-w4_151.tif\n",
            "/content/platform_demo/train/absent/tyrol-w3_315.tif\n",
            "/content/platform_demo/train/absent/kitsap5_299.tif\n",
            "/content/platform_demo/train/absent/austin5_15.tif\n",
            "/content/platform_demo/train/absent/chicago3_297.tif\n",
            "/content/platform_demo/train/absent/tyrol-w2_5.tif\n",
            "/content/platform_demo/train/absent/chicago5_317.tif\n",
            "/content/platform_demo/train/absent/kitsap2_146.tif\n",
            "/content/platform_demo/train/absent/kitsap5_180.tif\n",
            "/content/platform_demo/train/absent/kitsap1_78.tif\n",
            "/content/platform_demo/train/absent/tyrol-w2_379.tif\n",
            "/content/platform_demo/train/absent/austin4_140.tif\n",
            "/content/platform_demo/train/absent/tyrol-w5_373.tif\n",
            "/content/platform_demo/train/absent/austin1_66.tif\n",
            "/content/platform_demo/train/absent/tyrol-w1_187.tif\n",
            "/content/platform_demo/train/absent/tyrol-w2_146.tif\n",
            "/content/platform_demo/train/absent/kitsap3_328.tif\n",
            "/content/platform_demo/train/absent/kitsap3_341.tif\n",
            "/content/platform_demo/train/absent/tyrol-w2_119.tif\n",
            "/content/platform_demo/train/absent/kitsap2_98.tif\n",
            "/content/platform_demo/train/absent/kitsap1_347.tif\n",
            "/content/platform_demo/train/absent/vienna5_200.tif\n",
            "/content/platform_demo/train/absent/tyrol-w1_367.tif\n",
            "/content/platform_demo/train/absent/kitsap2_109.tif\n",
            "/content/platform_demo/train/absent/kitsap3_247.tif\n",
            "/content/platform_demo/train/absent/chicago5_216.tif\n",
            "/content/platform_demo/train/absent/kitsap1_71.tif\n",
            "/content/platform_demo/train/absent/tyrol-w4_237.tif\n",
            "/content/platform_demo/train/absent/tyrol-w4_72.tif\n",
            "/content/platform_demo/train/absent/kitsap4_36.tif\n",
            "/content/platform_demo/train/absent/tyrol-w2_17.tif\n",
            "/content/platform_demo/train/absent/tyrol-w5_73.tif\n",
            "/content/platform_demo/train/absent/kitsap5_79.tif\n",
            "/content/platform_demo/train/absent/kitsap1_70.tif\n",
            "/content/platform_demo/train/absent/chicago1_322.tif\n",
            "/content/platform_demo/train/absent/kitsap2_126.tif\n",
            "/content/platform_demo/train/absent/austin3_65.tif\n",
            "/content/platform_demo/train/absent/kitsap4_34.tif\n",
            "/content/platform_demo/train/absent/kitsap5_352.tif\n",
            "/content/platform_demo/train/absent/austin2_253.tif\n",
            "/content/platform_demo/train/absent/kitsap1_180.tif\n",
            "/content/platform_demo/train/absent/kitsap4_262.tif\n",
            "/content/platform_demo/train/absent/tyrol-w1_190.tif\n",
            "/content/platform_demo/train/absent/kitsap4_76.tif\n",
            "/content/platform_demo/train/absent/chicago4_33.tif\n",
            "/content/platform_demo/train/absent/kitsap1_345.tif\n",
            "/content/platform_demo/train/absent/kitsap5_301.tif\n",
            "/content/platform_demo/train/absent/tyrol-w5_392.tif\n",
            "/content/platform_demo/train/absent/tyrol-w5_1.tif\n",
            "/content/platform_demo/train/absent/kitsap3_204.tif\n",
            "/content/platform_demo/train/absent/austin4_253.tif\n",
            "/content/platform_demo/train/absent/kitsap3_221.tif\n",
            "/content/platform_demo/train/absent/kitsap2_5.tif\n",
            "/content/platform_demo/train/absent/tyrol-w1_3.tif\n",
            "/content/platform_demo/train/absent/kitsap4_303.tif\n",
            "/content/platform_demo/train/absent/kitsap5_77.tif\n",
            "/content/platform_demo/train/absent/vienna4_374.tif\n",
            "/content/platform_demo/train/absent/kitsap2_327.tif\n",
            "/content/platform_demo/train/absent/kitsap4_147.tif\n",
            "/content/platform_demo/train/absent/tyrol-w5_158.tif\n",
            "/content/platform_demo/train/absent/tyrol-w3_122.tif\n",
            "/content/platform_demo/train/absent/austin5_110.tif\n",
            "/content/platform_demo/train/absent/tyrol-w4_330.tif\n",
            "/content/platform_demo/train/absent/tyrol-w1_206.tif\n",
            "/content/platform_demo/train/absent/austin4_186.tif\n",
            "/content/platform_demo/train/absent/tyrol-w3_124.tif\n",
            "/content/platform_demo/train/absent/kitsap1_385.tif\n",
            "/content/platform_demo/train/absent/tyrol-w4_80.tif\n",
            "/content/platform_demo/train/absent/kitsap1_313.tif\n",
            "/content/platform_demo/train/absent/kitsap4_187.tif\n",
            "/content/platform_demo/train/absent/tyrol-w3_399.tif\n",
            "/content/platform_demo/train/absent/tyrol-w2_308.tif\n",
            "/content/platform_demo/train/absent/kitsap3_183.tif\n",
            "/content/platform_demo/train/absent/austin5_216.tif\n",
            "/content/platform_demo/train/absent/vienna4_338.tif\n",
            "/content/platform_demo/train/absent/kitsap5_136.tif\n",
            "/content/platform_demo/train/absent/kitsap3_361.tif\n",
            "/content/platform_demo/train/absent/kitsap2_322.tif\n",
            "/content/platform_demo/train/absent/tyrol-w2_338.tif\n",
            "/content/platform_demo/train/absent/kitsap2_23.tif\n",
            "/content/platform_demo/train/absent/chicago5_276.tif\n",
            "/content/platform_demo/train/absent/kitsap1_182.tif\n",
            "/content/platform_demo/train/absent/chicago5_298.tif\n",
            "/content/platform_demo/train/absent/tyrol-w4_292.tif\n",
            "/content/platform_demo/train/absent/kitsap4_11.tif\n",
            "/content/platform_demo/train/absent/tyrol-w4_173.tif\n",
            "/content/platform_demo/train/absent/austin4_98.tif\n",
            "/content/platform_demo/train/absent/kitsap1_26.tif\n",
            "/content/platform_demo/train/absent/kitsap3_123.tif\n",
            "/content/platform_demo/train/absent/vienna4_324.tif\n",
            "/content/platform_demo/train/absent/kitsap1_202.tif\n",
            "/content/platform_demo/train/absent/kitsap4_48.tif\n",
            "/content/platform_demo/train/absent/tyrol-w4_111.tif\n",
            "/content/platform_demo/train/absent/kitsap1_146.tif\n",
            "/content/platform_demo/train/absent/vienna4_356.tif\n",
            "/content/platform_demo/train/absent/austin4_111.tif\n",
            "/content/platform_demo/train/absent/kitsap4_251.tif\n",
            "/content/platform_demo/train/absent/kitsap5_241.tif\n",
            "/content/platform_demo/train/absent/kitsap5_19.tif\n",
            "/content/platform_demo/train/absent/kitsap2_70.tif\n",
            "/content/platform_demo/train/absent/tyrol-w5_374.tif\n",
            "/content/platform_demo/train/absent/kitsap4_170.tif\n",
            "/content/platform_demo/train/absent/kitsap4_164.tif\n",
            "/content/platform_demo/train/absent/kitsap2_384.tif\n",
            "/content/platform_demo/train/absent/tyrol-w2_239.tif\n",
            "/content/platform_demo/train/absent/kitsap1_51.tif\n",
            "/content/platform_demo/train/absent/kitsap1_297.tif\n",
            "/content/platform_demo/train/absent/kitsap5_73.tif\n",
            "/content/platform_demo/train/absent/tyrol-w2_292.tif\n",
            "/content/platform_demo/train/absent/kitsap5_248.tif\n",
            "/content/platform_demo/train/absent/tyrol-w2_336.tif\n",
            "/content/platform_demo/train/absent/tyrol-w4_275.tif\n",
            "/content/platform_demo/train/absent/kitsap2_59.tif\n",
            "/content/platform_demo/train/absent/chicago1_236.tif\n",
            "/content/platform_demo/train/absent/kitsap4_274.tif\n",
            "/content/platform_demo/train/absent/tyrol-w1_123.tif\n",
            "/content/platform_demo/train/absent/chicago1_238.tif\n",
            "/content/platform_demo/train/absent/tyrol-w2_398.tif\n",
            "/content/platform_demo/train/absent/kitsap4_284.tif\n",
            "/content/platform_demo/train/absent/kitsap5_62.tif\n",
            "/content/platform_demo/train/absent/kitsap1_111.tif\n",
            "/content/platform_demo/train/absent/tyrol-w2_260.tif\n",
            "/content/platform_demo/train/absent/kitsap2_51.tif\n",
            "/content/platform_demo/train/absent/tyrol-w5_290.tif\n",
            "/content/platform_demo/train/absent/tyrol-w1_150.tif\n",
            "/content/platform_demo/train/absent/tyrol-w1_28.tif\n",
            "/content/platform_demo/train/absent/vienna5_115.tif\n",
            "/content/platform_demo/train/absent/kitsap1_179.tif\n",
            "/content/platform_demo/train/absent/kitsap3_380.tif\n",
            "/content/platform_demo/train/absent/tyrol-w5_324.tif\n",
            "/content/platform_demo/train/absent/tyrol-w2_391.tif\n",
            "/content/platform_demo/train/absent/tyrol-w1_14.tif\n",
            "/content/platform_demo/train/absent/kitsap5_285.tif\n",
            "/content/platform_demo/train/absent/chicago1_210.tif\n",
            "/content/platform_demo/train/absent/chicago5_312.tif\n",
            "/content/platform_demo/train/absent/kitsap2_288.tif\n",
            "/content/platform_demo/train/absent/tyrol-w3_103.tif\n",
            "/content/platform_demo/train/absent/austin5_257.tif\n",
            "/content/platform_demo/train/absent/kitsap5_69.tif\n",
            "/content/platform_demo/train/absent/tyrol-w5_185.tif\n",
            "/content/platform_demo/train/absent/tyrol-w1_369.tif\n",
            "/content/platform_demo/train/absent/tyrol-w2_307.tif\n",
            "/content/platform_demo/train/absent/kitsap3_385.tif\n",
            "/content/platform_demo/train/absent/kitsap5_344.tif\n",
            "/content/platform_demo/train/absent/tyrol-w5_321.tif\n",
            "/content/platform_demo/train/absent/tyrol-w3_72.tif\n",
            "/content/platform_demo/train/absent/tyrol-w5_110.tif\n",
            "/content/platform_demo/train/absent/tyrol-w5_349.tif\n",
            "/content/platform_demo/train/absent/kitsap2_200.tif\n",
            "/content/platform_demo/train/absent/tyrol-w4_218.tif\n",
            "/content/platform_demo/train/absent/kitsap1_18.tif\n",
            "/content/platform_demo/train/absent/kitsap3_85.tif\n",
            "/content/platform_demo/train/absent/kitsap5_165.tif\n",
            "/content/platform_demo/train/absent/chicago5_297.tif\n",
            "/content/platform_demo/train/absent/vienna2_52.tif\n",
            "/content/platform_demo/train/absent/austin4_216.tif\n",
            "/content/platform_demo/train/absent/tyrol-w4_396.tif\n",
            "/content/platform_demo/train/absent/kitsap1_356.tif\n",
            "/content/platform_demo/train/absent/kitsap1_105.tif\n",
            "/content/platform_demo/train/absent/kitsap3_387.tif\n",
            "/content/platform_demo/train/absent/kitsap3_323.tif\n",
            "/content/platform_demo/train/absent/kitsap1_267.tif\n",
            "/content/platform_demo/train/absent/kitsap2_25.tif\n",
            "/content/platform_demo/train/absent/kitsap2_378.tif\n",
            "/content/platform_demo/train/absent/vienna5_135.tif\n",
            "/content/platform_demo/train/absent/chicago5_291.tif\n",
            "/content/platform_demo/train/absent/tyrol-w5_294.tif\n",
            "/content/platform_demo/train/absent/vienna1_56.tif\n",
            "/content/platform_demo/train/absent/kitsap5_370.tif\n",
            "/content/platform_demo/train/absent/chicago1_202.tif\n",
            "/content/platform_demo/train/absent/tyrol-w3_82.tif\n",
            "/content/platform_demo/train/absent/kitsap5_319.tif\n",
            "/content/platform_demo/train/absent/tyrol-w3_62.tif\n",
            "/content/platform_demo/train/absent/tyrol-w5_87.tif\n",
            "/content/platform_demo/train/absent/kitsap1_383.tif\n",
            "/content/platform_demo/train/absent/tyrol-w4_358.tif\n",
            "/content/platform_demo/train/absent/kitsap1_367.tif\n",
            "/content/platform_demo/train/absent/tyrol-w4_199.tif\n",
            "/content/platform_demo/train/absent/tyrol-w5_333.tif\n",
            "/content/platform_demo/train/absent/tyrol-w5_377.tif\n",
            "/content/platform_demo/train/absent/austin4_181.tif\n",
            "/content/platform_demo/train/absent/kitsap4_181.tif\n",
            "/content/platform_demo/train/absent/kitsap5_18.tif\n",
            "/content/platform_demo/train/absent/vienna5_180.tif\n",
            "/content/platform_demo/train/absent/tyrol-w3_88.tif\n",
            "/content/platform_demo/train/absent/kitsap2_107.tif\n",
            "/content/platform_demo/train/absent/chicago1_12.tif\n",
            "/content/platform_demo/train/absent/kitsap2_300.tif\n",
            "/content/platform_demo/train/absent/austin3_86.tif\n",
            "/content/platform_demo/train/absent/kitsap5_184.tif\n",
            "/content/platform_demo/train/absent/austin3_341.tif\n",
            "/content/platform_demo/train/absent/tyrol-w4_177.tif\n",
            "/content/platform_demo/train/absent/chicago5_392.tif\n",
            "/content/platform_demo/train/absent/austin5_70.tif\n",
            "/content/platform_demo/train/absent/kitsap1_379.tif\n",
            "/content/platform_demo/train/absent/chicago1_275.tif\n",
            "/content/platform_demo/train/absent/kitsap2_141.tif\n",
            "/content/platform_demo/train/absent/kitsap2_135.tif\n",
            "/content/platform_demo/train/absent/kitsap1_81.tif\n",
            "/content/platform_demo/train/absent/tyrol-w4_398.tif\n",
            "/content/platform_demo/train/absent/tyrol-w5_78.tif\n",
            "/content/platform_demo/train/absent/vienna2_51.tif\n",
            "/content/platform_demo/train/absent/chicago5_251.tif\n",
            "/content/platform_demo/train/absent/chicago5_258.tif\n",
            "/content/platform_demo/train/absent/tyrol-w1_49.tif\n",
            "/content/platform_demo/train/absent/tyrol-w4_97.tif\n",
            "/content/platform_demo/train/absent/kitsap1_24.tif\n",
            "/content/platform_demo/train/absent/vienna4_200.tif\n",
            "/content/platform_demo/train/absent/kitsap4_55.tif\n",
            "/content/platform_demo/train/absent/kitsap5_354.tif\n",
            "/content/platform_demo/train/absent/kitsap5_102.tif\n",
            "/content/platform_demo/train/absent/vienna4_261.tif\n",
            "/content/platform_demo/train/absent/kitsap3_84.tif\n",
            "/content/platform_demo/train/absent/kitsap1_2.tif\n",
            "/content/platform_demo/train/absent/kitsap2_61.tif\n",
            "/content/platform_demo/train/absent/kitsap2_273.tif\n",
            "/content/platform_demo/train/absent/tyrol-w1_250.tif\n",
            "/content/platform_demo/train/absent/kitsap3_105.tif\n",
            "/content/platform_demo/train/absent/tyrol-w3_363.tif\n",
            "/content/platform_demo/train/absent/austin5_360.tif\n",
            "/content/platform_demo/train/absent/tyrol-w2_35.tif\n",
            "/content/platform_demo/train/absent/austin4_269.tif\n",
            "/content/platform_demo/train/absent/kitsap5_340.tif\n",
            "/content/platform_demo/train/absent/austin5_395.tif\n",
            "/content/platform_demo/train/absent/kitsap4_157.tif\n",
            "/content/platform_demo/train/absent/tyrol-w4_246.tif\n",
            "/content/platform_demo/train/absent/austin4_242.tif\n",
            "/content/platform_demo/train/absent/kitsap1_276.tif\n",
            "/content/platform_demo/train/absent/austin4_214.tif\n",
            "/content/platform_demo/train/absent/kitsap1_214.tif\n",
            "/content/platform_demo/train/absent/tyrol-w2_369.tif\n",
            "/content/platform_demo/train/absent/tyrol-w5_379.tif\n",
            "/content/platform_demo/train/absent/tyrol-w5_381.tif\n",
            "/content/platform_demo/train/absent/kitsap3_243.tif\n",
            "/content/platform_demo/train/absent/kitsap1_281.tif\n",
            "/content/platform_demo/train/absent/kitsap1_298.tif\n",
            "/content/platform_demo/train/absent/tyrol-w4_293.tif\n",
            "/content/platform_demo/train/absent/tyrol-w4_155.tif\n",
            "/content/platform_demo/train/absent/austin5_300.tif\n",
            "/content/platform_demo/train/absent/kitsap1_134.tif\n",
            "/content/platform_demo/train/absent/tyrol-w4_134.tif\n",
            "/content/platform_demo/train/absent/vienna5_350.tif\n",
            "/content/platform_demo/train/absent/austin3_281.tif\n",
            "/content/platform_demo/train/absent/tyrol-w1_169.tif\n",
            "/content/platform_demo/train/absent/kitsap5_330.tif\n",
            "/content/platform_demo/train/absent/chicago5_256.tif\n",
            "/content/platform_demo/train/absent/kitsap5_307.tif\n",
            "/content/platform_demo/train/absent/tyrol-w5_348.tif\n",
            "/content/platform_demo/train/absent/tyrol-w1_68.tif\n",
            "/content/platform_demo/train/absent/tyrol-w3_126.tif\n",
            "/content/platform_demo/train/absent/chicago1_189.tif\n",
            "/content/platform_demo/train/absent/vienna5_59.tif\n",
            "/content/platform_demo/train/absent/tyrol-w2_159.tif\n",
            "/content/platform_demo/train/absent/austin4_306.tif\n",
            "/content/platform_demo/train/absent/austin5_396.tif\n",
            "/content/platform_demo/train/absent/kitsap1_222.tif\n",
            "/content/platform_demo/train/absent/kitsap5_87.tif\n",
            "/content/platform_demo/train/absent/vienna4_337.tif\n",
            "/content/platform_demo/train/absent/tyrol-w2_209.tif\n",
            "/content/platform_demo/train/absent/kitsap5_127.tif\n",
            "/content/platform_demo/train/absent/kitsap5_40.tif\n",
            "/content/platform_demo/train/absent/tyrol-w2_343.tif\n",
            "/content/platform_demo/train/absent/chicago1_258.tif\n",
            "/content/platform_demo/train/absent/kitsap4_220.tif\n",
            "/content/platform_demo/train/absent/kitsap2_64.tif\n",
            "/content/platform_demo/train/absent/tyrol-w2_26.tif\n",
            "/content/platform_demo/train/absent/tyrol-w2_386.tif\n",
            "/content/platform_demo/train/absent/tyrol-w4_228.tif\n",
            "/content/platform_demo/train/absent/tyrol-w1_37.tif\n",
            "/content/platform_demo/train/absent/kitsap4_127.tif\n",
            "/content/platform_demo/train/absent/chicago1_328.tif\n",
            "/content/platform_demo/train/absent/kitsap5_269.tif\n",
            "/content/platform_demo/train/absent/chicago5_253.tif\n",
            "/content/platform_demo/train/absent/austin4_240.tif\n",
            "/content/platform_demo/train/absent/chicago1_260.tif\n",
            "/content/platform_demo/train/absent/kitsap4_266.tif\n",
            "/content/platform_demo/train/absent/kitsap2_287.tif\n",
            "/content/platform_demo/train/absent/kitsap2_52.tif\n",
            "/content/platform_demo/train/absent/austin5_32.tif\n",
            "/content/platform_demo/train/absent/kitsap5_60.tif\n",
            "/content/platform_demo/train/absent/kitsap4_316.tif\n",
            "/content/platform_demo/train/absent/kitsap5_105.tif\n",
            "/content/platform_demo/train/absent/kitsap3_342.tif\n",
            "/content/platform_demo/train/absent/tyrol-w3_43.tif\n",
            "/content/platform_demo/train/absent/tyrol-w4_40.tif\n",
            "/content/platform_demo/train/absent/kitsap2_93.tif\n",
            "/content/platform_demo/train/absent/kitsap1_38.tif\n",
            "/content/platform_demo/train/absent/vienna3_170.tif\n",
            "/content/platform_demo/train/absent/kitsap2_223.tif\n",
            "/content/platform_demo/train/absent/kitsap4_119.tif\n",
            "/content/platform_demo/train/absent/austin4_95.tif\n",
            "/content/platform_demo/train/absent/kitsap1_176.tif\n",
            "/content/platform_demo/train/absent/tyrol-w2_232.tif\n",
            "/content/platform_demo/train/absent/tyrol-w5_390.tif\n",
            "/content/platform_demo/train/absent/kitsap1_147.tif\n",
            "/content/platform_demo/train/absent/kitsap4_253.tif\n",
            "/content/platform_demo/train/absent/austin4_118.tif\n",
            "/content/platform_demo/train/absent/austin5_76.tif\n",
            "/content/platform_demo/train/absent/kitsap4_224.tif\n",
            "/content/platform_demo/train/absent/tyrol-w4_39.tif\n",
            "/content/platform_demo/train/absent/tyrol-w3_382.tif\n",
            "/content/platform_demo/train/absent/kitsap4_183.tif\n",
            "/content/platform_demo/train/absent/kitsap2_304.tif\n",
            "/content/platform_demo/train/absent/vienna5_238.tif\n",
            "/content/platform_demo/train/absent/austin1_98.tif\n",
            "/content/platform_demo/train/absent/tyrol-w3_25.tif\n",
            "/content/platform_demo/train/absent/kitsap3_9.tif\n",
            "/content/platform_demo/train/absent/kitsap1_346.tif\n",
            "/content/platform_demo/train/absent/kitsap3_182.tif\n",
            "/content/platform_demo/train/absent/kitsap4_351.tif\n",
            "/content/platform_demo/train/absent/kitsap3_279.tif\n",
            "/content/platform_demo/train/absent/austin4_77.tif\n",
            "/content/platform_demo/train/absent/tyrol-w4_213.tif\n",
            "/content/platform_demo/train/absent/tyrol-w5_342.tif\n",
            "/content/platform_demo/train/absent/kitsap1_121.tif\n",
            "/content/platform_demo/train/absent/kitsap5_141.tif\n",
            "/content/platform_demo/train/absent/vienna5_179.tif\n",
            "/content/platform_demo/train/absent/tyrol-w1_130.tif\n",
            "/content/platform_demo/train/absent/kitsap5_246.tif\n",
            "/content/platform_demo/train/absent/vienna2_94.tif\n",
            "/content/platform_demo/train/absent/tyrol-w1_148.tif\n",
            "/content/platform_demo/train/absent/tyrol-w4_114.tif\n",
            "/content/platform_demo/train/absent/vienna5_13.tif\n",
            "/content/platform_demo/train/absent/kitsap1_373.tif\n",
            "/content/platform_demo/train/absent/kitsap4_74.tif\n",
            "/content/platform_demo/train/absent/austin4_92.tif\n",
            "/content/platform_demo/train/absent/kitsap1_57.tif\n",
            "/content/platform_demo/train/absent/tyrol-w4_295.tif\n",
            "/content/platform_demo/train/absent/tyrol-w4_94.tif\n",
            "/content/platform_demo/train/absent/kitsap1_265.tif\n",
            "/content/platform_demo/train/absent/kitsap2_39.tif\n",
            "/content/platform_demo/train/absent/kitsap4_63.tif\n",
            "/content/platform_demo/train/absent/kitsap3_24.tif\n",
            "/content/platform_demo/train/absent/tyrol-w4_95.tif\n",
            "/content/platform_demo/train/absent/austin4_157.tif\n",
            "/content/platform_demo/train/absent/chicago1_372.tif\n",
            "/content/platform_demo/train/absent/kitsap5_84.tif\n"
          ],
          "name": "stdout"
        }
      ]
    },
    {
      "cell_type": "markdown",
      "metadata": {
        "id": "mkmi3_3q9bcG",
        "colab_type": "text"
      },
      "source": [
        "Preparing databunch for classification as per fast.ai"
      ]
    },
    {
      "cell_type": "code",
      "metadata": {
        "id": "c6lGaFvkAHkw",
        "colab_type": "code",
        "colab": {}
      },
      "source": [
        "tfms = get_transforms(do_flip=True, max_lighting=0.1, max_zoom=1.05, max_warp=0.2,\n",
        "                      xtra_tfms=[brightness(change=(0.7, 0.9), p=0.75),\n",
        "                                 contrast(scale=(1.5, 1.9), p=0.75)])"
      ],
      "execution_count": 0,
      "outputs": []
    },
    {
      "cell_type": "code",
      "metadata": {
        "id": "vIS8nY9OlE5I",
        "colab_type": "code",
        "colab": {}
      },
      "source": [
        "path = Path('/content/platform_demo/train')\n",
        "src = (ImageList.from_folder(path) #define source of input\n",
        "      .split_by_rand_pct(0.2)\n",
        "      .label_from_folder())\n",
        "data = (src.transform(tfms, size=250)\n",
        "       .databunch(bs=32))#batch size=16"
      ],
      "execution_count": 0,
      "outputs": []
    },
    {
      "cell_type": "code",
      "metadata": {
        "id": "MWZzl_OSvd3O",
        "colab_type": "code",
        "outputId": "8f063a2d-022b-46f3-d78d-12dbfd4f55ea",
        "colab": {
          "base_uri": "https://localhost:8080/",
          "height": 306
        }
      },
      "source": [
        "data"
      ],
      "execution_count": 74,
      "outputs": [
        {
          "output_type": "execute_result",
          "data": {
            "text/plain": [
              "ImageDataBunch;\n",
              "\n",
              "Train: LabelList (800 items)\n",
              "x: ImageList\n",
              "Image (3, 250, 250),Image (3, 250, 250),Image (3, 250, 250),Image (3, 250, 250),Image (3, 250, 250)\n",
              "y: CategoryList\n",
              "present,present,present,present,present\n",
              "Path: /content/platform_demo/train;\n",
              "\n",
              "Valid: LabelList (200 items)\n",
              "x: ImageList\n",
              "Image (3, 250, 250),Image (3, 250, 250),Image (3, 250, 250),Image (3, 250, 250),Image (3, 250, 250)\n",
              "y: CategoryList\n",
              "present,present,present,present,absent\n",
              "Path: /content/platform_demo/train;\n",
              "\n",
              "Test: None"
            ]
          },
          "metadata": {
            "tags": []
          },
          "execution_count": 74
        }
      ]
    },
    {
      "cell_type": "code",
      "metadata": {
        "id": "G8QYGcbgmlhl",
        "colab_type": "code",
        "colab": {}
      },
      "source": [
        "classes = ['present','absent']"
      ],
      "execution_count": 0,
      "outputs": []
    },
    {
      "cell_type": "markdown",
      "metadata": {
        "id": "QtsLSRiU9tDb",
        "colab_type": "text"
      },
      "source": [
        "##CNN Learner##"
      ]
    },
    {
      "cell_type": "code",
      "metadata": {
        "id": "JMibYrtKmtTG",
        "colab_type": "code",
        "colab": {}
      },
      "source": [
        "learn = cnn_learner(data, models.resnet34, metrics=accuracy)"
      ],
      "execution_count": 0,
      "outputs": []
    },
    {
      "cell_type": "code",
      "metadata": {
        "id": "RnEsIaMzm0PR",
        "colab_type": "code",
        "outputId": "2ce1f893-b0e9-4237-ef00-3fa804220683",
        "colab": {
          "base_uri": "https://localhost:8080/",
          "height": 317
        }
      },
      "source": [
        "learn.freeze()\n",
        "learn.lr_find()\n",
        "learn.recorder.plot(suggestion=True)"
      ],
      "execution_count": 77,
      "outputs": [
        {
          "output_type": "display_data",
          "data": {
            "text/html": [
              ""
            ],
            "text/plain": [
              "<IPython.core.display.HTML object>"
            ]
          },
          "metadata": {
            "tags": []
          }
        },
        {
          "output_type": "stream",
          "text": [
            "LR Finder is complete, type {learner_name}.recorder.plot() to see the graph.\n",
            "Min numerical gradient: 1.20E-03\n"
          ],
          "name": "stdout"
        },
        {
          "output_type": "display_data",
          "data": {
            "image/png": "[encoded data removed]",
            "text/plain": [
              "<Figure size 432x288 with 1 Axes>"
            ]
          },
          "metadata": {
            "tags": []
          }
        }
      ]
    },
    {
      "cell_type": "code",
      "metadata": {
        "id": "6KqzoE9rm0YW",
        "colab_type": "code",
        "outputId": "0c3359fe-269f-4fa5-ad0a-4c607768c8ed",
        "colab": {
          "base_uri": "https://localhost:8080/",
          "height": 204
        }
      },
      "source": [
        "lr = 1e-02\n",
        "learn.fit_one_cycle(5, slice(lr))"
      ],
      "execution_count": 78,
      "outputs": [
        {
          "output_type": "display_data",
          "data": {
            "text/html": [
              "<table border=\"1\" class=\"dataframe\">\n",
              "  <thead>\n",
              "    <tr style=\"text-align: left;\">\n",
              "      <th>epoch</th>\n",
              "      <th>train_loss</th>\n",
              "      <th>valid_loss</th>\n",
              "      <th>accuracy</th>\n",
              "      <th>time</th>\n",
              "    </tr>\n",
              "  </thead>\n",
              "  <tbody>\n",
              "    <tr>\n",
              "      <td>0</td>\n",
              "      <td>0.421111</td>\n",
              "      <td>0.303802</td>\n",
              "      <td>0.920000</td>\n",
              "      <td>00:08</td>\n",
              "    </tr>\n",
              "    <tr>\n",
              "      <td>1</td>\n",
              "      <td>0.356324</td>\n",
              "      <td>0.210732</td>\n",
              "      <td>0.910000</td>\n",
              "      <td>00:07</td>\n",
              "    </tr>\n",
              "    <tr>\n",
              "      <td>2</td>\n",
              "      <td>0.297534</td>\n",
              "      <td>0.194321</td>\n",
              "      <td>0.910000</td>\n",
              "      <td>00:07</td>\n",
              "    </tr>\n",
              "    <tr>\n",
              "      <td>3</td>\n",
              "      <td>0.248788</td>\n",
              "      <td>0.178126</td>\n",
              "      <td>0.925000</td>\n",
              "      <td>00:07</td>\n",
              "    </tr>\n",
              "    <tr>\n",
              "      <td>4</td>\n",
              "      <td>0.220905</td>\n",
              "      <td>0.179483</td>\n",
              "      <td>0.925000</td>\n",
              "      <td>00:07</td>\n",
              "    </tr>\n",
              "  </tbody>\n",
              "</table>"
            ],
            "text/plain": [
              "<IPython.core.display.HTML object>"
            ]
          },
          "metadata": {
            "tags": []
          }
        }
      ]
    },
    {
      "cell_type": "code",
      "metadata": {
        "id": "0DBC5T8um0b7",
        "colab_type": "code",
        "colab": {}
      },
      "source": [
        "learn.save('inria_250_resnet34_stg1_clss')\n",
        "!cp '/content/platform_demo/train/models/inria_250_resnet34_stg1_clss.pth' '/content/drive/My Drive/fellowship/'"
      ],
      "execution_count": 0,
      "outputs": []
    },
    {
      "cell_type": "code",
      "metadata": {
        "colab_type": "code",
        "outputId": "5f60b950-23a5-4b2c-f9cc-b6b3f17e58ef",
        "id": "e9A4ORLEM2WT",
        "colab": {
          "base_uri": "https://localhost:8080/",
          "height": 317
        }
      },
      "source": [
        "learn.unfreeze()\n",
        "learn.lr_find()\n",
        "learn.recorder.plot(suggestion=True)"
      ],
      "execution_count": 80,
      "outputs": [
        {
          "output_type": "display_data",
          "data": {
            "text/html": [
              ""
            ],
            "text/plain": [
              "<IPython.core.display.HTML object>"
            ]
          },
          "metadata": {
            "tags": []
          }
        },
        {
          "output_type": "stream",
          "text": [
            "LR Finder is complete, type {learner_name}.recorder.plot() to see the graph.\n",
            "Min numerical gradient: 1.58E-06\n"
          ],
          "name": "stdout"
        },
        {
          "output_type": "display_data",
          "data": {
            "image/png": "[encoded data removed]",
            "text/plain": [
              "<Figure size 432x288 with 1 Axes>"
            ]
          },
          "metadata": {
            "tags": []
          }
        }
      ]
    },
    {
      "cell_type": "code",
      "metadata": {
        "id": "4vyADjfjtSTL",
        "colab_type": "code",
        "outputId": "c5a25fe6-0447-4de7-c526-73fd9bad8672",
        "colab": {
          "base_uri": "https://localhost:8080/",
          "height": 204
        }
      },
      "source": [
        "lr = 1.58E-06\n",
        "learn.fit_one_cycle(5, slice(lr))"
      ],
      "execution_count": 81,
      "outputs": [
        {
          "output_type": "display_data",
          "data": {
            "text/html": [
              "<table border=\"1\" class=\"dataframe\">\n",
              "  <thead>\n",
              "    <tr style=\"text-align: left;\">\n",
              "      <th>epoch</th>\n",
              "      <th>train_loss</th>\n",
              "      <th>valid_loss</th>\n",
              "      <th>accuracy</th>\n",
              "      <th>time</th>\n",
              "    </tr>\n",
              "  </thead>\n",
              "  <tbody>\n",
              "    <tr>\n",
              "      <td>0</td>\n",
              "      <td>0.165079</td>\n",
              "      <td>0.175796</td>\n",
              "      <td>0.925000</td>\n",
              "      <td>00:08</td>\n",
              "    </tr>\n",
              "    <tr>\n",
              "      <td>1</td>\n",
              "      <td>0.177487</td>\n",
              "      <td>0.180729</td>\n",
              "      <td>0.930000</td>\n",
              "      <td>00:08</td>\n",
              "    </tr>\n",
              "    <tr>\n",
              "      <td>2</td>\n",
              "      <td>0.172171</td>\n",
              "      <td>0.179455</td>\n",
              "      <td>0.925000</td>\n",
              "      <td>00:08</td>\n",
              "    </tr>\n",
              "    <tr>\n",
              "      <td>3</td>\n",
              "      <td>0.171171</td>\n",
              "      <td>0.178558</td>\n",
              "      <td>0.925000</td>\n",
              "      <td>00:08</td>\n",
              "    </tr>\n",
              "    <tr>\n",
              "      <td>4</td>\n",
              "      <td>0.173032</td>\n",
              "      <td>0.183303</td>\n",
              "      <td>0.930000</td>\n",
              "      <td>00:08</td>\n",
              "    </tr>\n",
              "  </tbody>\n",
              "</table>"
            ],
            "text/plain": [
              "<IPython.core.display.HTML object>"
            ]
          },
          "metadata": {
            "tags": []
          }
        }
      ]
    },
    {
      "cell_type": "code",
      "metadata": {
        "id": "YWfdICjMQ3Ra",
        "colab_type": "code",
        "colab": {
          "base_uri": "https://localhost:8080/",
          "height": 142
        },
        "outputId": "4ad2a4a7-f2f2-4cd3-fb78-847052293018"
      },
      "source": [
        "learn.fit_one_cycle(3, slice(lr))"
      ],
      "execution_count": 82,
      "outputs": [
        {
          "output_type": "display_data",
          "data": {
            "text/html": [
              "<table border=\"1\" class=\"dataframe\">\n",
              "  <thead>\n",
              "    <tr style=\"text-align: left;\">\n",
              "      <th>epoch</th>\n",
              "      <th>train_loss</th>\n",
              "      <th>valid_loss</th>\n",
              "      <th>accuracy</th>\n",
              "      <th>time</th>\n",
              "    </tr>\n",
              "  </thead>\n",
              "  <tbody>\n",
              "    <tr>\n",
              "      <td>0</td>\n",
              "      <td>0.162787</td>\n",
              "      <td>0.173557</td>\n",
              "      <td>0.920000</td>\n",
              "      <td>00:07</td>\n",
              "    </tr>\n",
              "    <tr>\n",
              "      <td>1</td>\n",
              "      <td>0.173046</td>\n",
              "      <td>0.178003</td>\n",
              "      <td>0.925000</td>\n",
              "      <td>00:08</td>\n",
              "    </tr>\n",
              "    <tr>\n",
              "      <td>2</td>\n",
              "      <td>0.173960</td>\n",
              "      <td>0.179934</td>\n",
              "      <td>0.935000</td>\n",
              "      <td>00:08</td>\n",
              "    </tr>\n",
              "  </tbody>\n",
              "</table>"
            ],
            "text/plain": [
              "<IPython.core.display.HTML object>"
            ]
          },
          "metadata": {
            "tags": []
          }
        }
      ]
    },
    {
      "cell_type": "code",
      "metadata": {
        "id": "ueYFmoSEhaKm",
        "colab_type": "code",
        "colab": {
          "base_uri": "https://localhost:8080/",
          "height": 142
        },
        "outputId": "87a97d09-e2e1-4615-f712-970a55021822"
      },
      "source": [
        "learn.fit_one_cycle(3, slice(lr))"
      ],
      "execution_count": 83,
      "outputs": [
        {
          "output_type": "display_data",
          "data": {
            "text/html": [
              "<table border=\"1\" class=\"dataframe\">\n",
              "  <thead>\n",
              "    <tr style=\"text-align: left;\">\n",
              "      <th>epoch</th>\n",
              "      <th>train_loss</th>\n",
              "      <th>valid_loss</th>\n",
              "      <th>accuracy</th>\n",
              "      <th>time</th>\n",
              "    </tr>\n",
              "  </thead>\n",
              "  <tbody>\n",
              "    <tr>\n",
              "      <td>0</td>\n",
              "      <td>0.148227</td>\n",
              "      <td>0.176848</td>\n",
              "      <td>0.925000</td>\n",
              "      <td>00:08</td>\n",
              "    </tr>\n",
              "    <tr>\n",
              "      <td>1</td>\n",
              "      <td>0.173980</td>\n",
              "      <td>0.178260</td>\n",
              "      <td>0.925000</td>\n",
              "      <td>00:08</td>\n",
              "    </tr>\n",
              "    <tr>\n",
              "      <td>2</td>\n",
              "      <td>0.182364</td>\n",
              "      <td>0.175414</td>\n",
              "      <td>0.920000</td>\n",
              "      <td>00:08</td>\n",
              "    </tr>\n",
              "  </tbody>\n",
              "</table>"
            ],
            "text/plain": [
              "<IPython.core.display.HTML object>"
            ]
          },
          "metadata": {
            "tags": []
          }
        }
      ]
    },
    {
      "cell_type": "code",
      "metadata": {
        "id": "ADh3iErGtSu5",
        "colab_type": "code",
        "colab": {}
      },
      "source": [
        "learn.save('inria_250_resnet34_stg2_clss')\n",
        "!cp '/content/platform_demo/train/models/inria_250_resnet34_stg2_clss.pth' '/content/drive/My Drive/fellowship/'\n",
        "!cp '/content/platform_demo/train/models/tmp.pth' '/content/drive/My Drive/fellowship/'"
      ],
      "execution_count": 0,
      "outputs": []
    },
    {
      "cell_type": "code",
      "metadata": {
        "id": "KziYlbuJt0FH",
        "colab_type": "code",
        "colab": {}
      },
      "source": [
        "learn.export()\n",
        "!cp '/content/platform_demo/train/export.pkl' '/content/drive/My Drive/fellowship/'"
      ],
      "execution_count": 0,
      "outputs": []
    },
    {
      "cell_type": "code",
      "metadata": {
        "id": "zsE-CL2LuB3q",
        "colab_type": "code",
        "outputId": "99d3a60d-8f24-46d6-ecbd-bceb1a23e7a8",
        "colab": {
          "base_uri": "https://localhost:8080/",
          "height": 283
        }
      },
      "source": [
        "learn.recorder.plot_losses()"
      ],
      "execution_count": 86,
      "outputs": [
        {
          "output_type": "display_data",
          "data": {
            "image/png": "[encoded data removed]",
            "text/plain": [
              "<Figure size 432x288 with 1 Axes>"
            ]
          },
          "metadata": {
            "tags": []
          }
        }
      ]
    },
    {
      "cell_type": "code",
      "metadata": {
        "id": "YyWlgK47uKAo",
        "colab_type": "code",
        "colab": {}
      },
      "source": [
        "interp = ClassificationInterpretation.from_learner(learn)"
      ],
      "execution_count": 0,
      "outputs": []
    },
    {
      "cell_type": "code",
      "metadata": {
        "id": "tyzLpCgOuKS9",
        "colab_type": "code",
        "outputId": "f245b8b7-2250-4c88-e758-9da856d69765",
        "colab": {
          "base_uri": "https://localhost:8080/",
          "height": 323
        }
      },
      "source": [
        "interp.plot_confusion_matrix(figsize=(5, 5), dpi=60)"
      ],
      "execution_count": 88,
      "outputs": [
        {
          "output_type": "display_data",
          "data": {
            "image/png": "[encoded data removed]",
            "text/plain": [
              "<Figure size 300x300 with 1 Axes>"
            ]
          },
          "metadata": {
            "tags": []
          }
        }
      ]
    },
    {
      "cell_type": "code",
      "metadata": {
        "id": "7-HvPaUXL5h2",
        "colab_type": "code",
        "colab": {}
      },
      "source": [
        ""
      ],
      "execution_count": 0,
      "outputs": []
    }
  ]
}