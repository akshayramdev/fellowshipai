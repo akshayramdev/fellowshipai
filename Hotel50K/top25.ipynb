{
 "cells": [
  {
   "cell_type": "code",
   "execution_count": 1,
   "metadata": {},
   "outputs": [
    {
     "data": {
      "text/html": [
       "<div>\n",
       "<style scoped>\n",
       "    .dataframe tbody tr th:only-of-type {\n",
       "        vertical-align: middle;\n",
       "    }\n",
       "\n",
       "    .dataframe tbody tr th {\n",
       "        vertical-align: top;\n",
       "    }\n",
       "\n",
       "    .dataframe thead th {\n",
       "        text-align: right;\n",
       "    }\n",
       "</style>\n",
       "<table border=\"1\" class=\"dataframe\">\n",
       "  <thead>\n",
       "    <tr style=\"text-align: right;\">\n",
       "      <th></th>\n",
       "      <th>image_id</th>\n",
       "      <th>hotel_id</th>\n",
       "      <th>image_url</th>\n",
       "      <th>image_source</th>\n",
       "      <th>upload_timestamp</th>\n",
       "    </tr>\n",
       "  </thead>\n",
       "  <tbody>\n",
       "    <tr>\n",
       "      <th>0</th>\n",
       "      <td>3485</td>\n",
       "      <td>18187</td>\n",
       "      <td>https://traffickcam.com/images/2016/10/2015090...</td>\n",
       "      <td>traffickcam</td>\n",
       "      <td>9/9/15 17:23</td>\n",
       "    </tr>\n",
       "    <tr>\n",
       "      <th>1</th>\n",
       "      <td>3486</td>\n",
       "      <td>18187</td>\n",
       "      <td>https://traffickcam.com/images/2016/10/2015090...</td>\n",
       "      <td>traffickcam</td>\n",
       "      <td>9/9/15 17:23</td>\n",
       "    </tr>\n",
       "    <tr>\n",
       "      <th>2</th>\n",
       "      <td>3663</td>\n",
       "      <td>73224</td>\n",
       "      <td>https://traffickcam.com/images/2016/10/2015091...</td>\n",
       "      <td>traffickcam</td>\n",
       "      <td>9/17/15 19:33</td>\n",
       "    </tr>\n",
       "    <tr>\n",
       "      <th>3</th>\n",
       "      <td>1038976</td>\n",
       "      <td>108596</td>\n",
       "      <td>https://media.expedia.com/hotels/1000000/47000...</td>\n",
       "      <td>travel_website</td>\n",
       "      <td>na</td>\n",
       "    </tr>\n",
       "    <tr>\n",
       "      <th>4</th>\n",
       "      <td>1038977</td>\n",
       "      <td>108596</td>\n",
       "      <td>https://media.expedia.com/hotels/1000000/47000...</td>\n",
       "      <td>travel_website</td>\n",
       "      <td>na</td>\n",
       "    </tr>\n",
       "  </tbody>\n",
       "</table>\n",
       "</div>"
      ],
      "text/plain": [
       "   image_id  hotel_id                                          image_url  \\\n",
       "0      3485     18187  https://traffickcam.com/images/2016/10/2015090...   \n",
       "1      3486     18187  https://traffickcam.com/images/2016/10/2015090...   \n",
       "2      3663     73224  https://traffickcam.com/images/2016/10/2015091...   \n",
       "3   1038976    108596  https://media.expedia.com/hotels/1000000/47000...   \n",
       "4   1038977    108596  https://media.expedia.com/hotels/1000000/47000...   \n",
       "\n",
       "     image_source upload_timestamp  \n",
       "0     traffickcam     9/9/15 17:23  \n",
       "1     traffickcam     9/9/15 17:23  \n",
       "2     traffickcam    9/17/15 19:33  \n",
       "3  travel_website               na  \n",
       "4  travel_website               na  "
      ]
     },
     "execution_count": 1,
     "metadata": {},
     "output_type": "execute_result"
    }
   ],
   "source": [
    "import pandas as pd\n",
    "\n",
    "\n",
    "dff = pd.read_csv('train_set.csv')\n",
    "dff.head()"
   ]
  },
  {
   "cell_type": "code",
   "execution_count": 25,
   "metadata": {},
   "outputs": [
    {
     "data": {
      "text/html": [
       "<div>\n",
       "<style scoped>\n",
       "    .dataframe tbody tr th:only-of-type {\n",
       "        vertical-align: middle;\n",
       "    }\n",
       "\n",
       "    .dataframe tbody tr th {\n",
       "        vertical-align: top;\n",
       "    }\n",
       "\n",
       "    .dataframe thead th {\n",
       "        text-align: right;\n",
       "    }\n",
       "</style>\n",
       "<table border=\"1\" class=\"dataframe\">\n",
       "  <thead>\n",
       "    <tr style=\"text-align: right;\">\n",
       "      <th></th>\n",
       "      <th>hotel_id</th>\n",
       "      <th>hotel_name</th>\n",
       "      <th>chain_id</th>\n",
       "      <th>latitude</th>\n",
       "      <th>longitude</th>\n",
       "    </tr>\n",
       "  </thead>\n",
       "  <tbody>\n",
       "    <tr>\n",
       "      <th>0</th>\n",
       "      <td>391</td>\n",
       "      <td>Extended Stay America - Fairbanks - Old Airpor...</td>\n",
       "      <td>72</td>\n",
       "      <td>64.83538</td>\n",
       "      <td>-147.82330</td>\n",
       "    </tr>\n",
       "    <tr>\n",
       "      <th>1</th>\n",
       "      <td>392</td>\n",
       "      <td>Hilton Hangzhou Qiandao Lake Resort</td>\n",
       "      <td>3</td>\n",
       "      <td>29.60819</td>\n",
       "      <td>119.07290</td>\n",
       "    </tr>\n",
       "    <tr>\n",
       "      <th>2</th>\n",
       "      <td>393</td>\n",
       "      <td>Taj Lands End</td>\n",
       "      <td>-1</td>\n",
       "      <td>19.04391</td>\n",
       "      <td>72.81879</td>\n",
       "    </tr>\n",
       "    <tr>\n",
       "      <th>3</th>\n",
       "      <td>395</td>\n",
       "      <td>Cambridge Suites Hotel Sydney</td>\n",
       "      <td>-1</td>\n",
       "      <td>46.13663</td>\n",
       "      <td>-60.19551</td>\n",
       "    </tr>\n",
       "    <tr>\n",
       "      <th>4</th>\n",
       "      <td>396</td>\n",
       "      <td>Tamanu Beach</td>\n",
       "      <td>14</td>\n",
       "      <td>-18.84213</td>\n",
       "      <td>-159.78794</td>\n",
       "    </tr>\n",
       "  </tbody>\n",
       "</table>\n",
       "</div>"
      ],
      "text/plain": [
       "   hotel_id                                         hotel_name  chain_id  \\\n",
       "0       391  Extended Stay America - Fairbanks - Old Airpor...        72   \n",
       "1       392                Hilton Hangzhou Qiandao Lake Resort         3   \n",
       "2       393                                      Taj Lands End        -1   \n",
       "3       395                      Cambridge Suites Hotel Sydney        -1   \n",
       "4       396                                       Tamanu Beach        14   \n",
       "\n",
       "   latitude  longitude  \n",
       "0  64.83538 -147.82330  \n",
       "1  29.60819  119.07290  \n",
       "2  19.04391   72.81879  \n",
       "3  46.13663  -60.19551  \n",
       "4 -18.84213 -159.78794  "
      ]
     },
     "execution_count": 25,
     "metadata": {},
     "output_type": "execute_result"
    }
   ],
   "source": [
    "hids = pd.read_csv('hotel_info.csv')\n",
    "hids.head()\n",
    "# print(len(hids))"
   ]
  },
  {
   "cell_type": "code",
   "execution_count": 14,
   "metadata": {},
   "outputs": [
    {
     "data": {
      "text/html": [
       "<div>\n",
       "<style scoped>\n",
       "    .dataframe tbody tr th:only-of-type {\n",
       "        vertical-align: middle;\n",
       "    }\n",
       "\n",
       "    .dataframe tbody tr th {\n",
       "        vertical-align: top;\n",
       "    }\n",
       "\n",
       "    .dataframe thead th {\n",
       "        text-align: right;\n",
       "    }\n",
       "</style>\n",
       "<table border=\"1\" class=\"dataframe\">\n",
       "  <thead>\n",
       "    <tr style=\"text-align: right;\">\n",
       "      <th></th>\n",
       "      <th>chain_id</th>\n",
       "      <th>chain_name</th>\n",
       "    </tr>\n",
       "  </thead>\n",
       "  <tbody>\n",
       "    <tr>\n",
       "      <th>0</th>\n",
       "      <td>91</td>\n",
       "      <td>Hampton</td>\n",
       "    </tr>\n",
       "    <tr>\n",
       "      <th>1</th>\n",
       "      <td>92</td>\n",
       "      <td>Holiday Inn</td>\n",
       "    </tr>\n",
       "    <tr>\n",
       "      <th>2</th>\n",
       "      <td>1</td>\n",
       "      <td>Hyatt</td>\n",
       "    </tr>\n",
       "    <tr>\n",
       "      <th>3</th>\n",
       "      <td>2</td>\n",
       "      <td>Marriott</td>\n",
       "    </tr>\n",
       "    <tr>\n",
       "      <th>4</th>\n",
       "      <td>3</td>\n",
       "      <td>Hilton</td>\n",
       "    </tr>\n",
       "  </tbody>\n",
       "</table>\n",
       "</div>"
      ],
      "text/plain": [
       "   chain_id   chain_name\n",
       "0        91      Hampton\n",
       "1        92  Holiday Inn\n",
       "2         1        Hyatt\n",
       "3         2     Marriott\n",
       "4         3       Hilton"
      ]
     },
     "execution_count": 14,
     "metadata": {},
     "output_type": "execute_result"
    }
   ],
   "source": [
    "top25 = pd.read_csv('top25chains.csv')\n",
    "top25.head()"
   ]
  },
  {
   "cell_type": "code",
   "execution_count": 39,
   "metadata": {},
   "outputs": [],
   "source": [
    "topchains = list(top25['chain_id'])"
   ]
  },
  {
   "cell_type": "code",
   "execution_count": 20,
   "metadata": {},
   "outputs": [
    {
     "data": {
      "text/html": [
       "<div>\n",
       "<style scoped>\n",
       "    .dataframe tbody tr th:only-of-type {\n",
       "        vertical-align: middle;\n",
       "    }\n",
       "\n",
       "    .dataframe tbody tr th {\n",
       "        vertical-align: top;\n",
       "    }\n",
       "\n",
       "    .dataframe thead th {\n",
       "        text-align: right;\n",
       "    }\n",
       "</style>\n",
       "<table border=\"1\" class=\"dataframe\">\n",
       "  <thead>\n",
       "    <tr style=\"text-align: right;\">\n",
       "      <th></th>\n",
       "      <th>hotel_id</th>\n",
       "      <th>hotel_name</th>\n",
       "      <th>chain_id</th>\n",
       "      <th>latitude</th>\n",
       "      <th>longitude</th>\n",
       "    </tr>\n",
       "  </thead>\n",
       "  <tbody>\n",
       "    <tr>\n",
       "      <th>1</th>\n",
       "      <td>392</td>\n",
       "      <td>Hilton Hangzhou Qiandao Lake Resort</td>\n",
       "      <td>3</td>\n",
       "      <td>29.60819</td>\n",
       "      <td>119.07290</td>\n",
       "    </tr>\n",
       "    <tr>\n",
       "      <th>10</th>\n",
       "      <td>405</td>\n",
       "      <td>Holiday Inn Express &amp; Suites Shawnee</td>\n",
       "      <td>92</td>\n",
       "      <td>35.38488</td>\n",
       "      <td>-96.92081</td>\n",
       "    </tr>\n",
       "    <tr>\n",
       "      <th>11</th>\n",
       "      <td>406</td>\n",
       "      <td>Mercure Hotel am Franziskaner Villingen-Schwen...</td>\n",
       "      <td>46</td>\n",
       "      <td>48.05985</td>\n",
       "      <td>8.45730</td>\n",
       "    </tr>\n",
       "    <tr>\n",
       "      <th>12</th>\n",
       "      <td>408</td>\n",
       "      <td>Comfort Inn Guilford</td>\n",
       "      <td>88</td>\n",
       "      <td>41.28788</td>\n",
       "      <td>-72.65725</td>\n",
       "    </tr>\n",
       "    <tr>\n",
       "      <th>16</th>\n",
       "      <td>412</td>\n",
       "      <td>Wyndham Merida</td>\n",
       "      <td>60</td>\n",
       "      <td>20.98699</td>\n",
       "      <td>-89.62615</td>\n",
       "    </tr>\n",
       "  </tbody>\n",
       "</table>\n",
       "</div>"
      ],
      "text/plain": [
       "    hotel_id                                         hotel_name  chain_id  \\\n",
       "1        392                Hilton Hangzhou Qiandao Lake Resort         3   \n",
       "10       405               Holiday Inn Express & Suites Shawnee        92   \n",
       "11       406  Mercure Hotel am Franziskaner Villingen-Schwen...        46   \n",
       "12       408                               Comfort Inn Guilford        88   \n",
       "16       412                                     Wyndham Merida        60   \n",
       "\n",
       "    latitude  longitude  \n",
       "1   29.60819  119.07290  \n",
       "10  35.38488  -96.92081  \n",
       "11  48.05985    8.45730  \n",
       "12  41.28788  -72.65725  \n",
       "16  20.98699  -89.62615  "
      ]
     },
     "execution_count": 20,
     "metadata": {},
     "output_type": "execute_result"
    }
   ],
   "source": [
    "hids2 = hids[hids.chain_id.isin(topchains)]\n",
    "hids2.head()"
   ]
  },
  {
   "cell_type": "code",
   "execution_count": 21,
   "metadata": {},
   "outputs": [
    {
     "name": "stdout",
     "output_type": "stream",
     "text": [
      "16020\n"
     ]
    }
   ],
   "source": [
    "\n",
    "print(len(hids2))"
   ]
  },
  {
   "cell_type": "code",
   "execution_count": 22,
   "metadata": {},
   "outputs": [
    {
     "name": "stdout",
     "output_type": "stream",
     "text": [
      "16020\n"
     ]
    }
   ],
   "source": [
    "topids = list(hids2['hotel_id'])\n",
    "print(len(topids))"
   ]
  },
  {
   "cell_type": "code",
   "execution_count": 23,
   "metadata": {},
   "outputs": [
    {
     "data": {
      "text/html": [
       "<div>\n",
       "<style scoped>\n",
       "    .dataframe tbody tr th:only-of-type {\n",
       "        vertical-align: middle;\n",
       "    }\n",
       "\n",
       "    .dataframe tbody tr th {\n",
       "        vertical-align: top;\n",
       "    }\n",
       "\n",
       "    .dataframe thead th {\n",
       "        text-align: right;\n",
       "    }\n",
       "</style>\n",
       "<table border=\"1\" class=\"dataframe\">\n",
       "  <thead>\n",
       "    <tr style=\"text-align: right;\">\n",
       "      <th></th>\n",
       "      <th>image_id</th>\n",
       "      <th>hotel_id</th>\n",
       "      <th>image_url</th>\n",
       "      <th>image_source</th>\n",
       "      <th>upload_timestamp</th>\n",
       "    </tr>\n",
       "  </thead>\n",
       "  <tbody>\n",
       "    <tr>\n",
       "      <th>0</th>\n",
       "      <td>3485</td>\n",
       "      <td>18187</td>\n",
       "      <td>https://traffickcam.com/images/2016/10/2015090...</td>\n",
       "      <td>traffickcam</td>\n",
       "      <td>9/9/15 17:23</td>\n",
       "    </tr>\n",
       "    <tr>\n",
       "      <th>1</th>\n",
       "      <td>3486</td>\n",
       "      <td>18187</td>\n",
       "      <td>https://traffickcam.com/images/2016/10/2015090...</td>\n",
       "      <td>traffickcam</td>\n",
       "      <td>9/9/15 17:23</td>\n",
       "    </tr>\n",
       "    <tr>\n",
       "      <th>2</th>\n",
       "      <td>3663</td>\n",
       "      <td>73224</td>\n",
       "      <td>https://traffickcam.com/images/2016/10/2015091...</td>\n",
       "      <td>traffickcam</td>\n",
       "      <td>9/17/15 19:33</td>\n",
       "    </tr>\n",
       "    <tr>\n",
       "      <th>3</th>\n",
       "      <td>1038976</td>\n",
       "      <td>108596</td>\n",
       "      <td>https://media.expedia.com/hotels/1000000/47000...</td>\n",
       "      <td>travel_website</td>\n",
       "      <td>na</td>\n",
       "    </tr>\n",
       "    <tr>\n",
       "      <th>4</th>\n",
       "      <td>1038977</td>\n",
       "      <td>108596</td>\n",
       "      <td>https://media.expedia.com/hotels/1000000/47000...</td>\n",
       "      <td>travel_website</td>\n",
       "      <td>na</td>\n",
       "    </tr>\n",
       "  </tbody>\n",
       "</table>\n",
       "</div>"
      ],
      "text/plain": [
       "   image_id  hotel_id                                          image_url  \\\n",
       "0      3485     18187  https://traffickcam.com/images/2016/10/2015090...   \n",
       "1      3486     18187  https://traffickcam.com/images/2016/10/2015090...   \n",
       "2      3663     73224  https://traffickcam.com/images/2016/10/2015091...   \n",
       "3   1038976    108596  https://media.expedia.com/hotels/1000000/47000...   \n",
       "4   1038977    108596  https://media.expedia.com/hotels/1000000/47000...   \n",
       "\n",
       "     image_source upload_timestamp  \n",
       "0     traffickcam     9/9/15 17:23  \n",
       "1     traffickcam     9/9/15 17:23  \n",
       "2     traffickcam    9/17/15 19:33  \n",
       "3  travel_website               na  \n",
       "4  travel_website               na  "
      ]
     },
     "execution_count": 23,
     "metadata": {},
     "output_type": "execute_result"
    }
   ],
   "source": [
    "dff2 = dff[dff.hotel_id.isin(topids)]\n",
    "dff2.head()"
   ]
  },
  {
   "cell_type": "code",
   "execution_count": 24,
   "metadata": {},
   "outputs": [
    {
     "name": "stdout",
     "output_type": "stream",
     "text": [
      "312073\n"
     ]
    }
   ],
   "source": [
    "print(len(dff2))"
   ]
  },
  {
   "cell_type": "code",
   "execution_count": 26,
   "metadata": {},
   "outputs": [
    {
     "data": {
      "text/html": [
       "<div>\n",
       "<style scoped>\n",
       "    .dataframe tbody tr th:only-of-type {\n",
       "        vertical-align: middle;\n",
       "    }\n",
       "\n",
       "    .dataframe tbody tr th {\n",
       "        vertical-align: top;\n",
       "    }\n",
       "\n",
       "    .dataframe thead th {\n",
       "        text-align: right;\n",
       "    }\n",
       "</style>\n",
       "<table border=\"1\" class=\"dataframe\">\n",
       "  <thead>\n",
       "    <tr style=\"text-align: right;\">\n",
       "      <th></th>\n",
       "      <th>image_id</th>\n",
       "      <th>hotel_id</th>\n",
       "      <th>image_url</th>\n",
       "      <th>image_source</th>\n",
       "      <th>upload_timestamp</th>\n",
       "      <th>chain_id</th>\n",
       "    </tr>\n",
       "  </thead>\n",
       "  <tbody>\n",
       "    <tr>\n",
       "      <th>0</th>\n",
       "      <td>3485</td>\n",
       "      <td>18187</td>\n",
       "      <td>https://traffickcam.com/images/2016/10/2015090...</td>\n",
       "      <td>traffickcam</td>\n",
       "      <td>9/9/15 17:23</td>\n",
       "      <td>3</td>\n",
       "    </tr>\n",
       "    <tr>\n",
       "      <th>1</th>\n",
       "      <td>3486</td>\n",
       "      <td>18187</td>\n",
       "      <td>https://traffickcam.com/images/2016/10/2015090...</td>\n",
       "      <td>traffickcam</td>\n",
       "      <td>9/9/15 17:23</td>\n",
       "      <td>3</td>\n",
       "    </tr>\n",
       "    <tr>\n",
       "      <th>2</th>\n",
       "      <td>1192035</td>\n",
       "      <td>18187</td>\n",
       "      <td>https://media.expedia.com/hotels/1000000/10000...</td>\n",
       "      <td>travel_website</td>\n",
       "      <td>na</td>\n",
       "      <td>3</td>\n",
       "    </tr>\n",
       "    <tr>\n",
       "      <th>3</th>\n",
       "      <td>1192036</td>\n",
       "      <td>18187</td>\n",
       "      <td>https://media.expedia.com/hotels/1000000/10000...</td>\n",
       "      <td>travel_website</td>\n",
       "      <td>na</td>\n",
       "      <td>3</td>\n",
       "    </tr>\n",
       "    <tr>\n",
       "      <th>4</th>\n",
       "      <td>1192037</td>\n",
       "      <td>18187</td>\n",
       "      <td>https://media.expedia.com/hotels/1000000/10000...</td>\n",
       "      <td>travel_website</td>\n",
       "      <td>na</td>\n",
       "      <td>3</td>\n",
       "    </tr>\n",
       "  </tbody>\n",
       "</table>\n",
       "</div>"
      ],
      "text/plain": [
       "   image_id  hotel_id                                          image_url  \\\n",
       "0      3485     18187  https://traffickcam.com/images/2016/10/2015090...   \n",
       "1      3486     18187  https://traffickcam.com/images/2016/10/2015090...   \n",
       "2   1192035     18187  https://media.expedia.com/hotels/1000000/10000...   \n",
       "3   1192036     18187  https://media.expedia.com/hotels/1000000/10000...   \n",
       "4   1192037     18187  https://media.expedia.com/hotels/1000000/10000...   \n",
       "\n",
       "     image_source upload_timestamp  chain_id  \n",
       "0     traffickcam     9/9/15 17:23         3  \n",
       "1     traffickcam     9/9/15 17:23         3  \n",
       "2  travel_website               na         3  \n",
       "3  travel_website               na         3  \n",
       "4  travel_website               na         3  "
      ]
     },
     "execution_count": 26,
     "metadata": {},
     "output_type": "execute_result"
    }
   ],
   "source": [
    "dff3 = pd.merge(dff2, hids2[['hotel_id', 'chain_id']], on='hotel_id')\n",
    "dff3.head()"
   ]
  },
  {
   "cell_type": "code",
   "execution_count": 30,
   "metadata": {},
   "outputs": [
    {
     "data": {
      "text/plain": [
       "25"
      ]
     },
     "execution_count": 30,
     "metadata": {},
     "output_type": "execute_result"
    }
   ],
   "source": [
    "len(dff3['chain_id'].unique())"
   ]
  },
  {
   "cell_type": "code",
   "execution_count": 32,
   "metadata": {},
   "outputs": [
    {
     "data": {
      "text/html": [
       "<div>\n",
       "<style scoped>\n",
       "    .dataframe tbody tr th:only-of-type {\n",
       "        vertical-align: middle;\n",
       "    }\n",
       "\n",
       "    .dataframe tbody tr th {\n",
       "        vertical-align: top;\n",
       "    }\n",
       "\n",
       "    .dataframe thead th {\n",
       "        text-align: right;\n",
       "    }\n",
       "</style>\n",
       "<table border=\"1\" class=\"dataframe\">\n",
       "  <thead>\n",
       "    <tr style=\"text-align: right;\">\n",
       "      <th></th>\n",
       "      <th>image_id</th>\n",
       "      <th>hotel_id</th>\n",
       "      <th>image_url</th>\n",
       "      <th>image_source</th>\n",
       "      <th>upload_timestamp</th>\n",
       "      <th>chain_id</th>\n",
       "    </tr>\n",
       "  </thead>\n",
       "  <tbody>\n",
       "    <tr>\n",
       "      <th>0</th>\n",
       "      <td>3485</td>\n",
       "      <td>18187</td>\n",
       "      <td>https://traffickcam.com/images/2016/10/2015090...</td>\n",
       "      <td>traffickcam</td>\n",
       "      <td>9/9/15 17:23</td>\n",
       "      <td>3</td>\n",
       "    </tr>\n",
       "    <tr>\n",
       "      <th>1</th>\n",
       "      <td>3486</td>\n",
       "      <td>18187</td>\n",
       "      <td>https://traffickcam.com/images/2016/10/2015090...</td>\n",
       "      <td>traffickcam</td>\n",
       "      <td>9/9/15 17:23</td>\n",
       "      <td>3</td>\n",
       "    </tr>\n",
       "    <tr>\n",
       "      <th>15</th>\n",
       "      <td>2599229</td>\n",
       "      <td>18187</td>\n",
       "      <td>https://traffickcam.com/images/2017/7/20160627...</td>\n",
       "      <td>traffickcam</td>\n",
       "      <td>6/27/16 21:27</td>\n",
       "      <td>3</td>\n",
       "    </tr>\n",
       "    <tr>\n",
       "      <th>16</th>\n",
       "      <td>2599231</td>\n",
       "      <td>18187</td>\n",
       "      <td>https://traffickcam.com/images/2017/7/20160627...</td>\n",
       "      <td>traffickcam</td>\n",
       "      <td>6/27/16 21:27</td>\n",
       "      <td>3</td>\n",
       "    </tr>\n",
       "    <tr>\n",
       "      <th>17</th>\n",
       "      <td>2599232</td>\n",
       "      <td>18187</td>\n",
       "      <td>https://traffickcam.com/images/2017/7/20160627...</td>\n",
       "      <td>traffickcam</td>\n",
       "      <td>6/27/16 21:27</td>\n",
       "      <td>3</td>\n",
       "    </tr>\n",
       "  </tbody>\n",
       "</table>\n",
       "</div>"
      ],
      "text/plain": [
       "    image_id  hotel_id                                          image_url  \\\n",
       "0       3485     18187  https://traffickcam.com/images/2016/10/2015090...   \n",
       "1       3486     18187  https://traffickcam.com/images/2016/10/2015090...   \n",
       "15   2599229     18187  https://traffickcam.com/images/2017/7/20160627...   \n",
       "16   2599231     18187  https://traffickcam.com/images/2017/7/20160627...   \n",
       "17   2599232     18187  https://traffickcam.com/images/2017/7/20160627...   \n",
       "\n",
       "   image_source upload_timestamp  chain_id  \n",
       "0   traffickcam     9/9/15 17:23         3  \n",
       "1   traffickcam     9/9/15 17:23         3  \n",
       "15  traffickcam    6/27/16 21:27         3  \n",
       "16  traffickcam    6/27/16 21:27         3  \n",
       "17  traffickcam    6/27/16 21:27         3  "
      ]
     },
     "execution_count": 32,
     "metadata": {},
     "output_type": "execute_result"
    }
   ],
   "source": [
    "traffic = dff3[dff3['image_source'] == 'traffickcam']\n",
    "traffic.head()"
   ]
  },
  {
   "cell_type": "code",
   "execution_count": 58,
   "metadata": {},
   "outputs": [],
   "source": [
    "traffic.to_csv('traffic.csv', index=False)"
   ]
  },
  {
   "cell_type": "code",
   "execution_count": 37,
   "metadata": {},
   "outputs": [
    {
     "data": {
      "text/plain": [
       "25"
      ]
     },
     "execution_count": 37,
     "metadata": {},
     "output_type": "execute_result"
    }
   ],
   "source": [
    "len(traffic['chain_id'].unique())"
   ]
  },
  {
   "cell_type": "code",
   "execution_count": 35,
   "metadata": {},
   "outputs": [
    {
     "data": {
      "text/html": [
       "<div>\n",
       "<style scoped>\n",
       "    .dataframe tbody tr th:only-of-type {\n",
       "        vertical-align: middle;\n",
       "    }\n",
       "\n",
       "    .dataframe tbody tr th {\n",
       "        vertical-align: top;\n",
       "    }\n",
       "\n",
       "    .dataframe thead th {\n",
       "        text-align: right;\n",
       "    }\n",
       "</style>\n",
       "<table border=\"1\" class=\"dataframe\">\n",
       "  <thead>\n",
       "    <tr style=\"text-align: right;\">\n",
       "      <th></th>\n",
       "      <th>image_id</th>\n",
       "      <th>hotel_id</th>\n",
       "      <th>image_url</th>\n",
       "      <th>image_source</th>\n",
       "      <th>upload_timestamp</th>\n",
       "      <th>chain_id</th>\n",
       "    </tr>\n",
       "  </thead>\n",
       "  <tbody>\n",
       "    <tr>\n",
       "      <th>2</th>\n",
       "      <td>1192035</td>\n",
       "      <td>18187</td>\n",
       "      <td>https://media.expedia.com/hotels/1000000/10000...</td>\n",
       "      <td>travel_website</td>\n",
       "      <td>na</td>\n",
       "      <td>3</td>\n",
       "    </tr>\n",
       "    <tr>\n",
       "      <th>3</th>\n",
       "      <td>1192036</td>\n",
       "      <td>18187</td>\n",
       "      <td>https://media.expedia.com/hotels/1000000/10000...</td>\n",
       "      <td>travel_website</td>\n",
       "      <td>na</td>\n",
       "      <td>3</td>\n",
       "    </tr>\n",
       "    <tr>\n",
       "      <th>4</th>\n",
       "      <td>1192037</td>\n",
       "      <td>18187</td>\n",
       "      <td>https://media.expedia.com/hotels/1000000/10000...</td>\n",
       "      <td>travel_website</td>\n",
       "      <td>na</td>\n",
       "      <td>3</td>\n",
       "    </tr>\n",
       "    <tr>\n",
       "      <th>5</th>\n",
       "      <td>1192038</td>\n",
       "      <td>18187</td>\n",
       "      <td>https://media.expedia.com/hotels/1000000/10000...</td>\n",
       "      <td>travel_website</td>\n",
       "      <td>na</td>\n",
       "      <td>3</td>\n",
       "    </tr>\n",
       "    <tr>\n",
       "      <th>6</th>\n",
       "      <td>1192039</td>\n",
       "      <td>18187</td>\n",
       "      <td>https://media.expedia.com/hotels/1000000/10000...</td>\n",
       "      <td>travel_website</td>\n",
       "      <td>na</td>\n",
       "      <td>3</td>\n",
       "    </tr>\n",
       "  </tbody>\n",
       "</table>\n",
       "</div>"
      ],
      "text/plain": [
       "   image_id  hotel_id                                          image_url  \\\n",
       "2   1192035     18187  https://media.expedia.com/hotels/1000000/10000...   \n",
       "3   1192036     18187  https://media.expedia.com/hotels/1000000/10000...   \n",
       "4   1192037     18187  https://media.expedia.com/hotels/1000000/10000...   \n",
       "5   1192038     18187  https://media.expedia.com/hotels/1000000/10000...   \n",
       "6   1192039     18187  https://media.expedia.com/hotels/1000000/10000...   \n",
       "\n",
       "     image_source upload_timestamp  chain_id  \n",
       "2  travel_website               na         3  \n",
       "3  travel_website               na         3  \n",
       "4  travel_website               na         3  \n",
       "5  travel_website               na         3  \n",
       "6  travel_website               na         3  "
      ]
     },
     "execution_count": 35,
     "metadata": {},
     "output_type": "execute_result"
    }
   ],
   "source": [
    "travel = dff3[dff3['image_source'] == 'travel_website']\n",
    "travel.head()"
   ]
  },
  {
   "cell_type": "code",
   "execution_count": 45,
   "metadata": {},
   "outputs": [],
   "source": [
    "total = []\n",
    "for item in topchains:\n",
    "    topdf = traffic [ traffic['chain_id'] == item]\n",
    "    newlen = len(topdf)\n",
    "    if newlen<3000:\n",
    "        lack = 2950-newlen\n",
    "        lackdf = travel[travel['chain_id'] == item]\n",
    "        lackdf2 = lackdf[:lack]\n",
    "        imageids = list(lackdf2['image_id'])\n",
    "        for i in imageids:\n",
    "            total.append(i)"
   ]
  },
  {
   "cell_type": "code",
   "execution_count": 55,
   "metadata": {},
   "outputs": [
    {
     "data": {
      "text/plain": [
       "45611"
      ]
     },
     "execution_count": 55,
     "metadata": {},
     "output_type": "execute_result"
    }
   ],
   "source": [
    "len(total)"
   ]
  },
  {
   "cell_type": "code",
   "execution_count": 48,
   "metadata": {},
   "outputs": [
    {
     "data": {
      "text/plain": [
       "45611"
      ]
     },
     "execution_count": 48,
     "metadata": {},
     "output_type": "execute_result"
    }
   ],
   "source": [
    "cdf = travel[travel.image_id.isin(total)]\n",
    "len(cdf)"
   ]
  },
  {
   "cell_type": "code",
   "execution_count": 50,
   "metadata": {},
   "outputs": [
    {
     "data": {
      "text/html": [
       "<div>\n",
       "<style scoped>\n",
       "    .dataframe tbody tr th:only-of-type {\n",
       "        vertical-align: middle;\n",
       "    }\n",
       "\n",
       "    .dataframe tbody tr th {\n",
       "        vertical-align: top;\n",
       "    }\n",
       "\n",
       "    .dataframe thead th {\n",
       "        text-align: right;\n",
       "    }\n",
       "</style>\n",
       "<table border=\"1\" class=\"dataframe\">\n",
       "  <thead>\n",
       "    <tr style=\"text-align: right;\">\n",
       "      <th></th>\n",
       "      <th>image_id</th>\n",
       "      <th>hotel_id</th>\n",
       "      <th>image_url</th>\n",
       "      <th>image_source</th>\n",
       "      <th>upload_timestamp</th>\n",
       "      <th>chain_id</th>\n",
       "    </tr>\n",
       "  </thead>\n",
       "  <tbody>\n",
       "    <tr>\n",
       "      <th>2</th>\n",
       "      <td>1192035</td>\n",
       "      <td>18187</td>\n",
       "      <td>https://media.expedia.com/hotels/1000000/10000...</td>\n",
       "      <td>travel_website</td>\n",
       "      <td>na</td>\n",
       "      <td>3</td>\n",
       "    </tr>\n",
       "    <tr>\n",
       "      <th>3</th>\n",
       "      <td>1192036</td>\n",
       "      <td>18187</td>\n",
       "      <td>https://media.expedia.com/hotels/1000000/10000...</td>\n",
       "      <td>travel_website</td>\n",
       "      <td>na</td>\n",
       "      <td>3</td>\n",
       "    </tr>\n",
       "    <tr>\n",
       "      <th>4</th>\n",
       "      <td>1192037</td>\n",
       "      <td>18187</td>\n",
       "      <td>https://media.expedia.com/hotels/1000000/10000...</td>\n",
       "      <td>travel_website</td>\n",
       "      <td>na</td>\n",
       "      <td>3</td>\n",
       "    </tr>\n",
       "    <tr>\n",
       "      <th>5</th>\n",
       "      <td>1192038</td>\n",
       "      <td>18187</td>\n",
       "      <td>https://media.expedia.com/hotels/1000000/10000...</td>\n",
       "      <td>travel_website</td>\n",
       "      <td>na</td>\n",
       "      <td>3</td>\n",
       "    </tr>\n",
       "    <tr>\n",
       "      <th>6</th>\n",
       "      <td>1192039</td>\n",
       "      <td>18187</td>\n",
       "      <td>https://media.expedia.com/hotels/1000000/10000...</td>\n",
       "      <td>travel_website</td>\n",
       "      <td>na</td>\n",
       "      <td>3</td>\n",
       "    </tr>\n",
       "  </tbody>\n",
       "</table>\n",
       "</div>"
      ],
      "text/plain": [
       "   image_id  hotel_id                                          image_url  \\\n",
       "2   1192035     18187  https://media.expedia.com/hotels/1000000/10000...   \n",
       "3   1192036     18187  https://media.expedia.com/hotels/1000000/10000...   \n",
       "4   1192037     18187  https://media.expedia.com/hotels/1000000/10000...   \n",
       "5   1192038     18187  https://media.expedia.com/hotels/1000000/10000...   \n",
       "6   1192039     18187  https://media.expedia.com/hotels/1000000/10000...   \n",
       "\n",
       "     image_source upload_timestamp  chain_id  \n",
       "2  travel_website               na         3  \n",
       "3  travel_website               na         3  \n",
       "4  travel_website               na         3  \n",
       "5  travel_website               na         3  \n",
       "6  travel_website               na         3  "
      ]
     },
     "execution_count": 50,
     "metadata": {},
     "output_type": "execute_result"
    }
   ],
   "source": [
    "cdf.head()"
   ]
  },
  {
   "cell_type": "code",
   "execution_count": 60,
   "metadata": {},
   "outputs": [],
   "source": [
    "cdf.to_csv('travel.csv', index=False)"
   ]
  },
  {
   "cell_type": "code",
   "execution_count": null,
   "metadata": {},
   "outputs": [],
   "source": []
  }
 ],
 "metadata": {
  "kernelspec": {
   "display_name": "Python 3",
   "language": "python",
   "name": "python3"
  },
  "language_info": {
   "codemirror_mode": {
    "name": "ipython",
    "version": 3
   },
   "file_extension": ".py",
   "mimetype": "text/x-python",
   "name": "python",
   "nbconvert_exporter": "python",
   "pygments_lexer": "ipython3",
   "version": "3.6.5"
  }
 },
 "nbformat": 4,
 "nbformat_minor": 2
}
