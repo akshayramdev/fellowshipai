{
  "nbformat": 4,
  "nbformat_minor": 0,
  "metadata": {
    "colab": {
      "name": "hotel-50k-collab.ipynb",
      "version": "0.3.2",
      "provenance": [],
      "collapsed_sections": [
        "Y9f7GIeZtnvJ",
        "moX4chf90-a4",
        "qtccKozGuHYl",
        "1A_Oou_WuJz2",
        "seUoHEvtQu5R",
        "FWSTcQLtQ8DK"
      ]
    },
    "kernelspec": {
      "name": "python3",
      "display_name": "Python 3"
    }
  },
  "cells": [
    {
      "cell_type": "code",
      "metadata": {
        "id": "cOfbAG7ztRP7",
        "colab_type": "code",
        "colab": {}
      },
      "source": [
        "from fastai.vision import *\n",
        "from fastai.metrics import error_rate\n",
        "import pandas as pd\n",
        "import torch.nn as nn\n",
        "import cv2\n",
        "import concurrent\n",
        "from tqdm import tqdm"
      ],
      "execution_count": 0,
      "outputs": []
    },
    {
      "cell_type": "code",
      "metadata": {
        "id": "arwbcUeXJYQf",
        "colab_type": "code",
        "outputId": "89b5fc91-5b37-4f1c-af0d-202ced9e06e0",
        "colab": {
          "base_uri": "https://localhost:8080/",
          "height": 74
        }
      },
      "source": [
        "from google.colab import drive, files\n",
        "drive.mount('/content/drive')"
      ],
      "execution_count": 162,
      "outputs": [
        {
          "output_type": "stream",
          "text": [
            "Drive already mounted at /content/drive; to attempt to forcibly remount, call drive.mount(\"/content/drive\", force_remount=True).\n"
          ],
          "name": "stdout"
        }
      ]
    },
    {
      "cell_type": "code",
      "metadata": {
        "id": "LffvGUbez8Jz",
        "colab_type": "code",
        "colab": {}
      },
      "source": [
        "base = Path('/content/drive/My Drive/images')\n",
        "train = base/'train/'\n",
        "occ = base/'people_crops/'\n",
        "test = base/'test/'"
      ],
      "execution_count": 0,
      "outputs": []
    },
    {
      "cell_type": "markdown",
      "metadata": {
        "id": "zl-rqLzBRfB3",
        "colab_type": "text"
      },
      "source": [
        ""
      ]
    },
    {
      "cell_type": "markdown",
      "metadata": {
        "id": "Yct9gqZYJUT5",
        "colab_type": "text"
      },
      "source": [
        "# Enable GPU\n",
        "Runtime -> Change Runtime Type -> GPU"
      ]
    },
    {
      "cell_type": "markdown",
      "metadata": {
        "id": "Y9f7GIeZtnvJ",
        "colab_type": "text"
      },
      "source": [
        "# Retrieve Dataset\n",
        "\n",
        "-- Do not need to run this anymore -- "
      ]
    },
    {
      "cell_type": "code",
      "metadata": {
        "id": "q3ZSgVhWtYF5",
        "colab_type": "code",
        "colab": {}
      },
      "source": [
        "# images/train/chain_id/hotel_id/data_source/image_id.jpg\n",
        "def extract(path, limit=False, occlusion_type=None):\n",
        "    data = []\n",
        "    i = 0\n",
        "    for chain_id in tqdm(path.ls()):\n",
        "        for hotel_id in chain_id.ls():\n",
        "            for d_source in hotel_id.ls():\n",
        "                for image_id in d_source.ls():\n",
        "                    i += 1\n",
        "                    d_row = [chain_id.name, \n",
        "                             hotel_id.name, \n",
        "                             d_source.name, \n",
        "                             image_id.name,\n",
        "                             str(image_id)]\n",
        "                    \n",
        "                    # test specific check\n",
        "                    d_row += [occlusion_type] if occlusion_type else []\n",
        "                    \n",
        "                    if image_id.name != 'masks':\n",
        "                        data.append(d_row)\n",
        "                        \n",
        "                    if limit and i > limit:\n",
        "                        return data\n",
        "    return data\n",
        "\n",
        "def extract_occlusions(limit=False):\n",
        "    data, i = [], 0\n",
        "    for ci in tqdm(c.ls()):\n",
        "        i += 1\n",
        "        data.append([ci.name,\n",
        "                    str(ci)])\n",
        "        if limit and i > limit:\n",
        "            return data\n",
        "    return data"
      ],
      "execution_count": 0,
      "outputs": []
    },
    {
      "cell_type": "code",
      "metadata": {
        "id": "h8GT4Rw9ohR6",
        "colab_type": "code",
        "outputId": "3475dff4-5cb3-40a9-9195-68840b96a0e1",
        "colab": {
          "base_uri": "https://localhost:8080/",
          "height": 51
        }
      },
      "source": [
        "# Define the # of training examples/occlusions\n",
        "limit = False\n",
        "data = extract(train, limit=limit)\n",
        "occ = extract_occlusions(limit=limit)"
      ],
      "execution_count": 0,
      "outputs": [
        {
          "output_type": "stream",
          "text": [
            "100%|██████████| 25/25 [00:09<00:00,  1.44it/s]\n",
            "100%|██████████| 2170/2170 [00:00<00:00, 166233.92it/s]\n"
          ],
          "name": "stderr"
        }
      ]
    },
    {
      "cell_type": "code",
      "metadata": {
        "id": "tC1oy2WJolIy",
        "colab_type": "code",
        "colab": {}
      },
      "source": [
        "data_df = pd.DataFrame(data, columns=['chain_id',\n",
        "                              'hotel_id',\n",
        "                              'd_source',\n",
        "                              'image_id',\n",
        "                              'path'])\n",
        "occ_df = pd.DataFrame(occ, columns=['occlusion_id', 'path'])"
      ],
      "execution_count": 0,
      "outputs": []
    },
    {
      "cell_type": "code",
      "metadata": {
        "id": "r2mFM8Jyouy0",
        "colab_type": "code",
        "outputId": "671f28c2-c0c7-498c-a4c0-8d2f5f3a83ad",
        "colab": {
          "base_uri": "https://localhost:8080/",
          "height": 204
        }
      },
      "source": [
        "data_df.head()"
      ],
      "execution_count": 0,
      "outputs": [
        {
          "output_type": "execute_result",
          "data": {
            "text/html": [
              "<div>\n",
              "<style scoped>\n",
              "    .dataframe tbody tr th:only-of-type {\n",
              "        vertical-align: middle;\n",
              "    }\n",
              "\n",
              "    .dataframe tbody tr th {\n",
              "        vertical-align: top;\n",
              "    }\n",
              "\n",
              "    .dataframe thead th {\n",
              "        text-align: right;\n",
              "    }\n",
              "</style>\n",
              "<table border=\"1\" class=\"dataframe\">\n",
              "  <thead>\n",
              "    <tr style=\"text-align: right;\">\n",
              "      <th></th>\n",
              "      <th>chain_id</th>\n",
              "      <th>hotel_id</th>\n",
              "      <th>d_source</th>\n",
              "      <th>image_id</th>\n",
              "      <th>path</th>\n",
              "    </tr>\n",
              "  </thead>\n",
              "  <tbody>\n",
              "    <tr>\n",
              "      <th>0</th>\n",
              "      <td>3</td>\n",
              "      <td>18187</td>\n",
              "      <td>travel_website</td>\n",
              "      <td>1192036.jpg</td>\n",
              "      <td>/content/drive/My Drive/images/train/3/18187/t...</td>\n",
              "    </tr>\n",
              "    <tr>\n",
              "      <th>1</th>\n",
              "      <td>3</td>\n",
              "      <td>18187</td>\n",
              "      <td>travel_website</td>\n",
              "      <td>1192035.jpg</td>\n",
              "      <td>/content/drive/My Drive/images/train/3/18187/t...</td>\n",
              "    </tr>\n",
              "    <tr>\n",
              "      <th>2</th>\n",
              "      <td>3</td>\n",
              "      <td>18187</td>\n",
              "      <td>travel_website</td>\n",
              "      <td>1192038.jpg</td>\n",
              "      <td>/content/drive/My Drive/images/train/3/18187/t...</td>\n",
              "    </tr>\n",
              "    <tr>\n",
              "      <th>3</th>\n",
              "      <td>3</td>\n",
              "      <td>18187</td>\n",
              "      <td>travel_website</td>\n",
              "      <td>1192037.jpg</td>\n",
              "      <td>/content/drive/My Drive/images/train/3/18187/t...</td>\n",
              "    </tr>\n",
              "    <tr>\n",
              "      <th>4</th>\n",
              "      <td>3</td>\n",
              "      <td>18187</td>\n",
              "      <td>travel_website</td>\n",
              "      <td>1192040.jpg</td>\n",
              "      <td>/content/drive/My Drive/images/train/3/18187/t...</td>\n",
              "    </tr>\n",
              "  </tbody>\n",
              "</table>\n",
              "</div>"
            ],
            "text/plain": [
              "  chain_id hotel_id        d_source     image_id  \\\n",
              "0        3    18187  travel_website  1192036.jpg   \n",
              "1        3    18187  travel_website  1192035.jpg   \n",
              "2        3    18187  travel_website  1192038.jpg   \n",
              "3        3    18187  travel_website  1192037.jpg   \n",
              "4        3    18187  travel_website  1192040.jpg   \n",
              "\n",
              "                                                path  \n",
              "0  /content/drive/My Drive/images/train/3/18187/t...  \n",
              "1  /content/drive/My Drive/images/train/3/18187/t...  \n",
              "2  /content/drive/My Drive/images/train/3/18187/t...  \n",
              "3  /content/drive/My Drive/images/train/3/18187/t...  \n",
              "4  /content/drive/My Drive/images/train/3/18187/t...  "
            ]
          },
          "metadata": {
            "tags": []
          },
          "execution_count": 126
        }
      ]
    },
    {
      "cell_type": "code",
      "metadata": {
        "id": "aT09Uzjgowlg",
        "colab_type": "code",
        "outputId": "9a15e0a4-912f-44f2-a974-0c338cab520e",
        "colab": {
          "base_uri": "https://localhost:8080/",
          "height": 204
        }
      },
      "source": [
        "occ_df.head()"
      ],
      "execution_count": 0,
      "outputs": [
        {
          "output_type": "execute_result",
          "data": {
            "text/html": [
              "<div>\n",
              "<style scoped>\n",
              "    .dataframe tbody tr th:only-of-type {\n",
              "        vertical-align: middle;\n",
              "    }\n",
              "\n",
              "    .dataframe tbody tr th {\n",
              "        vertical-align: top;\n",
              "    }\n",
              "\n",
              "    .dataframe thead th {\n",
              "        text-align: right;\n",
              "    }\n",
              "</style>\n",
              "<table border=\"1\" class=\"dataframe\">\n",
              "  <thead>\n",
              "    <tr style=\"text-align: right;\">\n",
              "      <th></th>\n",
              "      <th>occlusion_id</th>\n",
              "      <th>path</th>\n",
              "    </tr>\n",
              "  </thead>\n",
              "  <tbody>\n",
              "    <tr>\n",
              "      <th>0</th>\n",
              "      <td>4029.png</td>\n",
              "      <td>/content/drive/My Drive/images/people_crops/40...</td>\n",
              "    </tr>\n",
              "    <tr>\n",
              "      <th>1</th>\n",
              "      <td>3746.png</td>\n",
              "      <td>/content/drive/My Drive/images/people_crops/37...</td>\n",
              "    </tr>\n",
              "    <tr>\n",
              "      <th>2</th>\n",
              "      <td>3020.png</td>\n",
              "      <td>/content/drive/My Drive/images/people_crops/30...</td>\n",
              "    </tr>\n",
              "    <tr>\n",
              "      <th>3</th>\n",
              "      <td>3034.png</td>\n",
              "      <td>/content/drive/My Drive/images/people_crops/30...</td>\n",
              "    </tr>\n",
              "    <tr>\n",
              "      <th>4</th>\n",
              "      <td>28494.png</td>\n",
              "      <td>/content/drive/My Drive/images/people_crops/28...</td>\n",
              "    </tr>\n",
              "  </tbody>\n",
              "</table>\n",
              "</div>"
            ],
            "text/plain": [
              "  occlusion_id                                               path\n",
              "0     4029.png  /content/drive/My Drive/images/people_crops/40...\n",
              "1     3746.png  /content/drive/My Drive/images/people_crops/37...\n",
              "2     3020.png  /content/drive/My Drive/images/people_crops/30...\n",
              "3     3034.png  /content/drive/My Drive/images/people_crops/30...\n",
              "4    28494.png  /content/drive/My Drive/images/people_crops/28..."
            ]
          },
          "metadata": {
            "tags": []
          },
          "execution_count": 127
        }
      ]
    },
    {
      "cell_type": "code",
      "metadata": {
        "id": "arTO_YLpyYFg",
        "colab_type": "code",
        "colab": {}
      },
      "source": [
        "data_df.to_csv('train.csv', index=False)\n",
        "occ_df.to_csv('occlusions.csv', index=False)"
      ],
      "execution_count": 0,
      "outputs": []
    },
    {
      "cell_type": "code",
      "metadata": {
        "id": "-aCkzDmkzGiw",
        "colab_type": "code",
        "colab": {}
      },
      "source": [
        "files.download('train.csv')\n",
        "files.download('occlusions.csv')"
      ],
      "execution_count": 0,
      "outputs": []
    },
    {
      "cell_type": "markdown",
      "metadata": {
        "id": "moX4chf90-a4",
        "colab_type": "text"
      },
      "source": [
        "# Occlusions\n",
        "Define occlusion operations"
      ]
    },
    {
      "cell_type": "code",
      "metadata": {
        "id": "IizBMau81ApN",
        "colab_type": "code",
        "colab": {}
      },
      "source": [
        "def apply_occlusion(img, occlusion_idx=None, scale_resize=1., max_fill_percent=0.8):\n",
        "    img_c, img_h, img_w = img.shape\n",
        "    \n",
        "    # load occlusion\n",
        "    # TODO: optimize for faster imread + uniform sampling across crops\n",
        "    occ_idx = np.random.randint(len(occ_df)) if not occlusion_idx else occlusion_idx\n",
        "    occ_path = occ_df.loc[occ_idx].path \n",
        "    occ = cv2.imread(occ_path)\n",
        "\n",
        "    # random resize taking up < `max_fill_percent`% of image \n",
        "    while True:\n",
        "        resized_occ = cv2.resize(occ, (0, 0),\n",
        "                               fx=max(np.random.uniform(low=0.1, high=0.7) * scale_resize, 0.4), \n",
        "                               fy=max(np.random.uniform(low=0.1, high=0.7) * scale_resize, 0.4))\n",
        "        percent_filled = np.sum(resized_occ[:, :, 0] // 255) / (img_h * img_w)\n",
        "        h, w, _ = resized_occ.shape\n",
        "    \n",
        "        if percent_filled < max_fill_percent and h < img_h and w < img_w: \n",
        "            occ_mask = (1 - resized_occ // 255)\n",
        "            break\n",
        "    \n",
        "    \n",
        "    occ_h, occ_w, _ = occ_mask.shape\n",
        "    d_height = img_h - occ_h \n",
        "    d_width = img_w - occ_w\n",
        "    \n",
        "    # random placement \n",
        "    p_top = np.random.uniform() \n",
        "    p_left = np.random.uniform() \n",
        "    top_fill = int(d_height * p_top)\n",
        "    bottom_fill = d_height - top_fill\n",
        "    left_fill = int(d_width * p_left)\n",
        "    right_fill = d_width - left_fill\n",
        "    \n",
        "    fit_occ_mask = cv2.copyMakeBorder(occ_mask, top_fill, bottom_fill, left_fill, right_fill, cv2.BORDER_CONSTANT)\n",
        "    tensor_occ_mask = torch.from_numpy(1 - fit_occ_mask[:, :, 0]).type(torch.float)\n",
        "\n",
        "    return tensor_occ_mask * img    "
      ],
      "execution_count": 0,
      "outputs": []
    },
    {
      "cell_type": "code",
      "metadata": {
        "id": "b0iUvQj7oxW-",
        "colab_type": "code",
        "colab": {}
      },
      "source": [
        "# apply occlusions to training images\n",
        "def get_occlusion_trans(max_fill_percent=0.8):\n",
        "  def _occlusion(x):\n",
        "      x = apply_occlusion(x, max_fill_percent=max_fill_percent)\n",
        "      return x\n",
        "  return TfmPixel(_occlusion)"
      ],
      "execution_count": 0,
      "outputs": []
    },
    {
      "cell_type": "markdown",
      "metadata": {
        "id": "qtccKozGuHYl",
        "colab_type": "text"
      },
      "source": [
        "# Create Databunch"
      ]
    },
    {
      "cell_type": "code",
      "metadata": {
        "id": "GQZfjzA0zuR7",
        "colab_type": "code",
        "colab": {}
      },
      "source": [
        "# load data frames for training\n",
        "data_df = pd.read_csv(base/'train.csv')\n",
        "occ_df = pd.read_csv(base/'occlusions.csv')"
      ],
      "execution_count": 0,
      "outputs": []
    },
    {
      "cell_type": "code",
      "metadata": {
        "id": "e_60ODHz468q",
        "colab_type": "code",
        "outputId": "92a44600-0621-43fc-df12-9b93daa32fce",
        "colab": {
          "base_uri": "https://localhost:8080/",
          "height": 204
        }
      },
      "source": [
        "data_df.head()"
      ],
      "execution_count": 0,
      "outputs": [
        {
          "output_type": "execute_result",
          "data": {
            "text/html": [
              "<div>\n",
              "<style scoped>\n",
              "    .dataframe tbody tr th:only-of-type {\n",
              "        vertical-align: middle;\n",
              "    }\n",
              "\n",
              "    .dataframe tbody tr th {\n",
              "        vertical-align: top;\n",
              "    }\n",
              "\n",
              "    .dataframe thead th {\n",
              "        text-align: right;\n",
              "    }\n",
              "</style>\n",
              "<table border=\"1\" class=\"dataframe\">\n",
              "  <thead>\n",
              "    <tr style=\"text-align: right;\">\n",
              "      <th></th>\n",
              "      <th>chain_id</th>\n",
              "      <th>hotel_id</th>\n",
              "      <th>d_source</th>\n",
              "      <th>image_id</th>\n",
              "      <th>path</th>\n",
              "    </tr>\n",
              "  </thead>\n",
              "  <tbody>\n",
              "    <tr>\n",
              "      <th>0</th>\n",
              "      <td>3</td>\n",
              "      <td>18187</td>\n",
              "      <td>travel_website</td>\n",
              "      <td>1192036.jpg</td>\n",
              "      <td>/content/drive/My Drive/images/train/3/18187/t...</td>\n",
              "    </tr>\n",
              "    <tr>\n",
              "      <th>1</th>\n",
              "      <td>3</td>\n",
              "      <td>18187</td>\n",
              "      <td>travel_website</td>\n",
              "      <td>1192035.jpg</td>\n",
              "      <td>/content/drive/My Drive/images/train/3/18187/t...</td>\n",
              "    </tr>\n",
              "    <tr>\n",
              "      <th>2</th>\n",
              "      <td>3</td>\n",
              "      <td>18187</td>\n",
              "      <td>travel_website</td>\n",
              "      <td>1192038.jpg</td>\n",
              "      <td>/content/drive/My Drive/images/train/3/18187/t...</td>\n",
              "    </tr>\n",
              "    <tr>\n",
              "      <th>3</th>\n",
              "      <td>3</td>\n",
              "      <td>18187</td>\n",
              "      <td>travel_website</td>\n",
              "      <td>1192037.jpg</td>\n",
              "      <td>/content/drive/My Drive/images/train/3/18187/t...</td>\n",
              "    </tr>\n",
              "    <tr>\n",
              "      <th>4</th>\n",
              "      <td>3</td>\n",
              "      <td>18187</td>\n",
              "      <td>travel_website</td>\n",
              "      <td>1192040.jpg</td>\n",
              "      <td>/content/drive/My Drive/images/train/3/18187/t...</td>\n",
              "    </tr>\n",
              "  </tbody>\n",
              "</table>\n",
              "</div>"
            ],
            "text/plain": [
              "   chain_id  hotel_id        d_source     image_id  \\\n",
              "0         3     18187  travel_website  1192036.jpg   \n",
              "1         3     18187  travel_website  1192035.jpg   \n",
              "2         3     18187  travel_website  1192038.jpg   \n",
              "3         3     18187  travel_website  1192037.jpg   \n",
              "4         3     18187  travel_website  1192040.jpg   \n",
              "\n",
              "                                                path  \n",
              "0  /content/drive/My Drive/images/train/3/18187/t...  \n",
              "1  /content/drive/My Drive/images/train/3/18187/t...  \n",
              "2  /content/drive/My Drive/images/train/3/18187/t...  \n",
              "3  /content/drive/My Drive/images/train/3/18187/t...  \n",
              "4  /content/drive/My Drive/images/train/3/18187/t...  "
            ]
          },
          "metadata": {
            "tags": []
          },
          "execution_count": 7
        }
      ]
    },
    {
      "cell_type": "code",
      "metadata": {
        "id": "foQ4A93xpt1E",
        "colab_type": "code",
        "colab": {}
      },
      "source": [
        "batch_size = 32\n",
        "img_size = 224\n",
        "occ = get_occlusion_trans(max_fill_percent=0.8)\n",
        "\n",
        "ds_tfms = get_transforms(max_rotate=35, max_zoom=1.4, max_lighting=0.2,\n",
        "                         max_warp=0.4, p_affine=1.0, p_lighting=1.0,\n",
        "                         xtra_tfms=[occ()])\n",
        "label_col = 0 # predict the chain_id\n",
        "\n",
        "\n",
        "data = ImageDataBunch.from_df('/', \n",
        "                              data_df, \n",
        "                              label_col=label_col,\n",
        "                              fn_col=-1, \n",
        "                              ds_tfms=ds_tfms, \n",
        "                              size=img_size,\n",
        "                              bs=batch_size)"
      ],
      "execution_count": 0,
      "outputs": []
    },
    {
      "cell_type": "code",
      "metadata": {
        "id": "R4C4VlNVp676",
        "colab_type": "code",
        "colab": {}
      },
      "source": [
        "data.show_batch(rows=2, figsize=(10, 10))"
      ],
      "execution_count": 0,
      "outputs": []
    },
    {
      "cell_type": "markdown",
      "metadata": {
        "id": "1A_Oou_WuJz2",
        "colab_type": "text"
      },
      "source": [
        "# Training"
      ]
    },
    {
      "cell_type": "code",
      "metadata": {
        "id": "1HAIAhthqEyV",
        "colab_type": "code",
        "outputId": "42ea4165-e0a9-45e6-e750-e54af7a913f8",
        "colab": {
          "base_uri": "https://localhost:8080/",
          "height": 234
        }
      },
      "source": [
        "learn = cnn_learner(data, models.resnet34, metrics=error_rate)"
      ],
      "execution_count": 0,
      "outputs": [
        {
          "output_type": "stream",
          "text": [
            "Downloading: \"https://download.pytorch.org/models/resnet34-333f7ec4.pth\" to /root/.cache/torch/checkpoints/resnet34-333f7ec4.pth\n",
            "100%|██████████| 87306240/87306240 [00:00<00:00, 113574136.71it/s]\n"
          ],
          "name": "stderr"
        }
      ]
    },
    {
      "cell_type": "code",
      "metadata": {
        "id": "0bvvjUKntGDT",
        "colab_type": "code",
        "colab": {}
      },
      "source": [
        "lr_find(learn)\n",
        "learn.recorder.plot()"
      ],
      "execution_count": 0,
      "outputs": []
    },
    {
      "cell_type": "code",
      "metadata": {
        "id": "ZPTHtn7qte8b",
        "colab_type": "code",
        "colab": {}
      },
      "source": [
        "lr=2e-3"
      ],
      "execution_count": 0,
      "outputs": []
    },
    {
      "cell_type": "code",
      "metadata": {
        "id": "7TQOvI_5qLY3",
        "colab_type": "code",
        "colab": {}
      },
      "source": [
        "learn.fit_one_cycle(10, slice(lr))"
      ],
      "execution_count": 0,
      "outputs": []
    },
    {
      "cell_type": "code",
      "metadata": {
        "id": "i-vJ2NtWrBlK",
        "colab_type": "code",
        "colab": {}
      },
      "source": [
        "learn.save('stage-1')"
      ],
      "execution_count": 0,
      "outputs": []
    },
    {
      "cell_type": "code",
      "metadata": {
        "id": "lfBbilvqsgnn",
        "colab_type": "code",
        "colab": {}
      },
      "source": [
        "learn.unfreeze()"
      ],
      "execution_count": 0,
      "outputs": []
    },
    {
      "cell_type": "code",
      "metadata": {
        "id": "f8-91oeQtKNO",
        "colab_type": "code",
        "colab": {}
      },
      "source": [
        "lrs = slice(lr/100, lr)"
      ],
      "execution_count": 0,
      "outputs": []
    },
    {
      "cell_type": "code",
      "metadata": {
        "id": "9ARjLb_btrQ0",
        "colab_type": "code",
        "colab": {}
      },
      "source": [
        "learn.fit_one_cycle(12, lrs, pct_start=0.8)"
      ],
      "execution_count": 0,
      "outputs": []
    },
    {
      "cell_type": "code",
      "metadata": {
        "id": "eOmJnoTHtwex",
        "colab_type": "code",
        "colab": {}
      },
      "source": [
        "learn.save('stage-2');"
      ],
      "execution_count": 0,
      "outputs": []
    },
    {
      "cell_type": "code",
      "metadata": {
        "id": "ZosbFMGyvfg3",
        "colab_type": "code",
        "colab": {}
      },
      "source": [
        ""
      ],
      "execution_count": 0,
      "outputs": []
    },
    {
      "cell_type": "markdown",
      "metadata": {
        "id": "y7PhR0bC1miY",
        "colab_type": "text"
      },
      "source": [
        "# Testing the Model"
      ]
    },
    {
      "cell_type": "markdown",
      "metadata": {
        "id": "seUoHEvtQu5R",
        "colab_type": "text"
      },
      "source": [
        "## Extract Test Data\n",
        "-- Do not need to run this anymore -- \n"
      ]
    },
    {
      "cell_type": "code",
      "metadata": {
        "id": "NK3nRoSB1n6k",
        "colab_type": "code",
        "outputId": "ceda7b7a-3345-4201-a81e-44ea8ef9db5c",
        "colab": {
          "base_uri": "https://localhost:8080/",
          "height": 204
        }
      },
      "source": [
        "test_df = pd.read_csv(base/'test_set.csv')\n",
        "test_df.head()"
      ],
      "execution_count": 0,
      "outputs": [
        {
          "output_type": "execute_result",
          "data": {
            "text/html": [
              "<div>\n",
              "<style scoped>\n",
              "    .dataframe tbody tr th:only-of-type {\n",
              "        vertical-align: middle;\n",
              "    }\n",
              "\n",
              "    .dataframe tbody tr th {\n",
              "        vertical-align: top;\n",
              "    }\n",
              "\n",
              "    .dataframe thead th {\n",
              "        text-align: right;\n",
              "    }\n",
              "</style>\n",
              "<table border=\"1\" class=\"dataframe\">\n",
              "  <thead>\n",
              "    <tr style=\"text-align: right;\">\n",
              "      <th></th>\n",
              "      <th>image_id</th>\n",
              "      <th>hotel_id</th>\n",
              "      <th>image_url</th>\n",
              "      <th>image_source</th>\n",
              "      <th>upload_timestamp</th>\n",
              "    </tr>\n",
              "  </thead>\n",
              "  <tbody>\n",
              "    <tr>\n",
              "      <th>0</th>\n",
              "      <td>2587571</td>\n",
              "      <td>79733</td>\n",
              "      <td>https://traffickcam.com/images/2017/4/20160304...</td>\n",
              "      <td>traffickcam</td>\n",
              "      <td>3/4/16 23:35</td>\n",
              "    </tr>\n",
              "    <tr>\n",
              "      <th>1</th>\n",
              "      <td>2587572</td>\n",
              "      <td>79733</td>\n",
              "      <td>https://traffickcam.com/images/2017/4/20160304...</td>\n",
              "      <td>traffickcam</td>\n",
              "      <td>3/4/16 23:35</td>\n",
              "    </tr>\n",
              "    <tr>\n",
              "      <th>2</th>\n",
              "      <td>2587573</td>\n",
              "      <td>79733</td>\n",
              "      <td>https://traffickcam.com/images/2017/4/20160304...</td>\n",
              "      <td>traffickcam</td>\n",
              "      <td>3/4/16 23:35</td>\n",
              "    </tr>\n",
              "    <tr>\n",
              "      <th>3</th>\n",
              "      <td>2587574</td>\n",
              "      <td>79733</td>\n",
              "      <td>https://traffickcam.com/images/2017/4/20160304...</td>\n",
              "      <td>traffickcam</td>\n",
              "      <td>3/4/16 23:35</td>\n",
              "    </tr>\n",
              "    <tr>\n",
              "      <th>4</th>\n",
              "      <td>2587796</td>\n",
              "      <td>88725</td>\n",
              "      <td>https://traffickcam.com/images/2017/6/20160531...</td>\n",
              "      <td>traffickcam</td>\n",
              "      <td>5/31/16 19:23</td>\n",
              "    </tr>\n",
              "  </tbody>\n",
              "</table>\n",
              "</div>"
            ],
            "text/plain": [
              "   image_id  hotel_id                                          image_url  \\\n",
              "0   2587571     79733  https://traffickcam.com/images/2017/4/20160304...   \n",
              "1   2587572     79733  https://traffickcam.com/images/2017/4/20160304...   \n",
              "2   2587573     79733  https://traffickcam.com/images/2017/4/20160304...   \n",
              "3   2587574     79733  https://traffickcam.com/images/2017/4/20160304...   \n",
              "4   2587796     88725  https://traffickcam.com/images/2017/6/20160531...   \n",
              "\n",
              "  image_source upload_timestamp  \n",
              "0  traffickcam     3/4/16 23:35  \n",
              "1  traffickcam     3/4/16 23:35  \n",
              "2  traffickcam     3/4/16 23:35  \n",
              "3  traffickcam     3/4/16 23:35  \n",
              "4  traffickcam    5/31/16 19:23  "
            ]
          },
          "metadata": {
            "tags": []
          },
          "execution_count": 144
        }
      ]
    },
    {
      "cell_type": "code",
      "metadata": {
        "id": "uLbEjf9u8UGW",
        "colab_type": "code",
        "colab": {}
      },
      "source": [
        "# Get Test Set \n",
        "!wget https://www2.seas.gwu.edu/~astylianou/hotels50k/test.tar.gz\n",
        "!tar xvzf test.tar.gz\n",
        "!rm test.tar.gz\n",
        "!mv test/ drive"
      ],
      "execution_count": 0,
      "outputs": []
    },
    {
      "cell_type": "code",
      "metadata": {
        "id": "tSD5oV468YEq",
        "colab_type": "code",
        "colab": {}
      },
      "source": [
        "# Extract test_set\n",
        "occ_types = ['high_occlusions', 'low_occlusions', 'medium_occlusions', 'unoccluded']\n",
        "test_data = [extract(Path('test/')/occ, occlusion_type=occ) for occ in occ_types]"
      ],
      "execution_count": 0,
      "outputs": []
    },
    {
      "cell_type": "code",
      "metadata": {
        "id": "CM8vy5qMQ0Yg",
        "colab_type": "code",
        "colab": {}
      },
      "source": [
        "# return a tests data frame\n",
        "def get_dframe(data):\n",
        "     return pd.DataFrame(data, columns=['chain_id',\n",
        "                              'hotel_id',\n",
        "                              'd_source',\n",
        "                              'image_id',\n",
        "                              'path', 'occlusion_type'])"
      ],
      "execution_count": 0,
      "outputs": []
    },
    {
      "cell_type": "code",
      "metadata": {
        "id": "6EE8FGobINwe",
        "colab_type": "code",
        "colab": {}
      },
      "source": [
        "test_dfs = [get_dframe(d) for d in test_data]\n",
        "test_df = pd.concat(test_dfs)"
      ],
      "execution_count": 0,
      "outputs": []
    },
    {
      "cell_type": "code",
      "metadata": {
        "id": "2KUo7AjWQpzR",
        "colab_type": "code",
        "colab": {}
      },
      "source": [
        "test_df.sample(frac=1).head()"
      ],
      "execution_count": 0,
      "outputs": []
    },
    {
      "cell_type": "code",
      "metadata": {
        "id": "4aBTHNb2RCb5",
        "colab_type": "code",
        "colab": {}
      },
      "source": [
        "test_df.to_csv('test.csv', index=False)"
      ],
      "execution_count": 0,
      "outputs": []
    },
    {
      "cell_type": "markdown",
      "metadata": {
        "id": "FWSTcQLtQ8DK",
        "colab_type": "text"
      },
      "source": [
        "## Evaluating the Model"
      ]
    },
    {
      "cell_type": "code",
      "metadata": {
        "id": "9ADdL5ICRFAc",
        "colab_type": "code",
        "colab": {}
      },
      "source": [
        "test_df = pd.read_csv(base/'test.csv')"
      ],
      "execution_count": 0,
      "outputs": []
    },
    {
      "cell_type": "code",
      "metadata": {
        "id": "W-2yt8FgQ-i3",
        "colab_type": "code",
        "colab": {
          "base_uri": "https://localhost:8080/",
          "height": 244
        },
        "outputId": "31415d55-ff0d-409d-e5f4-e01d4f599e34"
      },
      "source": [
        "test_df.sample(frac=1).head()"
      ],
      "execution_count": 166,
      "outputs": [
        {
          "output_type": "execute_result",
          "data": {
            "text/html": [
              "<div>\n",
              "<style scoped>\n",
              "    .dataframe tbody tr th:only-of-type {\n",
              "        vertical-align: middle;\n",
              "    }\n",
              "\n",
              "    .dataframe tbody tr th {\n",
              "        vertical-align: top;\n",
              "    }\n",
              "\n",
              "    .dataframe thead th {\n",
              "        text-align: right;\n",
              "    }\n",
              "</style>\n",
              "<table border=\"1\" class=\"dataframe\">\n",
              "  <thead>\n",
              "    <tr style=\"text-align: right;\">\n",
              "      <th></th>\n",
              "      <th>chain_id</th>\n",
              "      <th>hotel_id</th>\n",
              "      <th>d_source</th>\n",
              "      <th>image_id</th>\n",
              "      <th>path</th>\n",
              "      <th>occlusion_type</th>\n",
              "    </tr>\n",
              "  </thead>\n",
              "  <tbody>\n",
              "    <tr>\n",
              "      <th>53</th>\n",
              "      <td>61</td>\n",
              "      <td>49863</td>\n",
              "      <td>traffickcam</td>\n",
              "      <td>3843217.jpg</td>\n",
              "      <td>test/unoccluded/61/49863/traffickcam/3843217.jpg</td>\n",
              "      <td>unoccluded</td>\n",
              "    </tr>\n",
              "    <tr>\n",
              "      <th>23</th>\n",
              "      <td>61</td>\n",
              "      <td>100231</td>\n",
              "      <td>traffickcam</td>\n",
              "      <td>3944083.jpg</td>\n",
              "      <td>test/low_occlusions/61/100231/traffickcam/3944...</td>\n",
              "      <td>low_occlusions</td>\n",
              "    </tr>\n",
              "    <tr>\n",
              "      <th>62</th>\n",
              "      <td>61</td>\n",
              "      <td>89071</td>\n",
              "      <td>traffickcam</td>\n",
              "      <td>2842177.jpg</td>\n",
              "      <td>test/unoccluded/61/89071/traffickcam/2842177.jpg</td>\n",
              "      <td>unoccluded</td>\n",
              "    </tr>\n",
              "    <tr>\n",
              "      <th>20</th>\n",
              "      <td>61</td>\n",
              "      <td>49863</td>\n",
              "      <td>traffickcam</td>\n",
              "      <td>3843220.jpg</td>\n",
              "      <td>test/low_occlusions/61/49863/traffickcam/38432...</td>\n",
              "      <td>low_occlusions</td>\n",
              "    </tr>\n",
              "    <tr>\n",
              "      <th>22</th>\n",
              "      <td>61</td>\n",
              "      <td>49863</td>\n",
              "      <td>traffickcam</td>\n",
              "      <td>3843218.jpg</td>\n",
              "      <td>test/low_occlusions/61/49863/traffickcam/38432...</td>\n",
              "      <td>low_occlusions</td>\n",
              "    </tr>\n",
              "  </tbody>\n",
              "</table>\n",
              "</div>"
            ],
            "text/plain": [
              "    chain_id  hotel_id     d_source     image_id  \\\n",
              "53        61     49863  traffickcam  3843217.jpg   \n",
              "23        61    100231  traffickcam  3944083.jpg   \n",
              "62        61     89071  traffickcam  2842177.jpg   \n",
              "20        61     49863  traffickcam  3843220.jpg   \n",
              "22        61     49863  traffickcam  3843218.jpg   \n",
              "\n",
              "                                                 path  occlusion_type  \n",
              "53   test/unoccluded/61/49863/traffickcam/3843217.jpg      unoccluded  \n",
              "23  test/low_occlusions/61/100231/traffickcam/3944...  low_occlusions  \n",
              "62   test/unoccluded/61/89071/traffickcam/2842177.jpg      unoccluded  \n",
              "20  test/low_occlusions/61/49863/traffickcam/38432...  low_occlusions  \n",
              "22  test/low_occlusions/61/49863/traffickcam/38432...  low_occlusions  "
            ]
          },
          "metadata": {
            "tags": []
          },
          "execution_count": 166
        }
      ]
    },
    {
      "cell_type": "code",
      "metadata": {
        "id": "hEscB8PvRief",
        "colab_type": "code",
        "colab": {}
      },
      "source": [
        "batch_size = 32\n",
        "img_size = 224\n",
        "label_col = 0 # predict the chain_id\n",
        "\n",
        "\n",
        "test_data = ImageDataBunch.from_df('/content/drive/My Drive/images/', \n",
        "                              test_df, \n",
        "                              label_col=label_col,\n",
        "                              fn_col=-2\n",
        "                              size=img_size,\n",
        "                              bs=batch_size)"
      ],
      "execution_count": 0,
      "outputs": []
    },
    {
      "cell_type": "code",
      "metadata": {
        "id": "TiE9LZYpXi1R",
        "colab_type": "code",
        "colab": {}
      },
      "source": [
        "learner_path = 'stage-2'"
      ],
      "execution_count": 0,
      "outputs": []
    },
    {
      "cell_type": "code",
      "metadata": {
        "id": "rKv5ZBguXNW9",
        "colab_type": "code",
        "colab": {}
      },
      "source": [
        "# load trained model for predictions\n",
        "learn = load_learner(learn_path, test=test_data)\n",
        "preds, _ = learn.get_preds(ds_type=DatasetType.Test)"
      ],
      "execution_count": 0,
      "outputs": []
    },
    {
      "cell_type": "code",
      "metadata": {
        "id": "YFDMwMxFWssU",
        "colab_type": "code",
        "colab": {}
      },
      "source": [
        ""
      ],
      "execution_count": 0,
      "outputs": []
    }
  ]
}