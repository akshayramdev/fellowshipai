{
  "nbformat": 4,
  "nbformat_minor": 0,
  "metadata": {
    "colab": {
      "name": "Interior_Design_MultipleLabels_DataCleaning",
      "version": "0.3.2",
      "provenance": [],
      "collapsed_sections": [],
      "include_colab_link": true
    },
    "kernelspec": {
      "name": "python3",
      "display_name": "Python 3"
    }
  },
  "cells": [
    {
      "cell_type": "markdown",
      "metadata": {
        "id": "view-in-github",
        "colab_type": "text"
      },
      "source": [
        "<a href=\"https://colab.research.google.com/github/fellowship/platform-demos3/blob/master/InteriorDesignClassification/Interior_Design_MultipleLabels_DataCleaning.ipynb\" target=\"_parent\"><img src=\"https://colab.research.google.com/assets/colab-badge.svg\" alt=\"Open In Colab\"/></a>"
      ]
    },
    {
      "cell_type": "markdown",
      "metadata": {
        "id": "T4_4DUs6IDaL",
        "colab_type": "text"
      },
      "source": [
        "# Creating a dataframe for multiple labels "
      ]
    },
    {
      "cell_type": "code",
      "metadata": {
        "id": "7vFNAM7dbXFU",
        "colab_type": "code",
        "colab": {}
      },
      "source": [
        "#Importing fastai libraries\n",
        "from fastai.vision import *"
      ],
      "execution_count": 0,
      "outputs": []
    },
    {
      "cell_type": "code",
      "metadata": {
        "id": "E8j4xJKNdS-6",
        "colab_type": "code",
        "outputId": "1c567d5e-ab79-4173-d59d-4e4dc025b250",
        "colab": {
          "base_uri": "https://localhost:8080/",
          "height": 122
        }
      },
      "source": [
        "# Mounting google drive\n",
        "from google.colab import drive\n",
        "drive.mount('/content/drive', force_remount=True)"
      ],
      "execution_count": 2,
      "outputs": [
        {
          "output_type": "stream",
          "text": [
            "Go to this URL in a browser: https://accounts.google.com/o/oauth2/auth?client_id=947318989803-6bn6qk8qdgf4n4g3pfee6491hc0brc4i.apps.googleusercontent.com&redirect_uri=urn%3Aietf%3Awg%3Aoauth%3A2.0%3Aoob&scope=email%20https%3A%2F%2Fwww.googleapis.com%2Fauth%2Fdocs.test%20https%3A%2F%2Fwww.googleapis.com%2Fauth%2Fdrive%20https%3A%2F%2Fwww.googleapis.com%2Fauth%2Fdrive.photos.readonly%20https%3A%2F%2Fwww.googleapis.com%2Fauth%2Fpeopleapi.readonly&response_type=code\n",
            "\n",
            "Enter your authorization code:\n",
            "··········\n",
            "Mounted at /content/drive\n"
          ],
          "name": "stdout"
        }
      ]
    },
    {
      "cell_type": "code",
      "metadata": {
        "id": "ev28IQiweSVN",
        "colab_type": "code",
        "colab": {}
      },
      "source": [
        "# Creating a folder in colab memory to store the csv file after copying\n",
        "!mkdir 'Data'\n",
        "!cp 'drive/My Drive/scraping_data.csv' 'Data/'"
      ],
      "execution_count": 0,
      "outputs": []
    },
    {
      "cell_type": "code",
      "metadata": {
        "id": "m5-uAMvyb61b",
        "colab_type": "code",
        "outputId": "166bd5e0-3909-4be6-e88d-be8d5e0277fb",
        "colab": {
          "base_uri": "https://localhost:8080/",
          "height": 204
        }
      },
      "source": [
        "# Reading the first 5 rows of the csv file \n",
        "data = pd.read_csv('Data/scraping_data.csv')\n",
        "data.head()"
      ],
      "execution_count": 6,
      "outputs": [
        {
          "output_type": "execute_result",
          "data": {
            "text/html": [
              "<div>\n",
              "<style scoped>\n",
              "    .dataframe tbody tr th:only-of-type {\n",
              "        vertical-align: middle;\n",
              "    }\n",
              "\n",
              "    .dataframe tbody tr th {\n",
              "        vertical-align: top;\n",
              "    }\n",
              "\n",
              "    .dataframe thead th {\n",
              "        text-align: right;\n",
              "    }\n",
              "</style>\n",
              "<table border=\"1\" class=\"dataframe\">\n",
              "  <thead>\n",
              "    <tr style=\"text-align: right;\">\n",
              "      <th></th>\n",
              "      <th>links</th>\n",
              "      <th>labels</th>\n",
              "    </tr>\n",
              "  </thead>\n",
              "  <tbody>\n",
              "    <tr>\n",
              "      <th>0</th>\n",
              "      <td>&lt;meta content=\"https://s3.amazonaws.com/havenl...</td>\n",
              "      <td>&lt;meta content=\"Classic, Traditional Bedroom De...</td>\n",
              "    </tr>\n",
              "    <tr>\n",
              "      <th>1</th>\n",
              "      <td>&lt;meta content=\"https://s3.amazonaws.com/havenl...</td>\n",
              "      <td>&lt;meta content=\"Modern, Bohemian, Glam Bedroom ...</td>\n",
              "    </tr>\n",
              "    <tr>\n",
              "      <th>2</th>\n",
              "      <td>&lt;meta content=\"https://s3.amazonaws.com/havenl...</td>\n",
              "      <td>&lt;meta content=\"Modern, Bohemian, Glam Bedroom ...</td>\n",
              "    </tr>\n",
              "    <tr>\n",
              "      <th>3</th>\n",
              "      <td>&lt;meta content=\"https://s3.amazonaws.com/havenl...</td>\n",
              "      <td>&lt;meta content=\"Farmhouse, Transitional Nursery...</td>\n",
              "    </tr>\n",
              "    <tr>\n",
              "      <th>4</th>\n",
              "      <td>&lt;meta content=\"https://s3.amazonaws.com/havenl...</td>\n",
              "      <td>&lt;meta content=\"Online Interior Design And Home...</td>\n",
              "    </tr>\n",
              "  </tbody>\n",
              "</table>\n",
              "</div>"
            ],
            "text/plain": [
              "                                               links                                             labels\n",
              "0  <meta content=\"https://s3.amazonaws.com/havenl...  <meta content=\"Classic, Traditional Bedroom De...\n",
              "1  <meta content=\"https://s3.amazonaws.com/havenl...  <meta content=\"Modern, Bohemian, Glam Bedroom ...\n",
              "2  <meta content=\"https://s3.amazonaws.com/havenl...  <meta content=\"Modern, Bohemian, Glam Bedroom ...\n",
              "3  <meta content=\"https://s3.amazonaws.com/havenl...  <meta content=\"Farmhouse, Transitional Nursery...\n",
              "4  <meta content=\"https://s3.amazonaws.com/havenl...  <meta content=\"Online Interior Design And Home..."
            ]
          },
          "metadata": {
            "tags": []
          },
          "execution_count": 6
        }
      ]
    },
    {
      "cell_type": "markdown",
      "metadata": {
        "id": "yd4rpedtIua4",
        "colab_type": "text"
      },
      "source": [
        "**It consists of two columns:**\n",
        "\n",
        "*   Links : the links for dowloading images \n",
        "*   Labels : the labels associated with the images (both single and multi-label)\n",
        "\n",
        "**This dataframe was created after webscraping the metadata from [Havenly's website](https://havenly.com/interior-design-style-quiz)**"
      ]
    },
    {
      "cell_type": "markdown",
      "metadata": {
        "id": "N3MZWN482v0c",
        "colab_type": "text"
      },
      "source": [
        "## Data Cleaning"
      ]
    },
    {
      "cell_type": "markdown",
      "metadata": {
        "id": "6WqtytswJvjs",
        "colab_type": "text"
      },
      "source": [
        "At first we shall split the strings in 'links' column based on \" , so that we are left only with website links in the column  "
      ]
    },
    {
      "cell_type": "code",
      "metadata": {
        "id": "RuwGAcFbt4Dq",
        "colab_type": "code",
        "colab": {}
      },
      "source": [
        "for i in range(len(data['links'])):\n",
        "  data['links'][i] = data['links'][i].split('\"')[1]"
      ],
      "execution_count": 0,
      "outputs": []
    },
    {
      "cell_type": "markdown",
      "metadata": {
        "id": "tvL-81kNJ_wt",
        "colab_type": "text"
      },
      "source": [
        "We check if a 'NaN' is created or not due to above changes"
      ]
    },
    {
      "cell_type": "code",
      "metadata": {
        "id": "eI2MvMWJuTN_",
        "colab_type": "code",
        "outputId": "73e466d8-abf9-4aa6-860b-81c44454e135",
        "colab": {
          "base_uri": "https://localhost:8080/",
          "height": 34
        }
      },
      "source": [
        "data['links'].isna().sum()"
      ],
      "execution_count": 8,
      "outputs": [
        {
          "output_type": "execute_result",
          "data": {
            "text/plain": [
              "0"
            ]
          },
          "metadata": {
            "tags": []
          },
          "execution_count": 8
        }
      ]
    },
    {
      "cell_type": "markdown",
      "metadata": {
        "id": "01WYSVsZKQO4",
        "colab_type": "text"
      },
      "source": [
        "Now we directly remove unnecessary informations from the dataframe.\n",
        "**First**, the website links in 'links' column which doesn't contains any image. These have 'no-image.png' mentioned in their links. We search them and append those row indices in a list.\n",
        "**Second**, the labels in 'label' column which doesn't points to any label for its corresponding image. They are simply named as 'Online Interior Design And Home Inspiration | Havenly'. We search them and append their row indices too to the same list."
      ]
    },
    {
      "cell_type": "code",
      "metadata": {
        "id": "_7KtqS6huUb7",
        "colab_type": "code",
        "outputId": "18c23b1f-b1d4-4fdc-82d5-44ca6d91e7d4",
        "colab": {
          "base_uri": "https://localhost:8080/",
          "height": 34
        }
      },
      "source": [
        "indices=[]\n",
        "for i in range(len(data['links'])):\n",
        "  if data['links'][i].find('no-image.png') > -1:\n",
        "    indices.append(i)\n",
        "  if data['labels'][i].find('Online Interior Design And Home Inspiration | Havenly') > -1:\n",
        "    indices.append(i)\n",
        "print(len(indices))"
      ],
      "execution_count": 9,
      "outputs": [
        {
          "output_type": "stream",
          "text": [
            "3193\n"
          ],
          "name": "stdout"
        }
      ]
    },
    {
      "cell_type": "markdown",
      "metadata": {
        "id": "7hGCwlJAL2W4",
        "colab_type": "text"
      },
      "source": [
        "3193 such rows!!"
      ]
    },
    {
      "cell_type": "markdown",
      "metadata": {
        "id": "eyPwvqmIL6Bi",
        "colab_type": "text"
      },
      "source": [
        "We drop these indices directly from the dataframe and assign the dataframe to new one"
      ]
    },
    {
      "cell_type": "code",
      "metadata": {
        "id": "Hqx2_BHUvaob",
        "colab_type": "code",
        "colab": {}
      },
      "source": [
        "data_drop =data.drop(indices, axis=0)"
      ],
      "execution_count": 0,
      "outputs": []
    },
    {
      "cell_type": "markdown",
      "metadata": {
        "id": "uzWDmwUNMCk4",
        "colab_type": "text"
      },
      "source": [
        "As the indices remains as earlier, so we reset the indices to newly created one"
      ]
    },
    {
      "cell_type": "code",
      "metadata": {
        "id": "V9UVAO2r6qb_",
        "colab_type": "code",
        "colab": {}
      },
      "source": [
        "data_drop = data_drop.reset_index(drop=True)"
      ],
      "execution_count": 0,
      "outputs": []
    },
    {
      "cell_type": "markdown",
      "metadata": {
        "id": "3vBdBSm0MSMG",
        "colab_type": "text"
      },
      "source": [
        "**Let's see the new cleaner dataframe**"
      ]
    },
    {
      "cell_type": "code",
      "metadata": {
        "id": "nabAEpKtzu2N",
        "colab_type": "code",
        "outputId": "a30de6fc-e890-427d-ba00-d9d5f558f5ca",
        "colab": {
          "base_uri": "https://localhost:8080/",
          "height": 204
        }
      },
      "source": [
        "data_drop.head()"
      ],
      "execution_count": 12,
      "outputs": [
        {
          "output_type": "execute_result",
          "data": {
            "text/html": [
              "<div>\n",
              "<style scoped>\n",
              "    .dataframe tbody tr th:only-of-type {\n",
              "        vertical-align: middle;\n",
              "    }\n",
              "\n",
              "    .dataframe tbody tr th {\n",
              "        vertical-align: top;\n",
              "    }\n",
              "\n",
              "    .dataframe thead th {\n",
              "        text-align: right;\n",
              "    }\n",
              "</style>\n",
              "<table border=\"1\" class=\"dataframe\">\n",
              "  <thead>\n",
              "    <tr style=\"text-align: right;\">\n",
              "      <th></th>\n",
              "      <th>links</th>\n",
              "      <th>labels</th>\n",
              "    </tr>\n",
              "  </thead>\n",
              "  <tbody>\n",
              "    <tr>\n",
              "      <th>0</th>\n",
              "      <td>https://s3.amazonaws.com/havenly-uploads/prod/...</td>\n",
              "      <td>&lt;meta content=\"Classic, Traditional Bedroom De...</td>\n",
              "    </tr>\n",
              "    <tr>\n",
              "      <th>1</th>\n",
              "      <td>https://s3.amazonaws.com/havenly-uploads/prod/...</td>\n",
              "      <td>&lt;meta content=\"Modern, Bohemian, Glam Bedroom ...</td>\n",
              "    </tr>\n",
              "    <tr>\n",
              "      <th>2</th>\n",
              "      <td>https://s3.amazonaws.com/havenly-uploads/prod/...</td>\n",
              "      <td>&lt;meta content=\"Modern, Bohemian, Glam Bedroom ...</td>\n",
              "    </tr>\n",
              "    <tr>\n",
              "      <th>3</th>\n",
              "      <td>https://s3.amazonaws.com/havenly-uploads/prod/...</td>\n",
              "      <td>&lt;meta content=\"Farmhouse, Transitional Nursery...</td>\n",
              "    </tr>\n",
              "    <tr>\n",
              "      <th>4</th>\n",
              "      <td>https://s3.amazonaws.com/havenly-uploads/prod/...</td>\n",
              "      <td>&lt;meta content=\"Transitional Living Room Design...</td>\n",
              "    </tr>\n",
              "  </tbody>\n",
              "</table>\n",
              "</div>"
            ],
            "text/plain": [
              "                                               links                                             labels\n",
              "0  https://s3.amazonaws.com/havenly-uploads/prod/...  <meta content=\"Classic, Traditional Bedroom De...\n",
              "1  https://s3.amazonaws.com/havenly-uploads/prod/...  <meta content=\"Modern, Bohemian, Glam Bedroom ...\n",
              "2  https://s3.amazonaws.com/havenly-uploads/prod/...  <meta content=\"Modern, Bohemian, Glam Bedroom ...\n",
              "3  https://s3.amazonaws.com/havenly-uploads/prod/...  <meta content=\"Farmhouse, Transitional Nursery...\n",
              "4  https://s3.amazonaws.com/havenly-uploads/prod/...  <meta content=\"Transitional Living Room Design..."
            ]
          },
          "metadata": {
            "tags": []
          },
          "execution_count": 12
        }
      ]
    },
    {
      "cell_type": "markdown",
      "metadata": {
        "id": "V7r6zXys20c-",
        "colab_type": "text"
      },
      "source": [
        "**Still not over. Lets clean the 'labels' column.** \n",
        "\n",
        "Let's first understand the labelling style. \n",
        "\n",
        "Ex : meta content=\"Modern, Bohemian, Glam Bedroom Design by Havenly Interior Designer Katrina\" property=\"og:title\n",
        "\n",
        "We see inside \" \", the data is mentioned in structure **Design Label(s)**--**Type of rooms**--**Designer info**. \n",
        "As we notice that several images have multiple labels so we need to keep them in our dataframe. Keeping 'type of rooms' information for our classification challenge demands decision out of  domain knowledge; for now we remove it. Finally the designer's information is completely not required; hence removed. \n",
        "\n",
        "Apart from this there are few 'labels' which contains just designer's information, for ex: meta content=\"Design by Havenly Interior Designer Erin\" property=\"og:title\"/ . As they are the shortest in length, we remove them first."
      ]
    },
    {
      "cell_type": "markdown",
      "metadata": {
        "id": "gjMtEXRgPGeO",
        "colab_type": "text"
      },
      "source": [
        "This is the list of all labels provided in the metadata."
      ]
    },
    {
      "cell_type": "code",
      "metadata": {
        "id": "W8hdRPh5XRAe",
        "colab_type": "code",
        "colab": {}
      },
      "source": [
        "all_labels = ['Classic','Modern','Glam','Industrial','Traditional', 'Coastal', 'Global', 'Preppy','Rustic',\n",
        "                'Transitional','Farmhouse','Bohemian', 'Midcentury','Scandinavian','Eclectic','Minimal']"
      ],
      "execution_count": 0,
      "outputs": []
    },
    {
      "cell_type": "markdown",
      "metadata": {
        "id": "6tw_xBF6PPB8",
        "colab_type": "text"
      },
      "source": [
        "As mentioned above, we clean our dataframe accordingly"
      ]
    },
    {
      "cell_type": "code",
      "metadata": {
        "id": "X03WrC3w5ij3",
        "colab_type": "code",
        "colab": {}
      },
      "source": [
        "import re\n",
        "for i in range(len(data_drop['labels'])):\n",
        "  if len(re.findall(r\"[\\w']+\", data_drop['labels'][i]))<12: \n",
        "    data_drop.drop(i, axis=0)  # We drop the designer's info only rows \n",
        "  else:\n",
        "    data_drop['labels'][i] = re.findall(r\"[\\w']+\", data_drop['labels'][i])[2:-9] # we remove the designers info and begin/end words\n",
        "    data_drop['labels'][i] = [label for label in data_drop['labels'][i] if label in all_labels] # we remove room info by chosing words from labels provided\n",
        "    data_drop['labels'][i] = \", \".join(str(label) for label in data_drop['labels'][i]) # we change remove the brackets of the lists"
      ],
      "execution_count": 0,
      "outputs": []
    },
    {
      "cell_type": "markdown",
      "metadata": {
        "id": "F57g9WqpR2CA",
        "colab_type": "text"
      },
      "source": [
        "We check if a 'NaN' is created or not due to above changes"
      ]
    },
    {
      "cell_type": "code",
      "metadata": {
        "id": "1Ve7nIMOgNqY",
        "colab_type": "code",
        "outputId": "5a783c05-d478-4c80-af49-63fac93fb798",
        "colab": {
          "base_uri": "https://localhost:8080/",
          "height": 68
        }
      },
      "source": [
        "data_drop.isna().sum() "
      ],
      "execution_count": 15,
      "outputs": [
        {
          "output_type": "execute_result",
          "data": {
            "text/plain": [
              "links     0\n",
              "labels    0\n",
              "dtype: int64"
            ]
          },
          "metadata": {
            "tags": []
          },
          "execution_count": 15
        }
      ]
    },
    {
      "cell_type": "markdown",
      "metadata": {
        "id": "ILZjU0h4R7Fy",
        "colab_type": "text"
      },
      "source": [
        "Let's see the final cleaner dataframe"
      ]
    },
    {
      "cell_type": "code",
      "metadata": {
        "id": "RHgh4qkaKnq5",
        "colab_type": "code",
        "outputId": "bd179641-e3cc-4ebe-8bea-204306b2635f",
        "colab": {
          "base_uri": "https://localhost:8080/",
          "height": 359
        }
      },
      "source": [
        "data_drop.head(10)"
      ],
      "execution_count": 16,
      "outputs": [
        {
          "output_type": "execute_result",
          "data": {
            "text/html": [
              "<div>\n",
              "<style scoped>\n",
              "    .dataframe tbody tr th:only-of-type {\n",
              "        vertical-align: middle;\n",
              "    }\n",
              "\n",
              "    .dataframe tbody tr th {\n",
              "        vertical-align: top;\n",
              "    }\n",
              "\n",
              "    .dataframe thead th {\n",
              "        text-align: right;\n",
              "    }\n",
              "</style>\n",
              "<table border=\"1\" class=\"dataframe\">\n",
              "  <thead>\n",
              "    <tr style=\"text-align: right;\">\n",
              "      <th></th>\n",
              "      <th>links</th>\n",
              "      <th>labels</th>\n",
              "    </tr>\n",
              "  </thead>\n",
              "  <tbody>\n",
              "    <tr>\n",
              "      <th>0</th>\n",
              "      <td>https://s3.amazonaws.com/havenly-uploads/prod/...</td>\n",
              "      <td>Classic, Traditional</td>\n",
              "    </tr>\n",
              "    <tr>\n",
              "      <th>1</th>\n",
              "      <td>https://s3.amazonaws.com/havenly-uploads/prod/...</td>\n",
              "      <td>Modern, Bohemian, Glam</td>\n",
              "    </tr>\n",
              "    <tr>\n",
              "      <th>2</th>\n",
              "      <td>https://s3.amazonaws.com/havenly-uploads/prod/...</td>\n",
              "      <td>Modern, Bohemian, Glam</td>\n",
              "    </tr>\n",
              "    <tr>\n",
              "      <th>3</th>\n",
              "      <td>https://s3.amazonaws.com/havenly-uploads/prod/...</td>\n",
              "      <td>Farmhouse, Transitional</td>\n",
              "    </tr>\n",
              "    <tr>\n",
              "      <th>4</th>\n",
              "      <td>https://s3.amazonaws.com/havenly-uploads/prod/...</td>\n",
              "      <td>Transitional</td>\n",
              "    </tr>\n",
              "    <tr>\n",
              "      <th>5</th>\n",
              "      <td>https://s3.amazonaws.com/havenly-uploads/prod/...</td>\n",
              "      <td>Coastal, Traditional</td>\n",
              "    </tr>\n",
              "    <tr>\n",
              "      <th>6</th>\n",
              "      <td>https://s3.amazonaws.com/havenly-uploads/prod/...</td>\n",
              "      <td>Farmhouse, Transitional</td>\n",
              "    </tr>\n",
              "    <tr>\n",
              "      <th>7</th>\n",
              "      <td>https://s3.amazonaws.com/havenly-uploads/prod/...</td>\n",
              "      <td>Glam</td>\n",
              "    </tr>\n",
              "    <tr>\n",
              "      <th>8</th>\n",
              "      <td>https://s3.amazonaws.com/havenly-uploads/prod/...</td>\n",
              "      <td>Glam</td>\n",
              "    </tr>\n",
              "    <tr>\n",
              "      <th>9</th>\n",
              "      <td>https://s3.amazonaws.com/havenly-uploads/prod/...</td>\n",
              "      <td>Classic, Eclectic</td>\n",
              "    </tr>\n",
              "  </tbody>\n",
              "</table>\n",
              "</div>"
            ],
            "text/plain": [
              "                                               links                   labels\n",
              "0  https://s3.amazonaws.com/havenly-uploads/prod/...     Classic, Traditional\n",
              "1  https://s3.amazonaws.com/havenly-uploads/prod/...   Modern, Bohemian, Glam\n",
              "2  https://s3.amazonaws.com/havenly-uploads/prod/...   Modern, Bohemian, Glam\n",
              "3  https://s3.amazonaws.com/havenly-uploads/prod/...  Farmhouse, Transitional\n",
              "4  https://s3.amazonaws.com/havenly-uploads/prod/...             Transitional\n",
              "5  https://s3.amazonaws.com/havenly-uploads/prod/...     Coastal, Traditional\n",
              "6  https://s3.amazonaws.com/havenly-uploads/prod/...  Farmhouse, Transitional\n",
              "7  https://s3.amazonaws.com/havenly-uploads/prod/...                     Glam\n",
              "8  https://s3.amazonaws.com/havenly-uploads/prod/...                     Glam\n",
              "9  https://s3.amazonaws.com/havenly-uploads/prod/...        Classic, Eclectic"
            ]
          },
          "metadata": {
            "tags": []
          },
          "execution_count": 16
        }
      ]
    },
    {
      "cell_type": "markdown",
      "metadata": {
        "id": "jGP-NP8YR-ju",
        "colab_type": "text"
      },
      "source": [
        "The number of rows reduced after further cleaning"
      ]
    },
    {
      "cell_type": "code",
      "metadata": {
        "id": "VZYB6e9vcutE",
        "colab_type": "code",
        "outputId": "341453fe-3eed-4c6c-8966-d654ff14b94c",
        "colab": {
          "base_uri": "https://localhost:8080/",
          "height": 34
        }
      },
      "source": [
        "len(data),len(data_drop)"
      ],
      "execution_count": 17,
      "outputs": [
        {
          "output_type": "execute_result",
          "data": {
            "text/plain": [
              "(24466, 21273)"
            ]
          },
          "metadata": {
            "tags": []
          },
          "execution_count": 17
        }
      ]
    },
    {
      "cell_type": "markdown",
      "metadata": {
        "id": "Cn3Nv6rbSGtO",
        "colab_type": "text"
      },
      "source": [
        "The unique grouping of multiple labels reduced significantly"
      ]
    },
    {
      "cell_type": "code",
      "metadata": {
        "id": "-rDATiercKB5",
        "colab_type": "code",
        "outputId": "01cf5728-e4e2-49bf-bb4a-3a1850c05750",
        "colab": {
          "base_uri": "https://localhost:8080/",
          "height": 34
        }
      },
      "source": [
        "data['labels'].nunique(),data_drop['labels'].nunique()"
      ],
      "execution_count": 18,
      "outputs": [
        {
          "output_type": "execute_result",
          "data": {
            "text/plain": [
              "(9570, 773)"
            ]
          },
          "metadata": {
            "tags": []
          },
          "execution_count": 18
        }
      ]
    },
    {
      "cell_type": "markdown",
      "metadata": {
        "id": "dSNPan5uSTar",
        "colab_type": "text"
      },
      "source": [
        "## Export the dataframe to drive"
      ]
    },
    {
      "cell_type": "code",
      "metadata": {
        "id": "xaYAyxRCpSBC",
        "colab_type": "code",
        "colab": {}
      },
      "source": [
        "data_drop.to_csv('drive/My Drive/ready_data.csv', index=False)"
      ],
      "execution_count": 0,
      "outputs": []
    }
  ]
}