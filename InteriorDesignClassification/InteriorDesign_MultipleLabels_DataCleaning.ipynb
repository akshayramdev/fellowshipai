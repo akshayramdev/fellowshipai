{
  "nbformat": 4,
  "nbformat_minor": 0,
  "metadata": {
    "colab": {
      "name": "InteriorDesign_MultipleLabels_DataCleaning",
      "version": "0.3.2",
      "provenance": [],
      "collapsed_sections": [],
      "include_colab_link": true
    },
    "kernelspec": {
      "name": "python3",
      "display_name": "Python 3"
    },
    "accelerator": "GPU"
  },
  "cells": [
    {
      "cell_type": "markdown",
      "metadata": {
        "id": "view-in-github",
        "colab_type": "text"
      },
      "source": [
        "<a href=\"https://colab.research.google.com/github/fellowship/platform-demos3/blob/master/InteriorDesignClassification/InteriorDesign_MultipleLabels_DataCleaning.ipynb\" target=\"_parent\"><img src=\"https://colab.research.google.com/assets/colab-badge.svg\" alt=\"Open In Colab\"/></a>"
      ]
    },
    {
      "cell_type": "markdown",
      "metadata": {
        "id": "T4_4DUs6IDaL",
        "colab_type": "text"
      },
      "source": [
        "# Creating a dataframe for multiple labels of Interior Design Image Dataset "
      ]
    },
    {
      "cell_type": "code",
      "metadata": {
        "id": "7vFNAM7dbXFU",
        "colab_type": "code",
        "colab": {}
      },
      "source": [
        "#Importing fastai libraries\n",
        "from fastai.vision import *"
      ],
      "execution_count": 0,
      "outputs": []
    },
    {
      "cell_type": "code",
      "metadata": {
        "id": "E8j4xJKNdS-6",
        "colab_type": "code",
        "outputId": "d5b23f81-818e-43fa-d107-c84f6a34cd91",
        "colab": {
          "base_uri": "https://localhost:8080/",
          "height": 122
        }
      },
      "source": [
        "# Mounting google drive\n",
        "from google.colab import drive\n",
        "drive.mount('/content/drive', force_remount=True)"
      ],
      "execution_count": 2,
      "outputs": [
        {
          "output_type": "stream",
          "text": [
            "Go to this URL in a browser: https://accounts.google.com/o/oauth2/auth?client_id=947318989803-6bn6qk8qdgf4n4g3pfee6491hc0brc4i.apps.googleusercontent.com&redirect_uri=urn%3Aietf%3Awg%3Aoauth%3A2.0%3Aoob&scope=email%20https%3A%2F%2Fwww.googleapis.com%2Fauth%2Fdocs.test%20https%3A%2F%2Fwww.googleapis.com%2Fauth%2Fdrive%20https%3A%2F%2Fwww.googleapis.com%2Fauth%2Fdrive.photos.readonly%20https%3A%2F%2Fwww.googleapis.com%2Fauth%2Fpeopleapi.readonly&response_type=code\n",
            "\n",
            "Enter your authorization code:\n",
            "··········\n",
            "Mounted at /content/drive\n"
          ],
          "name": "stdout"
        }
      ]
    },
    {
      "cell_type": "code",
      "metadata": {
        "id": "ev28IQiweSVN",
        "colab_type": "code",
        "colab": {}
      },
      "source": [
        "# Creating a folder in colab memory to store the csv file after copying\n",
        "!mkdir 'Data'\n",
        "!cp 'drive/My Drive/scraping_data.csv' 'Data/'"
      ],
      "execution_count": 0,
      "outputs": []
    },
    {
      "cell_type": "code",
      "metadata": {
        "id": "m5-uAMvyb61b",
        "colab_type": "code",
        "outputId": "c75f2520-0f57-4f62-bf8d-e3580940d57c",
        "colab": {
          "base_uri": "https://localhost:8080/",
          "height": 204
        }
      },
      "source": [
        "# Reading the first 5 rows of the csv file \n",
        "data = pd.read_csv('Data/scraping_data.csv')\n",
        "data.head()"
      ],
      "execution_count": 4,
      "outputs": [
        {
          "output_type": "execute_result",
          "data": {
            "text/html": [
              "<div>\n",
              "<style scoped>\n",
              "    .dataframe tbody tr th:only-of-type {\n",
              "        vertical-align: middle;\n",
              "    }\n",
              "\n",
              "    .dataframe tbody tr th {\n",
              "        vertical-align: top;\n",
              "    }\n",
              "\n",
              "    .dataframe thead th {\n",
              "        text-align: right;\n",
              "    }\n",
              "</style>\n",
              "<table border=\"1\" class=\"dataframe\">\n",
              "  <thead>\n",
              "    <tr style=\"text-align: right;\">\n",
              "      <th></th>\n",
              "      <th>links</th>\n",
              "      <th>labels</th>\n",
              "    </tr>\n",
              "  </thead>\n",
              "  <tbody>\n",
              "    <tr>\n",
              "      <th>0</th>\n",
              "      <td>&lt;meta content=\"https://s3.amazonaws.com/havenl...</td>\n",
              "      <td>&lt;meta content=\"Classic, Traditional Bedroom De...</td>\n",
              "    </tr>\n",
              "    <tr>\n",
              "      <th>1</th>\n",
              "      <td>&lt;meta content=\"https://s3.amazonaws.com/havenl...</td>\n",
              "      <td>&lt;meta content=\"Modern, Bohemian, Glam Bedroom ...</td>\n",
              "    </tr>\n",
              "    <tr>\n",
              "      <th>2</th>\n",
              "      <td>&lt;meta content=\"https://s3.amazonaws.com/havenl...</td>\n",
              "      <td>&lt;meta content=\"Modern, Bohemian, Glam Bedroom ...</td>\n",
              "    </tr>\n",
              "    <tr>\n",
              "      <th>3</th>\n",
              "      <td>&lt;meta content=\"https://s3.amazonaws.com/havenl...</td>\n",
              "      <td>&lt;meta content=\"Farmhouse, Transitional Nursery...</td>\n",
              "    </tr>\n",
              "    <tr>\n",
              "      <th>4</th>\n",
              "      <td>&lt;meta content=\"https://s3.amazonaws.com/havenl...</td>\n",
              "      <td>&lt;meta content=\"Online Interior Design And Home...</td>\n",
              "    </tr>\n",
              "  </tbody>\n",
              "</table>\n",
              "</div>"
            ],
            "text/plain": [
              "                                               links                                             labels\n",
              "0  <meta content=\"https://s3.amazonaws.com/havenl...  <meta content=\"Classic, Traditional Bedroom De...\n",
              "1  <meta content=\"https://s3.amazonaws.com/havenl...  <meta content=\"Modern, Bohemian, Glam Bedroom ...\n",
              "2  <meta content=\"https://s3.amazonaws.com/havenl...  <meta content=\"Modern, Bohemian, Glam Bedroom ...\n",
              "3  <meta content=\"https://s3.amazonaws.com/havenl...  <meta content=\"Farmhouse, Transitional Nursery...\n",
              "4  <meta content=\"https://s3.amazonaws.com/havenl...  <meta content=\"Online Interior Design And Home..."
            ]
          },
          "metadata": {
            "tags": []
          },
          "execution_count": 4
        }
      ]
    },
    {
      "cell_type": "markdown",
      "metadata": {
        "id": "yd4rpedtIua4",
        "colab_type": "text"
      },
      "source": [
        "**It consists of two columns:**\n",
        "\n",
        "*   Links : the links for dowloading images \n",
        "*   Labels : the labels associated with the images (both single and multi-label)\n",
        "\n",
        "**This dataframe was created after webscraping the metadata from [Havenly's website](https://havenly.com/interior-design-style-quiz)**"
      ]
    },
    {
      "cell_type": "markdown",
      "metadata": {
        "id": "N3MZWN482v0c",
        "colab_type": "text"
      },
      "source": [
        "## Data Cleaning"
      ]
    },
    {
      "cell_type": "markdown",
      "metadata": {
        "id": "6WqtytswJvjs",
        "colab_type": "text"
      },
      "source": [
        "At first we shall split the strings in 'links' column based on \" , so that we are left only with website links in the column  "
      ]
    },
    {
      "cell_type": "code",
      "metadata": {
        "id": "RuwGAcFbt4Dq",
        "colab_type": "code",
        "colab": {}
      },
      "source": [
        "for i in range(len(data['links'])):\n",
        "  data['links'][i] = data['links'][i].split('\"')[1]"
      ],
      "execution_count": 0,
      "outputs": []
    },
    {
      "cell_type": "markdown",
      "metadata": {
        "id": "tvL-81kNJ_wt",
        "colab_type": "text"
      },
      "source": [
        "We check if a 'NaN' is created or not due to above changes"
      ]
    },
    {
      "cell_type": "code",
      "metadata": {
        "id": "eI2MvMWJuTN_",
        "colab_type": "code",
        "outputId": "e0122468-5414-450b-e7d6-e996a6f7f0a0",
        "colab": {
          "base_uri": "https://localhost:8080/",
          "height": 34
        }
      },
      "source": [
        "data['links'].isna().sum()"
      ],
      "execution_count": 6,
      "outputs": [
        {
          "output_type": "execute_result",
          "data": {
            "text/plain": [
              "0"
            ]
          },
          "metadata": {
            "tags": []
          },
          "execution_count": 6
        }
      ]
    },
    {
      "cell_type": "markdown",
      "metadata": {
        "id": "01WYSVsZKQO4",
        "colab_type": "text"
      },
      "source": [
        "Now we directly remove unnecessary informations from the dataframe.\n",
        "**First**, the website links in 'links' column which doesn't contains any image. These have 'no-image.png' mentioned in their links. We search them and append those row indices in a list.\n",
        "**Second**, the labels in 'label' column which doesn't points to any label for its corresponding image. They are simply named as 'Online Interior Design And Home Inspiration | Havenly'. We search them and append their row indices too to the same list."
      ]
    },
    {
      "cell_type": "code",
      "metadata": {
        "id": "_7KtqS6huUb7",
        "colab_type": "code",
        "outputId": "bd694774-5941-4b09-946c-6fd550e546bb",
        "colab": {
          "base_uri": "https://localhost:8080/",
          "height": 34
        }
      },
      "source": [
        "indices=[]\n",
        "for i in range(len(data['links'])):\n",
        "  if data['links'][i].find('no-image.png') > -1:\n",
        "    indices.append(i)\n",
        "  if data['labels'][i].find('Online Interior Design And Home Inspiration | Havenly') > -1:\n",
        "    indices.append(i)\n",
        "print(len(indices))"
      ],
      "execution_count": 7,
      "outputs": [
        {
          "output_type": "stream",
          "text": [
            "3193\n"
          ],
          "name": "stdout"
        }
      ]
    },
    {
      "cell_type": "markdown",
      "metadata": {
        "id": "7hGCwlJAL2W4",
        "colab_type": "text"
      },
      "source": [
        "3193 such rows!!"
      ]
    },
    {
      "cell_type": "markdown",
      "metadata": {
        "id": "eyPwvqmIL6Bi",
        "colab_type": "text"
      },
      "source": [
        "We drop these indices directly from the dataframe and assign the dataframe to new one"
      ]
    },
    {
      "cell_type": "code",
      "metadata": {
        "id": "Hqx2_BHUvaob",
        "colab_type": "code",
        "colab": {}
      },
      "source": [
        "data_drop =data.drop(indices, axis=0)"
      ],
      "execution_count": 0,
      "outputs": []
    },
    {
      "cell_type": "markdown",
      "metadata": {
        "id": "uzWDmwUNMCk4",
        "colab_type": "text"
      },
      "source": [
        "As the indices remains as earlier, so we reset the indices to newly created one"
      ]
    },
    {
      "cell_type": "code",
      "metadata": {
        "id": "V9UVAO2r6qb_",
        "colab_type": "code",
        "colab": {}
      },
      "source": [
        "data_drop = data_drop.reset_index(drop=True)"
      ],
      "execution_count": 0,
      "outputs": []
    },
    {
      "cell_type": "markdown",
      "metadata": {
        "id": "3vBdBSm0MSMG",
        "colab_type": "text"
      },
      "source": [
        "**Let's see the new cleaner dataframe**"
      ]
    },
    {
      "cell_type": "code",
      "metadata": {
        "id": "nabAEpKtzu2N",
        "colab_type": "code",
        "outputId": "0863bc9d-6b29-4a66-c69f-069bd92010c4",
        "colab": {
          "base_uri": "https://localhost:8080/",
          "height": 204
        }
      },
      "source": [
        "data_drop.head()"
      ],
      "execution_count": 10,
      "outputs": [
        {
          "output_type": "execute_result",
          "data": {
            "text/html": [
              "<div>\n",
              "<style scoped>\n",
              "    .dataframe tbody tr th:only-of-type {\n",
              "        vertical-align: middle;\n",
              "    }\n",
              "\n",
              "    .dataframe tbody tr th {\n",
              "        vertical-align: top;\n",
              "    }\n",
              "\n",
              "    .dataframe thead th {\n",
              "        text-align: right;\n",
              "    }\n",
              "</style>\n",
              "<table border=\"1\" class=\"dataframe\">\n",
              "  <thead>\n",
              "    <tr style=\"text-align: right;\">\n",
              "      <th></th>\n",
              "      <th>links</th>\n",
              "      <th>labels</th>\n",
              "    </tr>\n",
              "  </thead>\n",
              "  <tbody>\n",
              "    <tr>\n",
              "      <th>0</th>\n",
              "      <td>https://s3.amazonaws.com/havenly-uploads/prod/...</td>\n",
              "      <td>&lt;meta content=\"Classic, Traditional Bedroom De...</td>\n",
              "    </tr>\n",
              "    <tr>\n",
              "      <th>1</th>\n",
              "      <td>https://s3.amazonaws.com/havenly-uploads/prod/...</td>\n",
              "      <td>&lt;meta content=\"Modern, Bohemian, Glam Bedroom ...</td>\n",
              "    </tr>\n",
              "    <tr>\n",
              "      <th>2</th>\n",
              "      <td>https://s3.amazonaws.com/havenly-uploads/prod/...</td>\n",
              "      <td>&lt;meta content=\"Modern, Bohemian, Glam Bedroom ...</td>\n",
              "    </tr>\n",
              "    <tr>\n",
              "      <th>3</th>\n",
              "      <td>https://s3.amazonaws.com/havenly-uploads/prod/...</td>\n",
              "      <td>&lt;meta content=\"Farmhouse, Transitional Nursery...</td>\n",
              "    </tr>\n",
              "    <tr>\n",
              "      <th>4</th>\n",
              "      <td>https://s3.amazonaws.com/havenly-uploads/prod/...</td>\n",
              "      <td>&lt;meta content=\"Transitional Living Room Design...</td>\n",
              "    </tr>\n",
              "  </tbody>\n",
              "</table>\n",
              "</div>"
            ],
            "text/plain": [
              "                                               links                                             labels\n",
              "0  https://s3.amazonaws.com/havenly-uploads/prod/...  <meta content=\"Classic, Traditional Bedroom De...\n",
              "1  https://s3.amazonaws.com/havenly-uploads/prod/...  <meta content=\"Modern, Bohemian, Glam Bedroom ...\n",
              "2  https://s3.amazonaws.com/havenly-uploads/prod/...  <meta content=\"Modern, Bohemian, Glam Bedroom ...\n",
              "3  https://s3.amazonaws.com/havenly-uploads/prod/...  <meta content=\"Farmhouse, Transitional Nursery...\n",
              "4  https://s3.amazonaws.com/havenly-uploads/prod/...  <meta content=\"Transitional Living Room Design..."
            ]
          },
          "metadata": {
            "tags": []
          },
          "execution_count": 10
        }
      ]
    },
    {
      "cell_type": "markdown",
      "metadata": {
        "id": "V7r6zXys20c-",
        "colab_type": "text"
      },
      "source": [
        "**Still not over. Lets clean the 'labels' column.** \n",
        "\n",
        "Let's first understand the labelling style. \n",
        "\n",
        "Ex : meta content=\"Modern, Bohemian, Glam Bedroom Design by Havenly Interior Designer Katrina\" property=\"og:title\n",
        "\n",
        "We see inside \" \", the data is mentioned in structure **Design Label(s)**--**Type of rooms**--**Designer info**. \n",
        "As we notice that several images have multiple labels so we need to keep them in our dataframe. Keeping 'type of rooms' information for our classification challenge demands decision out of  domain knowledge; for now we remove it. Finally the designer's information is completely not required; hence removed. \n",
        "\n",
        "Apart from this there are few 'labels' which contains just designer's information, for ex: meta content=\"Design by Havenly Interior Designer Erin\" property=\"og:title\"/ . As they are the shortest in length, we remove them first."
      ]
    },
    {
      "cell_type": "markdown",
      "metadata": {
        "id": "gjMtEXRgPGeO",
        "colab_type": "text"
      },
      "source": [
        "This is the list of all labels provided in the metadata."
      ]
    },
    {
      "cell_type": "code",
      "metadata": {
        "id": "W8hdRPh5XRAe",
        "colab_type": "code",
        "colab": {}
      },
      "source": [
        "all_labels = ['Classic','Modern','Glam','Industrial','Traditional', 'Coastal', 'Global', 'Preppy','Rustic',\n",
        "                'Transitional','Farmhouse','Bohemian', 'Midcentury','Scandinavian','Eclectic','Minimal']"
      ],
      "execution_count": 0,
      "outputs": []
    },
    {
      "cell_type": "markdown",
      "metadata": {
        "id": "6tw_xBF6PPB8",
        "colab_type": "text"
      },
      "source": [
        "As mentioned above, we clean our dataframe accordingly"
      ]
    },
    {
      "cell_type": "code",
      "metadata": {
        "id": "X03WrC3w5ij3",
        "colab_type": "code",
        "colab": {}
      },
      "source": [
        "import re\n",
        "for i in range(len(data_drop['labels'])):\n",
        "  if len(re.findall(r\"[\\w']+\", data_drop['labels'][i]))<12: \n",
        "    data_drop = data_drop.drop(i, axis=0)  # We drop the designer's info only rows \n",
        "  else:\n",
        "    data_drop['labels'][i] = re.findall(r\"[\\w']+\", data_drop['labels'][i])[2:-9] # we remove the designers info and begin/end words\n",
        "    data_drop['labels'][i] = [label for label in data_drop['labels'][i] if label in all_labels] # we remove room info by chosing words from labels provided\n",
        "    data_drop['labels'][i] = \", \".join(str(label) for label in data_drop['labels'][i]) # we change remove the brackets of the lists"
      ],
      "execution_count": 0,
      "outputs": []
    },
    {
      "cell_type": "code",
      "metadata": {
        "id": "9ZN-ObblksMp",
        "colab_type": "code",
        "colab": {}
      },
      "source": [
        "data_drop = data_drop.dropna()"
      ],
      "execution_count": 0,
      "outputs": []
    },
    {
      "cell_type": "code",
      "metadata": {
        "id": "cWpb9faCKb6G",
        "colab_type": "code",
        "colab": {}
      },
      "source": [
        "data_drop = data_drop.reset_index(drop=True)"
      ],
      "execution_count": 0,
      "outputs": []
    },
    {
      "cell_type": "markdown",
      "metadata": {
        "id": "F57g9WqpR2CA",
        "colab_type": "text"
      },
      "source": [
        "We check if a 'NaN' is created or not due to above changes"
      ]
    },
    {
      "cell_type": "code",
      "metadata": {
        "id": "1Ve7nIMOgNqY",
        "colab_type": "code",
        "outputId": "c82a588f-ef77-43df-e150-b74e667df18b",
        "colab": {
          "base_uri": "https://localhost:8080/",
          "height": 68
        }
      },
      "source": [
        "data_drop.isna().sum()"
      ],
      "execution_count": 15,
      "outputs": [
        {
          "output_type": "execute_result",
          "data": {
            "text/plain": [
              "links     0\n",
              "labels    0\n",
              "dtype: int64"
            ]
          },
          "metadata": {
            "tags": []
          },
          "execution_count": 15
        }
      ]
    },
    {
      "cell_type": "markdown",
      "metadata": {
        "id": "ILZjU0h4R7Fy",
        "colab_type": "text"
      },
      "source": [
        "Let's see the final cleaner dataframe"
      ]
    },
    {
      "cell_type": "code",
      "metadata": {
        "id": "RHgh4qkaKnq5",
        "colab_type": "code",
        "outputId": "2eb72539-225a-4e53-d8e0-459bb0a239c0",
        "colab": {
          "base_uri": "https://localhost:8080/",
          "height": 359
        }
      },
      "source": [
        "data_drop.head(10)"
      ],
      "execution_count": 16,
      "outputs": [
        {
          "output_type": "execute_result",
          "data": {
            "text/html": [
              "<div>\n",
              "<style scoped>\n",
              "    .dataframe tbody tr th:only-of-type {\n",
              "        vertical-align: middle;\n",
              "    }\n",
              "\n",
              "    .dataframe tbody tr th {\n",
              "        vertical-align: top;\n",
              "    }\n",
              "\n",
              "    .dataframe thead th {\n",
              "        text-align: right;\n",
              "    }\n",
              "</style>\n",
              "<table border=\"1\" class=\"dataframe\">\n",
              "  <thead>\n",
              "    <tr style=\"text-align: right;\">\n",
              "      <th></th>\n",
              "      <th>links</th>\n",
              "      <th>labels</th>\n",
              "    </tr>\n",
              "  </thead>\n",
              "  <tbody>\n",
              "    <tr>\n",
              "      <th>0</th>\n",
              "      <td>https://s3.amazonaws.com/havenly-uploads/prod/...</td>\n",
              "      <td>Classic, Traditional</td>\n",
              "    </tr>\n",
              "    <tr>\n",
              "      <th>1</th>\n",
              "      <td>https://s3.amazonaws.com/havenly-uploads/prod/...</td>\n",
              "      <td>Modern, Bohemian, Glam</td>\n",
              "    </tr>\n",
              "    <tr>\n",
              "      <th>2</th>\n",
              "      <td>https://s3.amazonaws.com/havenly-uploads/prod/...</td>\n",
              "      <td>Modern, Bohemian, Glam</td>\n",
              "    </tr>\n",
              "    <tr>\n",
              "      <th>3</th>\n",
              "      <td>https://s3.amazonaws.com/havenly-uploads/prod/...</td>\n",
              "      <td>Farmhouse, Transitional</td>\n",
              "    </tr>\n",
              "    <tr>\n",
              "      <th>4</th>\n",
              "      <td>https://s3.amazonaws.com/havenly-uploads/prod/...</td>\n",
              "      <td>Transitional</td>\n",
              "    </tr>\n",
              "    <tr>\n",
              "      <th>5</th>\n",
              "      <td>https://s3.amazonaws.com/havenly-uploads/prod/...</td>\n",
              "      <td>Coastal, Traditional</td>\n",
              "    </tr>\n",
              "    <tr>\n",
              "      <th>6</th>\n",
              "      <td>https://s3.amazonaws.com/havenly-uploads/prod/...</td>\n",
              "      <td>Farmhouse, Transitional</td>\n",
              "    </tr>\n",
              "    <tr>\n",
              "      <th>7</th>\n",
              "      <td>https://s3.amazonaws.com/havenly-uploads/prod/...</td>\n",
              "      <td>Glam</td>\n",
              "    </tr>\n",
              "    <tr>\n",
              "      <th>8</th>\n",
              "      <td>https://s3.amazonaws.com/havenly-uploads/prod/...</td>\n",
              "      <td>Glam</td>\n",
              "    </tr>\n",
              "    <tr>\n",
              "      <th>9</th>\n",
              "      <td>https://s3.amazonaws.com/havenly-uploads/prod/...</td>\n",
              "      <td>Classic, Eclectic</td>\n",
              "    </tr>\n",
              "  </tbody>\n",
              "</table>\n",
              "</div>"
            ],
            "text/plain": [
              "                                               links                   labels\n",
              "0  https://s3.amazonaws.com/havenly-uploads/prod/...     Classic, Traditional\n",
              "1  https://s3.amazonaws.com/havenly-uploads/prod/...   Modern, Bohemian, Glam\n",
              "2  https://s3.amazonaws.com/havenly-uploads/prod/...   Modern, Bohemian, Glam\n",
              "3  https://s3.amazonaws.com/havenly-uploads/prod/...  Farmhouse, Transitional\n",
              "4  https://s3.amazonaws.com/havenly-uploads/prod/...             Transitional\n",
              "5  https://s3.amazonaws.com/havenly-uploads/prod/...     Coastal, Traditional\n",
              "6  https://s3.amazonaws.com/havenly-uploads/prod/...  Farmhouse, Transitional\n",
              "7  https://s3.amazonaws.com/havenly-uploads/prod/...                     Glam\n",
              "8  https://s3.amazonaws.com/havenly-uploads/prod/...                     Glam\n",
              "9  https://s3.amazonaws.com/havenly-uploads/prod/...        Classic, Eclectic"
            ]
          },
          "metadata": {
            "tags": []
          },
          "execution_count": 16
        }
      ]
    },
    {
      "cell_type": "markdown",
      "metadata": {
        "id": "jGP-NP8YR-ju",
        "colab_type": "text"
      },
      "source": [
        "The number of rows reduced after further cleaning"
      ]
    },
    {
      "cell_type": "code",
      "metadata": {
        "id": "VZYB6e9vcutE",
        "colab_type": "code",
        "outputId": "36feea8d-0fcc-4d5b-976e-e902fc7d47b8",
        "colab": {
          "base_uri": "https://localhost:8080/",
          "height": 34
        }
      },
      "source": [
        "len(data),len(data_drop)"
      ],
      "execution_count": 17,
      "outputs": [
        {
          "output_type": "execute_result",
          "data": {
            "text/plain": [
              "(24466, 20850)"
            ]
          },
          "metadata": {
            "tags": []
          },
          "execution_count": 17
        }
      ]
    },
    {
      "cell_type": "markdown",
      "metadata": {
        "id": "Cn3Nv6rbSGtO",
        "colab_type": "text"
      },
      "source": [
        "The unique grouping of multiple labels reduced significantly"
      ]
    },
    {
      "cell_type": "code",
      "metadata": {
        "id": "-rDATiercKB5",
        "colab_type": "code",
        "outputId": "7ce6d2ba-706a-4690-ecfa-0db7756d142c",
        "colab": {
          "base_uri": "https://localhost:8080/",
          "height": 34
        }
      },
      "source": [
        "data['labels'].nunique(),data_drop['labels'].nunique()"
      ],
      "execution_count": 18,
      "outputs": [
        {
          "output_type": "execute_result",
          "data": {
            "text/plain": [
              "(9570, 738)"
            ]
          },
          "metadata": {
            "tags": []
          },
          "execution_count": 18
        }
      ]
    },
    {
      "cell_type": "markdown",
      "metadata": {
        "id": "27YPODg-a6wv",
        "colab_type": "text"
      },
      "source": [
        "## Replace links with serial image numbers and Download the images"
      ]
    },
    {
      "cell_type": "code",
      "metadata": {
        "id": "LSyk4c0ObHjv",
        "colab_type": "code",
        "colab": {}
      },
      "source": [
        "# Create a directory to load images\n",
        "os.mkdir('Data/train_images1')"
      ],
      "execution_count": 0,
      "outputs": []
    },
    {
      "cell_type": "markdown",
      "metadata": {
        "id": "umjzxr7IbpEE",
        "colab_type": "text"
      },
      "source": [
        "Download the images via provided links in 'links' column and save it in data folder"
      ]
    },
    {
      "cell_type": "code",
      "metadata": {
        "id": "pWBRGOer0_i9",
        "colab_type": "code",
        "outputId": "4be8aa79-a707-47c8-d9f7-505985969d2d",
        "colab": {
          "base_uri": "https://localhost:8080/",
          "height": 153
        }
      },
      "source": [
        "# install wget\n",
        "!pip install wget"
      ],
      "execution_count": 20,
      "outputs": [
        {
          "output_type": "stream",
          "text": [
            "Collecting wget\n",
            "  Downloading https://files.pythonhosted.org/packages/47/6a/62e288da7bcda82b935ff0c6cfe542970f04e29c756b0e147251b2fb251f/wget-3.2.zip\n",
            "Building wheels for collected packages: wget\n",
            "  Building wheel for wget (setup.py) ... \u001b[?25l\u001b[?25hdone\n",
            "  Stored in directory: /root/.cache/pip/wheels/40/15/30/7d8f7cea2902b4db79e3fea550d7d7b85ecb27ef992b618f3f\n",
            "Successfully built wget\n",
            "Installing collected packages: wget\n",
            "Successfully installed wget-3.2\n"
          ],
          "name": "stdout"
        }
      ]
    },
    {
      "cell_type": "code",
      "metadata": {
        "id": "fDxAKu-AbNSc",
        "colab_type": "code",
        "colab": {}
      },
      "source": [
        "# Define the dowloader function\n",
        "import wget\n",
        "from tqdm import tqdm\n",
        "\n",
        "def download_images():\n",
        "  for i in tqdm(range(15198,len(data_drop))):\n",
        "    url = data_drop['links'][i]\n",
        "    wget.download(url, 'Data/train_images1/img'+str(i)+'.jpg')"
      ],
      "execution_count": 0,
      "outputs": []
    },
    {
      "cell_type": "code",
      "metadata": {
        "colab_type": "code",
        "id": "zI84MH6rK3kV",
        "colab": {}
      },
      "source": [
        "# Call the downloader function\n",
        "download_images()"
      ],
      "execution_count": 0,
      "outputs": []
    },
    {
      "cell_type": "markdown",
      "metadata": {
        "id": "7rzum0pL2Ctd",
        "colab_type": "text"
      },
      "source": [
        "While downloading images we still had few links which gave us HTTP error so we remove those links specifically form our dataset."
      ]
    },
    {
      "cell_type": "code",
      "metadata": {
        "id": "HCsP5iyhbgvo",
        "colab_type": "code",
        "outputId": "74b1444f-c24c-4b03-8555-4a2229e84332",
        "colab": {
          "base_uri": "https://localhost:8080/",
          "height": 1599
        }
      },
      "source": [
        "image_name = ['img'+str(i)+'.jpg' for i in range(len(data_drop))]\n",
        "final_data = pd.DataFrame(columns=['images', 'class'])\n",
        "final_data['images'] = image_name\n",
        "final_data['class'] = data_drop['labels']\n",
        "final_data.head(50)"
      ],
      "execution_count": 29,
      "outputs": [
        {
          "output_type": "execute_result",
          "data": {
            "text/html": [
              "<div>\n",
              "<style scoped>\n",
              "    .dataframe tbody tr th:only-of-type {\n",
              "        vertical-align: middle;\n",
              "    }\n",
              "\n",
              "    .dataframe tbody tr th {\n",
              "        vertical-align: top;\n",
              "    }\n",
              "\n",
              "    .dataframe thead th {\n",
              "        text-align: right;\n",
              "    }\n",
              "</style>\n",
              "<table border=\"1\" class=\"dataframe\">\n",
              "  <thead>\n",
              "    <tr style=\"text-align: right;\">\n",
              "      <th></th>\n",
              "      <th>images</th>\n",
              "      <th>class</th>\n",
              "    </tr>\n",
              "  </thead>\n",
              "  <tbody>\n",
              "    <tr>\n",
              "      <th>0</th>\n",
              "      <td>img0.jpg</td>\n",
              "      <td>Classic, Traditional</td>\n",
              "    </tr>\n",
              "    <tr>\n",
              "      <th>1</th>\n",
              "      <td>img1.jpg</td>\n",
              "      <td>Modern, Bohemian, Glam</td>\n",
              "    </tr>\n",
              "    <tr>\n",
              "      <th>2</th>\n",
              "      <td>img2.jpg</td>\n",
              "      <td>Modern, Bohemian, Glam</td>\n",
              "    </tr>\n",
              "    <tr>\n",
              "      <th>3</th>\n",
              "      <td>img3.jpg</td>\n",
              "      <td>Farmhouse, Transitional</td>\n",
              "    </tr>\n",
              "    <tr>\n",
              "      <th>4</th>\n",
              "      <td>img4.jpg</td>\n",
              "      <td>Transitional</td>\n",
              "    </tr>\n",
              "    <tr>\n",
              "      <th>5</th>\n",
              "      <td>img5.jpg</td>\n",
              "      <td>Coastal, Traditional</td>\n",
              "    </tr>\n",
              "    <tr>\n",
              "      <th>6</th>\n",
              "      <td>img6.jpg</td>\n",
              "      <td>Farmhouse, Transitional</td>\n",
              "    </tr>\n",
              "    <tr>\n",
              "      <th>7</th>\n",
              "      <td>img7.jpg</td>\n",
              "      <td>Glam</td>\n",
              "    </tr>\n",
              "    <tr>\n",
              "      <th>8</th>\n",
              "      <td>img8.jpg</td>\n",
              "      <td>Glam</td>\n",
              "    </tr>\n",
              "    <tr>\n",
              "      <th>9</th>\n",
              "      <td>img9.jpg</td>\n",
              "      <td>Classic, Eclectic</td>\n",
              "    </tr>\n",
              "    <tr>\n",
              "      <th>10</th>\n",
              "      <td>img10.jpg</td>\n",
              "      <td>Glam, Transitional</td>\n",
              "    </tr>\n",
              "    <tr>\n",
              "      <th>11</th>\n",
              "      <td>img11.jpg</td>\n",
              "      <td>Coastal, Preppy</td>\n",
              "    </tr>\n",
              "    <tr>\n",
              "      <th>12</th>\n",
              "      <td>img12.jpg</td>\n",
              "      <td>Bohemian, Glam, Preppy</td>\n",
              "    </tr>\n",
              "    <tr>\n",
              "      <th>13</th>\n",
              "      <td>img13.jpg</td>\n",
              "      <td>Industrial, Midcentury, Modern</td>\n",
              "    </tr>\n",
              "    <tr>\n",
              "      <th>14</th>\n",
              "      <td>img14.jpg</td>\n",
              "      <td>Modern, Midcentury, Modern</td>\n",
              "    </tr>\n",
              "    <tr>\n",
              "      <th>15</th>\n",
              "      <td>img15.jpg</td>\n",
              "      <td>Modern, Industrial</td>\n",
              "    </tr>\n",
              "    <tr>\n",
              "      <th>16</th>\n",
              "      <td>img16.jpg</td>\n",
              "      <td>Eclectic</td>\n",
              "    </tr>\n",
              "    <tr>\n",
              "      <th>17</th>\n",
              "      <td>img17.jpg</td>\n",
              "      <td>Eclectic</td>\n",
              "    </tr>\n",
              "    <tr>\n",
              "      <th>18</th>\n",
              "      <td>img18.jpg</td>\n",
              "      <td>Eclectic, Transitional</td>\n",
              "    </tr>\n",
              "    <tr>\n",
              "      <th>19</th>\n",
              "      <td>img19.jpg</td>\n",
              "      <td>Bohemian, Rustic</td>\n",
              "    </tr>\n",
              "    <tr>\n",
              "      <th>20</th>\n",
              "      <td>img20.jpg</td>\n",
              "      <td>Eclectic, Bohemian</td>\n",
              "    </tr>\n",
              "    <tr>\n",
              "      <th>21</th>\n",
              "      <td>img21.jpg</td>\n",
              "      <td>Eclectic, Midcentury, Modern</td>\n",
              "    </tr>\n",
              "    <tr>\n",
              "      <th>22</th>\n",
              "      <td>img22.jpg</td>\n",
              "      <td>Preppy</td>\n",
              "    </tr>\n",
              "    <tr>\n",
              "      <th>23</th>\n",
              "      <td>img23.jpg</td>\n",
              "      <td>Preppy</td>\n",
              "    </tr>\n",
              "    <tr>\n",
              "      <th>24</th>\n",
              "      <td>img24.jpg</td>\n",
              "      <td>Coastal, Preppy</td>\n",
              "    </tr>\n",
              "    <tr>\n",
              "      <th>25</th>\n",
              "      <td>img25.jpg</td>\n",
              "      <td>Classic, Eclectic</td>\n",
              "    </tr>\n",
              "    <tr>\n",
              "      <th>26</th>\n",
              "      <td>img26.jpg</td>\n",
              "      <td>Modern, Glam</td>\n",
              "    </tr>\n",
              "    <tr>\n",
              "      <th>27</th>\n",
              "      <td>img27.jpg</td>\n",
              "      <td>Modern, Glam</td>\n",
              "    </tr>\n",
              "    <tr>\n",
              "      <th>28</th>\n",
              "      <td>img28.jpg</td>\n",
              "      <td>Midcentury, Modern</td>\n",
              "    </tr>\n",
              "    <tr>\n",
              "      <th>29</th>\n",
              "      <td>img29.jpg</td>\n",
              "      <td>Rustic</td>\n",
              "    </tr>\n",
              "    <tr>\n",
              "      <th>30</th>\n",
              "      <td>img30.jpg</td>\n",
              "      <td></td>\n",
              "    </tr>\n",
              "    <tr>\n",
              "      <th>31</th>\n",
              "      <td>img31.jpg</td>\n",
              "      <td>Farmhouse</td>\n",
              "    </tr>\n",
              "    <tr>\n",
              "      <th>32</th>\n",
              "      <td>img32.jpg</td>\n",
              "      <td>Classic, Rustic</td>\n",
              "    </tr>\n",
              "    <tr>\n",
              "      <th>33</th>\n",
              "      <td>img33.jpg</td>\n",
              "      <td>Bohemian, Preppy</td>\n",
              "    </tr>\n",
              "    <tr>\n",
              "      <th>34</th>\n",
              "      <td>img34.jpg</td>\n",
              "      <td>Eclectic, Glam</td>\n",
              "    </tr>\n",
              "    <tr>\n",
              "      <th>35</th>\n",
              "      <td>img35.jpg</td>\n",
              "      <td>Eclectic, Glam</td>\n",
              "    </tr>\n",
              "    <tr>\n",
              "      <th>36</th>\n",
              "      <td>img36.jpg</td>\n",
              "      <td>Modern, Eclectic, Glam</td>\n",
              "    </tr>\n",
              "    <tr>\n",
              "      <th>37</th>\n",
              "      <td>img37.jpg</td>\n",
              "      <td>Eclectic</td>\n",
              "    </tr>\n",
              "    <tr>\n",
              "      <th>38</th>\n",
              "      <td>img38.jpg</td>\n",
              "      <td>Classic, Preppy</td>\n",
              "    </tr>\n",
              "    <tr>\n",
              "      <th>39</th>\n",
              "      <td>img39.jpg</td>\n",
              "      <td></td>\n",
              "    </tr>\n",
              "    <tr>\n",
              "      <th>40</th>\n",
              "      <td>img40.jpg</td>\n",
              "      <td>Global</td>\n",
              "    </tr>\n",
              "    <tr>\n",
              "      <th>41</th>\n",
              "      <td>img41.jpg</td>\n",
              "      <td>Bohemian, Global</td>\n",
              "    </tr>\n",
              "    <tr>\n",
              "      <th>42</th>\n",
              "      <td>img42.jpg</td>\n",
              "      <td>Global, Scandinavian</td>\n",
              "    </tr>\n",
              "    <tr>\n",
              "      <th>43</th>\n",
              "      <td>img43.jpg</td>\n",
              "      <td>Modern, Minimal</td>\n",
              "    </tr>\n",
              "    <tr>\n",
              "      <th>44</th>\n",
              "      <td>img44.jpg</td>\n",
              "      <td>Bohemian, Midcentury, Modern</td>\n",
              "    </tr>\n",
              "    <tr>\n",
              "      <th>45</th>\n",
              "      <td>img45.jpg</td>\n",
              "      <td>Bohemian, Midcentury, Modern</td>\n",
              "    </tr>\n",
              "    <tr>\n",
              "      <th>46</th>\n",
              "      <td>img46.jpg</td>\n",
              "      <td>Classic, Coastal</td>\n",
              "    </tr>\n",
              "    <tr>\n",
              "      <th>47</th>\n",
              "      <td>img47.jpg</td>\n",
              "      <td>Classic, Farmhouse, Rustic</td>\n",
              "    </tr>\n",
              "    <tr>\n",
              "      <th>48</th>\n",
              "      <td>img48.jpg</td>\n",
              "      <td>Classic, Coastal</td>\n",
              "    </tr>\n",
              "    <tr>\n",
              "      <th>49</th>\n",
              "      <td>img49.jpg</td>\n",
              "      <td>Classic, Transitional</td>\n",
              "    </tr>\n",
              "  </tbody>\n",
              "</table>\n",
              "</div>"
            ],
            "text/plain": [
              "       images                           class\n",
              "0    img0.jpg            Classic, Traditional\n",
              "1    img1.jpg          Modern, Bohemian, Glam\n",
              "2    img2.jpg          Modern, Bohemian, Glam\n",
              "3    img3.jpg         Farmhouse, Transitional\n",
              "4    img4.jpg                    Transitional\n",
              "5    img5.jpg            Coastal, Traditional\n",
              "6    img6.jpg         Farmhouse, Transitional\n",
              "7    img7.jpg                            Glam\n",
              "8    img8.jpg                            Glam\n",
              "9    img9.jpg               Classic, Eclectic\n",
              "10  img10.jpg              Glam, Transitional\n",
              "11  img11.jpg                 Coastal, Preppy\n",
              "12  img12.jpg          Bohemian, Glam, Preppy\n",
              "13  img13.jpg  Industrial, Midcentury, Modern\n",
              "14  img14.jpg      Modern, Midcentury, Modern\n",
              "15  img15.jpg              Modern, Industrial\n",
              "16  img16.jpg                        Eclectic\n",
              "17  img17.jpg                        Eclectic\n",
              "18  img18.jpg          Eclectic, Transitional\n",
              "19  img19.jpg                Bohemian, Rustic\n",
              "20  img20.jpg              Eclectic, Bohemian\n",
              "21  img21.jpg    Eclectic, Midcentury, Modern\n",
              "22  img22.jpg                          Preppy\n",
              "23  img23.jpg                          Preppy\n",
              "24  img24.jpg                 Coastal, Preppy\n",
              "25  img25.jpg               Classic, Eclectic\n",
              "26  img26.jpg                    Modern, Glam\n",
              "27  img27.jpg                    Modern, Glam\n",
              "28  img28.jpg              Midcentury, Modern\n",
              "29  img29.jpg                          Rustic\n",
              "30  img30.jpg                                \n",
              "31  img31.jpg                       Farmhouse\n",
              "32  img32.jpg                 Classic, Rustic\n",
              "33  img33.jpg                Bohemian, Preppy\n",
              "34  img34.jpg                  Eclectic, Glam\n",
              "35  img35.jpg                  Eclectic, Glam\n",
              "36  img36.jpg          Modern, Eclectic, Glam\n",
              "37  img37.jpg                        Eclectic\n",
              "38  img38.jpg                 Classic, Preppy\n",
              "39  img39.jpg                                \n",
              "40  img40.jpg                          Global\n",
              "41  img41.jpg                Bohemian, Global\n",
              "42  img42.jpg            Global, Scandinavian\n",
              "43  img43.jpg                 Modern, Minimal\n",
              "44  img44.jpg    Bohemian, Midcentury, Modern\n",
              "45  img45.jpg    Bohemian, Midcentury, Modern\n",
              "46  img46.jpg                Classic, Coastal\n",
              "47  img47.jpg      Classic, Farmhouse, Rustic\n",
              "48  img48.jpg                Classic, Coastal\n",
              "49  img49.jpg           Classic, Transitional"
            ]
          },
          "metadata": {
            "tags": []
          },
          "execution_count": 29
        }
      ]
    },
    {
      "cell_type": "code",
      "metadata": {
        "id": "V6jKrbHk1vWa",
        "colab_type": "code",
        "colab": {}
      },
      "source": [
        "indices = [15196, 15197]\n",
        "final_data = final_data.drop(indices, axis=0)\n",
        "final_data = final_data.reset_index(drop=True)\n",
        "final_data.head(30)"
      ],
      "execution_count": 0,
      "outputs": []
    },
    {
      "cell_type": "markdown",
      "metadata": {
        "id": "ejYpCi-hPd49",
        "colab_type": "text"
      },
      "source": [
        "We still have images with no labels. We will select those images and remove them from the dataset and drive"
      ]
    },
    {
      "cell_type": "code",
      "metadata": {
        "id": "AAVyzrGTse-q",
        "colab_type": "code",
        "colab": {}
      },
      "source": [
        "empty_labels=[]\n",
        "indices=[]\n",
        "for i in range(len(final_data)):\n",
        "  if final_data['class'][i]=='':\n",
        "    empty_labels.append(final_data['images'][i])\n",
        "    indices.append(i)"
      ],
      "execution_count": 0,
      "outputs": []
    },
    {
      "cell_type": "code",
      "metadata": {
        "id": "jBc8nT_Y6_4D",
        "colab_type": "code",
        "colab": {
          "base_uri": "https://localhost:8080/",
          "height": 34
        },
        "outputId": "a3fb43df-b000-4a83-cc6a-be30b538c81e"
      },
      "source": [
        "len(empty_labels)"
      ],
      "execution_count": 97,
      "outputs": [
        {
          "output_type": "execute_result",
          "data": {
            "text/plain": [
              "751"
            ]
          },
          "metadata": {
            "tags": []
          },
          "execution_count": 97
        }
      ]
    },
    {
      "cell_type": "markdown",
      "metadata": {
        "id": "EIrlNLC9PrCa",
        "colab_type": "text"
      },
      "source": [
        "751 of them needs to be removed."
      ]
    },
    {
      "cell_type": "code",
      "metadata": {
        "id": "mgyjKVIL_KT8",
        "colab_type": "code",
        "colab": {}
      },
      "source": [
        "for img in empty_labels:\n",
        "  image = 'Data/train_images/'+img\n",
        "  os.remove(image)"
      ],
      "execution_count": 0,
      "outputs": []
    },
    {
      "cell_type": "code",
      "metadata": {
        "id": "JosUhdd3F4Oj",
        "colab_type": "code",
        "colab": {}
      },
      "source": [
        "final_data =final_data.drop(indices, axis=0)"
      ],
      "execution_count": 0,
      "outputs": []
    },
    {
      "cell_type": "code",
      "metadata": {
        "id": "SInSXG0_GDDf",
        "colab_type": "code",
        "colab": {}
      },
      "source": [
        "final_data = final_data.reset_index(drop=True)"
      ],
      "execution_count": 0,
      "outputs": []
    },
    {
      "cell_type": "code",
      "metadata": {
        "id": "uSgzQfeZGNyG",
        "colab_type": "code",
        "colab": {
          "base_uri": "https://localhost:8080/",
          "height": 34
        },
        "outputId": "e1f39f7c-b868-4c08-fd9c-9f4f7c649b01"
      },
      "source": [
        "len(final_data)"
      ],
      "execution_count": 121,
      "outputs": [
        {
          "output_type": "execute_result",
          "data": {
            "text/plain": [
              "20097"
            ]
          },
          "metadata": {
            "tags": []
          },
          "execution_count": 121
        }
      ]
    },
    {
      "cell_type": "markdown",
      "metadata": {
        "id": "ewWBlCXxPxGp",
        "colab_type": "text"
      },
      "source": [
        "Final number of images!!"
      ]
    },
    {
      "cell_type": "markdown",
      "metadata": {
        "id": "l0_NyqQ7b8kU",
        "colab_type": "text"
      },
      "source": [
        "Created a final 'ready to work with' dataframe and dataset"
      ]
    },
    {
      "cell_type": "markdown",
      "metadata": {
        "id": "dSNPan5uSTar",
        "colab_type": "text"
      },
      "source": [
        "## Export the dataframe to drive"
      ]
    },
    {
      "cell_type": "code",
      "metadata": {
        "id": "P2bTMfDoGq_T",
        "colab_type": "code",
        "colab": {
          "base_uri": "https://localhost:8080/",
          "height": 1599
        },
        "outputId": "a0456840-312f-4738-b1c7-5735bcc6dffa"
      },
      "source": [
        "final_data.head(50)"
      ],
      "execution_count": 123,
      "outputs": [
        {
          "output_type": "execute_result",
          "data": {
            "text/html": [
              "<div>\n",
              "<style scoped>\n",
              "    .dataframe tbody tr th:only-of-type {\n",
              "        vertical-align: middle;\n",
              "    }\n",
              "\n",
              "    .dataframe tbody tr th {\n",
              "        vertical-align: top;\n",
              "    }\n",
              "\n",
              "    .dataframe thead th {\n",
              "        text-align: right;\n",
              "    }\n",
              "</style>\n",
              "<table border=\"1\" class=\"dataframe\">\n",
              "  <thead>\n",
              "    <tr style=\"text-align: right;\">\n",
              "      <th></th>\n",
              "      <th>images</th>\n",
              "      <th>class</th>\n",
              "    </tr>\n",
              "  </thead>\n",
              "  <tbody>\n",
              "    <tr>\n",
              "      <th>0</th>\n",
              "      <td>img0.jpg</td>\n",
              "      <td>Classic, Traditional</td>\n",
              "    </tr>\n",
              "    <tr>\n",
              "      <th>1</th>\n",
              "      <td>img1.jpg</td>\n",
              "      <td>Modern, Bohemian, Glam</td>\n",
              "    </tr>\n",
              "    <tr>\n",
              "      <th>2</th>\n",
              "      <td>img2.jpg</td>\n",
              "      <td>Modern, Bohemian, Glam</td>\n",
              "    </tr>\n",
              "    <tr>\n",
              "      <th>3</th>\n",
              "      <td>img3.jpg</td>\n",
              "      <td>Farmhouse, Transitional</td>\n",
              "    </tr>\n",
              "    <tr>\n",
              "      <th>4</th>\n",
              "      <td>img4.jpg</td>\n",
              "      <td>Transitional</td>\n",
              "    </tr>\n",
              "    <tr>\n",
              "      <th>5</th>\n",
              "      <td>img5.jpg</td>\n",
              "      <td>Coastal, Traditional</td>\n",
              "    </tr>\n",
              "    <tr>\n",
              "      <th>6</th>\n",
              "      <td>img6.jpg</td>\n",
              "      <td>Farmhouse, Transitional</td>\n",
              "    </tr>\n",
              "    <tr>\n",
              "      <th>7</th>\n",
              "      <td>img7.jpg</td>\n",
              "      <td>Glam</td>\n",
              "    </tr>\n",
              "    <tr>\n",
              "      <th>8</th>\n",
              "      <td>img8.jpg</td>\n",
              "      <td>Glam</td>\n",
              "    </tr>\n",
              "    <tr>\n",
              "      <th>9</th>\n",
              "      <td>img9.jpg</td>\n",
              "      <td>Classic, Eclectic</td>\n",
              "    </tr>\n",
              "    <tr>\n",
              "      <th>10</th>\n",
              "      <td>img10.jpg</td>\n",
              "      <td>Glam, Transitional</td>\n",
              "    </tr>\n",
              "    <tr>\n",
              "      <th>11</th>\n",
              "      <td>img11.jpg</td>\n",
              "      <td>Coastal, Preppy</td>\n",
              "    </tr>\n",
              "    <tr>\n",
              "      <th>12</th>\n",
              "      <td>img12.jpg</td>\n",
              "      <td>Bohemian, Glam, Preppy</td>\n",
              "    </tr>\n",
              "    <tr>\n",
              "      <th>13</th>\n",
              "      <td>img13.jpg</td>\n",
              "      <td>Industrial, Midcentury, Modern</td>\n",
              "    </tr>\n",
              "    <tr>\n",
              "      <th>14</th>\n",
              "      <td>img14.jpg</td>\n",
              "      <td>Modern, Midcentury, Modern</td>\n",
              "    </tr>\n",
              "    <tr>\n",
              "      <th>15</th>\n",
              "      <td>img15.jpg</td>\n",
              "      <td>Modern, Industrial</td>\n",
              "    </tr>\n",
              "    <tr>\n",
              "      <th>16</th>\n",
              "      <td>img16.jpg</td>\n",
              "      <td>Eclectic</td>\n",
              "    </tr>\n",
              "    <tr>\n",
              "      <th>17</th>\n",
              "      <td>img17.jpg</td>\n",
              "      <td>Eclectic</td>\n",
              "    </tr>\n",
              "    <tr>\n",
              "      <th>18</th>\n",
              "      <td>img18.jpg</td>\n",
              "      <td>Eclectic, Transitional</td>\n",
              "    </tr>\n",
              "    <tr>\n",
              "      <th>19</th>\n",
              "      <td>img19.jpg</td>\n",
              "      <td>Bohemian, Rustic</td>\n",
              "    </tr>\n",
              "    <tr>\n",
              "      <th>20</th>\n",
              "      <td>img20.jpg</td>\n",
              "      <td>Eclectic, Bohemian</td>\n",
              "    </tr>\n",
              "    <tr>\n",
              "      <th>21</th>\n",
              "      <td>img21.jpg</td>\n",
              "      <td>Eclectic, Midcentury, Modern</td>\n",
              "    </tr>\n",
              "    <tr>\n",
              "      <th>22</th>\n",
              "      <td>img22.jpg</td>\n",
              "      <td>Preppy</td>\n",
              "    </tr>\n",
              "    <tr>\n",
              "      <th>23</th>\n",
              "      <td>img23.jpg</td>\n",
              "      <td>Preppy</td>\n",
              "    </tr>\n",
              "    <tr>\n",
              "      <th>24</th>\n",
              "      <td>img24.jpg</td>\n",
              "      <td>Coastal, Preppy</td>\n",
              "    </tr>\n",
              "    <tr>\n",
              "      <th>25</th>\n",
              "      <td>img25.jpg</td>\n",
              "      <td>Classic, Eclectic</td>\n",
              "    </tr>\n",
              "    <tr>\n",
              "      <th>26</th>\n",
              "      <td>img26.jpg</td>\n",
              "      <td>Modern, Glam</td>\n",
              "    </tr>\n",
              "    <tr>\n",
              "      <th>27</th>\n",
              "      <td>img27.jpg</td>\n",
              "      <td>Modern, Glam</td>\n",
              "    </tr>\n",
              "    <tr>\n",
              "      <th>28</th>\n",
              "      <td>img28.jpg</td>\n",
              "      <td>Midcentury, Modern</td>\n",
              "    </tr>\n",
              "    <tr>\n",
              "      <th>29</th>\n",
              "      <td>img29.jpg</td>\n",
              "      <td>Rustic</td>\n",
              "    </tr>\n",
              "    <tr>\n",
              "      <th>30</th>\n",
              "      <td>img31.jpg</td>\n",
              "      <td>Farmhouse</td>\n",
              "    </tr>\n",
              "    <tr>\n",
              "      <th>31</th>\n",
              "      <td>img32.jpg</td>\n",
              "      <td>Classic, Rustic</td>\n",
              "    </tr>\n",
              "    <tr>\n",
              "      <th>32</th>\n",
              "      <td>img33.jpg</td>\n",
              "      <td>Bohemian, Preppy</td>\n",
              "    </tr>\n",
              "    <tr>\n",
              "      <th>33</th>\n",
              "      <td>img34.jpg</td>\n",
              "      <td>Eclectic, Glam</td>\n",
              "    </tr>\n",
              "    <tr>\n",
              "      <th>34</th>\n",
              "      <td>img35.jpg</td>\n",
              "      <td>Eclectic, Glam</td>\n",
              "    </tr>\n",
              "    <tr>\n",
              "      <th>35</th>\n",
              "      <td>img36.jpg</td>\n",
              "      <td>Modern, Eclectic, Glam</td>\n",
              "    </tr>\n",
              "    <tr>\n",
              "      <th>36</th>\n",
              "      <td>img37.jpg</td>\n",
              "      <td>Eclectic</td>\n",
              "    </tr>\n",
              "    <tr>\n",
              "      <th>37</th>\n",
              "      <td>img38.jpg</td>\n",
              "      <td>Classic, Preppy</td>\n",
              "    </tr>\n",
              "    <tr>\n",
              "      <th>38</th>\n",
              "      <td>img40.jpg</td>\n",
              "      <td>Global</td>\n",
              "    </tr>\n",
              "    <tr>\n",
              "      <th>39</th>\n",
              "      <td>img41.jpg</td>\n",
              "      <td>Bohemian, Global</td>\n",
              "    </tr>\n",
              "    <tr>\n",
              "      <th>40</th>\n",
              "      <td>img42.jpg</td>\n",
              "      <td>Global, Scandinavian</td>\n",
              "    </tr>\n",
              "    <tr>\n",
              "      <th>41</th>\n",
              "      <td>img43.jpg</td>\n",
              "      <td>Modern, Minimal</td>\n",
              "    </tr>\n",
              "    <tr>\n",
              "      <th>42</th>\n",
              "      <td>img44.jpg</td>\n",
              "      <td>Bohemian, Midcentury, Modern</td>\n",
              "    </tr>\n",
              "    <tr>\n",
              "      <th>43</th>\n",
              "      <td>img45.jpg</td>\n",
              "      <td>Bohemian, Midcentury, Modern</td>\n",
              "    </tr>\n",
              "    <tr>\n",
              "      <th>44</th>\n",
              "      <td>img46.jpg</td>\n",
              "      <td>Classic, Coastal</td>\n",
              "    </tr>\n",
              "    <tr>\n",
              "      <th>45</th>\n",
              "      <td>img47.jpg</td>\n",
              "      <td>Classic, Farmhouse, Rustic</td>\n",
              "    </tr>\n",
              "    <tr>\n",
              "      <th>46</th>\n",
              "      <td>img48.jpg</td>\n",
              "      <td>Classic, Coastal</td>\n",
              "    </tr>\n",
              "    <tr>\n",
              "      <th>47</th>\n",
              "      <td>img49.jpg</td>\n",
              "      <td>Classic, Transitional</td>\n",
              "    </tr>\n",
              "    <tr>\n",
              "      <th>48</th>\n",
              "      <td>img50.jpg</td>\n",
              "      <td>Classic, Traditional, Transitional</td>\n",
              "    </tr>\n",
              "    <tr>\n",
              "      <th>49</th>\n",
              "      <td>img51.jpg</td>\n",
              "      <td>Classic, Transitional</td>\n",
              "    </tr>\n",
              "  </tbody>\n",
              "</table>\n",
              "</div>"
            ],
            "text/plain": [
              "       images                               class\n",
              "0    img0.jpg                Classic, Traditional\n",
              "1    img1.jpg              Modern, Bohemian, Glam\n",
              "2    img2.jpg              Modern, Bohemian, Glam\n",
              "3    img3.jpg             Farmhouse, Transitional\n",
              "4    img4.jpg                        Transitional\n",
              "5    img5.jpg                Coastal, Traditional\n",
              "6    img6.jpg             Farmhouse, Transitional\n",
              "7    img7.jpg                                Glam\n",
              "8    img8.jpg                                Glam\n",
              "9    img9.jpg                   Classic, Eclectic\n",
              "10  img10.jpg                  Glam, Transitional\n",
              "11  img11.jpg                     Coastal, Preppy\n",
              "12  img12.jpg              Bohemian, Glam, Preppy\n",
              "13  img13.jpg      Industrial, Midcentury, Modern\n",
              "14  img14.jpg          Modern, Midcentury, Modern\n",
              "15  img15.jpg                  Modern, Industrial\n",
              "16  img16.jpg                            Eclectic\n",
              "17  img17.jpg                            Eclectic\n",
              "18  img18.jpg              Eclectic, Transitional\n",
              "19  img19.jpg                    Bohemian, Rustic\n",
              "20  img20.jpg                  Eclectic, Bohemian\n",
              "21  img21.jpg        Eclectic, Midcentury, Modern\n",
              "22  img22.jpg                              Preppy\n",
              "23  img23.jpg                              Preppy\n",
              "24  img24.jpg                     Coastal, Preppy\n",
              "25  img25.jpg                   Classic, Eclectic\n",
              "26  img26.jpg                        Modern, Glam\n",
              "27  img27.jpg                        Modern, Glam\n",
              "28  img28.jpg                  Midcentury, Modern\n",
              "29  img29.jpg                              Rustic\n",
              "30  img31.jpg                           Farmhouse\n",
              "31  img32.jpg                     Classic, Rustic\n",
              "32  img33.jpg                    Bohemian, Preppy\n",
              "33  img34.jpg                      Eclectic, Glam\n",
              "34  img35.jpg                      Eclectic, Glam\n",
              "35  img36.jpg              Modern, Eclectic, Glam\n",
              "36  img37.jpg                            Eclectic\n",
              "37  img38.jpg                     Classic, Preppy\n",
              "38  img40.jpg                              Global\n",
              "39  img41.jpg                    Bohemian, Global\n",
              "40  img42.jpg                Global, Scandinavian\n",
              "41  img43.jpg                     Modern, Minimal\n",
              "42  img44.jpg        Bohemian, Midcentury, Modern\n",
              "43  img45.jpg        Bohemian, Midcentury, Modern\n",
              "44  img46.jpg                    Classic, Coastal\n",
              "45  img47.jpg          Classic, Farmhouse, Rustic\n",
              "46  img48.jpg                    Classic, Coastal\n",
              "47  img49.jpg               Classic, Transitional\n",
              "48  img50.jpg  Classic, Traditional, Transitional\n",
              "49  img51.jpg               Classic, Transitional"
            ]
          },
          "metadata": {
            "tags": []
          },
          "execution_count": 123
        }
      ]
    },
    {
      "cell_type": "code",
      "metadata": {
        "id": "xaYAyxRCpSBC",
        "colab_type": "code",
        "colab": {}
      },
      "source": [
        "final_data.to_csv('drive/My Drive/fellowship/final_data.csv', index=False)"
      ],
      "execution_count": 0,
      "outputs": []
    },
    {
      "cell_type": "markdown",
      "metadata": {
        "id": "xvTVNoheebfs",
        "colab_type": "text"
      },
      "source": [
        "## Export the data folder to drive"
      ]
    },
    {
      "cell_type": "code",
      "metadata": {
        "id": "vovqiVURWeu2",
        "colab_type": "code",
        "colab": {
          "base_uri": "https://localhost:8080/",
          "height": 323
        },
        "outputId": "483bcb0e-7411-418d-91c4-9da2e99d3484"
      },
      "source": [
        "!pip install PyDrive"
      ],
      "execution_count": 128,
      "outputs": [
        {
          "output_type": "stream",
          "text": [
            "Collecting PyDrive\n",
            "\u001b[?25l  Downloading https://files.pythonhosted.org/packages/52/e0/0e64788e5dd58ce2d6934549676243dc69d982f198524be9b99e9c2a4fd5/PyDrive-1.3.1.tar.gz (987kB)\n",
            "\u001b[K     |████████████████████████████████| 993kB 3.5MB/s \n",
            "\u001b[?25hRequirement already satisfied: google-api-python-client>=1.2 in /usr/local/lib/python3.6/dist-packages (from PyDrive) (1.6.7)\n",
            "Requirement already satisfied: oauth2client>=4.0.0 in /usr/local/lib/python3.6/dist-packages (from PyDrive) (4.1.3)\n",
            "Requirement already satisfied: PyYAML>=3.0 in /usr/local/lib/python3.6/dist-packages (from PyDrive) (3.13)\n",
            "Requirement already satisfied: six<2dev,>=1.6.1 in /usr/local/lib/python3.6/dist-packages (from google-api-python-client>=1.2->PyDrive) (1.12.0)\n",
            "Requirement already satisfied: httplib2<1dev,>=0.9.2 in /usr/local/lib/python3.6/dist-packages (from google-api-python-client>=1.2->PyDrive) (0.11.3)\n",
            "Requirement already satisfied: uritemplate<4dev,>=3.0.0 in /usr/local/lib/python3.6/dist-packages (from google-api-python-client>=1.2->PyDrive) (3.0.0)\n",
            "Requirement already satisfied: pyasn1>=0.1.7 in /usr/local/lib/python3.6/dist-packages (from oauth2client>=4.0.0->PyDrive) (0.4.5)\n",
            "Requirement already satisfied: pyasn1-modules>=0.0.5 in /usr/local/lib/python3.6/dist-packages (from oauth2client>=4.0.0->PyDrive) (0.2.5)\n",
            "Requirement already satisfied: rsa>=3.1.4 in /usr/local/lib/python3.6/dist-packages (from oauth2client>=4.0.0->PyDrive) (4.0)\n",
            "Building wheels for collected packages: PyDrive\n",
            "  Building wheel for PyDrive (setup.py) ... \u001b[?25l\u001b[?25hdone\n",
            "  Stored in directory: /root/.cache/pip/wheels/fa/d2/9a/d3b6b506c2da98289e5d417215ce34b696db856643bad779f4\n",
            "Successfully built PyDrive\n",
            "Installing collected packages: PyDrive\n",
            "Successfully installed PyDrive-1.3.1\n"
          ],
          "name": "stdout"
        }
      ]
    },
    {
      "cell_type": "code",
      "metadata": {
        "id": "7NUk9pF6ZcOX",
        "colab_type": "code",
        "colab": {}
      },
      "source": [
        "#Using PyDrive\n",
        "from pydrive.auth import GoogleAuth\n",
        "from pydrive.drive import GoogleDrive\n",
        "from google.colab import auth\n",
        "from oauth2client.client import GoogleCredentials\n",
        "\n",
        "auth.authenticate_user()\n",
        "gauth = GoogleAuth()\n",
        "gauth.credentials = GoogleCredentials.get_application_default()\n",
        "drive = GoogleDrive(gauth)"
      ],
      "execution_count": 0,
      "outputs": []
    },
    {
      "cell_type": "code",
      "metadata": {
        "id": "tmBZSjrfd4hB",
        "colab_type": "code",
        "colab": {}
      },
      "source": [
        "# Make a folder for creating a tar file\n",
        "import os\n",
        "import shutil\n",
        "src = 'Data/train_images1'\n",
        "dest = 'Data/train_images'\n",
        "src_files = os.listdir(src)\n",
        "for file_name in src_files:\n",
        "    full_file_name = os.path.join(src, file_name)\n",
        "    if os.path.isfile(full_file_name):\n",
        "        shutil.copy(full_file_name, dest)"
      ],
      "execution_count": 0,
      "outputs": []
    },
    {
      "cell_type": "code",
      "metadata": {
        "id": "itR9EiaGesSp",
        "colab_type": "code",
        "colab": {
          "base_uri": "https://localhost:8080/",
          "height": 34
        },
        "outputId": "ce6fa405-3123-42a2-fe0f-c79aafa7b4cc"
      },
      "source": [
        "len(os.listdir(dest))"
      ],
      "execution_count": 132,
      "outputs": [
        {
          "output_type": "execute_result",
          "data": {
            "text/plain": [
              "20097"
            ]
          },
          "metadata": {
            "tags": []
          },
          "execution_count": 132
        }
      ]
    },
    {
      "cell_type": "markdown",
      "metadata": {
        "id": "rts-tFsTpqI3",
        "colab_type": "text"
      },
      "source": [
        " Final number of images!!"
      ]
    },
    {
      "cell_type": "code",
      "metadata": {
        "id": "Oi8tUpuCbj3o",
        "colab_type": "code",
        "colab": {}
      },
      "source": [
        "# create a tarfile\n",
        "import tarfile,re,os\n",
        "\n",
        "def make_tarfile(output_filename, source_dir):\n",
        "  with tarfile.open(output_filename, \"w:gz\") as tar:\n",
        "    tar.add(source_dir, arcname=os.path.basename(source_dir))"
      ],
      "execution_count": 0,
      "outputs": []
    },
    {
      "cell_type": "code",
      "metadata": {
        "id": "axcNScgIfDej",
        "colab_type": "code",
        "colab": {}
      },
      "source": [
        "make_tarfile('interior_data.tar', dest)"
      ],
      "execution_count": 0,
      "outputs": []
    },
    {
      "cell_type": "code",
      "metadata": {
        "id": "woqKNjw5aYKm",
        "colab_type": "code",
        "colab": {}
      },
      "source": [
        "# Create GoogleDrive instance with authenticated GoogleAuth instance.\n",
        "drive = GoogleDrive(gauth)\n",
        "\n",
        "def upload_to_drive(file, title):\n",
        "  uploaded = drive.CreateFile({'title': title})\n",
        "  uploaded.SetContentFile(file)\n",
        "  uploaded.Upload()\n",
        "  print('Uploaded file %s with ID %s'%(file, uploaded.get('id')))"
      ],
      "execution_count": 0,
      "outputs": []
    },
    {
      "cell_type": "code",
      "metadata": {
        "id": "NlGa8DNndWqq",
        "colab_type": "code",
        "colab": {
          "base_uri": "https://localhost:8080/",
          "height": 34
        },
        "outputId": "fe7ad388-fe42-4bf9-845c-1bc0a8e183ee"
      },
      "source": [
        "upload_to_drive(\"interior_data.tar\",\"interior_data.tar\")"
      ],
      "execution_count": 137,
      "outputs": [
        {
          "output_type": "stream",
          "text": [
            "Uploaded file interior_data.tar with ID 1ntCQsAtqmvQz905uvnmLBEqyQoM6H_hT\n"
          ],
          "name": "stdout"
        }
      ]
    }
  ]
}