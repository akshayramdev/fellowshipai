{
  "nbformat": 4,
  "nbformat_minor": 0,
  "metadata": {
    "colab": {
      "name": "Interior_Design_MultipleLabels_DataCleaning",
      "version": "0.3.2",
      "provenance": [],
      "collapsed_sections": [],
      "include_colab_link": true
    },
    "kernelspec": {
      "name": "python3",
      "display_name": "Python 3"
    },
    "accelerator": "GPU"
  },
  "cells": [
    {
      "cell_type": "markdown",
      "metadata": {
        "id": "view-in-github",
        "colab_type": "text"
      },
      "source": [
        "<a href=\"https://colab.research.google.com/github/fellowship/platform-demos3/blob/master/InteriorDesignClassification/InteriorDesign_MultipleLabels_DataCleaning.ipynb\" target=\"_parent\"><img src=\"https://colab.research.google.com/assets/colab-badge.svg\" alt=\"Open In Colab\"/></a>"
      ]
    },
    {
      "cell_type": "markdown",
      "metadata": {
        "id": "T4_4DUs6IDaL",
        "colab_type": "text"
      },
      "source": [
        "# Creating a dataframe for multiple labels of Interior Design Image Dataset "
      ]
    },
    {
      "cell_type": "code",
      "metadata": {
        "id": "7vFNAM7dbXFU",
        "colab_type": "code",
        "colab": {}
      },
      "source": [
        "#Importing fastai libraries\n",
        "from fastai.vision import *"
      ],
      "execution_count": 0,
      "outputs": []
    },
    {
      "cell_type": "code",
      "metadata": {
        "id": "E8j4xJKNdS-6",
        "colab_type": "code",
        "outputId": "f91f9289-bb9f-4c2a-a0f8-3f60dce4bcf2",
        "colab": {
          "base_uri": "https://localhost:8080/",
          "height": 122
        }
      },
      "source": [
        "# Mounting google drive\n",
        "from google.colab import drive\n",
        "drive.mount('/content/drive', force_remount=True)"
      ],
      "execution_count": 2,
      "outputs": [
        {
          "output_type": "stream",
          "text": [
            "Go to this URL in a browser: https://accounts.google.com/o/oauth2/auth?client_id=947318989803-6bn6qk8qdgf4n4g3pfee6491hc0brc4i.apps.googleusercontent.com&redirect_uri=urn%3Aietf%3Awg%3Aoauth%3A2.0%3Aoob&scope=email%20https%3A%2F%2Fwww.googleapis.com%2Fauth%2Fdocs.test%20https%3A%2F%2Fwww.googleapis.com%2Fauth%2Fdrive%20https%3A%2F%2Fwww.googleapis.com%2Fauth%2Fdrive.photos.readonly%20https%3A%2F%2Fwww.googleapis.com%2Fauth%2Fpeopleapi.readonly&response_type=code\n",
            "\n",
            "Enter your authorization code:\n",
            "··········\n",
            "Mounted at /content/drive\n"
          ],
          "name": "stdout"
        }
      ]
    },
    {
      "cell_type": "code",
      "metadata": {
        "id": "ev28IQiweSVN",
        "colab_type": "code",
        "colab": {}
      },
      "source": [
        "# Creating a folder in colab memory to store the csv file after copying\n",
        "!mkdir 'Data'\n",
        "!cp 'drive/My Drive/scraping_data.csv' 'Data/'"
      ],
      "execution_count": 0,
      "outputs": []
    },
    {
      "cell_type": "code",
      "metadata": {
        "id": "m5-uAMvyb61b",
        "colab_type": "code",
        "outputId": "8b33955b-75d8-4260-d239-bc793f09adb9",
        "colab": {
          "base_uri": "https://localhost:8080/",
          "height": 204
        }
      },
      "source": [
        "# Reading the first 5 rows of the csv file \n",
        "data = pd.read_csv('Data/scraping_data.csv')\n",
        "data.head()"
      ],
      "execution_count": 4,
      "outputs": [
        {
          "output_type": "execute_result",
          "data": {
            "text/html": [
              "<div>\n",
              "<style scoped>\n",
              "    .dataframe tbody tr th:only-of-type {\n",
              "        vertical-align: middle;\n",
              "    }\n",
              "\n",
              "    .dataframe tbody tr th {\n",
              "        vertical-align: top;\n",
              "    }\n",
              "\n",
              "    .dataframe thead th {\n",
              "        text-align: right;\n",
              "    }\n",
              "</style>\n",
              "<table border=\"1\" class=\"dataframe\">\n",
              "  <thead>\n",
              "    <tr style=\"text-align: right;\">\n",
              "      <th></th>\n",
              "      <th>links</th>\n",
              "      <th>labels</th>\n",
              "    </tr>\n",
              "  </thead>\n",
              "  <tbody>\n",
              "    <tr>\n",
              "      <th>0</th>\n",
              "      <td>&lt;meta content=\"https://s3.amazonaws.com/havenl...</td>\n",
              "      <td>&lt;meta content=\"Classic, Traditional Bedroom De...</td>\n",
              "    </tr>\n",
              "    <tr>\n",
              "      <th>1</th>\n",
              "      <td>&lt;meta content=\"https://s3.amazonaws.com/havenl...</td>\n",
              "      <td>&lt;meta content=\"Modern, Bohemian, Glam Bedroom ...</td>\n",
              "    </tr>\n",
              "    <tr>\n",
              "      <th>2</th>\n",
              "      <td>&lt;meta content=\"https://s3.amazonaws.com/havenl...</td>\n",
              "      <td>&lt;meta content=\"Modern, Bohemian, Glam Bedroom ...</td>\n",
              "    </tr>\n",
              "    <tr>\n",
              "      <th>3</th>\n",
              "      <td>&lt;meta content=\"https://s3.amazonaws.com/havenl...</td>\n",
              "      <td>&lt;meta content=\"Farmhouse, Transitional Nursery...</td>\n",
              "    </tr>\n",
              "    <tr>\n",
              "      <th>4</th>\n",
              "      <td>&lt;meta content=\"https://s3.amazonaws.com/havenl...</td>\n",
              "      <td>&lt;meta content=\"Online Interior Design And Home...</td>\n",
              "    </tr>\n",
              "  </tbody>\n",
              "</table>\n",
              "</div>"
            ],
            "text/plain": [
              "                                               links                                             labels\n",
              "0  <meta content=\"https://s3.amazonaws.com/havenl...  <meta content=\"Classic, Traditional Bedroom De...\n",
              "1  <meta content=\"https://s3.amazonaws.com/havenl...  <meta content=\"Modern, Bohemian, Glam Bedroom ...\n",
              "2  <meta content=\"https://s3.amazonaws.com/havenl...  <meta content=\"Modern, Bohemian, Glam Bedroom ...\n",
              "3  <meta content=\"https://s3.amazonaws.com/havenl...  <meta content=\"Farmhouse, Transitional Nursery...\n",
              "4  <meta content=\"https://s3.amazonaws.com/havenl...  <meta content=\"Online Interior Design And Home..."
            ]
          },
          "metadata": {
            "tags": []
          },
          "execution_count": 4
        }
      ]
    },
    {
      "cell_type": "markdown",
      "metadata": {
        "id": "yd4rpedtIua4",
        "colab_type": "text"
      },
      "source": [
        "**It consists of two columns:**\n",
        "\n",
        "*   Links : the links for dowloading images \n",
        "*   Labels : the labels associated with the images (both single and multi-label)\n",
        "\n",
        "**This dataframe was created after webscraping the metadata from [Havenly's website](https://havenly.com/interior-design-style-quiz)**"
      ]
    },
    {
      "cell_type": "markdown",
      "metadata": {
        "id": "N3MZWN482v0c",
        "colab_type": "text"
      },
      "source": [
        "## Data Cleaning"
      ]
    },
    {
      "cell_type": "markdown",
      "metadata": {
        "id": "6WqtytswJvjs",
        "colab_type": "text"
      },
      "source": [
        "At first we shall split the strings in 'links' column based on \" , so that we are left only with website links in the column  "
      ]
    },
    {
      "cell_type": "code",
      "metadata": {
        "id": "RuwGAcFbt4Dq",
        "colab_type": "code",
        "colab": {}
      },
      "source": [
        "for i in range(len(data['links'])):\n",
        "  data['links'][i] = data['links'][i].split('\"')[1]"
      ],
      "execution_count": 0,
      "outputs": []
    },
    {
      "cell_type": "markdown",
      "metadata": {
        "id": "tvL-81kNJ_wt",
        "colab_type": "text"
      },
      "source": [
        "We check if a 'NaN' is created or not due to above changes"
      ]
    },
    {
      "cell_type": "code",
      "metadata": {
        "id": "eI2MvMWJuTN_",
        "colab_type": "code",
        "outputId": "fa375d58-24b7-4a28-e5be-fb20a08ca234",
        "colab": {
          "base_uri": "https://localhost:8080/",
          "height": 34
        }
      },
      "source": [
        "data['links'].isna().sum()"
      ],
      "execution_count": 6,
      "outputs": [
        {
          "output_type": "execute_result",
          "data": {
            "text/plain": [
              "0"
            ]
          },
          "metadata": {
            "tags": []
          },
          "execution_count": 6
        }
      ]
    },
    {
      "cell_type": "markdown",
      "metadata": {
        "id": "01WYSVsZKQO4",
        "colab_type": "text"
      },
      "source": [
        "Now we directly remove unnecessary informations from the dataframe.\n",
        "**First**, the website links in 'links' column which doesn't contains any image. These have 'no-image.png' mentioned in their links. We search them and append those row indices in a list.\n",
        "**Second**, the labels in 'label' column which doesn't points to any label for its corresponding image. They are simply named as 'Online Interior Design And Home Inspiration | Havenly'. We search them and append their row indices too to the same list."
      ]
    },
    {
      "cell_type": "code",
      "metadata": {
        "id": "_7KtqS6huUb7",
        "colab_type": "code",
        "outputId": "f456d0ff-a473-404d-b31f-fe8f2e123535",
        "colab": {
          "base_uri": "https://localhost:8080/",
          "height": 34
        }
      },
      "source": [
        "indices=[]\n",
        "for i in range(len(data['links'])):\n",
        "  if data['links'][i].find('no-image.png') > -1:\n",
        "    indices.append(i)\n",
        "  if data['labels'][i].find('Online Interior Design And Home Inspiration | Havenly') > -1:\n",
        "    indices.append(i)\n",
        "print(len(indices))"
      ],
      "execution_count": 7,
      "outputs": [
        {
          "output_type": "stream",
          "text": [
            "3193\n"
          ],
          "name": "stdout"
        }
      ]
    },
    {
      "cell_type": "markdown",
      "metadata": {
        "id": "7hGCwlJAL2W4",
        "colab_type": "text"
      },
      "source": [
        "3193 such rows!!"
      ]
    },
    {
      "cell_type": "markdown",
      "metadata": {
        "id": "eyPwvqmIL6Bi",
        "colab_type": "text"
      },
      "source": [
        "We drop these indices directly from the dataframe and assign the dataframe to new one"
      ]
    },
    {
      "cell_type": "code",
      "metadata": {
        "id": "Hqx2_BHUvaob",
        "colab_type": "code",
        "colab": {}
      },
      "source": [
        "data_drop =data.drop(indices, axis=0)"
      ],
      "execution_count": 0,
      "outputs": []
    },
    {
      "cell_type": "markdown",
      "metadata": {
        "id": "uzWDmwUNMCk4",
        "colab_type": "text"
      },
      "source": [
        "As the indices remains as earlier, so we reset the indices to newly created one"
      ]
    },
    {
      "cell_type": "code",
      "metadata": {
        "id": "V9UVAO2r6qb_",
        "colab_type": "code",
        "colab": {}
      },
      "source": [
        "data_drop = data_drop.reset_index(drop=True)"
      ],
      "execution_count": 0,
      "outputs": []
    },
    {
      "cell_type": "markdown",
      "metadata": {
        "id": "3vBdBSm0MSMG",
        "colab_type": "text"
      },
      "source": [
        "**Let's see the new cleaner dataframe**"
      ]
    },
    {
      "cell_type": "code",
      "metadata": {
        "id": "nabAEpKtzu2N",
        "colab_type": "code",
        "outputId": "6e068754-ca6f-41cf-eaed-0bd3813cdbeb",
        "colab": {
          "base_uri": "https://localhost:8080/",
          "height": 204
        }
      },
      "source": [
        "data_drop.head()"
      ],
      "execution_count": 10,
      "outputs": [
        {
          "output_type": "execute_result",
          "data": {
            "text/html": [
              "<div>\n",
              "<style scoped>\n",
              "    .dataframe tbody tr th:only-of-type {\n",
              "        vertical-align: middle;\n",
              "    }\n",
              "\n",
              "    .dataframe tbody tr th {\n",
              "        vertical-align: top;\n",
              "    }\n",
              "\n",
              "    .dataframe thead th {\n",
              "        text-align: right;\n",
              "    }\n",
              "</style>\n",
              "<table border=\"1\" class=\"dataframe\">\n",
              "  <thead>\n",
              "    <tr style=\"text-align: right;\">\n",
              "      <th></th>\n",
              "      <th>links</th>\n",
              "      <th>labels</th>\n",
              "    </tr>\n",
              "  </thead>\n",
              "  <tbody>\n",
              "    <tr>\n",
              "      <th>0</th>\n",
              "      <td>https://s3.amazonaws.com/havenly-uploads/prod/...</td>\n",
              "      <td>&lt;meta content=\"Classic, Traditional Bedroom De...</td>\n",
              "    </tr>\n",
              "    <tr>\n",
              "      <th>1</th>\n",
              "      <td>https://s3.amazonaws.com/havenly-uploads/prod/...</td>\n",
              "      <td>&lt;meta content=\"Modern, Bohemian, Glam Bedroom ...</td>\n",
              "    </tr>\n",
              "    <tr>\n",
              "      <th>2</th>\n",
              "      <td>https://s3.amazonaws.com/havenly-uploads/prod/...</td>\n",
              "      <td>&lt;meta content=\"Modern, Bohemian, Glam Bedroom ...</td>\n",
              "    </tr>\n",
              "    <tr>\n",
              "      <th>3</th>\n",
              "      <td>https://s3.amazonaws.com/havenly-uploads/prod/...</td>\n",
              "      <td>&lt;meta content=\"Farmhouse, Transitional Nursery...</td>\n",
              "    </tr>\n",
              "    <tr>\n",
              "      <th>4</th>\n",
              "      <td>https://s3.amazonaws.com/havenly-uploads/prod/...</td>\n",
              "      <td>&lt;meta content=\"Transitional Living Room Design...</td>\n",
              "    </tr>\n",
              "  </tbody>\n",
              "</table>\n",
              "</div>"
            ],
            "text/plain": [
              "                                               links                                             labels\n",
              "0  https://s3.amazonaws.com/havenly-uploads/prod/...  <meta content=\"Classic, Traditional Bedroom De...\n",
              "1  https://s3.amazonaws.com/havenly-uploads/prod/...  <meta content=\"Modern, Bohemian, Glam Bedroom ...\n",
              "2  https://s3.amazonaws.com/havenly-uploads/prod/...  <meta content=\"Modern, Bohemian, Glam Bedroom ...\n",
              "3  https://s3.amazonaws.com/havenly-uploads/prod/...  <meta content=\"Farmhouse, Transitional Nursery...\n",
              "4  https://s3.amazonaws.com/havenly-uploads/prod/...  <meta content=\"Transitional Living Room Design..."
            ]
          },
          "metadata": {
            "tags": []
          },
          "execution_count": 10
        }
      ]
    },
    {
      "cell_type": "markdown",
      "metadata": {
        "id": "V7r6zXys20c-",
        "colab_type": "text"
      },
      "source": [
        "**Still not over. Lets clean the 'labels' column.** \n",
        "\n",
        "Let's first understand the labelling style. \n",
        "\n",
        "Ex : meta content=\"Modern, Bohemian, Glam Bedroom Design by Havenly Interior Designer Katrina\" property=\"og:title\n",
        "\n",
        "We see inside \" \", the data is mentioned in structure **Design Label(s)**--**Type of rooms**--**Designer info**. \n",
        "As we notice that several images have multiple labels so we need to keep them in our dataframe. Keeping 'type of rooms' information for our classification challenge demands decision out of  domain knowledge; for now we remove it. Finally the designer's information is completely not required; hence removed. \n",
        "\n",
        "Apart from this there are few 'labels' which contains just designer's information, for ex: meta content=\"Design by Havenly Interior Designer Erin\" property=\"og:title\"/ . As they are the shortest in length, we remove them first."
      ]
    },
    {
      "cell_type": "markdown",
      "metadata": {
        "id": "gjMtEXRgPGeO",
        "colab_type": "text"
      },
      "source": [
        "This is the list of all labels provided in the metadata."
      ]
    },
    {
      "cell_type": "code",
      "metadata": {
        "id": "W8hdRPh5XRAe",
        "colab_type": "code",
        "colab": {}
      },
      "source": [
        "all_labels = ['Classic','Modern','Glam','Industrial','Traditional', 'Coastal', 'Global', 'Preppy','Rustic',\n",
        "                'Transitional','Farmhouse','Bohemian', 'Midcentury','Scandinavian','Eclectic','Minimal']"
      ],
      "execution_count": 0,
      "outputs": []
    },
    {
      "cell_type": "markdown",
      "metadata": {
        "id": "6tw_xBF6PPB8",
        "colab_type": "text"
      },
      "source": [
        "As mentioned above, we clean our dataframe accordingly"
      ]
    },
    {
      "cell_type": "code",
      "metadata": {
        "id": "X03WrC3w5ij3",
        "colab_type": "code",
        "colab": {}
      },
      "source": [
        "import re\n",
        "for i in range(len(data_drop['labels'])):\n",
        "  if len(re.findall(r\"[\\w']+\", data_drop['labels'][i]))<12: \n",
        "    data_drop.drop(i, axis=0)  # We drop the designer's info only rows \n",
        "  else:\n",
        "    data_drop['labels'][i] = re.findall(r\"[\\w']+\", data_drop['labels'][i])[2:-9] # we remove the designers info and begin/end words\n",
        "    data_drop['labels'][i] = [label for label in data_drop['labels'][i] if label in all_labels] # we remove room info by chosing words from labels provided\n",
        "    data_drop['labels'][i] = \", \".join(str(label) for label in data_drop['labels'][i]) # we change remove the brackets of the lists"
      ],
      "execution_count": 0,
      "outputs": []
    },
    {
      "cell_type": "markdown",
      "metadata": {
        "id": "F57g9WqpR2CA",
        "colab_type": "text"
      },
      "source": [
        "We check if a 'NaN' is created or not due to above changes"
      ]
    },
    {
      "cell_type": "code",
      "metadata": {
        "id": "1Ve7nIMOgNqY",
        "colab_type": "code",
        "outputId": "f7452c5d-ff38-4594-846c-e3c942c61974",
        "colab": {
          "base_uri": "https://localhost:8080/",
          "height": 68
        }
      },
      "source": [
        "data_drop.isna().sum() "
      ],
      "execution_count": 13,
      "outputs": [
        {
          "output_type": "execute_result",
          "data": {
            "text/plain": [
              "links     0\n",
              "labels    0\n",
              "dtype: int64"
            ]
          },
          "metadata": {
            "tags": []
          },
          "execution_count": 13
        }
      ]
    },
    {
      "cell_type": "markdown",
      "metadata": {
        "id": "ILZjU0h4R7Fy",
        "colab_type": "text"
      },
      "source": [
        "Let's see the final cleaner dataframe"
      ]
    },
    {
      "cell_type": "code",
      "metadata": {
        "id": "RHgh4qkaKnq5",
        "colab_type": "code",
        "outputId": "2feced78-17ce-45fa-c9b7-da0ff2b18631",
        "colab": {
          "base_uri": "https://localhost:8080/",
          "height": 359
        }
      },
      "source": [
        "data_drop.head(10)"
      ],
      "execution_count": 14,
      "outputs": [
        {
          "output_type": "execute_result",
          "data": {
            "text/html": [
              "<div>\n",
              "<style scoped>\n",
              "    .dataframe tbody tr th:only-of-type {\n",
              "        vertical-align: middle;\n",
              "    }\n",
              "\n",
              "    .dataframe tbody tr th {\n",
              "        vertical-align: top;\n",
              "    }\n",
              "\n",
              "    .dataframe thead th {\n",
              "        text-align: right;\n",
              "    }\n",
              "</style>\n",
              "<table border=\"1\" class=\"dataframe\">\n",
              "  <thead>\n",
              "    <tr style=\"text-align: right;\">\n",
              "      <th></th>\n",
              "      <th>links</th>\n",
              "      <th>labels</th>\n",
              "    </tr>\n",
              "  </thead>\n",
              "  <tbody>\n",
              "    <tr>\n",
              "      <th>0</th>\n",
              "      <td>https://s3.amazonaws.com/havenly-uploads/prod/...</td>\n",
              "      <td>Classic, Traditional</td>\n",
              "    </tr>\n",
              "    <tr>\n",
              "      <th>1</th>\n",
              "      <td>https://s3.amazonaws.com/havenly-uploads/prod/...</td>\n",
              "      <td>Modern, Bohemian, Glam</td>\n",
              "    </tr>\n",
              "    <tr>\n",
              "      <th>2</th>\n",
              "      <td>https://s3.amazonaws.com/havenly-uploads/prod/...</td>\n",
              "      <td>Modern, Bohemian, Glam</td>\n",
              "    </tr>\n",
              "    <tr>\n",
              "      <th>3</th>\n",
              "      <td>https://s3.amazonaws.com/havenly-uploads/prod/...</td>\n",
              "      <td>Farmhouse, Transitional</td>\n",
              "    </tr>\n",
              "    <tr>\n",
              "      <th>4</th>\n",
              "      <td>https://s3.amazonaws.com/havenly-uploads/prod/...</td>\n",
              "      <td>Transitional</td>\n",
              "    </tr>\n",
              "    <tr>\n",
              "      <th>5</th>\n",
              "      <td>https://s3.amazonaws.com/havenly-uploads/prod/...</td>\n",
              "      <td>Coastal, Traditional</td>\n",
              "    </tr>\n",
              "    <tr>\n",
              "      <th>6</th>\n",
              "      <td>https://s3.amazonaws.com/havenly-uploads/prod/...</td>\n",
              "      <td>Farmhouse, Transitional</td>\n",
              "    </tr>\n",
              "    <tr>\n",
              "      <th>7</th>\n",
              "      <td>https://s3.amazonaws.com/havenly-uploads/prod/...</td>\n",
              "      <td>Glam</td>\n",
              "    </tr>\n",
              "    <tr>\n",
              "      <th>8</th>\n",
              "      <td>https://s3.amazonaws.com/havenly-uploads/prod/...</td>\n",
              "      <td>Glam</td>\n",
              "    </tr>\n",
              "    <tr>\n",
              "      <th>9</th>\n",
              "      <td>https://s3.amazonaws.com/havenly-uploads/prod/...</td>\n",
              "      <td>Classic, Eclectic</td>\n",
              "    </tr>\n",
              "  </tbody>\n",
              "</table>\n",
              "</div>"
            ],
            "text/plain": [
              "                                               links                   labels\n",
              "0  https://s3.amazonaws.com/havenly-uploads/prod/...     Classic, Traditional\n",
              "1  https://s3.amazonaws.com/havenly-uploads/prod/...   Modern, Bohemian, Glam\n",
              "2  https://s3.amazonaws.com/havenly-uploads/prod/...   Modern, Bohemian, Glam\n",
              "3  https://s3.amazonaws.com/havenly-uploads/prod/...  Farmhouse, Transitional\n",
              "4  https://s3.amazonaws.com/havenly-uploads/prod/...             Transitional\n",
              "5  https://s3.amazonaws.com/havenly-uploads/prod/...     Coastal, Traditional\n",
              "6  https://s3.amazonaws.com/havenly-uploads/prod/...  Farmhouse, Transitional\n",
              "7  https://s3.amazonaws.com/havenly-uploads/prod/...                     Glam\n",
              "8  https://s3.amazonaws.com/havenly-uploads/prod/...                     Glam\n",
              "9  https://s3.amazonaws.com/havenly-uploads/prod/...        Classic, Eclectic"
            ]
          },
          "metadata": {
            "tags": []
          },
          "execution_count": 14
        }
      ]
    },
    {
      "cell_type": "markdown",
      "metadata": {
        "id": "jGP-NP8YR-ju",
        "colab_type": "text"
      },
      "source": [
        "The number of rows reduced after further cleaning"
      ]
    },
    {
      "cell_type": "code",
      "metadata": {
        "id": "VZYB6e9vcutE",
        "colab_type": "code",
        "outputId": "f7534c94-d19a-4492-99ec-6ce14bd9947b",
        "colab": {
          "base_uri": "https://localhost:8080/",
          "height": 34
        }
      },
      "source": [
        "len(data),len(data_drop)"
      ],
      "execution_count": 15,
      "outputs": [
        {
          "output_type": "execute_result",
          "data": {
            "text/plain": [
              "(24466, 21273)"
            ]
          },
          "metadata": {
            "tags": []
          },
          "execution_count": 15
        }
      ]
    },
    {
      "cell_type": "markdown",
      "metadata": {
        "id": "Cn3Nv6rbSGtO",
        "colab_type": "text"
      },
      "source": [
        "The unique grouping of multiple labels reduced significantly"
      ]
    },
    {
      "cell_type": "code",
      "metadata": {
        "id": "-rDATiercKB5",
        "colab_type": "code",
        "outputId": "0a4948b6-b984-4887-a40e-f1b46a9ba781",
        "colab": {
          "base_uri": "https://localhost:8080/",
          "height": 34
        }
      },
      "source": [
        "data['labels'].nunique(),data_drop['labels'].nunique()"
      ],
      "execution_count": 16,
      "outputs": [
        {
          "output_type": "execute_result",
          "data": {
            "text/plain": [
              "(9570, 773)"
            ]
          },
          "metadata": {
            "tags": []
          },
          "execution_count": 16
        }
      ]
    },
    {
      "cell_type": "markdown",
      "metadata": {
        "id": "27YPODg-a6wv",
        "colab_type": "text"
      },
      "source": [
        "## Replace links with serial image numbers"
      ]
    },
    {
      "cell_type": "code",
      "metadata": {
        "id": "LSyk4c0ObHjv",
        "colab_type": "code",
        "colab": {}
      },
      "source": [
        "# Create a directory to load images\n",
        "os.mkdir('Data/train_images')"
      ],
      "execution_count": 0,
      "outputs": []
    },
    {
      "cell_type": "markdown",
      "metadata": {
        "id": "umjzxr7IbpEE",
        "colab_type": "text"
      },
      "source": [
        "Download the images via provided links in 'links' column and save it in data folder"
      ]
    },
    {
      "cell_type": "code",
      "metadata": {
        "id": "pWBRGOer0_i9",
        "colab_type": "code",
        "colab": {
          "base_uri": "https://localhost:8080/",
          "height": 153
        },
        "outputId": "569b0a4c-d138-4bb0-df03-4355a936da5e"
      },
      "source": [
        "# install wget\n",
        "!pip install wget"
      ],
      "execution_count": 18,
      "outputs": [
        {
          "output_type": "stream",
          "text": [
            "Collecting wget\n",
            "  Downloading https://files.pythonhosted.org/packages/47/6a/62e288da7bcda82b935ff0c6cfe542970f04e29c756b0e147251b2fb251f/wget-3.2.zip\n",
            "Building wheels for collected packages: wget\n",
            "  Building wheel for wget (setup.py) ... \u001b[?25l\u001b[?25hdone\n",
            "  Stored in directory: /root/.cache/pip/wheels/40/15/30/7d8f7cea2902b4db79e3fea550d7d7b85ecb27ef992b618f3f\n",
            "Successfully built wget\n",
            "Installing collected packages: wget\n",
            "Successfully installed wget-3.2\n"
          ],
          "name": "stdout"
        }
      ]
    },
    {
      "cell_type": "code",
      "metadata": {
        "id": "fDxAKu-AbNSc",
        "colab_type": "code",
        "colab": {}
      },
      "source": [
        "# Define the dowloader function\n",
        "import wget\n",
        "from tqdm import tqdm\n",
        "\n",
        "def download_images():\n",
        "  for i in tqdm(range(len(data_drop))):\n",
        "    url = data_drop['links'][i]\n",
        "    wget.download(url, 'Data/train_images/img'+str(i)+'.jpg')"
      ],
      "execution_count": 0,
      "outputs": []
    },
    {
      "cell_type": "code",
      "metadata": {
        "id": "B2OBtYvYgE58",
        "colab_type": "code",
        "colab": {}
      },
      "source": [
        "# Call the downloader function\n",
        "download_images()"
      ],
      "execution_count": 0,
      "outputs": []
    },
    {
      "cell_type": "markdown",
      "metadata": {
        "id": "l0_NyqQ7b8kU",
        "colab_type": "text"
      },
      "source": [
        "Create a final 'ready to work with' dataframe"
      ]
    },
    {
      "cell_type": "code",
      "metadata": {
        "id": "HCsP5iyhbgvo",
        "colab_type": "code",
        "colab": {
          "base_uri": "https://localhost:8080/",
          "height": 204
        },
        "outputId": "4fe0da7a-08b6-4a87-8212-f4ee3bfd655f"
      },
      "source": [
        "image_name = ['img'+str(i)+'.jpg' for i in range(len(data_drop))]\n",
        "final_data = pd.DataFrame(columns=['images', 'class'])\n",
        "final_data['images'] = image_name\n",
        "final_data['class'] = data_drop['labels']\n",
        "final_data.head()"
      ],
      "execution_count": 21,
      "outputs": [
        {
          "output_type": "execute_result",
          "data": {
            "text/html": [
              "<div>\n",
              "<style scoped>\n",
              "    .dataframe tbody tr th:only-of-type {\n",
              "        vertical-align: middle;\n",
              "    }\n",
              "\n",
              "    .dataframe tbody tr th {\n",
              "        vertical-align: top;\n",
              "    }\n",
              "\n",
              "    .dataframe thead th {\n",
              "        text-align: right;\n",
              "    }\n",
              "</style>\n",
              "<table border=\"1\" class=\"dataframe\">\n",
              "  <thead>\n",
              "    <tr style=\"text-align: right;\">\n",
              "      <th></th>\n",
              "      <th>images</th>\n",
              "      <th>class</th>\n",
              "    </tr>\n",
              "  </thead>\n",
              "  <tbody>\n",
              "    <tr>\n",
              "      <th>0</th>\n",
              "      <td>img0.jpg</td>\n",
              "      <td>Classic, Traditional</td>\n",
              "    </tr>\n",
              "    <tr>\n",
              "      <th>1</th>\n",
              "      <td>img1.jpg</td>\n",
              "      <td>Modern, Bohemian, Glam</td>\n",
              "    </tr>\n",
              "    <tr>\n",
              "      <th>2</th>\n",
              "      <td>img2.jpg</td>\n",
              "      <td>Modern, Bohemian, Glam</td>\n",
              "    </tr>\n",
              "    <tr>\n",
              "      <th>3</th>\n",
              "      <td>img3.jpg</td>\n",
              "      <td>Farmhouse, Transitional</td>\n",
              "    </tr>\n",
              "    <tr>\n",
              "      <th>4</th>\n",
              "      <td>img4.jpg</td>\n",
              "      <td>Transitional</td>\n",
              "    </tr>\n",
              "  </tbody>\n",
              "</table>\n",
              "</div>"
            ],
            "text/plain": [
              "     images                    class\n",
              "0  img0.jpg     Classic, Traditional\n",
              "1  img1.jpg   Modern, Bohemian, Glam\n",
              "2  img2.jpg   Modern, Bohemian, Glam\n",
              "3  img3.jpg  Farmhouse, Transitional\n",
              "4  img4.jpg             Transitional"
            ]
          },
          "metadata": {
            "tags": []
          },
          "execution_count": 21
        }
      ]
    },
    {
      "cell_type": "markdown",
      "metadata": {
        "id": "xvTVNoheebfs",
        "colab_type": "text"
      },
      "source": [
        "## Export the data folder to drive"
      ]
    },
    {
      "cell_type": "code",
      "metadata": {
        "id": "EW4UrK_HebIP",
        "colab_type": "code",
        "colab": {}
      },
      "source": [
        "!cp -r 'Data/train_images/.' 'drive/My Drive/fellowship/train_images' "
      ],
      "execution_count": 0,
      "outputs": []
    },
    {
      "cell_type": "markdown",
      "metadata": {
        "id": "dSNPan5uSTar",
        "colab_type": "text"
      },
      "source": [
        "## Export the dataframe to drive"
      ]
    },
    {
      "cell_type": "code",
      "metadata": {
        "id": "xaYAyxRCpSBC",
        "colab_type": "code",
        "colab": {}
      },
      "source": [
        "data_drop.to_csv('drive/My Drive/ready_data.csv', index=False)"
      ],
      "execution_count": 0,
      "outputs": []
    }
  ]
}