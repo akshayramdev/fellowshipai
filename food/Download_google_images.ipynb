{
  "nbformat": 4,
  "nbformat_minor": 0,
  "metadata": {
    "colab": {
      "name": "download_imagesV3.ipynb",
      "version": "0.3.2",
      "provenance": [],
      "collapsed_sections": [
        "HFGJrzEDE3re",
        "kpb-QrmwE9KH"
      ],
      "toc_visible": true
    },
    "language_info": {
      "codemirror_mode": {
        "name": "ipython",
        "version": 3
      },
      "file_extension": ".py",
      "mimetype": "text/x-python",
      "name": "python",
      "nbconvert_exporter": "python",
      "pygments_lexer": "ipython3",
      "version": "3.6.8"
    },
    "kernelspec": {
      "display_name": "Python 3",
      "language": "python",
      "name": "python3"
    },
    "accelerator": "GPU"
  },
  "cells": [
    {
      "cell_type": "markdown",
      "metadata": {
        "id": "HlMNj_97DU3c",
        "colab_type": "text"
      },
      "source": [
        "# Download Google Images"
      ]
    },
    {
      "cell_type": "markdown",
      "metadata": {
        "id": "17YREcR9DU3f",
        "colab_type": "text"
      },
      "source": [
        "In this notebook crawling google images for a combination of labels (classes) of the food-teuko and ranker dataset.  \n",
        "Because crawling a lot of images for each random combination of food would take a long time and because the resulting images for very unusual combinations of food wont' be that useful, we first create a list of the most likely good multilabel foods by comparing them to a dataset containing >400k restaurant dishes."
      ]
    },
    {
      "cell_type": "markdown",
      "metadata": {
        "colab_type": "text",
        "id": "HFGJrzEDE3re"
      },
      "source": [
        "#### Setup"
      ]
    },
    {
      "cell_type": "code",
      "metadata": {
        "colab_type": "code",
        "id": "ckLDPxhaE8EP",
        "outputId": "9bc09b56-9322-4d26-b3ab-0234af883a96",
        "colab": {
          "base_uri": "https://localhost:8080/",
          "height": 255
        }
      },
      "source": [
        "!pip install google_images_download\n",
        "from google.colab import drive\n",
        "from google_images_download import google_images_download\n",
        "from pathlib import Path\n",
        "import pandas as pd\n",
        "import os\n",
        "from fastai.vision import verify_images\n",
        "import requests\n",
        "from bs4 import BeautifulSoup\n",
        "from multiprocessing.pool import ThreadPool\n",
        "import tqdm\n",
        "from google.colab import auth"
      ],
      "execution_count": 0,
      "outputs": [
        {
          "output_type": "stream",
          "text": [
            "Collecting google_images_download\n",
            "  Downloading https://files.pythonhosted.org/packages/a5/a7/1dc0de31c24d6b93469f46d743f36a7f51406d4e452690706ac5be2a5eab/google_images_download-2.7.1.tar.gz\n",
            "Collecting selenium (from google_images_download)\n",
            "\u001b[?25l  Downloading https://files.pythonhosted.org/packages/80/d6/4294f0b4bce4de0abf13e17190289f9d0613b0a44e5dd6a7f5ca98459853/selenium-3.141.0-py2.py3-none-any.whl (904kB)\n",
            "\u001b[K     |████████████████████████████████| 911kB 43.9MB/s \n",
            "\u001b[?25hRequirement already satisfied: urllib3 in /usr/local/lib/python3.6/dist-packages (from selenium->google_images_download) (1.24.3)\n",
            "Building wheels for collected packages: google-images-download\n",
            "  Building wheel for google-images-download (setup.py) ... \u001b[?25l\u001b[?25hdone\n",
            "  Stored in directory: /root/.cache/pip/wheels/22/f3/7b/d1d7a18d9784458622ef3f9702c0bdbc179b431adde169c1a0\n",
            "Successfully built google-images-download\n",
            "Installing collected packages: selenium, google-images-download\n",
            "Successfully installed google-images-download-2.7.1 selenium-3.141.0\n"
          ],
          "name": "stdout"
        }
      ]
    },
    {
      "cell_type": "markdown",
      "metadata": {
        "colab_type": "text",
        "id": "_krq2zbvE8nm"
      },
      "source": [
        "mount gdrive\n"
      ]
    },
    {
      "cell_type": "code",
      "metadata": {
        "id": "5O26deAlmt3L",
        "colab_type": "code",
        "outputId": "9527243d-ec4a-4ffb-e05f-3005d396559f",
        "colab": {
          "base_uri": "https://localhost:8080/",
          "height": 128
        }
      },
      "source": [
        "\n",
        "auth.authenticate_user()\n",
        "drive.mount('/content/gdrive')"
      ],
      "execution_count": 0,
      "outputs": [
        {
          "output_type": "stream",
          "text": [
            "Go to this URL in a browser: https://accounts.google.com/o/oauth2/auth?client_id=947318989803-6bn6qk8qdgf4n4g3pfee6491hc0brc4i.apps.googleusercontent.com&redirect_uri=urn%3Aietf%3Awg%3Aoauth%3A2.0%3Aoob&scope=email%20https%3A%2F%2Fwww.googleapis.com%2Fauth%2Fdocs.test%20https%3A%2F%2Fwww.googleapis.com%2Fauth%2Fdrive%20https%3A%2F%2Fwww.googleapis.com%2Fauth%2Fdrive.photos.readonly%20https%3A%2F%2Fwww.googleapis.com%2Fauth%2Fpeopleapi.readonly&response_type=code\n",
            "\n",
            "Enter your authorization code:\n",
            "··········\n",
            "Mounted at /content/gdrive\n"
          ],
          "name": "stdout"
        }
      ]
    },
    {
      "cell_type": "markdown",
      "metadata": {
        "id": "SP6XqaW82Vyf",
        "colab_type": "text"
      },
      "source": [
        "input parameters"
      ]
    },
    {
      "cell_type": "code",
      "metadata": {
        "colab_type": "code",
        "id": "z1N2fezxE87v",
        "colab": {}
      },
      "source": [
        "\n",
        "path = Path('data/')\n",
        "teuko_fn = 'teuko_classes.txt'   #labels for Teuko\n",
        "ranker_fn = 'ranker_classes.txt' #labels for Ranker\n",
        "dish_fn = 'Dish.csv'             #menu dataset\n",
        "down_path_single = path/'googleimg_single'  # Directory where single images will be downloaded\n",
        "down_path_double = path/'googleimg_double'  # Directory where doube images will be downloaded\n",
        "num_single = 100                 #number of images to download for each single lable\n",
        "num_double = 100                 #number of images to download for each double lable\n",
        "label_fname_single = 'googleimg_labels_single'\n",
        "label_fname_double = 'googleimg_labels_double'\n",
        "cutoff_total = 100\n",
        "cutoff_ratio = 0.005"
      ],
      "execution_count": 0,
      "outputs": []
    },
    {
      "cell_type": "markdown",
      "metadata": {
        "colab_type": "text",
        "id": "kpb-QrmwE9KH"
      },
      "source": [
        "### Data Import\n",
        "**Create directories and import data**"
      ]
    },
    {
      "cell_type": "code",
      "metadata": {
        "id": "Tvbz5JBhDU3_",
        "colab_type": "code",
        "colab": {}
      },
      "source": [
        "path.mkdir(parents=True, exist_ok=True)\n",
        "down_path_single.mkdir(parents=True, exist_ok=True)\n",
        "down_path_double.mkdir(parents=True, exist_ok=True)\n",
        "! gsutil -m -q cp -r gs://platform-ai-research/datasets/food/{teuko_fn} {path}\n",
        "! gsutil -m -q cp -r gs://platform-ai-research/datasets/food/{ranker_fn} {path}  \n",
        "! gsutil -m -q cp -r gs://platform-ai-research/datasets/food/{dish_fn} {path}  "
      ],
      "execution_count": 0,
      "outputs": []
    },
    {
      "cell_type": "markdown",
      "metadata": {
        "id": "mGHAdC_hDU4D",
        "colab_type": "text"
      },
      "source": [
        "###Data Processing\n",
        "\n",
        "**Create class lists**\n",
        "\n",
        "\n"
      ]
    },
    {
      "cell_type": "markdown",
      "metadata": {
        "id": "O_q7DfGy6Yxt",
        "colab_type": "text"
      },
      "source": [
        "classes are taken for google image search from the following sources:\n",
        "*   teuko dataset (98 classes)\n",
        "*  ranker dataset (388 classes)\n",
        "\n",
        "A unique set of classes is then created with the lowercase version of the 2 datasets"
      ]
    },
    {
      "cell_type": "code",
      "metadata": {
        "colab_type": "code",
        "id": "2UV6X3RXE9ZW",
        "outputId": "0d2c7086-3b85-494d-90d9-c3c4f9c9c27c",
        "colab": {
          "base_uri": "https://localhost:8080/",
          "height": 126
        }
      },
      "source": [
        "teuko = list(pd.read_csv(path/teuko_fn, sep='\\t', header = None)[0])\n",
        "teuko_lower = [x.lower() for x in teuko]\n",
        "ranker = list(pd.read_csv(path/ranker_fn,  sep='\\t', header = None, encoding = 'latin1' )[0])\n",
        "ranker_lower=[x.lower() for x in ranker]\n",
        "teuko_lower[:5], ranker_lower[:5]"
      ],
      "execution_count": 0,
      "outputs": [
        {
          "output_type": "execute_result",
          "data": {
            "text/plain": [
              "(['apple', 'apple slices', 'applesauce', 'asparagus', 'avocado dices'],\n",
              " ['chocolate chip cookies ',\n",
              "  'cheesecake ',\n",
              "  'bacon ',\n",
              "  'spaghetti ',\n",
              "  'cheeseburger '])"
            ]
          },
          "metadata": {
            "tags": []
          },
          "execution_count": 5
        }
      ]
    },
    {
      "cell_type": "markdown",
      "metadata": {
        "id": "Ae3U0WN-GCXx",
        "colab_type": "text"
      },
      "source": [
        "**Food product list for reference**\n",
        "\n",
        "A list of >400k restaurant items collected by NYPL is used to determine the existence/popularity of the double label food for google image search"
      ]
    },
    {
      "cell_type": "code",
      "metadata": {
        "id": "NKakM_BOF4a3",
        "colab_type": "code",
        "colab": {}
      },
      "source": [
        "food_database = pd.read_csv(path/dish_fn, error_bad_lines = False, usecols=['name'])\n",
        "food_list = food_database['name'].tolist()\n",
        "food_list_unique=list(set(food_list))\n",
        "food_list_lower = [x.lower().strip() for x in food_list_unique if type(x)==str]"
      ],
      "execution_count": 0,
      "outputs": []
    },
    {
      "cell_type": "markdown",
      "metadata": {
        "id": "JWBwt9Q8Gtvr",
        "colab_type": "text"
      },
      "source": [
        "Method to check for partial string matches in food product list"
      ]
    },
    {
      "cell_type": "code",
      "metadata": {
        "id": "4rUJv0Pco_Jr",
        "colab_type": "code",
        "colab": {}
      },
      "source": [
        "def countPartMatch(searchString1:str, searchlist:list, searchString2=\"\") -> int:\n",
        "  templist = [True for x in searchlist if searchString1 in x and searchString2 in x]\n",
        "  count = len(templist)\n",
        "  return count  "
      ],
      "execution_count": 0,
      "outputs": []
    },
    {
      "cell_type": "markdown",
      "metadata": {
        "id": "MQCYwSaYDU4v",
        "colab_type": "text"
      },
      "source": [
        "Loop through single classes to get base popularity in food list and reduce for double searchstrings if the food cannot be found\n"
      ]
    },
    {
      "cell_type": "code",
      "metadata": {
        "id": "KidSBveUDU4w",
        "colab_type": "code",
        "colab": {}
      },
      "source": [
        "classes_single_total = list(set(teuko_lower + ranker_lower))    \n",
        "single_results=[0]*len(classes_single_total)\n",
        "single_results = [countPartMatch(searchstring, food_list_lower,) for searchstring in classes_single_total]\n",
        "single_reduced_tp =[(x,single_results[y]) for y,x in enumerate(classes_single_total) if single_results[y] > 0]    "
      ],
      "execution_count": 0,
      "outputs": []
    },
    {
      "cell_type": "markdown",
      "metadata": {
        "id": "p6UW8A_euGHm",
        "colab_type": "text"
      },
      "source": [
        "Create list for double classes for image search based on single_reduced_tp (around 40min runtime)\n"
      ]
    },
    {
      "cell_type": "code",
      "metadata": {
        "id": "zhRATFKruByN",
        "colab_type": "code",
        "outputId": "c060bd89-dd61-46ef-e3a9-b9fc0f5114ff",
        "colab": {
          "base_uri": "https://localhost:8080/",
          "height": 35
        }
      },
      "source": [
        "double_result_tmp = []\n",
        "double_base = []\n",
        "double_classes = []\n",
        "double_perc= []\n",
        "\n",
        "for count in tqdm.tqdm(range(len(single_reduced_tp))):\n",
        "  if count < len(single_reduced_tp) -1:\n",
        "    result_temp = [(countPartMatch(single_reduced_tp[count][0], food_list_lower,tup2[0]),single_reduced_tp[count][-1]+tup2[-1],\n",
        "                    f'{single_reduced_tp[count][0]} and {tup2[0]}') for tup2 in single_reduced_tp[count+1:] if tup2[0] not in single_reduced_tp[count][0]\n",
        "                   and single_reduced_tp[count][0] not in tup2[0]]\n",
        "    double_result_tmp.append(result_temp)\n",
        "  else:\n",
        "    pass\n"
      ],
      "execution_count": 0,
      "outputs": [
        {
          "output_type": "stream",
          "text": [
            "100%|██████████| 372/372 [39:15<00:00,  6.33s/it]\n"
          ],
          "name": "stderr"
        }
      ]
    },
    {
      "cell_type": "markdown",
      "metadata": {
        "id": "KXWrTTOq2tmj",
        "colab_type": "text"
      },
      "source": [
        "Create dataframe with double classes, popularity and popularity as % of base"
      ]
    },
    {
      "cell_type": "code",
      "metadata": {
        "id": "SetaC3JODU44",
        "colab_type": "code",
        "colab": {}
      },
      "source": [
        "double_results_flat = [x for k in double_result_tmp for x in k]\n",
        "double_results=[]\n",
        "for x in double_results_flat:\n",
        "  double_base.append(x[1])\n",
        "  double_classes.append(x[-1])\n",
        "  double_results.append(x[0])\n",
        "  double_perc.append(x[0]/x[1])\n",
        "result_table = pd.DataFrame(list(zip(double_classes, double_results,double_perc)),\n",
        "                            columns=['double classes','double values', 'double % of base'])\n",
        "result_table = result_table.sort_values(by=['double values','double % of base'], ascending=[False,False])\n",
        "result_table = result_table.drop(result_table[(result_table['double % of base'] == 0)].index)\n",
        "\n"
      ],
      "execution_count": 0,
      "outputs": []
    },
    {
      "cell_type": "markdown",
      "metadata": {
        "id": "mfhhPhjPw5QY",
        "colab_type": "text"
      },
      "source": [
        "###Class selection\n",
        "**Visualize results and select promising double label candidates**\n"
      ]
    },
    {
      "cell_type": "code",
      "metadata": {
        "id": "2_EUlgRXw6fp",
        "colab_type": "code",
        "outputId": "51dbba72-3baa-4c36-eab4-f04ef82a7fa4",
        "colab": {
          "base_uri": "https://localhost:8080/",
          "height": 1399
        }
      },
      "source": [
        "print('best 20 combinations \\n')\n",
        "print(result_table[:20])\n",
        "print ('\\nworst 20 combinations')\n",
        "print(result_table[-20:])\n",
        "result_table.hist(column ='double values', bins=10)\n",
        "result_table.hist(column ='double % of base', bins=10)"
      ],
      "execution_count": 0,
      "outputs": [
        {
          "output_type": "stream",
          "text": [
            "best 20 combinations \n",
            "\n",
            "              double classes  double values  double % of base\n",
            "63564      chicken and salad           1791          0.050619\n",
            "23721       rice and chicken           1151          0.050676\n",
            "47942          ham and salad           1093          0.030610\n",
            "66264     salad and potatoes           1053          0.030862\n",
            "47931       ham and sandwich            951          0.041163\n",
            "47951           ham and eggs            930          0.038845\n",
            "66193     bread and potatoes            854          0.035696\n",
            "63578   chicken and potatoes            834          0.025920\n",
            "30935        fruit and salad            828          0.033411\n",
            "47956       ham and potatoes            806          0.024799\n",
            "53617         toast and eggs            781          0.052774\n",
            "45204   mayonnaise and salad            736          0.034809\n",
            "47126   cranberry and turkey            730          0.164414\n",
            "33628   cheese  and sandwich            729          0.073083\n",
            "54266  mushrooms and chicken            722          0.033084\n",
            "7154          bacon and eggs            700          0.055839\n",
            "66296       salad and shrimp            680          0.029894\n",
            "65820      peas and potatoes            643          0.033039\n",
            "47911        ham and chicken            643          0.019045\n",
            "63553   chicken and sandwich            609          0.026736\n",
            "\n",
            "worst 20 combinations\n",
            "                          double classes  double values  double % of base\n",
            "44986               baked fish and salad              1          0.000054\n",
            "66291               salad and croissants              1          0.000054\n",
            "18186       lemon meringue pie and salad              1          0.000054\n",
            "41838      sweet and sour pork and salad              1          0.000054\n",
            "65882          wienerschnitzel and salad              1          0.000054\n",
            "66320              salad and fried prawn              1          0.000053\n",
            "63461              brie cheese and salad              1          0.000053\n",
            "50315            eggs benedict and salad              1          0.000053\n",
            "60821               cherry pie and salad              1          0.000053\n",
            "66298              salad and blueberries              1          0.000053\n",
            "38244                  mangoes and salad              1          0.000053\n",
            "66277                  salad and burrito              1          0.000053\n",
            "52728               enchiladas and salad              1          0.000053\n",
            "50122            chicken wings and salad              1          0.000053\n",
            "3225              pork sausage and salad              1          0.000053\n",
            "64349  corned beef and cabbage and salad              1          0.000053\n",
            "66254              salad and raspberries              1          0.000053\n",
            "62491             french toast and salad              1          0.000053\n",
            "5734                   rhubarb and salad              1          0.000053\n",
            "61682                  bananas and salad              1          0.000053\n"
          ],
          "name": "stdout"
        },
        {
          "output_type": "execute_result",
          "data": {
            "text/plain": [
              "array([[<matplotlib.axes._subplots.AxesSubplot object at 0x7f4e4dddc5f8>]], dtype=object)"
            ]
          },
          "metadata": {
            "tags": []
          },
          "execution_count": 11
        },
        {
          "output_type": "display_data",
          "data": {
            "image/png": "[encoded data removed]",
            "text/plain": [
              "<Figure size 432x288 with 1 Axes>"
            ]
          },
          "metadata": {
            "tags": []
          }
        },
        {
          "output_type": "display_data",
          "data": {
            "image/png": "[encoded data removed]",
            "text/plain": [
              "<Figure size 432x288 with 1 Axes>"
            ]
          },
          "metadata": {
            "tags": []
          }
        }
      ]
    },
    {
      "cell_type": "markdown",
      "metadata": {
        "id": "4PiRiHEKxFk2",
        "colab_type": "text"
      },
      "source": [
        "**Filter double classes**\n",
        "\n",
        "Double classes where the number of found dishes is too low will be dropped"
      ]
    },
    {
      "cell_type": "code",
      "metadata": {
        "id": "MpTbEGyKxGNn",
        "colab_type": "code",
        "outputId": "0834182b-ef09-4bfd-aecf-e7653277d0af",
        "colab": {
          "base_uri": "https://localhost:8080/",
          "height": 1216
        }
      },
      "source": [
        "result_table = result_table.drop(result_table[(result_table['double values'] < cutoff_total)].index)\n",
        "result_table = result_table.drop(result_table[(result_table['double % of base'] < cutoff_ratio)].index)\n",
        "classes_double_total = result_table['double classes'].tolist()\n",
        "\n",
        "print('number of single classes: {}'.format(len(classes_single_total)))\n",
        "print('number of double classes: {}'.format(len(classes_double_total)))\n",
        "print(result_table)"
      ],
      "execution_count": 0,
      "outputs": [
        {
          "output_type": "stream",
          "text": [
            "number of single classes: 463\n",
            "number of double classes: 256\n",
            "                  double classes  double values  double % of base\n",
            "63564          chicken and salad           1791          0.050619\n",
            "23721           rice and chicken           1151          0.050676\n",
            "47942              ham and salad           1093          0.030610\n",
            "66264         salad and potatoes           1053          0.030862\n",
            "47931           ham and sandwich            951          0.041163\n",
            "47951               ham and eggs            930          0.038845\n",
            "66193         bread and potatoes            854          0.035696\n",
            "63578       chicken and potatoes            834          0.025920\n",
            "30935            fruit and salad            828          0.033411\n",
            "47956           ham and potatoes            806          0.024799\n",
            "53617             toast and eggs            781          0.052774\n",
            "45204       mayonnaise and salad            736          0.034809\n",
            "47126       cranberry and turkey            730          0.164414\n",
            "33628       cheese  and sandwich            729          0.073083\n",
            "54266      mushrooms and chicken            722          0.033084\n",
            "7154              bacon and eggs            700          0.055839\n",
            "66296           salad and shrimp            680          0.029894\n",
            "65820          peas and potatoes            643          0.033039\n",
            "47911            ham and chicken            643          0.019045\n",
            "63553       chicken and sandwich            609          0.026736\n",
            "7159          bacon and potatoes            587          0.027825\n",
            "64534          lobster and salad            576          0.024206\n",
            "47839              ham and toast            572          0.022930\n",
            "53577          toast and chicken            567          0.023029\n",
            "33639          cheese  and salad            557          0.024669\n",
            "47941              ham and bread            555          0.021755\n",
            "66179            bread and salad            553          0.020383\n",
            "49736             apple and pork            552          0.057692\n",
            "7042             bacon and toast            518          0.038254\n",
            "65408         sandwich and salad            510          0.020629\n",
            "...                          ...            ...               ...\n",
            "54260    mushrooms and asparagus            111          0.014153\n",
            "50514              milk and eggs            111          0.009939\n",
            "25091    tomatoes and mayonnaise            110          0.020258\n",
            "30843        fruit and pineapple            110          0.014106\n",
            "54343       mushrooms and shrimp            110          0.011972\n",
            "45250      mayonnaise and shrimp            109          0.016603\n",
            "43952             cake and honey            109          0.015968\n",
            "25225      tomatoes and sandwich            109          0.012100\n",
            "27274           garlic and bread            109          0.011643\n",
            "40427       spaghetti  and bread            109          0.011360\n",
            "7120              bacon and corn            109          0.010863\n",
            "53618           toast and turkey            108          0.009551\n",
            "25235         tomatoes and bread            108          0.009460\n",
            "67181      potatoes and cucumber            108          0.006492\n",
            "42984          sausage and salad            107          0.005114\n",
            "43898          cake and potatoes            107          0.005013\n",
            "59881        pot pie and chicken            106          0.006267\n",
            "47922        ham and baked beans            106          0.006016\n",
            "59767        salmon and sandwich            105          0.011205\n",
            "55962  tomato sauce and potatoes            105          0.006114\n",
            "18348         bacon  and sausage            104          0.025237\n",
            "28694  cream cheese and sandwich            104          0.015423\n",
            "33516          cheese  and apple            104          0.010531\n",
            "53602             toast and peas            103          0.008650\n",
            "23749             rice and bread            103          0.007123\n",
            "12388           onion and bacon             102          0.015724\n",
            "6921          bacon and tomatoes            102          0.011877\n",
            "58251            cereal and eggs            100          0.012984\n",
            "38879   scrambled eggs and toast            100          0.011247\n",
            "23726              rice and corn            100          0.009626\n",
            "\n",
            "[256 rows x 3 columns]\n"
          ],
          "name": "stdout"
        }
      ]
    },
    {
      "cell_type": "markdown",
      "metadata": {
        "id": "O849UEVxDU5-",
        "colab_type": "text"
      },
      "source": [
        "### Image download"
      ]
    },
    {
      "cell_type": "code",
      "metadata": {
        "colab_type": "code",
        "id": "qQszuSQVE0Wq",
        "colab": {}
      },
      "source": [
        "def download_imgs(img_list, num=num_single, down_path=\"\"):\n",
        "    \n",
        "    dfs = []\n",
        "\n",
        "    response = google_images_download.googleimagesdownload()\n",
        "    download_options = {'limit':num, 'format':'jpg', 'output_directory':str(down_path), 'no_directory':True,\n",
        "                       'print_urls':False, 'print_paths':False, 'metadata':False, 'print_size':False}\n",
        "\n",
        "    for i in range(len(img_list)):\n",
        "        label = img_list[i]\n",
        "        try:\n",
        "            out = response.download({**download_options, **{'keywords':label}})\n",
        "            temp_df = pd.DataFrame({'file':out[label]})\n",
        "            temp_df['label'] = label\n",
        "            dfs.append(temp_df)\n",
        "        except:\n",
        "            pass\n",
        "    try:\n",
        "       df = pd.concat(dfs, axis = 0)        \n",
        "    except:\n",
        "       df = pd.DataFrame({'file':[], 'label':[]})\n",
        "         \n",
        "    return df\n",
        "\n",
        "single = classes_single_total\n",
        "double = classes_double_total\n",
        "  \n",
        "#split data into chunks\n",
        "chunks = 4\n",
        "chunksize_single = int(len(single)/chunks)\n",
        "chunksize_double = int(len(double)/chunks)\n",
        "\n",
        "single_chunked = [single[i*chunksize_single:(i+1)*chunksize_single] for i in range(chunks)]\n",
        "double_chunked = [double[i*chunksize_double:(i+1)*chunksize_double] for i in range(chunks)]\n",
        "\n"
      ],
      "execution_count": 0,
      "outputs": []
    },
    {
      "cell_type": "code",
      "metadata": {
        "id": "8ZGRdTK4i_3m",
        "colab_type": "code",
        "colab": {}
      },
      "source": [
        "endpoint = chunks\n",
        "\n",
        "for chunk in range(endpoint):\n",
        "  down_path_single_temp = str(down_path_single) + \"_\" + str(chunk)\n",
        "  down_path_double_temp = str(down_path_double) + \"_\" + str(chunk)\n",
        "  single_temp = single_chunked[chunk]\n",
        "  double_temp = double_chunked[chunk]\n",
        "  label_fname_single_temp = label_fname_single + \"_\" + str(chunk) + \".csv\"\n",
        "  label_fname_double_temp = label_fname_double + \"_\" + str(chunk) + \".csv\"\n",
        "  if num_single != 0:\n",
        "      single_data = download_imgs(single_temp, num=num_single, down_path=down_path_single_temp)\n",
        "      single_data['label'] = single_data['label'].apply(lambda x: x.replace(' ', '_'))\n",
        "  else:\n",
        "      single_data = pd.DataFrame({'file':[], 'label':[]})\n",
        "\n",
        "  if num_double != 0:\n",
        "      double_data = download_imgs(double_temp, num = num_double, down_path=down_path_double_temp)\n",
        "      double_data['label'] = double_data['label'].apply(lambda x: x.replace(' and ', '**').replace(' ', '_').replace('**', ' '))\n",
        "  else:\n",
        "      double_data = pd.DataFrame({'file':[], 'label':[]})\n",
        "\n",
        "  verify_images(down_path_single_temp, delete=True, max_size = 500)\n",
        "  verify_images(down_path_double_temp, delete=True, max_size = 500)\n",
        "\n",
        "  # Only keep the last part of the file extension\n",
        "  single_data['file'] = single_data['file'].apply(lambda x: str(x).split('/')[-1])\n",
        "  double_data['file'] = double_data['file'].apply(lambda x: str(x).split('/')[-1])\n",
        "\n",
        "  # Only keep labels that correspond to files (we deleted some images)\n",
        "  single_data = single_data[single_data['file'].isin(os.listdir(down_path_single_temp))]\n",
        "  double_data = double_data[double_data['file'].isin(os.listdir(down_path_double_temp))]\n",
        "\n",
        "  #dump data\n",
        "  single_data.to_csv(path/label_fname_single_temp, index=False, header=True)\n",
        "  double_data.to_csv(path/label_fname_double_temp, index=False, header=True)\n",
        "\n"
      ],
      "execution_count": 0,
      "outputs": []
    }
  ]
}