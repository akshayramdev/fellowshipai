{
 "cells": [
  {
   "cell_type": "markdown",
   "metadata": {},
   "source": [
    "# Prepare Data"
   ]
  },
  {
   "cell_type": "markdown",
   "metadata": {},
   "source": [
    "If you ran _Download available data.ipynb_ you end up with a bunch of directories, tar and zip files in your data directory.  \n",
    "In this notebook we'll extract and clean the data so you can use it for your model.  \n",
    "The end result is a big csv file with all file paths and labels"
   ]
  },
  {
   "cell_type": "code",
   "execution_count": 138,
   "metadata": {},
   "outputs": [],
   "source": [
    "%reload_ext autoreload\n",
    "%autoreload 2\n",
    "%matplotlib inline\n",
    "\n",
    "from fastai.vision import *\n",
    "from fastai.basics import *\n",
    "import shutil\n",
    "from PIL import Image\n",
    "from tqdm import tqdm"
   ]
  },
  {
   "cell_type": "code",
   "execution_count": 80,
   "metadata": {},
   "outputs": [],
   "source": [
    "path = Path('/home/jupyter/data')"
   ]
  },
  {
   "cell_type": "markdown",
   "metadata": {},
   "source": [
    "## Import data\n"
   ]
  },
  {
   "cell_type": "markdown",
   "metadata": {},
   "source": [
    "### UPMC Food-101"
   ]
  },
  {
   "cell_type": "markdown",
   "metadata": {},
   "source": [
    "#### Get data"
   ]
  },
  {
   "cell_type": "code",
   "execution_count": 3,
   "metadata": {},
   "outputs": [],
   "source": [
    "! mkdir -p {path}/UPMC_Food101"
   ]
  },
  {
   "cell_type": "code",
   "execution_count": 4,
   "metadata": {},
   "outputs": [
    {
     "name": "stdout",
     "output_type": "stream",
     "text": [
      "tar (child): /home/jupyter/data/UPMC_Food101.tar.gz: Cannot open: No such file or directory\r\n",
      "tar (child): Error is not recoverable: exiting now\r\n",
      "tar: Child returned status 2\r\n",
      "tar: Error is not recoverable: exiting now\r\n"
     ]
    }
   ],
   "source": [
    "! tar -C {path}/UPMC_Food101 -zxf {path}/UPMC_Food101.tar.gz"
   ]
  },
  {
   "cell_type": "code",
   "execution_count": 5,
   "metadata": {},
   "outputs": [],
   "source": [
    "! rm -rf {path}/UPMC_Food101/texts_html\n",
    "! rm -rf {path}/UPMC_Food101/texts_txt"
   ]
  },
  {
   "cell_type": "markdown",
   "metadata": {},
   "source": [
    "Remove tar file if you want to save space on your machine"
   ]
  },
  {
   "cell_type": "code",
   "execution_count": 18,
   "metadata": {},
   "outputs": [],
   "source": [
    "! rm -rf {path}/UPMC_Food101.tar.gz"
   ]
  },
  {
   "cell_type": "markdown",
   "metadata": {},
   "source": [
    "#### Process data"
   ]
  },
  {
   "cell_type": "code",
   "execution_count": 81,
   "metadata": {},
   "outputs": [],
   "source": [
    "def create_img_df(subdir, path):\n",
    "    cats = [str(x).split('/')[-1] for x in (path/subdir).ls()]\n",
    "    files = []; labels = []\n",
    "\n",
    "    for cat in cats:\n",
    "        tmp = [cat + '/' +  str(x).split('/')[-1] for x in (path/subdir/cat).ls() if x.match('*.jpg')]\n",
    "        files += tmp; labels += [cat]*len(tmp)\n",
    "    \n",
    "    df = pd.DataFrame({'file':files, 'label':labels})\n",
    "    df['file'] = df['file'].apply(lambda x: subdir+'/'+x)\n",
    "    return df"
   ]
  },
  {
   "cell_type": "code",
   "execution_count": 82,
   "metadata": {},
   "outputs": [],
   "source": [
    "img_dir = 'UPMC_Food101/images'\n",
    "train = create_img_df(img_dir+'/train', path)\n",
    "test = create_img_df(img_dir+'/test', path)\n",
    "train['test'], test['test'] = False, True\n",
    "upmc_labels = pd.concat([train, test], axis=0)"
   ]
  },
  {
   "cell_type": "code",
   "execution_count": 83,
   "metadata": {},
   "outputs": [
    {
     "data": {
      "text/html": [
       "<div>\n",
       "<style scoped>\n",
       "    .dataframe tbody tr th:only-of-type {\n",
       "        vertical-align: middle;\n",
       "    }\n",
       "\n",
       "    .dataframe tbody tr th {\n",
       "        vertical-align: top;\n",
       "    }\n",
       "\n",
       "    .dataframe thead th {\n",
       "        text-align: right;\n",
       "    }\n",
       "</style>\n",
       "<table border=\"1\" class=\"dataframe\">\n",
       "  <thead>\n",
       "    <tr style=\"text-align: right;\">\n",
       "      <th></th>\n",
       "      <th>file</th>\n",
       "      <th>label</th>\n",
       "      <th>test</th>\n",
       "    </tr>\n",
       "  </thead>\n",
       "  <tbody>\n",
       "    <tr>\n",
       "      <th>0</th>\n",
       "      <td>UPMC_Food101/images/train/paella/paella_488.jpg</td>\n",
       "      <td>paella</td>\n",
       "      <td>False</td>\n",
       "    </tr>\n",
       "    <tr>\n",
       "      <th>1</th>\n",
       "      <td>UPMC_Food101/images/train/paella/paella_408.jpg</td>\n",
       "      <td>paella</td>\n",
       "      <td>False</td>\n",
       "    </tr>\n",
       "    <tr>\n",
       "      <th>2</th>\n",
       "      <td>UPMC_Food101/images/train/paella/paella_380.jpg</td>\n",
       "      <td>paella</td>\n",
       "      <td>False</td>\n",
       "    </tr>\n",
       "    <tr>\n",
       "      <th>3</th>\n",
       "      <td>UPMC_Food101/images/train/paella/paella_394.jpg</td>\n",
       "      <td>paella</td>\n",
       "      <td>False</td>\n",
       "    </tr>\n",
       "    <tr>\n",
       "      <th>4</th>\n",
       "      <td>UPMC_Food101/images/train/paella/paella_482.jpg</td>\n",
       "      <td>paella</td>\n",
       "      <td>False</td>\n",
       "    </tr>\n",
       "  </tbody>\n",
       "</table>\n",
       "</div>"
      ],
      "text/plain": [
       "                                              file   label   test\n",
       "0  UPMC_Food101/images/train/paella/paella_488.jpg  paella  False\n",
       "1  UPMC_Food101/images/train/paella/paella_408.jpg  paella  False\n",
       "2  UPMC_Food101/images/train/paella/paella_380.jpg  paella  False\n",
       "3  UPMC_Food101/images/train/paella/paella_394.jpg  paella  False\n",
       "4  UPMC_Food101/images/train/paella/paella_482.jpg  paella  False"
      ]
     },
     "execution_count": 83,
     "metadata": {},
     "output_type": "execute_result"
    }
   ],
   "source": [
    "upmc_labels.head()"
   ]
  },
  {
   "cell_type": "markdown",
   "metadata": {},
   "source": [
    "#### write to csv "
   ]
  },
  {
   "cell_type": "code",
   "execution_count": 84,
   "metadata": {},
   "outputs": [],
   "source": [
    "upmc_labels.to_csv(path/'UPMC_Food101/upmc101.csv', index=False)"
   ]
  },
  {
   "cell_type": "markdown",
   "metadata": {},
   "source": [
    "### UEC 256"
   ]
  },
  {
   "cell_type": "markdown",
   "metadata": {},
   "source": [
    "#### Get data"
   ]
  },
  {
   "cell_type": "code",
   "execution_count": 45,
   "metadata": {},
   "outputs": [],
   "source": [
    "! mkdir -p path/'UEC_256'"
   ]
  },
  {
   "cell_type": "code",
   "execution_count": 46,
   "metadata": {},
   "outputs": [],
   "source": [
    "! unzip -qq {path}/'dataset256.zip' -d {path}/'UEC_256'"
   ]
  },
  {
   "cell_type": "markdown",
   "metadata": {},
   "source": [
    "#### Process data"
   ]
  },
  {
   "cell_type": "code",
   "execution_count": 85,
   "metadata": {},
   "outputs": [],
   "source": [
    "img_dir = path/'UEC_256/UECFOOD256'"
   ]
  },
  {
   "cell_type": "code",
   "execution_count": 86,
   "metadata": {},
   "outputs": [],
   "source": [
    "category_fn = path/'UEC_256/UECFOOD256/category.txt'"
   ]
  },
  {
   "cell_type": "code",
   "execution_count": 87,
   "metadata": {},
   "outputs": [],
   "source": [
    "cats = pd.read_csv(category_fn, sep='\\t')\n",
    "id2cat = {i:n for i, n in zip(cats['id'], cats['name'])}\n",
    "cat2id = {n:i for i, n in zip(cats['id'], cats['name'])}"
   ]
  },
  {
   "cell_type": "code",
   "execution_count": 88,
   "metadata": {},
   "outputs": [],
   "source": [
    "files, labels = [], []\n",
    "\n",
    "for i in id2cat.keys():\n",
    "    i_dir = str(i)\n",
    "    subf = img_dir/i_dir\n",
    "    tmp = [subf/str(x).split('/')[-1] for x in (path/subf).ls() if x.match('*.jpg')]\n",
    "    files += tmp; labels += [id2cat[i]]*len(tmp)"
   ]
  },
  {
   "cell_type": "code",
   "execution_count": 89,
   "metadata": {},
   "outputs": [
    {
     "data": {
      "text/html": [
       "<div>\n",
       "<style scoped>\n",
       "    .dataframe tbody tr th:only-of-type {\n",
       "        vertical-align: middle;\n",
       "    }\n",
       "\n",
       "    .dataframe tbody tr th {\n",
       "        vertical-align: top;\n",
       "    }\n",
       "\n",
       "    .dataframe thead th {\n",
       "        text-align: right;\n",
       "    }\n",
       "</style>\n",
       "<table border=\"1\" class=\"dataframe\">\n",
       "  <thead>\n",
       "    <tr style=\"text-align: right;\">\n",
       "      <th></th>\n",
       "      <th>file</th>\n",
       "      <th>label</th>\n",
       "    </tr>\n",
       "  </thead>\n",
       "  <tbody>\n",
       "    <tr>\n",
       "      <th>0</th>\n",
       "      <td>/home/jupyter/data/UEC_256/UECFOOD256/1/14885.jpg</td>\n",
       "      <td>rice</td>\n",
       "    </tr>\n",
       "    <tr>\n",
       "      <th>1</th>\n",
       "      <td>/home/jupyter/data/UEC_256/UECFOOD256/1/68.jpg</td>\n",
       "      <td>rice</td>\n",
       "    </tr>\n",
       "    <tr>\n",
       "      <th>2</th>\n",
       "      <td>/home/jupyter/data/UEC_256/UECFOOD256/1/14263.jpg</td>\n",
       "      <td>rice</td>\n",
       "    </tr>\n",
       "    <tr>\n",
       "      <th>3</th>\n",
       "      <td>/home/jupyter/data/UEC_256/UECFOOD256/1/9112.jpg</td>\n",
       "      <td>rice</td>\n",
       "    </tr>\n",
       "    <tr>\n",
       "      <th>4</th>\n",
       "      <td>/home/jupyter/data/UEC_256/UECFOOD256/1/14350.jpg</td>\n",
       "      <td>rice</td>\n",
       "    </tr>\n",
       "  </tbody>\n",
       "</table>\n",
       "</div>"
      ],
      "text/plain": [
       "                                                file label\n",
       "0  /home/jupyter/data/UEC_256/UECFOOD256/1/14885.jpg  rice\n",
       "1     /home/jupyter/data/UEC_256/UECFOOD256/1/68.jpg  rice\n",
       "2  /home/jupyter/data/UEC_256/UECFOOD256/1/14263.jpg  rice\n",
       "3   /home/jupyter/data/UEC_256/UECFOOD256/1/9112.jpg  rice\n",
       "4  /home/jupyter/data/UEC_256/UECFOOD256/1/14350.jpg  rice"
      ]
     },
     "execution_count": 89,
     "metadata": {},
     "output_type": "execute_result"
    }
   ],
   "source": [
    "uec256 = pd.DataFrame({'file':files, 'label':labels})\n",
    "uec256.head()"
   ]
  },
  {
   "cell_type": "markdown",
   "metadata": {},
   "source": [
    "#### Write to csv"
   ]
  },
  {
   "cell_type": "code",
   "execution_count": 90,
   "metadata": {},
   "outputs": [],
   "source": [
    "uec256.to_csv(path/'UEC_256/uec256.csv', index=False)"
   ]
  },
  {
   "cell_type": "markdown",
   "metadata": {},
   "source": [
    "### Google Images Old\n"
   ]
  },
  {
   "cell_type": "markdown",
   "metadata": {},
   "source": [
    "#### Get data"
   ]
  },
  {
   "cell_type": "code",
   "execution_count": 91,
   "metadata": {},
   "outputs": [],
   "source": [
    "dir_google_single =  path/'downloaded_imgs/train_single'\n",
    "dir_google_double =  path/'downloaded_imgs/train_double'"
   ]
  },
  {
   "cell_type": "code",
   "execution_count": 92,
   "metadata": {},
   "outputs": [],
   "source": [
    "labs_google_single = pd.read_csv(path/'downloaded_imgs/labels_single.csv')\n",
    "labs_google_double = pd.read_csv(path/'downloaded_imgs/labels_double.csv')"
   ]
  },
  {
   "cell_type": "markdown",
   "metadata": {},
   "source": [
    "#### Process data"
   ]
  },
  {
   "cell_type": "code",
   "execution_count": 93,
   "metadata": {},
   "outputs": [],
   "source": [
    "labs_google_single.rename({'name':'file'}, axis=1, copy=False, inplace=True)\n",
    "labs_google_double.rename({'name':'file'}, axis=1, copy=False, inplace=True)"
   ]
  },
  {
   "cell_type": "code",
   "execution_count": 94,
   "metadata": {},
   "outputs": [],
   "source": [
    "def format_lab(x):\n",
    "    labs = x.split()\n",
    "    labs = [lab.replace('_', ' ').strip() for lab in labs]\n",
    "    return ';'.join(labs)"
   ]
  },
  {
   "cell_type": "code",
   "execution_count": 95,
   "metadata": {},
   "outputs": [],
   "source": [
    "labs_google_single['label'] = labs_google_single['label'].apply(format_lab)\n",
    "labs_google_double['label'] = labs_google_double['label'].apply(format_lab)\n",
    "\n",
    "labs_google_single['file'] = labs_google_single['file'].apply(lambda x: dir_google_single/x)\n",
    "labs_google_double['file'] = labs_google_double['file'].apply(lambda x: dir_google_double/x)"
   ]
  },
  {
   "cell_type": "code",
   "execution_count": 96,
   "metadata": {},
   "outputs": [
    {
     "data": {
      "text/html": [
       "<div>\n",
       "<style scoped>\n",
       "    .dataframe tbody tr th:only-of-type {\n",
       "        vertical-align: middle;\n",
       "    }\n",
       "\n",
       "    .dataframe tbody tr th {\n",
       "        vertical-align: top;\n",
       "    }\n",
       "\n",
       "    .dataframe thead th {\n",
       "        text-align: right;\n",
       "    }\n",
       "</style>\n",
       "<table border=\"1\" class=\"dataframe\">\n",
       "  <thead>\n",
       "    <tr style=\"text-align: right;\">\n",
       "      <th></th>\n",
       "      <th>file</th>\n",
       "      <th>label</th>\n",
       "    </tr>\n",
       "  </thead>\n",
       "  <tbody>\n",
       "    <tr>\n",
       "      <th>0</th>\n",
       "      <td>/home/jupyter/data/downloaded_imgs/train_singl...</td>\n",
       "      <td>Apple</td>\n",
       "    </tr>\n",
       "    <tr>\n",
       "      <th>1</th>\n",
       "      <td>/home/jupyter/data/downloaded_imgs/train_singl...</td>\n",
       "      <td>Apple</td>\n",
       "    </tr>\n",
       "    <tr>\n",
       "      <th>2</th>\n",
       "      <td>/home/jupyter/data/downloaded_imgs/train_singl...</td>\n",
       "      <td>Apple</td>\n",
       "    </tr>\n",
       "    <tr>\n",
       "      <th>3</th>\n",
       "      <td>/home/jupyter/data/downloaded_imgs/train_singl...</td>\n",
       "      <td>Apple</td>\n",
       "    </tr>\n",
       "    <tr>\n",
       "      <th>4</th>\n",
       "      <td>/home/jupyter/data/downloaded_imgs/train_singl...</td>\n",
       "      <td>Apple</td>\n",
       "    </tr>\n",
       "  </tbody>\n",
       "</table>\n",
       "</div>"
      ],
      "text/plain": [
       "                                                file  label\n",
       "0  /home/jupyter/data/downloaded_imgs/train_singl...  Apple\n",
       "1  /home/jupyter/data/downloaded_imgs/train_singl...  Apple\n",
       "2  /home/jupyter/data/downloaded_imgs/train_singl...  Apple\n",
       "3  /home/jupyter/data/downloaded_imgs/train_singl...  Apple\n",
       "4  /home/jupyter/data/downloaded_imgs/train_singl...  Apple"
      ]
     },
     "execution_count": 96,
     "metadata": {},
     "output_type": "execute_result"
    }
   ],
   "source": [
    "labs_google_single.head()"
   ]
  },
  {
   "cell_type": "code",
   "execution_count": 97,
   "metadata": {},
   "outputs": [
    {
     "data": {
      "text/html": [
       "<div>\n",
       "<style scoped>\n",
       "    .dataframe tbody tr th:only-of-type {\n",
       "        vertical-align: middle;\n",
       "    }\n",
       "\n",
       "    .dataframe tbody tr th {\n",
       "        vertical-align: top;\n",
       "    }\n",
       "\n",
       "    .dataframe thead th {\n",
       "        text-align: right;\n",
       "    }\n",
       "</style>\n",
       "<table border=\"1\" class=\"dataframe\">\n",
       "  <thead>\n",
       "    <tr style=\"text-align: right;\">\n",
       "      <th></th>\n",
       "      <th>file</th>\n",
       "      <th>label</th>\n",
       "    </tr>\n",
       "  </thead>\n",
       "  <tbody>\n",
       "    <tr>\n",
       "      <th>0</th>\n",
       "      <td>/home/jupyter/data/downloaded_imgs/train_doubl...</td>\n",
       "      <td>Apple;Apple Slices</td>\n",
       "    </tr>\n",
       "    <tr>\n",
       "      <th>1</th>\n",
       "      <td>/home/jupyter/data/downloaded_imgs/train_doubl...</td>\n",
       "      <td>Batavia Salad;Salad</td>\n",
       "    </tr>\n",
       "    <tr>\n",
       "      <th>2</th>\n",
       "      <td>/home/jupyter/data/downloaded_imgs/train_doubl...</td>\n",
       "      <td>Boiled Potatoes;Cookies</td>\n",
       "    </tr>\n",
       "    <tr>\n",
       "      <th>3</th>\n",
       "      <td>/home/jupyter/data/downloaded_imgs/train_doubl...</td>\n",
       "      <td>Bread;Bread Rolls</td>\n",
       "    </tr>\n",
       "    <tr>\n",
       "      <th>4</th>\n",
       "      <td>/home/jupyter/data/downloaded_imgs/train_doubl...</td>\n",
       "      <td>Bread Rolls;Pasta</td>\n",
       "    </tr>\n",
       "  </tbody>\n",
       "</table>\n",
       "</div>"
      ],
      "text/plain": [
       "                                                file                    label\n",
       "0  /home/jupyter/data/downloaded_imgs/train_doubl...       Apple;Apple Slices\n",
       "1  /home/jupyter/data/downloaded_imgs/train_doubl...      Batavia Salad;Salad\n",
       "2  /home/jupyter/data/downloaded_imgs/train_doubl...  Boiled Potatoes;Cookies\n",
       "3  /home/jupyter/data/downloaded_imgs/train_doubl...        Bread;Bread Rolls\n",
       "4  /home/jupyter/data/downloaded_imgs/train_doubl...        Bread Rolls;Pasta"
      ]
     },
     "execution_count": 97,
     "metadata": {},
     "output_type": "execute_result"
    }
   ],
   "source": [
    "labs_google_double.head()"
   ]
  },
  {
   "cell_type": "markdown",
   "metadata": {},
   "source": [
    "#### Write to CSV"
   ]
  },
  {
   "cell_type": "code",
   "execution_count": 98,
   "metadata": {},
   "outputs": [],
   "source": [
    "out_google_single = path/'downloaded_imgs/labels_google_img_single.csv'\n",
    "out_google_double = path/'downloaded_imgs/labels_google_img_double.csv'"
   ]
  },
  {
   "cell_type": "code",
   "execution_count": 99,
   "metadata": {},
   "outputs": [],
   "source": [
    "labs_google_single.to_csv(out_google_single, index=False, header=True)\n",
    "labs_google_double.to_csv(out_google_double, index=False, header=True)"
   ]
  },
  {
   "cell_type": "markdown",
   "metadata": {},
   "source": [
    "### Google images new"
   ]
  },
  {
   "cell_type": "markdown",
   "metadata": {},
   "source": [
    "#### Get data"
   ]
  },
  {
   "cell_type": "code",
   "execution_count": 100,
   "metadata": {},
   "outputs": [
    {
     "name": "stdout",
     "output_type": "stream",
     "text": [
      "replace /home/jupyter/data/new_google_imgs/new_google_imgs/googleimg_single/googleimg_labels_single_3.csv? [y]es, [n]o, [A]ll, [N]one, [r]ename: ^C\n"
     ]
    }
   ],
   "source": [
    "! unzip -qq {path}/'new_google_imgs2.zip' -d {path}/'new_google_imgs'"
   ]
  },
  {
   "cell_type": "markdown",
   "metadata": {},
   "source": [
    "#### Process data"
   ]
  },
  {
   "cell_type": "code",
   "execution_count": 101,
   "metadata": {},
   "outputs": [],
   "source": [
    "new_img_path = '{}/new_google_imgs/new_google_imgs/'.format(path)\n",
    "single_map = 'googleimg_single/'\n",
    "double_map = 'googleimg_double/'\n",
    "single_fig_out ='googleimg_single_total/'\n",
    "double_fig_out ='googleimg_double_total/'"
   ]
  },
  {
   "cell_type": "code",
   "execution_count": 102,
   "metadata": {},
   "outputs": [],
   "source": [
    "single_csv = [x for x in os.listdir(new_img_path + single_map) if x.endswith('.csv')]\n",
    "double_csv = [x for x in os.listdir(new_img_path + double_map) if x.endswith('.csv')]\n",
    "single_maps = [x for x in os.listdir(new_img_path + single_map) if os.path.isdir(new_img_path + single_map + x)]\n",
    "double_maps = [x for x in os.listdir(new_img_path + double_map) if os.path.isdir(new_img_path + double_map + x)]"
   ]
  },
  {
   "cell_type": "code",
   "execution_count": 103,
   "metadata": {},
   "outputs": [],
   "source": [
    "def concatenate_csv(csv_list,path):\n",
    "    df = pd.DataFrame({'file':[], 'label':[]})\n",
    "    for csv in csv_list:\n",
    "        temp_df = pd.read_csv(path + csv)\n",
    "        df = pd.concat([df,temp_df], axis = 0)\n",
    "    return df    \n",
    "    \n",
    "def move_files (in_list,base_path,out_path):\n",
    "    out_path = base_path + out_path\n",
    "    if not os.path.isdir(out_path):\n",
    "        os.makedirs(out_path)\n",
    "    for folder in in_list:\n",
    "        in_path = base_path + folder\n",
    "        for file in os.listdir(in_path):\n",
    "            if os.path.isfile(in_path + '/' + file):\n",
    "                shutil.move(in_path + '/' + file, out_path + '/' +file)        "
   ]
  },
  {
   "cell_type": "code",
   "execution_count": 104,
   "metadata": {},
   "outputs": [],
   "source": [
    "move_files(single_maps,new_img_path + single_map,single_fig_out)\n",
    "move_files(double_maps,new_img_path + double_map,double_fig_out)\n",
    "newgoogleimg_single_df = concatenate_csv(single_csv,new_img_path + single_map)\n",
    "newgoogleimg_double_df = concatenate_csv(double_csv,new_img_path + double_map)\n",
    "newgoogleimg_single_df['file'] =newgoogleimg_single_df['file'].apply(lambda x:new_img_path + single_map + single_fig_out + '/' +x)\n",
    "newgoogleimg_double_df['file'] =newgoogleimg_double_df['file'].apply(lambda x:new_img_path + double_map + double_fig_out + '/' +x)\n",
    "newgoogleimg_single_df['label'] = newgoogleimg_single_df['label'].apply(format_lab)\n",
    "newgoogleimg_double_df['label'] = newgoogleimg_double_df['label'].apply(format_lab)"
   ]
  },
  {
   "cell_type": "code",
   "execution_count": 105,
   "metadata": {},
   "outputs": [
    {
     "data": {
      "text/html": [
       "<div>\n",
       "<style scoped>\n",
       "    .dataframe tbody tr th:only-of-type {\n",
       "        vertical-align: middle;\n",
       "    }\n",
       "\n",
       "    .dataframe tbody tr th {\n",
       "        vertical-align: top;\n",
       "    }\n",
       "\n",
       "    .dataframe thead th {\n",
       "        text-align: right;\n",
       "    }\n",
       "</style>\n",
       "<table border=\"1\" class=\"dataframe\">\n",
       "  <thead>\n",
       "    <tr style=\"text-align: right;\">\n",
       "      <th></th>\n",
       "      <th>file</th>\n",
       "      <th>label</th>\n",
       "    </tr>\n",
       "  </thead>\n",
       "  <tbody>\n",
       "    <tr>\n",
       "      <th>0</th>\n",
       "      <td>/home/jupyter/data/new_google_imgs/new_google_...</td>\n",
       "      <td>peas</td>\n",
       "    </tr>\n",
       "    <tr>\n",
       "      <th>1</th>\n",
       "      <td>/home/jupyter/data/new_google_imgs/new_google_...</td>\n",
       "      <td>peas</td>\n",
       "    </tr>\n",
       "    <tr>\n",
       "      <th>2</th>\n",
       "      <td>/home/jupyter/data/new_google_imgs/new_google_...</td>\n",
       "      <td>peas</td>\n",
       "    </tr>\n",
       "    <tr>\n",
       "      <th>3</th>\n",
       "      <td>/home/jupyter/data/new_google_imgs/new_google_...</td>\n",
       "      <td>peas</td>\n",
       "    </tr>\n",
       "    <tr>\n",
       "      <th>4</th>\n",
       "      <td>/home/jupyter/data/new_google_imgs/new_google_...</td>\n",
       "      <td>peas</td>\n",
       "    </tr>\n",
       "  </tbody>\n",
       "</table>\n",
       "</div>"
      ],
      "text/plain": [
       "                                                file label\n",
       "0  /home/jupyter/data/new_google_imgs/new_google_...  peas\n",
       "1  /home/jupyter/data/new_google_imgs/new_google_...  peas\n",
       "2  /home/jupyter/data/new_google_imgs/new_google_...  peas\n",
       "3  /home/jupyter/data/new_google_imgs/new_google_...  peas\n",
       "4  /home/jupyter/data/new_google_imgs/new_google_...  peas"
      ]
     },
     "execution_count": 105,
     "metadata": {},
     "output_type": "execute_result"
    }
   ],
   "source": [
    "newgoogleimg_single_df.head()"
   ]
  },
  {
   "cell_type": "code",
   "execution_count": 106,
   "metadata": {},
   "outputs": [
    {
     "data": {
      "text/html": [
       "<div>\n",
       "<style scoped>\n",
       "    .dataframe tbody tr th:only-of-type {\n",
       "        vertical-align: middle;\n",
       "    }\n",
       "\n",
       "    .dataframe tbody tr th {\n",
       "        vertical-align: top;\n",
       "    }\n",
       "\n",
       "    .dataframe thead th {\n",
       "        text-align: right;\n",
       "    }\n",
       "</style>\n",
       "<table border=\"1\" class=\"dataframe\">\n",
       "  <thead>\n",
       "    <tr style=\"text-align: right;\">\n",
       "      <th></th>\n",
       "      <th>file</th>\n",
       "      <th>label</th>\n",
       "    </tr>\n",
       "  </thead>\n",
       "  <tbody>\n",
       "    <tr>\n",
       "      <th>0</th>\n",
       "      <td>/home/jupyter/data/new_google_imgs/new_google_...</td>\n",
       "      <td>chicken;salad</td>\n",
       "    </tr>\n",
       "    <tr>\n",
       "      <th>1</th>\n",
       "      <td>/home/jupyter/data/new_google_imgs/new_google_...</td>\n",
       "      <td>chicken;salad</td>\n",
       "    </tr>\n",
       "    <tr>\n",
       "      <th>2</th>\n",
       "      <td>/home/jupyter/data/new_google_imgs/new_google_...</td>\n",
       "      <td>chicken;salad</td>\n",
       "    </tr>\n",
       "    <tr>\n",
       "      <th>3</th>\n",
       "      <td>/home/jupyter/data/new_google_imgs/new_google_...</td>\n",
       "      <td>chicken;salad</td>\n",
       "    </tr>\n",
       "    <tr>\n",
       "      <th>4</th>\n",
       "      <td>/home/jupyter/data/new_google_imgs/new_google_...</td>\n",
       "      <td>chicken;salad</td>\n",
       "    </tr>\n",
       "  </tbody>\n",
       "</table>\n",
       "</div>"
      ],
      "text/plain": [
       "                                                file          label\n",
       "0  /home/jupyter/data/new_google_imgs/new_google_...  chicken;salad\n",
       "1  /home/jupyter/data/new_google_imgs/new_google_...  chicken;salad\n",
       "2  /home/jupyter/data/new_google_imgs/new_google_...  chicken;salad\n",
       "3  /home/jupyter/data/new_google_imgs/new_google_...  chicken;salad\n",
       "4  /home/jupyter/data/new_google_imgs/new_google_...  chicken;salad"
      ]
     },
     "execution_count": 106,
     "metadata": {},
     "output_type": "execute_result"
    }
   ],
   "source": [
    "newgoogleimg_double_df.head()"
   ]
  },
  {
   "cell_type": "markdown",
   "metadata": {},
   "source": [
    "#### write to CSV"
   ]
  },
  {
   "cell_type": "code",
   "execution_count": 107,
   "metadata": {},
   "outputs": [],
   "source": [
    "newgoogleimg_single_df.to_csv(new_img_path + single_map +  'single_total.csv', index=False, header=True)\n",
    "newgoogleimg_double_df.to_csv(new_img_path + single_map +  'double_total.csv', index=False, header=True)"
   ]
  },
  {
   "cell_type": "markdown",
   "metadata": {},
   "source": [
    "### Food Recipe"
   ]
  },
  {
   "cell_type": "markdown",
   "metadata": {},
   "source": [
    "#### Get data\n",
    "__Note__: These two files are not added Google Storage yet. Download them via Slack and make sure they are in your path directory"
   ]
  },
  {
   "cell_type": "code",
   "execution_count": 108,
   "metadata": {},
   "outputs": [],
   "source": [
    "dir_food_recipe = path/'Food_Recipe'\n",
    "labs_food_recipe = pd.read_csv(path/'food_recipe_paths.csv')\n",
    "labs_food_recipe_trans = pd.read_csv(path/'german_to_english.csv')"
   ]
  },
  {
   "cell_type": "markdown",
   "metadata": {},
   "source": [
    "#### Process data"
   ]
  },
  {
   "cell_type": "code",
   "execution_count": 109,
   "metadata": {},
   "outputs": [],
   "source": [
    "labs_food_recipe['file'] = labs_food_recipe['short_path'].apply(lambda x: x.replace('Food_Recipe/', ''))"
   ]
  },
  {
   "cell_type": "markdown",
   "metadata": {},
   "source": [
    "Translate german categories to English"
   ]
  },
  {
   "cell_type": "code",
   "execution_count": 110,
   "metadata": {},
   "outputs": [],
   "source": [
    "trans_dict = {labs_food_recipe_trans.iloc[i, 0]:labs_food_recipe_trans.iloc[i, 1] for i in \n",
    "              range(len(labs_food_recipe_trans.index))}"
   ]
  },
  {
   "cell_type": "markdown",
   "metadata": {},
   "source": [
    "Manual Correction to translation dictionary"
   ]
  },
  {
   "cell_type": "code",
   "execution_count": 111,
   "metadata": {},
   "outputs": [],
   "source": [
    "trans_dict['brotaufstrich'] = 'spread'\n",
    "trans_dict['spaghettisalat'] = 'spaghetti salad'\n",
    "trans_dict['käsesuppe'] = 'cheese soup'\n",
    "trans_dict['curry'] = 'curry'\n",
    "trans_dict['tomatensuppe'] = 'tomato soup'\n",
    "trans_dict['cannelloni'] = 'cannelloni'\n",
    "trans_dict['kasseler'] = 'smoked and salted pork'\n",
    "trans_dict['maultaschen'] = 'pasta dough filled with meat, spinach or onions'\n",
    "trans_dict['zwiebelkuchen'] = 'onion cake'"
   ]
  },
  {
   "cell_type": "code",
   "execution_count": 112,
   "metadata": {},
   "outputs": [],
   "source": [
    "labs_food_recipe['eng_cat'] = labs_food_recipe['category'].apply(lambda x: trans_dict[x])"
   ]
  },
  {
   "cell_type": "markdown",
   "metadata": {},
   "source": [
    "Paste & risotto more categories than it should (like deserts, couscous, etc.)  \n",
    "Same for the 'Vegetables category'"
   ]
  },
  {
   "cell_type": "code",
   "execution_count": 113,
   "metadata": {},
   "outputs": [],
   "source": [
    "labs_food_recipe.loc[labs_food_recipe['reduced_category'] == 'Pasta & risotto', 'reduced_category'] = ''\n",
    "labs_food_recipe.loc[labs_food_recipe['reduced_category'] == 'Vegetables', 'reduced_category'] = ''"
   ]
  },
  {
   "cell_type": "markdown",
   "metadata": {},
   "source": [
    "Some categories are 'error'. Let's get rid of these"
   ]
  },
  {
   "cell_type": "code",
   "execution_count": 114,
   "metadata": {},
   "outputs": [],
   "source": [
    "labs_food_recipe.loc[labs_food_recipe['eng_cat'] == 'Error', 'eng_cat'] = ''"
   ]
  },
  {
   "cell_type": "markdown",
   "metadata": {},
   "source": [
    "Some categories say 'no_cat'. Drop rows where both category columns contain 'no_cat'  \n",
    "If only one column contains it, replace with empty string"
   ]
  },
  {
   "cell_type": "code",
   "execution_count": 115,
   "metadata": {},
   "outputs": [],
   "source": [
    "labs_food_recipe = labs_food_recipe[(labs_food_recipe['reduced_category'] != 'no_cat') |\n",
    "                                   (labs_food_recipe['category'] != 'no_cat')]\n",
    "\n",
    "labs_food_recipe.loc[labs_food_recipe['eng_cat'] == 'No_cat', 'eng_cat'] = ''\n",
    "labs_food_recipe.loc[labs_food_recipe['reduced_category'] == 'no_cat', 'reduced_category'] = ''"
   ]
  },
  {
   "cell_type": "markdown",
   "metadata": {},
   "source": [
    "Replace _ with spaces; replace & with and"
   ]
  },
  {
   "cell_type": "code",
   "execution_count": 116,
   "metadata": {},
   "outputs": [],
   "source": [
    "labs_food_recipe['reduced_category'] = labs_food_recipe['reduced_category'].apply(lambda x: \n",
    "                                                                                  x.replace('_', ' ').\n",
    "                                                                                  replace('&', 'and')) \n",
    "labs_food_recipe['eng_cat'] = labs_food_recipe['eng_cat'].apply(lambda x: x.replace('_', ' ').\n",
    "                                                                replace('&', 'and')) "
   ]
  },
  {
   "cell_type": "markdown",
   "metadata": {},
   "source": [
    "Add Label"
   ]
  },
  {
   "cell_type": "code",
   "execution_count": 117,
   "metadata": {},
   "outputs": [],
   "source": [
    "labs_food_recipe['label'] = '<start>'+ labs_food_recipe['reduced_category'] + ';' + labs_food_recipe['eng_cat']+'<end>'\n",
    "labs_food_recipe['label'] = labs_food_recipe['label'].apply(lambda x: x.replace('<start>;', '').\n",
    "                                                                        replace(';<end>', '').\n",
    "                                                                        replace('<start>', '').\n",
    "                                                                        replace('<end>', ''))\n",
    "\n",
    "labs_food_recipe['label'] = labs_food_recipe['label'].apply(lambda x: x.lower())\n",
    "\n",
    "labs_food_recipe = labs_food_recipe[['file', 'label', 'recipe_id']]\n",
    "labs_food_recipe.reset_index(drop=True, inplace=True)"
   ]
  },
  {
   "cell_type": "code",
   "execution_count": 118,
   "metadata": {},
   "outputs": [],
   "source": [
    "labs_food_recipe['file'] = labs_food_recipe['file'].apply(lambda x: dir_food_recipe/x)"
   ]
  },
  {
   "cell_type": "markdown",
   "metadata": {},
   "source": [
    "Drop `recipe_id` column"
   ]
  },
  {
   "cell_type": "code",
   "execution_count": 119,
   "metadata": {},
   "outputs": [],
   "source": [
    "labs_food_recipe.drop('recipe_id', axis=1, inplace=True)"
   ]
  },
  {
   "cell_type": "code",
   "execution_count": 120,
   "metadata": {},
   "outputs": [
    {
     "data": {
      "text/html": [
       "<div>\n",
       "<style scoped>\n",
       "    .dataframe tbody tr th:only-of-type {\n",
       "        vertical-align: middle;\n",
       "    }\n",
       "\n",
       "    .dataframe tbody tr th {\n",
       "        vertical-align: top;\n",
       "    }\n",
       "\n",
       "    .dataframe thead th {\n",
       "        text-align: right;\n",
       "    }\n",
       "</style>\n",
       "<table border=\"1\" class=\"dataframe\">\n",
       "  <thead>\n",
       "    <tr style=\"text-align: right;\">\n",
       "      <th></th>\n",
       "      <th>file</th>\n",
       "      <th>label</th>\n",
       "    </tr>\n",
       "  </thead>\n",
       "  <tbody>\n",
       "    <tr>\n",
       "      <th>0</th>\n",
       "      <td>/home/jupyter/data/Food_Recipe/000/recipe-1007...</td>\n",
       "      <td>penne</td>\n",
       "    </tr>\n",
       "    <tr>\n",
       "      <th>1</th>\n",
       "      <td>/home/jupyter/data/Food_Recipe/005/recipe-1007...</td>\n",
       "      <td>penne</td>\n",
       "    </tr>\n",
       "    <tr>\n",
       "      <th>2</th>\n",
       "      <td>/home/jupyter/data/Food_Recipe/012/recipe-1007...</td>\n",
       "      <td>penne</td>\n",
       "    </tr>\n",
       "    <tr>\n",
       "      <th>3</th>\n",
       "      <td>/home/jupyter/data/Food_Recipe/043/recipe-1007...</td>\n",
       "      <td>penne</td>\n",
       "    </tr>\n",
       "    <tr>\n",
       "      <th>4</th>\n",
       "      <td>/home/jupyter/data/Food_Recipe/200/recipe-1007...</td>\n",
       "      <td>penne</td>\n",
       "    </tr>\n",
       "  </tbody>\n",
       "</table>\n",
       "</div>"
      ],
      "text/plain": [
       "                                                file  label\n",
       "0  /home/jupyter/data/Food_Recipe/000/recipe-1007...  penne\n",
       "1  /home/jupyter/data/Food_Recipe/005/recipe-1007...  penne\n",
       "2  /home/jupyter/data/Food_Recipe/012/recipe-1007...  penne\n",
       "3  /home/jupyter/data/Food_Recipe/043/recipe-1007...  penne\n",
       "4  /home/jupyter/data/Food_Recipe/200/recipe-1007...  penne"
      ]
     },
     "execution_count": 120,
     "metadata": {},
     "output_type": "execute_result"
    }
   ],
   "source": [
    "labs_food_recipe.head()"
   ]
  },
  {
   "cell_type": "markdown",
   "metadata": {},
   "source": [
    "#### Write to CSV"
   ]
  },
  {
   "cell_type": "code",
   "execution_count": 121,
   "metadata": {},
   "outputs": [],
   "source": [
    "labs_food_recipe.to_csv(path/'Food_Recipe/labels_food_recipe.csv', index=False, header=True)"
   ]
  },
  {
   "cell_type": "markdown",
   "metadata": {},
   "source": [
    "### Food-101"
   ]
  },
  {
   "cell_type": "markdown",
   "metadata": {},
   "source": [
    "#### Get data\n"
   ]
  },
  {
   "cell_type": "code",
   "execution_count": 122,
   "metadata": {},
   "outputs": [],
   "source": [
    "def get_lab_df(txt_path):\n",
    "    \n",
    "    labs = pd.read_csv(txt_path, header = None, sep='\\t')\n",
    "    labs[1] = labs[0].apply(lambda x: x.split('/')[0])  # Add label\n",
    "    labs.columns = ['file', 'label']\n",
    "    \n",
    "    return labs"
   ]
  },
  {
   "cell_type": "markdown",
   "metadata": {},
   "source": [
    "For food101, training and testing image names are in separate text files.  \n",
    "We put in in 1 data frame, with an indicatory column separating train/test examples"
   ]
  },
  {
   "cell_type": "code",
   "execution_count": 123,
   "metadata": {},
   "outputs": [],
   "source": [
    "fns_train_food101 = path/'food-101/meta/train.txt'\n",
    "fns_test_food101 = path/'food-101/meta/test.txt'"
   ]
  },
  {
   "cell_type": "code",
   "execution_count": 124,
   "metadata": {},
   "outputs": [],
   "source": [
    "dir_food101 =  path/'food-101/images'"
   ]
  },
  {
   "cell_type": "markdown",
   "metadata": {},
   "source": [
    "#### Process data "
   ]
  },
  {
   "cell_type": "code",
   "execution_count": 125,
   "metadata": {},
   "outputs": [],
   "source": [
    "train_labs = get_lab_df(fns_train_food101)\n",
    "test_labs = get_lab_df(fns_test_food101)"
   ]
  },
  {
   "cell_type": "code",
   "execution_count": 126,
   "metadata": {},
   "outputs": [],
   "source": [
    "train_labs['test'] = False\n",
    "test_labs['test'] = True\n",
    "labs_food101 = pd.concat([train_labs, test_labs], axis = 0)"
   ]
  },
  {
   "cell_type": "code",
   "execution_count": 127,
   "metadata": {},
   "outputs": [],
   "source": [
    "labs_food101['file'] = labs_food101['file'].apply(lambda x: x+'.jpg')\n",
    "labs_food101['label'] = labs_food101['label'].apply(format_lab)"
   ]
  },
  {
   "cell_type": "code",
   "execution_count": 128,
   "metadata": {},
   "outputs": [],
   "source": [
    "labs_food101['file'] = labs_food101['file'].apply(lambda x: dir_food101/x)"
   ]
  },
  {
   "cell_type": "code",
   "execution_count": 129,
   "metadata": {},
   "outputs": [
    {
     "data": {
      "text/html": [
       "<div>\n",
       "<style scoped>\n",
       "    .dataframe tbody tr th:only-of-type {\n",
       "        vertical-align: middle;\n",
       "    }\n",
       "\n",
       "    .dataframe tbody tr th {\n",
       "        vertical-align: top;\n",
       "    }\n",
       "\n",
       "    .dataframe thead th {\n",
       "        text-align: right;\n",
       "    }\n",
       "</style>\n",
       "<table border=\"1\" class=\"dataframe\">\n",
       "  <thead>\n",
       "    <tr style=\"text-align: right;\">\n",
       "      <th></th>\n",
       "      <th>file</th>\n",
       "      <th>label</th>\n",
       "      <th>test</th>\n",
       "    </tr>\n",
       "  </thead>\n",
       "  <tbody>\n",
       "    <tr>\n",
       "      <th>0</th>\n",
       "      <td>/home/jupyter/data/food-101/images/apple_pie/1...</td>\n",
       "      <td>apple pie</td>\n",
       "      <td>False</td>\n",
       "    </tr>\n",
       "    <tr>\n",
       "      <th>1</th>\n",
       "      <td>/home/jupyter/data/food-101/images/apple_pie/1...</td>\n",
       "      <td>apple pie</td>\n",
       "      <td>False</td>\n",
       "    </tr>\n",
       "    <tr>\n",
       "      <th>2</th>\n",
       "      <td>/home/jupyter/data/food-101/images/apple_pie/1...</td>\n",
       "      <td>apple pie</td>\n",
       "      <td>False</td>\n",
       "    </tr>\n",
       "    <tr>\n",
       "      <th>3</th>\n",
       "      <td>/home/jupyter/data/food-101/images/apple_pie/1...</td>\n",
       "      <td>apple pie</td>\n",
       "      <td>False</td>\n",
       "    </tr>\n",
       "    <tr>\n",
       "      <th>4</th>\n",
       "      <td>/home/jupyter/data/food-101/images/apple_pie/1...</td>\n",
       "      <td>apple pie</td>\n",
       "      <td>False</td>\n",
       "    </tr>\n",
       "  </tbody>\n",
       "</table>\n",
       "</div>"
      ],
      "text/plain": [
       "                                                file      label   test\n",
       "0  /home/jupyter/data/food-101/images/apple_pie/1...  apple pie  False\n",
       "1  /home/jupyter/data/food-101/images/apple_pie/1...  apple pie  False\n",
       "2  /home/jupyter/data/food-101/images/apple_pie/1...  apple pie  False\n",
       "3  /home/jupyter/data/food-101/images/apple_pie/1...  apple pie  False\n",
       "4  /home/jupyter/data/food-101/images/apple_pie/1...  apple pie  False"
      ]
     },
     "execution_count": 129,
     "metadata": {},
     "output_type": "execute_result"
    }
   ],
   "source": [
    "labs_food101.head()"
   ]
  },
  {
   "cell_type": "markdown",
   "metadata": {},
   "source": [
    "#### Write to CSV"
   ]
  },
  {
   "cell_type": "code",
   "execution_count": 130,
   "metadata": {},
   "outputs": [],
   "source": [
    "labs_food101.to_csv(path/'food-101/labels_food101.csv', index=False, header=True)"
   ]
  },
  {
   "cell_type": "markdown",
   "metadata": {},
   "source": [
    "## Generate combined dataframe and clean data"
   ]
  },
  {
   "cell_type": "code",
   "execution_count": 177,
   "metadata": {},
   "outputs": [],
   "source": [
    "labels = [uec256, upmc_labels, labs_food101, labs_google_double, labs_google_single,newgoogleimg_single_df,\n",
    "          newgoogleimg_double_df, labs_food_recipe]\n"
   ]
  },
  {
   "cell_type": "code",
   "execution_count": 178,
   "metadata": {},
   "outputs": [
    {
     "data": {
      "text/plain": [
       "[31395, 90704, 101000, 12358, 7044, 50172, 19049, 492228]"
      ]
     },
     "execution_count": 178,
     "metadata": {},
     "output_type": "execute_result"
    }
   ],
   "source": [
    "list(map(lambda x: len(x), labels))\n"
   ]
  },
  {
   "cell_type": "code",
   "execution_count": 179,
   "metadata": {},
   "outputs": [
    {
     "name": "stderr",
     "output_type": "stream",
     "text": [
      "/opt/anaconda3/lib/python3.6/site-packages/ipykernel_launcher.py:1: FutureWarning: Sorting because non-concatenation axis is not aligned. A future version\n",
      "of pandas will change to not sort by default.\n",
      "\n",
      "To accept the future behavior, pass 'sort=False'.\n",
      "\n",
      "To retain the current behavior and silence the warning, pass 'sort=True'.\n",
      "\n",
      "  \"\"\"Entry point for launching an IPython kernel.\n"
     ]
    }
   ],
   "source": [
    "labels = pd.concat(labels, axis=0)"
   ]
  },
  {
   "cell_type": "markdown",
   "metadata": {},
   "source": [
    "Change some classes"
   ]
  },
  {
   "cell_type": "code",
   "execution_count": 180,
   "metadata": {},
   "outputs": [],
   "source": [
    "labels['label'] = labels['label'].apply(lambda x: x.replace(\"chicken-'n'-egg on rice\", 'chicken egg rice')\n",
    "                                                   .replace('baby guling', 'roast baby pork')\n",
    "                                                   .replace('trunip pudding', 'turnip pudding'))\n",
    "\n",
    "labels['label'] = labels['label'].apply(lambda x: x.replace(\"_\", \" \"))\n",
    "labels['test'] = True\n",
    "labels['valid'] = True"
   ]
  },
  {
   "cell_type": "code",
   "execution_count": 181,
   "metadata": {},
   "outputs": [
    {
     "data": {
      "text/plain": [
       "143.32507991790771"
      ]
     },
     "execution_count": 181,
     "metadata": {},
     "output_type": "execute_result"
    }
   ],
   "source": [
    "sys.getsizeof(labels) / (1024**2)\n"
   ]
  },
  {
   "cell_type": "markdown",
   "metadata": {},
   "source": [
    "clean data"
   ]
  },
  {
   "cell_type": "code",
   "execution_count": 182,
   "metadata": {},
   "outputs": [],
   "source": [
    "def check_imgs_exist(df):\n",
    "    drop_list = []\n",
    "    for count, row in tqdm(df.iterrows()):\n",
    "        try:\n",
    "            img = Image.open(row['file'])\n",
    "        except (IOError, SyntaxError, UnboundLocalError) as e: \n",
    "            drop_list.append(count)            \n",
    "    df_red = df.drop(index = drop_list)\n",
    "    return df_red"
   ]
  },
  {
   "cell_type": "code",
   "execution_count": 183,
   "metadata": {},
   "outputs": [
    {
     "name": "stderr",
     "output_type": "stream",
     "text": [
      "803950it [02:28, 5406.42it/s] \n"
     ]
    }
   ],
   "source": [
    "labels = labels[~labels.label.isna()]\n",
    "len(labels), len(labels[labels.label.isna()])\n",
    "labels = check_imgs_exist(labels)"
   ]
  },
  {
   "cell_type": "code",
   "execution_count": 189,
   "metadata": {},
   "outputs": [
    {
     "data": {
      "text/plain": [
       "False"
      ]
     },
     "execution_count": 189,
     "metadata": {},
     "output_type": "execute_result"
    }
   ],
   "source": [
    "labels.isnull().values.any()"
   ]
  },
  {
   "cell_type": "markdown",
   "metadata": {},
   "source": [
    "Create dataset with reduced classes"
   ]
  },
  {
   "cell_type": "code",
   "execution_count": 190,
   "metadata": {},
   "outputs": [],
   "source": [
    "def create_dict(df):\n",
    "    class_dict = {}\n",
    "    for itemcount,row in class_red.iterrows():\n",
    "        class_dict[row['original']] = row['reduced']\n",
    "    return class_dict    \n",
    "\n",
    "def reduce_classes(row,class_dict):\n",
    "    split_food_item = row.split(';')\n",
    "    new_food_item = ''\n",
    "    for count, food_item in enumerate(split_food_item):\n",
    "        try:\n",
    "            food_tf = class_dict[food_item]\n",
    "        except:\n",
    "            food_tf = food_item\n",
    "        if count == 0:    \n",
    "            new_food_item += food_tf\n",
    "        else:\n",
    "            new_food_item += ';' + food_tf\n",
    "    return new_food_item        \n",
    "                "
   ]
  },
  {
   "cell_type": "code",
   "execution_count": 191,
   "metadata": {},
   "outputs": [],
   "source": [
    "class_red = pd.read_csv(str(path) + '/food_classes_orig_red.csv')\n",
    "class_dict = create_dict(class_red)\n",
    "labels_red = labels.copy()\n",
    "labels_red['label'] = labels_red['label'].apply(lambda x: reduce_classes(x,class_dict))\n",
    "labels_red = labels_red[labels_red.label != 'invalid']"
   ]
  },
  {
   "cell_type": "markdown",
   "metadata": {},
   "source": [
    "## Write data to csv"
   ]
  },
  {
   "cell_type": "code",
   "execution_count": 192,
   "metadata": {},
   "outputs": [],
   "source": [
    "labels_red.to_csv(path/'food_label_concat_new_red.csv', index=False)\n",
    "labels.to_csv(path/'food_label_concat_new.csv', index=False)"
   ]
  },
  {
   "cell_type": "code",
   "execution_count": 193,
   "metadata": {},
   "outputs": [
    {
     "data": {
      "text/plain": [
       "False"
      ]
     },
     "execution_count": 193,
     "metadata": {},
     "output_type": "execute_result"
    }
   ],
   "source": [
    "labels_red.isnull().values.any()"
   ]
  },
  {
   "cell_type": "code",
   "execution_count": null,
   "metadata": {},
   "outputs": [],
   "source": []
  }
 ],
 "metadata": {
  "kernelspec": {
   "display_name": "Python 3",
   "language": "python",
   "name": "python3"
  },
  "language_info": {
   "codemirror_mode": {
    "name": "ipython",
    "version": 3
   },
   "file_extension": ".py",
   "mimetype": "text/x-python",
   "name": "python",
   "nbconvert_exporter": "python",
   "pygments_lexer": "ipython3",
   "version": "3.6.8"
  }
 },
 "nbformat": 4,
 "nbformat_minor": 2
}
