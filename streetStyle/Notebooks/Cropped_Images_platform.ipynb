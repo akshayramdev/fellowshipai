{
 "cells": [
  {
   "cell_type": "markdown",
   "metadata": {},
   "source": [
    "### Cropping the images using Bounding Box info in `streetstyle27k.manifest` and then uploading these images on platform.ai "
   ]
  },
  {
   "cell_type": "code",
   "execution_count": null,
   "metadata": {},
   "outputs": [],
   "source": [
    "# !mkdir 'data/cropped'\n",
    "import pandas as pd\n",
    "from PIL import Image\n",
    "from tqdm import tqdm\n",
    "labels = pd.read_csv('data/streetstyle27k.manifest')\n",
    "\n",
    "\n",
    "for index in tqdm(labels.index, position=0): \n",
    "    a, b, c = list(labels.url[index].split('/')[4][:3])\n",
    "    img_path = 'data/streetstyle27k/'+a+'/'+b+'/'+c+'/'+labels.url[index].split('/')[4]\n",
    "    # 'data/streetstyle27k/a/a/8/dff8b1017226167906804e492526d9e6_726861536941066133_632544368.jpg'\n",
    "    img = Image.open(img_path)\n",
    "    img = img.crop((labels['x1'][index], labels['y1'][index], labels['x2'][index], labels['y2'][index]))\n",
    "    img.save('./data/cropped/'+img_path.split('/')[-1])"
   ]
  },
  {
   "cell_type": "markdown",
   "metadata": {},
   "source": [
    "### Generating Labels based on the features provided in the lables"
   ]
  },
  {
   "cell_type": "code",
   "execution_count": 3,
   "metadata": {},
   "outputs": [
    {
     "name": "stderr",
     "output_type": "stream",
     "text": [
      "100%|██████████| 27087/27087 [00:06<00:00, 4366.00it/s]\n"
     ]
    }
   ],
   "source": [
    "pattern_na = labels['clothing_pattern'].isna()\n",
    "color_na = labels['major_color'].isna()\n",
    "sleeve_length_na = labels['sleeve_length'].isna()\n",
    "neckline_shape_na = labels['neckline_shape'].isna()\n",
    "clothing_category_na = labels['clothing_category'].isna()\n",
    "multiple_layers_na = labels['multiple_layers'].isna()\n",
    "\n",
    "necktie_yes = ~labels['wearing_necktie'].isna() & (labels['wearing_necktie'] == 'Yes')\n",
    "collar_presence_yes = ~labels['collar_presence'].isna() & (labels['collar_presence'] == 'Yes')\n",
    "wearing_scarf_yes = ~labels['wearing_scarf'].isna() & (labels['wearing_scarf'] == 'Yes')\n",
    "wearing_jacket_yes = ~labels['wearing_jacket'].isna() & (labels['wearing_jacket'] == 'Yes')\n",
    "wearing_hat_yes = ~labels['wearing_hat'].isna() & (labels['wearing_hat'] == 'Yes')\n",
    "wearing_glasses_yes = ~labels['wearing_glasses'].isna() & (labels['wearing_glasses'] == 'Yes')\n",
    "\n",
    "res = []\n",
    "\n",
    "for i in tqdm(labels.index, position=0):\n",
    "    \n",
    "    temp = []\n",
    "    \n",
    "    if not pattern_na[i]: temp.append(labels['clothing_pattern'][i])\n",
    "    if not color_na[i]: temp.append(labels['major_color'][i])\n",
    "    if not sleeve_length_na[i]: temp.append(labels['sleeve_length'][i])\n",
    "    if not neckline_shape_na[i]: temp.append(labels['neckline_shape'][i])\n",
    "    if not clothing_category_na[i]: temp.append(labels['clothing_category'][i])\n",
    "    if not multiple_layers_na[i]: temp.append(labels['multiple_layers'][i])\n",
    "\n",
    "    if necktie_yes[i]: temp.append('necktie')\n",
    "    if collar_presence_yes[i]: temp.append('collar_presence')\n",
    "    if wearing_scarf_yes[i]: temp.append('wearing_scarf')\n",
    "    if wearing_jacket_yes[i]: temp.append('wearing_jacket')\n",
    "    if wearing_hat_yes[i]: temp.append('wearing_hat')\n",
    "    if wearing_glasses_yes[i]: temp.append('wearing_glasses')\n",
    "       \n",
    "    res.append(';'.join(temp))floor"
   ]
  },
  {
   "cell_type": "markdown",
   "metadata": {},
   "source": [
    "### Getting set of unique labels"
   ]
  },
  {
   "cell_type": "code",
   "execution_count": 13,
   "metadata": {},
   "outputs": [
    {
     "data": {
      "text/plain": [
       "{'',\n",
       " 'Black',\n",
       " 'Blue',\n",
       " 'Brown',\n",
       " 'Cyan',\n",
       " 'Dress',\n",
       " 'Floral',\n",
       " 'Folded',\n",
       " 'Graphics',\n",
       " 'Gray',\n",
       " 'Green',\n",
       " 'Long sleeve',\n",
       " 'More than 1 color',\n",
       " 'Multiple layers',\n",
       " 'No sleeve',\n",
       " 'One layer',\n",
       " 'Orange',\n",
       " 'Outerwear',\n",
       " 'Pink',\n",
       " 'Plaid',\n",
       " 'Purple',\n",
       " 'Red',\n",
       " 'Round',\n",
       " 'Shirt',\n",
       " 'Short sleeve',\n",
       " 'Solid',\n",
       " 'Spotted',\n",
       " 'Striped',\n",
       " 'Suit',\n",
       " 'Sweater',\n",
       " 'T-shirt',\n",
       " 'Tank top',\n",
       " 'V-shape',\n",
       " 'White',\n",
       " 'Yellow',\n",
       " 'collar_presence',\n",
       " 'necktie',\n",
       " 'wearing_glasses',\n",
       " 'wearing_hat',\n",
       " 'wearing_jacket',\n",
       " 'wearing_scarf'}"
      ]
     },
     "execution_count": 13,
     "metadata": {},
     "output_type": "execute_result"
    }
   ],
   "source": [
    "# Unique Labels\n",
    "set(list(itertools.chain(*[i.split(';') for i in res])))"
   ]
  },
  {
   "cell_type": "code",
   "execution_count": null,
   "metadata": {},
   "outputs": [],
   "source": []
  }
 ],
 "metadata": {
  "kernelspec": {
   "display_name": "Python 3",
   "language": "python",
   "name": "python3"
  },
  "language_info": {
   "codemirror_mode": {
    "name": "ipython",
    "version": 3
   },
   "file_extension": ".py",
   "mimetype": "text/x-python",
   "name": "python",
   "nbconvert_exporter": "python",
   "pygments_lexer": "ipython3",
   "version": "3.6.8"
  }
 },
 "nbformat": 4,
 "nbformat_minor": 2
}
